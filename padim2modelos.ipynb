{
  "cells": [
    {
      "cell_type": "markdown",
      "metadata": {
        "id": "view-in-github",
        "colab_type": "text"
      },
      "source": [
        "<a href=\"https://colab.research.google.com/github/danielsoy/ALOCC-CVPR2018/blob/master/padim2modelos.ipynb\" target=\"_parent\"><img src=\"https://colab.research.google.com/assets/colab-badge.svg\" alt=\"Open In Colab\"/></a>"
      ]
    },
    {
      "cell_type": "code",
      "execution_count": null,
      "metadata": {
        "id": "D_IZusMISN21"
      },
      "outputs": [],
      "source": [
        "from google.colab import drive\n",
        "drive.mount('/content/drive')"
      ]
    },
    {
      "cell_type": "code",
      "execution_count": null,
      "metadata": {
        "id": "18QHnfNQSN23"
      },
      "outputs": [],
      "source": [
        "from anodet.utils import image_score\n",
        "from video_proccess_11_repair import * # * importa todas la funcioones de video_proccess\n",
        "import os\n",
        "from torch.utils.data import DataLoader\n",
        "import cv2\n",
        "# from numba import jit # just in time.numba necesita numpy 1.21 or less.\n",
        "\n",
        "###############\n",
        "treyold=14    #\n",
        "###############"
      ]
    },
    {
      "cell_type": "code",
      "execution_count": null,
      "metadata": {
        "id": "6dKK9tLGSN24"
      },
      "outputs": [],
      "source": [
        "onoff=b's'\n",
        "modelo='resnet18'"
      ]
    },
    {
      "cell_type": "code",
      "execution_count": null,
      "metadata": {
        "id": "wREJFjqdSN24"
      },
      "outputs": [],
      "source": [
        "padim = anodet.Padim(backbone = modelo)"
      ]
    },
    {
      "cell_type": "code",
      "execution_count": null,
      "metadata": {
        "id": "yCSTEBDvSN25"
      },
      "outputs": [],
      "source": [
        "tiempo_d_espera = 30\n",
        "batchsize=1\n",
        "time_on=1 # tiempo durante el cual, se muestra la imagen."
      ]
    },
    {
      "cell_type": "code",
      "execution_count": null,
      "metadata": {
        "id": "4ONrqIVjSN25"
      },
      "outputs": [],
      "source": [
        "pasadas, anomaly, spot, arranque, barra = False,False,False,False,False"
      ]
    },
    {
      "cell_type": "code",
      "execution_count": null,
      "metadata": {
        "id": "xM-Z2th9SN25"
      },
      "outputs": [],
      "source": [
        "images_score=0\n",
        "foto_numero=0\n",
        "unidades = 0\n",
        "decenas  = 0\n",
        "centenas = 0\n",
        "unidad_de_mil = 0\n",
        "freq = 0  #\n",
        "cantidad_d_fotos=0\n",
        "infiere_real_count=0\n",
        "infiere_borde_count=0\n",
        "acumula_score_real=0.00\n",
        "acumula_score_borde=0.00"
      ]
    },
    {
      "cell_type": "markdown",
      "metadata": {
        "id": "gkUWvHqkSN26"
      },
      "source": [
        "####################################################################"
      ]
    },
    {
      "cell_type": "code",
      "execution_count": null,
      "metadata": {
        "id": "vIsVGugoSN26"
      },
      "outputs": [],
      "source": [
        "sample_folder_asis   = \"C:\\\\Users\\libro\\OneDrive\\Escritorio\\sampleadas_asis/\"\n",
        "sample_folder_zoomed = \"C:\\\\Users\\libro\\OneDrive\\Escritorio\\sampleadas_zoomed/\"\n",
        "retrain =\"C:\\\\Users\\libro\\OneDrive\\Escritorio/retrain pics/\""
      ]
    },
    {
      "cell_type": "code",
      "execution_count": null,
      "metadata": {
        "id": "nNzDcf54SN27"
      },
      "outputs": [],
      "source": [
        "DATASET_PATH = os.path.realpath(\"C:\\\\Users\\libro/anodet\\mvtec\") #"
      ]
    },
    {
      "cell_type": "markdown",
      "metadata": {
        "id": "IW9LHkcjSN27"
      },
      "source": [
        "MODEL_DATA_PATH = os.path.realpath(\"C:\\\\anodet/notebooks\\distributions/real\") # original C:\\\\anodet/notebooks\\distributions"
      ]
    },
    {
      "cell_type": "markdown",
      "metadata": {
        "id": "2Z1mqqSYSN27"
      },
      "source": [
        "$$$$$$$$$$$$$$$$$$$$$$$$$$$$$$$$$$$$$$$$$$$$$$$$$$$$$$$$$$$$$$$$$$$#<br>\n",
        " tomar en cuenta la diferencia del promedio de score, del score de cada modelo por separado<br>\n",
        "x ejemplo cuanto c separa del pmdio de modelo borde, y del model real.<br>\n",
        "borrar palabra tensor del comienzo de las fotos predecidas al salvarla<br>\n",
        "ver fotos 0087.png normal score:12.98, y foto 0.0005.png 14.17 score .############<br>\n",
        "si fuera por el score d la foto real, no habria anomalia(score pdio cerca de doce).<br>\n",
        "pero el score pdio de borde, es de unos 8. el score de borde de 14. es casi el doble.<br>\n",
        "ahi si seria catalogada como anomalia.<br>\n",
        "crear tres modelo:real, borde y miti/miti.revisar fotos de las 3 carpetas, a ver si se mezclaron."
      ]
    },
    {
      "cell_type": "code",
      "execution_count": null,
      "metadata": {
        "id": "3igQu4q6SN28"
      },
      "outputs": [],
      "source": [
        "dataset_entrenamiento= 3  #  1 o 2 3"
      ]
    },
    {
      "cell_type": "code",
      "execution_count": null,
      "metadata": {
        "id": "B9EEIyL9SN28"
      },
      "outputs": [],
      "source": [
        "entrene = 1  # 1 O 0  ver si entrena ambos!\n",
        "\n",
        "toma_muestras=0  # VARIAS FOTOS POR PASADA  . remember mitigation technic adding good ones, predicted as anomalies?\n",
        "###############################################\n",
        "#CALLER AUMENTER LOOPER VERSION DA PARA ELGIR DD TECLADO: TRAIN SAMPLE INFERIR ETC...\n",
        "#$$$$$$$$$$$$$$$$$$$$$$$$$$$$$$$$$$$$$$$$$$$$$$$$$$$$$$$$$$$$$$$$$$$$$"
      ]
    },
    {
      "cell_type": "code",
      "execution_count": null,
      "metadata": {
        "id": "XjP8qqjzSN28"
      },
      "outputs": [],
      "source": [
        "if(toma_muestras==0):\n",
        "\tpasadas=False"
      ]
    },
    {
      "cell_type": "code",
      "execution_count": null,
      "metadata": {
        "id": "1caubxXgSN28"
      },
      "outputs": [],
      "source": [
        "if(dataset_entrenamiento==1):\n",
        "\tdir_path = \"C:\\\\Users\\libro\\OneDrive\\Escritorio/real/\"\n",
        "\tdataset = anodet.AnodetDataset(os.path.join(DATASET_PATH, dir_path))\n",
        "\treal_borde_ambas=\"REAL.pt\"\n",
        "\tcov_in=\"real_cov_in.pt\"\n",
        "\tMODEL_DATA_PATH = os.path.realpath(\"C:\\\\anodet/notebooks\\distributions/real\")"
      ]
    },
    {
      "cell_type": "code",
      "execution_count": null,
      "metadata": {
        "id": "jfjc3l8DSN29"
      },
      "outputs": [],
      "source": [
        "if(dataset_entrenamiento==2):\n",
        "\tdir_path = \"C:\\\\Users\\libro\\OneDrive\\Escritorio/bordeblanco/\"\n",
        "\tdataset = anodet.AnodetDataset(os.path.join(DATASET_PATH, dir_path))\n",
        "\treal_borde_ambas=\"BORDE.pt\"\n",
        "\tcov_in=\"borde_cov_in.pt\"\n",
        "\tMODEL_DATA_PATH = os.path.realpath(\"C:\\\\anodet/notebooks\\distributions/borde\")"
      ]
    },
    {
      "cell_type": "code",
      "execution_count": null,
      "metadata": {
        "id": "t7FxYWU1SN29"
      },
      "outputs": [],
      "source": [
        "if(dataset_entrenamiento==3):\n",
        "\tdir_path = \"C:\\\\Users\\libro\\OneDrive\\Escritorio/sinaume/\"\n",
        "\tdataset = anodet.AnodetDataset(os.path.join(DATASET_PATH, dir_path))\n",
        "\treal_borde_ambas=\"AMBAS.pt\"\n",
        "\tcov_in=\"ambas_cov_in.pt\"\n",
        "\tMODEL_DATA_PATH = os.path.realpath(\"C:\\\\anodet/notebooks\\distributions/ambas\")"
      ]
    },
    {
      "cell_type": "code",
      "execution_count": null,
      "metadata": {
        "id": "hgAAJ-NiSN29"
      },
      "outputs": [],
      "source": [
        "dataloader = DataLoader(dataset, batch_size=batchsize)"
      ]
    },
    {
      "cell_type": "code",
      "execution_count": null,
      "metadata": {
        "id": "Q0qAdeIgSN29"
      },
      "outputs": [],
      "source": [
        "if(entrene==1):\n",
        "\tcantidad_d_fotos = cuenta_fotos_en_folder(dir_path, cantidad_d_fotos)"
      ]
    },
    {
      "cell_type": "markdown",
      "metadata": {
        "id": "vYaSnRkYSN29"
      },
      "source": [
        "adentro de IF, si selecciono entrena"
      ]
    },
    {
      "cell_type": "code",
      "execution_count": null,
      "metadata": {
        "id": "L-Yk8HBmSN2-"
      },
      "outputs": [],
      "source": [
        "if (entrene==1):\n",
        "\tentrena_modelo(cantidad_d_fotos, padim, dataloader, MODEL_DATA_PATH, modelo,real_borde_ambas,cov_in)# entrena y salva results"
      ]
    },
    {
      "cell_type": "code",
      "execution_count": null,
      "metadata": {
        "id": "vM3TSFcDSN2-"
      },
      "outputs": [],
      "source": [
        "mean, cov_inv, padim = load_model(MODEL_DATA_PATH, modelo, real_borde_ambas,cov_in)"
      ]
    },
    {
      "cell_type": "code",
      "execution_count": null,
      "metadata": {
        "id": "e8J5RqOQSN2-"
      },
      "outputs": [],
      "source": [
        "Arduino = connect2arduino()#"
      ]
    },
    {
      "cell_type": "code",
      "execution_count": null,
      "metadata": {
        "id": "np0trFb7SN2-"
      },
      "outputs": [],
      "source": [
        "cap=captura_video()\n",
        "l_b, u_b = limite_sup_inf(255, 0,255, 0, 255, 90) # llama a limite sin argumentos..y guarda los resultados de l-b u_b retornados con return.\n",
        "cap_set(cap)\n",
        "time.sleep(1)"
      ]
    },
    {
      "cell_type": "code",
      "execution_count": null,
      "metadata": {
        "id": "BsYFfXdgSN2-"
      },
      "outputs": [],
      "source": [
        "imagen_obtenida,ret, nombre_d_imagen, hori_pos, verti_pos=leo_imagen(cap)# puedo poner otro nombre de variable, pero tiene q estar ordenado 1ro, 2do, etc."
      ]
    },
    {
      "cell_type": "code",
      "execution_count": null,
      "metadata": {
        "id": "CkqLe6VSSN2-"
      },
      "outputs": [],
      "source": [
        "alto,ancho,canales = imagen_obtenida.shape"
      ]
    },
    {
      "cell_type": "code",
      "execution_count": null,
      "metadata": {
        "id": "udn7yOztSN2-"
      },
      "outputs": [],
      "source": [
        "basic_mask = mascara_basica(imagen_obtenida, l_b, u_b) # hay que igualar a un variable, para recuperar el RETURNed de mascara_basica"
      ]
    },
    {
      "cell_type": "code",
      "execution_count": null,
      "metadata": {
        "id": "oQnUs5vXSN2_"
      },
      "outputs": [],
      "source": [
        "img_noise = image_noise_filter(imagen_obtenida)"
      ]
    },
    {
      "cell_type": "markdown",
      "metadata": {
        "id": "cMfJqICPSN2_"
      },
      "source": [
        "#######################"
      ]
    },
    {
      "cell_type": "code",
      "execution_count": null,
      "metadata": {
        "id": "ekO-outfSN2_"
      },
      "outputs": [],
      "source": [
        "cap.set(10,125) # brillo\n",
        "\t#cap.set(10,200) # brillo\n",
        "cap.set(11, 30) # contraste\n",
        "\t#cap.set(11, 52) # contraste\n",
        "cap.set(12, 30) # saturacion\n",
        "\t#cap.set(13,25)\n",
        "cap.set(14, 200)   # gain\n",
        "cap.set(15, -12)\n",
        "  # webcam time exposure -12\n",
        "#########################"
      ]
    },
    {
      "cell_type": "code",
      "execution_count": null,
      "metadata": {
        "id": "vzOkcNQdSN2_"
      },
      "outputs": [],
      "source": [
        "run_stop(Arduino, onoff)\n",
        "start = time.time()"
      ]
    },
    {
      "cell_type": "code",
      "execution_count": null,
      "metadata": {
        "id": "YnHhoUJ3SN2_"
      },
      "outputs": [],
      "source": [
        "while True:"
      ]
    },
    {
      "cell_type": "code",
      "execution_count": null,
      "metadata": {
        "id": "SvnaP4zMSN2_"
      },
      "outputs": [],
      "source": [
        "\tif  keyboard.is_pressed(' ') :\t# if space bar was pressed\n",
        "\t\tbarra = not barra"
      ]
    },
    {
      "cell_type": "code",
      "execution_count": null,
      "metadata": {
        "id": "zd_1FZDnSN3A"
      },
      "outputs": [],
      "source": [
        "\t\tif(barra==True):\n",
        "\t\t\tonoff=b's'\n",
        "\t\telse:\n",
        "\t\t\tonoff=b'r'"
      ]
    },
    {
      "cell_type": "code",
      "execution_count": null,
      "metadata": {
        "id": "GdP48W5qSN3A"
      },
      "outputs": [],
      "source": [
        "\t\trun_stop(Arduino, onoff)\n",
        "\t\ttime.sleep(0.5) # ojo q a veces el on off no funka por culpa del time de retardo elegido.\n",
        "\t\tstart = time.time()"
      ]
    },
    {
      "cell_type": "code",
      "execution_count": null,
      "metadata": {
        "id": "MvGgrBDlSN3A"
      },
      "outputs": [],
      "source": [
        "\timagen_obtenida,ret, nombre_d_imagen,hori_pos, verti_pos=leo_imagen(cap)# puedo poner otro nombre de variable, pero tiene q estar ordenado 1ro, 2do, etc.\n",
        "\n",
        "\t#show_image(time_on, imagen_obtenida)\n",
        "\tshow_image_winame(time_on, imagen_obtenida,nombre_d_imagen,hori_pos, verti_pos)"
      ]
    },
    {
      "cell_type": "code",
      "execution_count": null,
      "metadata": {
        "id": "fTh01PBESN3A"
      },
      "outputs": [],
      "source": [
        "\tbasic_mask = mascara_basica(imagen_obtenida, l_b, u_b) # hay que igualar a un variable, para recuperar el RETURNed de mascara_basica"
      ]
    },
    {
      "cell_type": "code",
      "execution_count": null,
      "metadata": {
        "id": "QlHJT_2RSN3A"
      },
      "outputs": [],
      "source": [
        "\timg_noise = image_noise_filter(imagen_obtenida)\n",
        ""
      ]
    },
    {
      "cell_type": "code",
      "execution_count": null,
      "metadata": {
        "id": "rEybf2YQSN3L"
      },
      "outputs": [],
      "source": [
        "\tif(img_noise==False): # ingresa al IF, si la imagen es real. y no es ruido de cinta.\n",
        "\t\t#print(120)\n",
        "\t\tmascara_final, original_masked = binary_mask(basic_mask, imagen_obtenida)\n",
        "\n",
        "\t\toriginal_masked = blur_borders(original_masked)\n",
        "\n",
        "\t\twhite_perc, white_perc_final, white_perc_down, white_perc_up = dont_touch_limits(mascara_final, alto, ancho)\n",
        "\t\tif(white_perc_final !=0 ): # si toca banda final..\n",
        "\t\t\tpasadas=False          # reinicia pasadas a cero.\n",
        "\t\t\t#print(\"toque fondo\")\n",
        "\t\t\t#bip(1500,50)"
      ]
    },
    {
      "cell_type": "code",
      "execution_count": null,
      "metadata": {
        "id": "hI7dAUbqSN3L"
      },
      "outputs": [],
      "source": [
        "\t\tif(toma_muestras==1):  # si toma muestras para generar dataset..\n",
        "\t\t\tpasadas=False\t   # permite q repita loop siguiente varias veces.\n",
        "\t\t\tprint(\" estoy taking samples\")"
      ]
    },
    {
      "cell_type": "code",
      "execution_count": null,
      "metadata": {
        "id": "GInIKITNSN3L"
      },
      "outputs": [],
      "source": [
        "\n",
        "\t\t#print(\"entra si false\",pasadas)\n",
        "\t\tpasadas=False # aca forze false porque entraba al proximo if una si, la otra no.\n",
        "\t\t#print(white_perc_final) # creo q es porque tarda mas en predecir tres modelos, y queda desincronizado.\n",
        "\t\t# y white_perc_final no se hace igual a cero.\n",
        "\n",
        "\t\tif ( (white_perc==0)&(white_perc_final==0)&(white_perc_down==0)&(white_perc_up==0) & (pasadas==False) ):\n",
        "\t\t\t# if sample do not touch frame limits, and its the first time for this sample.\n",
        "\t\t\t# este lup no puede extenderse mas en tiempo de ejecucion, si no, se saltea muestras.\n",
        "\t\t\t#print(162)\n",
        "\t\t\tstart = time.time() # take time desde q entra aca.\n",
        "\t\t\tpasadas=True\n",
        "\n",
        "\t\t\tcentered_image , mascara_binaria = centra_imagen(original_masked,mascara_final)"
      ]
    },
    {
      "cell_type": "code",
      "execution_count": null,
      "metadata": {
        "id": "K2qHEOROSN3L"
      },
      "outputs": [],
      "source": [
        "\t\t\tfainal, back_in_black = pongo_box(mascara_binaria)\n",
        "\n",
        "\t\t\tlista_para_rotar, lista_para_rotar = centra_imagen(fainal, centered_image)\n",
        "\n",
        "\t\t\timage2predict = rota_imagen(lista_para_rotar, mascara_final)\n",
        "\t\t\tzoomed=image2predict\n",
        "\t\t\t#zoomed = zoom_in_out (image2predict)  # anda mal, decentra img, sobr todo foto chicas irregulares."
      ]
    },
    {
      "cell_type": "code",
      "execution_count": null,
      "metadata": {
        "id": "M90DBEcxSN3L"
      },
      "outputs": [],
      "source": [
        "\t\t\tshow_image_winame( time_on, zoomed, \"IMAGE TO PREDICT\", hori_pos+320, verti_pos)\n",
        "\n",
        "\t\t\tunidades, decenas, centenas, unidad_de_mil=pone_nombre_a_fotos(unidades, decenas, centenas, unidad_de_mil)\n",
        "\n",
        "\t\t\tif(entrene==1):\n",
        "\t\t\t\tguarda_fotos(sample_folder_asis,image2predict ,unidades, decenas, centenas, unidad_de_mil, image2predict)\n",
        "\n",
        "\t\t\tif(images_score != 0):\n",
        "\t\t\t\tcv2.destroyWindow(\"REAL A SCORE: \" + str(images_score_value))\n",
        "\t\t\t\t#cv2.destroyWindow(str(images_score))\n",
        "\t\t\t# aca aplica el mismo modelo padim, a foto real y borde.guarda_fotos"
      ]
    },
    {
      "cell_type": "code",
      "execution_count": null,
      "metadata": {
        "id": "DJ-LzNRQSN3L"
      },
      "outputs": [],
      "source": [
        "\t\t\tstart = time.time()# time taken por solo predct_sample. 150 mili_seg tipico.\n",
        "\t\t\tborde_perimetro=salva_borde_white(zoomed)\n",
        "\t\t\tMODEL_DATA_PATH = os.path.realpath(\"C:\\\\anodet/notebooks\\distributions/real\")\n",
        "\t\t\treal_borde_ambas=\"REAL.pt\"\n",
        "\t\t\tcov_in=\"real_cov_in.pt\"\n",
        "\t\t\tmean, cov_inv, padim = load_model(MODEL_DATA_PATH, modelo, real_borde_ambas,cov_in)\n",
        "\n",
        "\t\t\t#print(\"time taken..\",int(1000*(time.time()-start)), \"milisegundos\")\n",
        "\t\t\t#print(\"modelo real !!!!!!!!!!!!!!!!!!!!!!!!!!!!!!!!!!!!!!!!!!!!\")\n",
        "\n",
        "\t\t\tfull=images_score\n",
        "\n",
        "\t\t\t#print(\"foto borde score\" ,images_score)#,score_maps)\n",
        "\t\t\t#score_vs_treyol(score_maps,treyold)\n",
        "\t\t\t#print( \"promedio\" ,(full+images_score)/2)\n",
        "\t\t\t#print(\"prediccion 2\")"
      ]
    },
    {
      "cell_type": "code",
      "execution_count": null,
      "metadata": {
        "id": "38V6DliASN3M"
      },
      "outputs": [],
      "source": [
        "\t\t\t################################################\n",
        "\t\t\tMODEL_DATA_PATH = os.path.realpath(\"C:\\\\anodet/notebooks\\distributions/borde\")\n",
        "\t\t\treal_borde_ambas=\"BORDE.pt\"\n",
        "\t\t\tcov_in=\"borde_cov_in.pt\"\n",
        "\t\t\tmean, cov_inv, padim = load_model(MODEL_DATA_PATH, modelo, real_borde_ambas,cov_in)\n",
        "\n",
        "\t\t\t#print(\"time taken..\",int(1000*(time.time()-start)), \"milisegundos\")\n",
        "\t\t\tfull1=images_score\n",
        "\n",
        "\t\t\t################################################\n",
        "\t\t\tMODEL_DATA_PATH = os.path.realpath(\"C:\\\\anodet/notebooks\\distributions/ambas\")\n",
        "\t\t\treal_borde_ambas=\"AMBAS.pt\"\n",
        "\t\t\tcov_in=\"ambas_cov_in.pt\"\n",
        "\t\t\tmean, cov_inv, padim = load_model(MODEL_DATA_PATH, modelo, real_borde_ambas,cov_in)\n",
        "\t\t\tscore_maps, images, images_score = predict_sample(zoomed,padim) # para inferir necesita la data(foto), y el modelo entrenado\n",
        "\t\t\t#print(\"time taken..\",int(1000*(time.time()-start)), \"milisegundos\")\n",
        "\n",
        "\t\t\tfull3=images_score"
      ]
    },
    {
      "cell_type": "code",
      "execution_count": null,
      "metadata": {
        "id": "k5F-uzUTSN3M"
      },
      "outputs": [],
      "source": [
        "\t\t\timages_score = (\"ANOMALY SCORE: \" + str(int(100*(torch.max(score_maps)))/100))"
      ]
    },
    {
      "cell_type": "code",
      "execution_count": null,
      "metadata": {
        "id": "Qz0XlGv5SN3M"
      },
      "outputs": [],
      "source": [
        "\t\t\timages_score_value = float(str(int(100*(torch.max(score_maps)))/100))\n",
        "\t\t\t#print(\"anomaly score de real\", images_score_value)"
      ]
    },
    {
      "cell_type": "code",
      "execution_count": null,
      "metadata": {
        "id": "7U4BOI24SN3M"
      },
      "outputs": [],
      "source": [
        "\t\t\tinfiere_real_count = infiere_real_count + 1\n",
        "\t\t\tacumula_score_real = acumula_score_real +  images_score_value\n",
        "\t\t\t#print(infiere_real)\n",
        "\t\t\t#print(\"                 pdio anomaly score real> \",acumula_score_real/infiere_real_count)"
      ]
    },
    {
      "cell_type": "code",
      "execution_count": null,
      "metadata": {
        "id": "OGZEBTUnSN3M"
      },
      "outputs": [],
      "source": [
        "\t\t\tscore_maps, images, borde_score = predict_sample(borde_perimetro, padim)  # no padim, modelo de bordes\n",
        "\t\t\tborde_score = (\"BORDE ANOMALY SCORE: \" + str(int(100*(torch.max(score_maps)))/100))\n",
        "\t\t\tborde_score_value = float(str(int(100*(torch.max(score_maps)))/100))\n",
        "\t\t\t#print(\"anomaly score de borde\" ,borde_score_value)"
      ]
    },
    {
      "cell_type": "code",
      "execution_count": null,
      "metadata": {
        "id": "yV9m1ynISN3M"
      },
      "outputs": [],
      "source": [
        "\t\t\tinfiere_borde_count=infiere_borde_count+1\n",
        "\t\t\tacumula_score_borde=acumula_score_borde+borde_score_value\n",
        "\t\t\t#print(infiere_borde_count)\n",
        "\t\t\t#print(\"                 pdio anomlaly score borde\",acumula_score_borde/infiere_borde_count)"
      ]
    },
    {
      "cell_type": "code",
      "execution_count": null,
      "metadata": {
        "id": "hR1b4T15SN3M"
      },
      "outputs": [],
      "source": [
        "\n",
        "\t\t\tprint(\"@@@@@@@@@@@@@@@@@@@@@@@@@@@@@@@@@@@@@@@@@@@@@@@@@@@@@@@\")\n",
        "\t\t\t#score_vs_treyol(score_maps,treyold)\n",
        "\t\t\t# print(\"diff real borde \" ,(full3-images_score))\n",
        "\t\t\t#score_vs_treyol(score_maps,treyold)\n",
        "\t\t\t################################################\n",
        "\t\t\t#print(\"ojo que aca imprime images_scores, pero despues usa score maps\" )\n",
        "\t\t\tpmdio_real=acumula_score_real/infiere_real_count\n",
        "\t\t\tpmdio_borde=acumula_score_borde/infiere_borde_count\n",
        "\t\t\t#print(pmdio_real,pmdio_borde)\n",
        "\t\t\tprint(\"SCORE REAL \",images_score_value,\" .  SCORE BORDE \",  borde_score_value)\n",
        "\t\t\t#diff_real_pdio=pmdio_real-infiere_real_count\n",
        "\t\t\t#diff_borde_pdio=pmdio_borde-infiere_borde_count\n",
        "\t\t\t#print(\"diff real pmdio\",diff_real_pdio)\n",
        "\t\t\t#print(\"diff borde pdio\",diff_borde_pdio)\n",
        "\t\t\t# pdio real 12.88 pdio borde 8.75, estos valores se pueden obtener d forma auto con folder llena d images?\n",
        "\t\t\tpromedio_real=12.88\n",
        "\t\t\tpromedio_borde=8.75"
      ]
    },
    {
      "cell_type": "code",
      "execution_count": null,
      "metadata": {
        "id": "3VKR8RSmSN3N"
      },
      "outputs": [],
      "source": [
        "\t\t\tif(borde_score_value>promedio_borde):\n",
        "\t\t\t\tprint(\"BORDE ANOMALO!\")\n",
        "\t\t\t\tqualityB=1\n",
        "\t\t\telse:\n",
        "\t\t\t\tprint(\"BORDE APROBADO!\")\n",
        "\t\t\t\tqualityB=0"
      ]
    },
    {
      "cell_type": "code",
      "execution_count": null,
      "metadata": {
        "id": "c9KFWUwzSN3N"
      },
      "outputs": [],
      "source": [
        "\t\t\tif(images_score_value>promedio_real):\n",
        "\t\t\t\tprint(\"REAL ANOMALO!\")\n",
        "\t\t\t\tqualityR=1\n",
        "\t\t\telse:\n",
        "\t\t\t\tprint(\"REAL APROBADO!\")\n",
        "\t\t\t\tqualityR=0"
      ]
    },
    {
      "cell_type": "code",
      "execution_count": null,
      "metadata": {
        "id": "4SKd7AsYSN3N"
      },
      "outputs": [],
      "source": [
        "\t\t\tcalidad=qualityB+qualityR\n",
        "\t\t\tif(calidad==0):\n",
        "\t\t\t\tprint(\"Pasa!\")\n",
        "\t\t\telse:\n",
        "\t\t\t\tprint(\"No pasa\")\n",
        "\t\t\t\tguarda_fotos(retrain, borde_score_value ,unidades, decenas, centenas, unidad_de_mil,borde_perimetro )\n",
        "\t\t\t\tguarda_fotos(retrain, images_score_value,unidades, decenas, centenas, unidad_de_mil,zoomed )"
      ]
    },
    {
      "cell_type": "code",
      "execution_count": null,
      "metadata": {
        "id": "OYXpzuuCSN3N"
      },
      "outputs": [],
      "source": [
        "\n",
        "\t\t\theatmap = heatmapa(images,score_maps)\n",
        "\t\t\t#cv2.imshow(\"heatmap\",heatmap)\n",
        "\t\t\tlb, ub = limite_sup_inf(0,0,255,255,255,0)\n",
        "\t\t\theatmap_mask = mascara_basica(heatmap, lb, ub)\n",
        "\n",
        "\t\t\t# verificar si heatmap_mask, tiene pixeles blancos.\n",
        "\n",
        "\t\t\t#images_score = (\"ANOMALY SCORE: \" + str(int(100*(torch.max(score_maps)))/100))\n",
        "\t\t\t#images_score = (str(int(100*(torch.max(score_maps)))/100))   # str(int(100*(torch.max(score_maps)))/100)\n",
        ""
      ]
    },
    {
      "cell_type": "code",
      "execution_count": null,
      "metadata": {
        "id": "w6eu-Z7OSN3N"
      },
      "outputs": [],
      "source": [
        "\t\t\tif( 100*(torch.max(score_maps))/100 > treyold  ):  # hacer un funcion, para detectar blanco en imagen con bitwise\n",
        "\t\t\t\t#print(\"maps:Anomalus x Guy...\")\n",
        "\t\t\t\tanomaly=True\n",
        "\t\t\telse:\n",
        "\t\t\t\tprint(\"\")\n",
        "\t\t\t\t#print(\"maps:GOOD BOY!!\")"
      ]
    },
    {
      "cell_type": "code",
      "execution_count": null,
      "metadata": {
        "id": "gF0J1c8ySN3N"
      },
      "outputs": [],
      "source": [
        "\t\t\tif(np.mean(heatmap_mask)!=0):\n",
        "\t\t\t\t#print(\"                   spot blanco\",int(np.mean(heatmap_mask)*1000))\n",
        "\t\t\t\tspot=True"
      ]
    },
    {
      "cell_type": "code",
      "execution_count": null,
      "metadata": {
        "id": "jywNQ_MCSN3N"
      },
      "outputs": [],
      "source": [
        "\t\t\tif( spot==True & anomaly==True  ):\n",
        "\t\t\t\t#print(\"                                     las dos cosas\")\n",
        "\t\t\t\tanomaly, spot = False, False\n",
        ""
      ]
    },
    {
      "cell_type": "code",
      "execution_count": null,
      "metadata": {
        "id": "U6TXsiPfSN3O"
      },
      "outputs": [],
      "source": [
        "\n",
        "\t\t\t#guarda_fotos(sample_folder_zoomed, images_scoreXXX ,unidades, decenas, centenas, unidad_de_mil, heatmap)"
      ]
    },
    {
      "cell_type": "code",
      "execution_count": null,
      "metadata": {
        "id": "O4iFSVDtSN3O"
      },
      "outputs": [],
      "source": [
        "\n",
        "\t\t\tborde_perimetro=salva_borde_white(image2predict)"
      ]
    },
    {
      "cell_type": "code",
      "execution_count": null,
      "metadata": {
        "id": "0JZnrROlSN3O"
      },
      "outputs": [],
      "source": [
        "\t\t\tguarda_fotos(sample_folder_zoomed, borde_score_value ,unidades, decenas, centenas, unidad_de_mil,borde_perimetro )\n",
        "\t\t\tguarda_fotos(sample_folder_zoomed, images_score_value,unidades, decenas, centenas, unidad_de_mil,zoomed )"
      ]
    },
    {
      "cell_type": "code",
      "execution_count": null,
      "metadata": {
        "id": "ir--dmbaSN3O"
      },
      "outputs": [],
      "source": [
        "\t\t\tshow_image_winame( time_on, heatmap, \"REAL A SCORE: \" + str(images_score_value), hori_pos+640, verti_pos)# no borra foto, porque tienen distino nombre.\n",
        "\n",
        "\n",
        "\t\t\t#print(\"time taken to predct... \",int(1000*(time.time()-start)), \"milisegundos\")\n",
        "\t\t\t#cv2.waitKey(1)\n",
        "\t\t\t#cv2.waitKey(1)\n",
        "\t\t\t#cv2.waitKey(1)"
      ]
    },
    {
      "cell_type": "code",
      "execution_count": null,
      "metadata": {
        "id": "d3zAzddxSN3O"
      },
      "outputs": [],
      "source": [
        "\n",
        "\tif (time.time() - start > tiempo_d_espera) & (onoff == b's'):# si time is out, or motor on."
      ]
    },
    {
      "cell_type": "code",
      "execution_count": null,
      "metadata": {
        "id": "CEMbk9mzSN3O"
      },
      "outputs": [],
      "source": [
        "\t\tonoff=b'r' # apaga el motor\n",
        "\t\trun_stop(Arduino, onoff)\n",
        "\t\t# reparar el scketch ardu para q no c encienda motor, al cerrar este script ."
      ]
    }
  ],
  "metadata": {
    "kernelspec": {
      "display_name": "Python 3",
      "language": "python",
      "name": "python3"
    },
    "language_info": {
      "codemirror_mode": {
        "name": "ipython",
        "version": 3
      },
      "file_extension": ".py",
      "mimetype": "text/x-python",
      "name": "python",
      "nbconvert_exporter": "python",
      "pygments_lexer": "ipython3",
      "version": "3.6.4"
    },
    "colab": {
      "provenance": [],
      "include_colab_link": true
    }
  },
  "nbformat": 4,
  "nbformat_minor": 0
}