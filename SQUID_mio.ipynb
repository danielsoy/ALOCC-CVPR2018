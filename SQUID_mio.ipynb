{
  "nbformat": 4,
  "nbformat_minor": 0,
  "metadata": {
    "colab": {
      "provenance": [],
      "authorship_tag": "ABX9TyNOAaFBgVyqMZJDEmu20xW/",
      "include_colab_link": true
    },
    "kernelspec": {
      "name": "python3",
      "display_name": "Python 3"
    },
    "language_info": {
      "name": "python"
    }
  },
  "cells": [
    {
      "cell_type": "markdown",
      "metadata": {
        "id": "view-in-github",
        "colab_type": "text"
      },
      "source": [
        "<a href=\"https://colab.research.google.com/github/danielsoy/ALOCC-CVPR2018/blob/master/SQUID_mio.ipynb\" target=\"_parent\"><img src=\"https://colab.research.google.com/assets/colab-badge.svg\" alt=\"Open In Colab\"/></a>"
      ]
    },
    {
      "cell_type": "markdown",
      "source": [
        "https://github.com/danielsoy/SQUID/tree/main"
      ],
      "metadata": {
        "id": "4TudAwagfYXB"
      }
    },
    {
      "cell_type": "code",
      "source": [
        "!git clone https://github.com/danielsoy/SQUID.git"
      ],
      "metadata": {
        "colab": {
          "base_uri": "https://localhost:8080/"
        },
        "id": "1CLQfj9LfQMZ",
        "outputId": "5bbe0eb7-2ac4-4465-f71d-92efd4798900"
      },
      "execution_count": 1,
      "outputs": [
        {
          "output_type": "stream",
          "name": "stdout",
          "text": [
            "Cloning into 'SQUID'...\n",
            "remote: Enumerating objects: 299, done.\u001b[K\n",
            "remote: Counting objects: 100% (16/16), done.\u001b[K\n",
            "remote: Compressing objects: 100% (13/13), done.\u001b[K\n",
            "remote: Total 299 (delta 5), reused 4 (delta 2), pack-reused 283\u001b[K\n",
            "Receiving objects: 100% (299/299), 86.29 MiB | 18.36 MiB/s, done.\n",
            "Resolving deltas: 100% (126/126), done.\n"
          ]
        }
      ]
    },
    {
      "cell_type": "code",
      "execution_count": 2,
      "metadata": {
        "colab": {
          "base_uri": "https://localhost:8080/"
        },
        "id": "RUQ9OaCNfHDe",
        "outputId": "6d1e9f27-8152-495d-a387-d3f4526d3241"
      },
      "outputs": [
        {
          "output_type": "stream",
          "name": "stdout",
          "text": [
            "Mounted at /content/drive\n"
          ]
        }
      ],
      "source": [
        "from google.colab import drive\n",
        "drive.mount('/content/drive')"
      ]
    },
    {
      "cell_type": "code",
      "source": [
        "cd /content/SQUID/"
      ],
      "metadata": {
        "colab": {
          "base_uri": "https://localhost:8080/"
        },
        "id": "_baRT_1egwrH",
        "outputId": "8b731f80-699d-41b6-a937-a162294088ec"
      },
      "execution_count": 3,
      "outputs": [
        {
          "output_type": "stream",
          "name": "stdout",
          "text": [
            "/content/SQUID\n"
          ]
        }
      ]
    },
    {
      "cell_type": "code",
      "source": [
        "!python main.py --exp zhang_exp1 --config zhang_best"
      ],
      "metadata": {
        "colab": {
          "base_uri": "https://localhost:8080/"
        },
        "id": "0oICdPoegzzu",
        "outputId": "639216ab-7cae-4805-8dec-9e0d963f928c"
      },
      "execution_count": 4,
      "outputs": [
        {
          "output_type": "stream",
          "name": "stdout",
          "text": [
            "Traceback (most recent call last):\n",
            "  File \"/content/SQUID/main.py\", line 26, in <module>\n",
            "    CONFIG = importlib.import_module('configs.'+args.config).Config()\n",
            "  File \"/content/SQUID/configs/zhang_best.py\", line 56, in __init__\n",
            "    self.train_dataset = Zhang(self.data_root+'/ZhangLabData/CellData/chest_xray/train', train=True, img_size=(self.img_size, self.img_size))\n",
            "  File \"/content/SQUID/dataloader/dataloader_zhang.py\", line 37, in __init__\n",
            "    self.load_data()\n",
            "  File \"/content/SQUID/dataloader/dataloader_zhang.py\", line 41, in load_data\n",
            "    items = os.listdir(os.path.join(self.root, 'normal_256'))\n",
            "FileNotFoundError: [Errno 2] No such file or directory: '/media/administrator/1305D8BDB8D46DEE/jhu/ZhangLabData/CellData/chest_xray/train/normal_256'\n"
          ]
        }
      ]
    }
  ]
}