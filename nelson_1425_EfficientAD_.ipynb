{
  "nbformat": 4,
  "nbformat_minor": 0,
  "metadata": {
    "colab": {
      "provenance": [],
      "authorship_tag": "ABX9TyPRFzizpAwsmzfLZavibO49",
      "include_colab_link": true
    },
    "kernelspec": {
      "name": "python3",
      "display_name": "Python 3"
    },
    "language_info": {
      "name": "python"
    }
  },
  "cells": [
    {
      "cell_type": "markdown",
      "metadata": {
        "id": "view-in-github",
        "colab_type": "text"
      },
      "source": [
        "<a href=\"https://colab.research.google.com/github/danielsoy/ALOCC-CVPR2018/blob/master/nelson_1425_EfficientAD_.ipynb\" target=\"_parent\"><img src=\"https://colab.research.google.com/assets/colab-badge.svg\" alt=\"Open In Colab\"/></a>"
      ]
    },
    {
      "cell_type": "markdown",
      "source": [
        "https://github.com/nelson1425/EfficientAD"
      ],
      "metadata": {
        "id": "xts2XF3mtRS7"
      }
    },
    {
      "cell_type": "code",
      "source": [
        "#!git clone https://github.com/nelson1425/EfficientAD\n"
      ],
      "metadata": {
        "id": "3XARGGIZtT8p"
      },
      "execution_count": 2,
      "outputs": []
    },
    {
      "cell_type": "code",
      "source": [
        "!git clone https://github.com/danielsoy/EfficientAD-1.git"
      ],
      "metadata": {
        "id": "OneXt_SOu86l",
        "colab": {
          "base_uri": "https://localhost:8080/"
        },
        "outputId": "7cd005d0-fda3-4562-eb2c-e0f3d03873ea"
      },
      "execution_count": 3,
      "outputs": [
        {
          "output_type": "stream",
          "name": "stdout",
          "text": [
            "Cloning into 'EfficientAD-1'...\n",
            "remote: Enumerating objects: 45, done.\u001b[K\n",
            "remote: Counting objects: 100% (21/21), done.\u001b[K\n",
            "remote: Compressing objects: 100% (16/16), done.\u001b[K\n",
            "remote: Total 45 (delta 11), reused 5 (delta 5), pack-reused 24\u001b[K\n",
            "Unpacking objects: 100% (45/45), 37.98 MiB | 2.66 MiB/s, done.\n"
          ]
        }
      ]
    },
    {
      "cell_type": "code",
      "source": [
        "from google.colab import drive\n",
        "drive.mount('/content/drive')"
      ],
      "metadata": {
        "colab": {
          "base_uri": "https://localhost:8080/"
        },
        "id": "GZZQ-ENpX_vo",
        "outputId": "65404cf3-4028-4259-c566-b58e2b3a1b52"
      },
      "execution_count": 4,
      "outputs": [
        {
          "output_type": "stream",
          "name": "stdout",
          "text": [
            "Drive already mounted at /content/drive; to attempt to forcibly remount, call drive.mount(\"/content/drive\", force_remount=True).\n"
          ]
        }
      ]
    },
    {
      "cell_type": "code",
      "source": [
        "cd /content/EfficientAD-1"
      ],
      "metadata": {
        "colab": {
          "base_uri": "https://localhost:8080/"
        },
        "id": "Udfg-HBLypYa",
        "outputId": "2d0bc76a-382c-46ef-92ec-031b1de51273"
      },
      "execution_count": 17,
      "outputs": [
        {
          "output_type": "stream",
          "name": "stdout",
          "text": [
            "/content/EfficientAD-1\n"
          ]
        }
      ]
    },
    {
      "cell_type": "code",
      "source": [
        "!python efficientad.py -a /content/drive/MyDrive/mvtec_anomaly_detection  --subdataset bottle"
      ],
      "metadata": {
        "colab": {
          "base_uri": "https://localhost:8080/"
        },
        "id": "ozWo0Pe1ErlB",
        "outputId": "28aa7585-938c-4b4a-d713-8a21b1b9c3f9"
      },
      "execution_count": null,
      "outputs": [
        {
          "output_type": "stream",
          "name": "stdout",
          "text": [
            "/usr/local/lib/python3.10/dist-packages/torch/utils/data/dataloader.py:560: UserWarning: This DataLoader will create 4 worker processes in total. Our suggested max number of worker in current system is 2, which is smaller than what this DataLoader is going to create. Please be aware that excessive worker creation might get DataLoader running slow or even freeze, lower the worker number to avoid potential slowness/freeze if necessary.\n",
            "  warnings.warn(_create_warning_msg(\n",
            "Computing mean of features:   4% 8/188 [00:18<05:40,  1.89s/it]"
          ]
        }
      ]
    },
    {
      "cell_type": "code",
      "source": [
        "!python efficientad.py --dataset mvtec_ad --subdataset bottle"
      ],
      "metadata": {
        "colab": {
          "base_uri": "https://localhost:8080/"
        },
        "outputId": "b325d004-2e7f-4225-afa7-fb8a1b37ed7c",
        "id": "zvJaECZOyrQ8"
      },
      "execution_count": 18,
      "outputs": [
        {
          "output_type": "stream",
          "name": "stdout",
          "text": [
            "Traceback (most recent call last):\n",
            "  File \"/content/EfficientAD-1/efficientad.py\", line 369, in <module>\n",
            "    main()\n",
            "  File \"/content/EfficientAD-1/efficientad.py\", line 90, in main\n",
            "    full_train_set = ImageFolderWithoutTarget(\n",
            "  File \"/usr/local/lib/python3.10/dist-packages/torchvision/datasets/folder.py\", line 309, in __init__\n",
            "    super().__init__(\n",
            "  File \"/usr/local/lib/python3.10/dist-packages/torchvision/datasets/folder.py\", line 144, in __init__\n",
            "    classes, class_to_idx = self.find_classes(self.root)\n",
            "  File \"/usr/local/lib/python3.10/dist-packages/torchvision/datasets/folder.py\", line 218, in find_classes\n",
            "    return find_classes(directory)\n",
            "  File \"/usr/local/lib/python3.10/dist-packages/torchvision/datasets/folder.py\", line 40, in find_classes\n",
            "    classes = sorted(entry.name for entry in os.scandir(directory) if entry.is_dir())\n",
            "FileNotFoundError: [Errno 2] No such file or directory: './mvtec_anomaly_detection/bottle/train'\n"
          ]
        }
      ]
    }
  ]
}