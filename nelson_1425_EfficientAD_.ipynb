{
  "nbformat": 4,
  "nbformat_minor": 0,
  "metadata": {
    "colab": {
      "provenance": [],
      "authorship_tag": "ABX9TyNBoJOpOJxUl8309EXPwHmp",
      "include_colab_link": true
    },
    "kernelspec": {
      "name": "python3",
      "display_name": "Python 3"
    },
    "language_info": {
      "name": "python"
    }
  },
  "cells": [
    {
      "cell_type": "markdown",
      "metadata": {
        "id": "view-in-github",
        "colab_type": "text"
      },
      "source": [
        "<a href=\"https://colab.research.google.com/github/danielsoy/ALOCC-CVPR2018/blob/master/nelson_1425_EfficientAD_.ipynb\" target=\"_parent\"><img src=\"https://colab.research.google.com/assets/colab-badge.svg\" alt=\"Open In Colab\"/></a>"
      ]
    },
    {
      "cell_type": "markdown",
      "source": [
        "https://github.com/nelson1425/EfficientAD"
      ],
      "metadata": {
        "id": "xts2XF3mtRS7"
      }
    },
    {
      "cell_type": "code",
      "source": [
        "!git clone https://github.com/nelson1425/EfficientAD\n"
      ],
      "metadata": {
        "id": "3XARGGIZtT8p"
      },
      "execution_count": null,
      "outputs": []
    },
    {
      "cell_type": "code",
      "execution_count": null,
      "metadata": {
        "id": "TeoUjYx7tO1l"
      },
      "outputs": [],
      "source": []
    }
  ]
}