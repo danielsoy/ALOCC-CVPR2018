{
  "cells": [
    {
      "cell_type": "markdown",
      "metadata": {
        "id": "view-in-github",
        "colab_type": "text"
      },
      "source": [
        "<a href=\"https://colab.research.google.com/github/danielsoy/ALOCC-CVPR2018/blob/master/train%20github.com%20ktr-hubrt%20WSAL.ipynb\" target=\"_parent\"><img src=\"https://colab.research.google.com/assets/colab-badge.svg\" alt=\"Open In Colab\"/></a>"
      ]
    },
    {
      "cell_type": "code",
      "execution_count": null,
      "metadata": {
        "id": "46PZumgYhCHU"
      },
      "outputs": [],
      "source": [
        "from __future__ import print_function\n",
        "from __future__ import division\n",
        "from torch.utils.data import DataLoader\n",
        "from torch import optim\n",
        "from torch.autograd import Variable\n",
        "from torch.nn.functional import softmax\n",
        "from torch.nn.functional import sigmoid\n",
        "from torch.nn import MSELoss\n",
        "from torch.nn import L1Loss\n",
        "from torch.nn import SmoothL1Loss\n",
        "import torch\n",
        "import numpy as np\n",
        "from tqdm import tqdm\n",
        "from sklearn.metrics import roc_auc_score\n",
        "from matplotlib import pyplot as plt\n",
        "from models import HOE_model\n",
        "from dataset import dataset_h5\n",
        "from utils import *\n",
        "import pdb\n",
        "import os\n",
        "import time\n",
        "from torch import nn"
      ]
    },
    {
      "cell_type": "code",
      "execution_count": null,
      "metadata": {
        "id": "rPT4kd70hCHX"
      },
      "outputs": [],
      "source": [
        "def train_wsal():\n",
        "    torch.cuda.empty_cache()\n",
        "    ver ='WSAL'\n",
        "    videos_pkl_train = \"/test/UCF-Crime/UCF/Anomaly_Detection_splits/Anomaly_Train.txt\"\n",
        "    hdf5_path = \"/test/UCF-Crime/UCF/gcn_feas.hdf5\" \n",
        "    mask_path = \"/test/UCF-Crime/UCF/gcn_mask.hdf5\""
      ]
    },
    {
      "cell_type": "code",
      "execution_count": null,
      "metadata": {
        "id": "bfb4bMFhhCHY"
      },
      "outputs": [],
      "source": [
        "    modality = \"rgb\"\n",
        "    gpu_id = 0\n",
        "    batch_size = 30\n",
        "    iter_size = 30//batch_size\n",
        "    random_crop = False\n",
        "    \n",
        "    train_loader = torch.utils.data.DataLoader(dataset_h5(videos_pkl_train, hdf5_path, mask_path),\n",
        "                                                    batch_size=batch_size, shuffle=True, num_workers=0, pin_memory=True, drop_last=True)\n",
        "    model = HOE_model(nfeat=1024, nclass=1)\n",
        "    criterion = torch.nn.CrossEntropyLoss(reduction = 'none')\n",
        "    Rcriterion = torch.nn.MarginRankingLoss(margin=1.0, reduction = 'mean')\n",
        "    if gpu_id != -1:\n",
        "        model = model.cuda(gpu_id)\n",
        "        criterion = criterion.cuda(gpu_id)\n",
        "        Rcriterion = Rcriterion.cuda(gpu_id)\n",
        "    optimizer = optim.Adagrad(model.parameters(), lr=0.001)\n",
        "    opt_scheduler = optim.lr_scheduler.MultiStepLR(optimizer, milestones=[300,400], gamma=0.5)\n",
        "    start_epoch = 0\n",
        "        \n",
        "    resume = './weights/WSAL_1.1/rgb_300.pth'\n",
        "    if os.path.isfile(resume):\n",
        "      print(\"=> loading checkpoint '{}'\".format(resume))\n",
        "      checkpoint = torch.load(resume)\n",
        "      start_epoch = checkpoint['epoch']\n",
        "      opt_scheduler.load_state_dict(checkpoint['scheduler'])\n",
        "      model.load_state_dict(checkpoint['state_dict'])\n",
        "      optimizer.load_state_dict(checkpoint['optimizer'])\n",
        "    iter_count = 0\n",
        "    alpha = 0.5\n",
        "    vid2mean_pred = {}\n",
        "    losses = AverageMeter()\n",
        "    data_time = AverageMeter()\n",
        "    model.train()\n",
        "    for epoch in range(start_epoch, 500):\n",
        "       \n",
        "        end = time.time()\n",
        "        pbar = tqdm(total=len(train_loader))\n",
        "        for step, data in enumerate(train_loader):\n",
        "            data_time.update(time.time() - end)\n",
        "            an_feats, no_feats, preds = data\n",
        "            an_feat, no_feat, pred = Variable(an_feats), Variable(no_feats), Variable(preds)\n",
        "            \n",
        "            if gpu_id != -1:\n",
        "                an_feat = an_feat.cuda(gpu_id)\n",
        "                no_feat = no_feat.cuda(gpu_id)\n",
        "                pred = pred.cuda(gpu_id).float()\n",
        "            if iter_count % iter_size == 0:\n",
        "                optimizer.zero_grad()\n",
        "            ano_ss, ano_fea = model(an_feat)\n",
        "            nor_ss, nor_fea = model(no_feat)\n",
        "            ano_cos = torch.cosine_similarity(ano_fea[:,1:], ano_fea[:,:-1], dim=2)\n",
        "            dynamic_score_ano = 1-ano_cos\n",
        "            nor_cos = torch.cosine_similarity(nor_fea[:,1:], nor_fea[:,:-1], dim=2)\n",
        "            dynamic_score_nor = 1-nor_cos\n",
        "            \n",
        "            ano_max = torch.max(dynamic_score_ano,1)[0]\n",
        "            nor_max = torch.max(dynamic_score_nor,1)[0]\n",
        "            loss_dy = Rcriterion(ano_max, nor_max, pred[:,0])\n",
        "            \n",
        "            semantic_margin_ano = torch.max(ano_ss,1)[0]-torch.min(ano_ss,1)[0]\n",
        "            semantic_margin_nor = torch.max(nor_ss,1)[0]-torch.min(nor_ss,1)[0]\n",
        "            loss_se = Rcriterion(semantic_margin_ano, semantic_margin_nor, pred[:,0])\n",
        "            loss_3 = torch.mean(torch.sum(dynamic_score_ano,1))+torch.mean(torch.sum(dynamic_score_nor,1))+torch.mean(torch.sum(ano_ss,1))+torch.mean(torch.sum(nor_ss,1))\n",
        "            loss_5 = torch.mean(torch.sum((dynamic_score_ano[:,:-1]-dynamic_score_ano[:,1:])**2,1))+torch.mean(torch.sum((ano_ss[:,:-1]-ano_ss[:,1:])**2,1))\n",
        "            loss_train = loss_se + loss_dy+ loss_3*0.00008+ loss_5*0.00008 \n",
        "            \n",
        "            iter_count += 1\n",
        "            loss_train.backward()\n",
        "            losses.update(loss_train.item(), 1)\n",
        "            if (iter_count + 1) % iter_size == 0:\n",
        "                optimizer.step()\n",
        "            pbar.set_postfix({\n",
        "                    'Data': '{data_time.val:.3f}({data_time.avg:.4f})\\t'.format(data_time=data_time),\n",
        "                    ver: '{0}'.format(epoch),\n",
        "                    'lr': '{lr:.5f}\\t'.format(lr=optimizer.param_groups[-1]['lr']),\n",
        "                    'Loss': '{loss.val:.4f}({loss.avg:.4f})\\t '.format(loss=losses)\n",
        "                    })\n",
        "            \n",
        "            pbar.update(1)\n",
        "        pbar.close()\n",
        "        model_path = 'weights/'+ver+'/'\n",
        "        if not os.path.isdir(model_path):\n",
        "            os.mkdir(model_path)\n",
        "        if epoch%50==0:\n",
        "            \n",
        "            state = {\n",
        "              'epoch': epoch,\n",
        "              'state_dict': model.state_dict(),\n",
        "              'optimizer' : optimizer.state_dict(),\n",
        "              'scheduler': opt_scheduler.state_dict(),\n",
        "            }\n",
        "            torch.save(state, model_path+\"rgb_%d.pth\" % epoch)\n",
        "            # model = model.cuda(gpu_id)\n",
        "        # if epoch%25==0:\n",
        "        losses.reset()\n",
        "        opt_scheduler.step()"
      ]
    }
  ],
  "metadata": {
    "kernelspec": {
      "display_name": "Python 3",
      "language": "python",
      "name": "python3"
    },
    "language_info": {
      "codemirror_mode": {
        "name": "ipython",
        "version": 3
      },
      "file_extension": ".py",
      "mimetype": "text/x-python",
      "name": "python",
      "nbconvert_exporter": "python",
      "pygments_lexer": "ipython3",
      "version": "3.6.4"
    },
    "colab": {
      "name": "train.ipynb",
      "provenance": [],
      "include_colab_link": true
    }
  },
  "nbformat": 4,
  "nbformat_minor": 0
}