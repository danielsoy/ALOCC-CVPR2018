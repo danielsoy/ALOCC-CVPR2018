{
  "cells": [
    {
      "cell_type": "markdown",
      "metadata": {
        "id": "view-in-github",
        "colab_type": "text"
      },
      "source": [
        "<a href=\"https://colab.research.google.com/github/danielsoy/ALOCC-CVPR2018/blob/master/train_net.ipynb\" target=\"_parent\"><img src=\"https://colab.research.google.com/assets/colab-badge.svg\" alt=\"Open In Colab\"/></a>"
      ]
    },
    {
      "cell_type": "code",
      "source": [
        "!git clone https://github.com/vicoslab/mixed-segdec-net-comind2021.git\n"
      ],
      "metadata": {
        "colab": {
          "base_uri": "https://localhost:8080/"
        },
        "id": "9_1MD5B32PGR",
        "outputId": "629e6ddc-0a7e-4ab2-a708-a013100fe82f"
      },
      "execution_count": 2,
      "outputs": [
        {
          "output_type": "stream",
          "name": "stdout",
          "text": [
            "Cloning into 'mixed-segdec-net-comind2021'...\n",
            "remote: Enumerating objects: 171, done.\u001b[K\n",
            "remote: Counting objects: 100% (166/166), done.\u001b[K\n",
            "remote: Compressing objects: 100% (75/75), done.\u001b[K\n",
            "remote: Total 171 (delta 92), reused 156 (delta 89), pack-reused 5\u001b[K\n",
            "Receiving objects: 100% (171/171), 440.52 KiB | 16.31 MiB/s, done.\n",
            "Resolving deltas: 100% (92/92), done.\n"
          ]
        }
      ]
    },
    {
      "cell_type": "code",
      "source": [
        "%cd /content/mixed-segdec-net-comind2021"
      ],
      "metadata": {
        "colab": {
          "base_uri": "https://localhost:8080/"
        },
        "id": "CSJQmGsa2hQY",
        "outputId": "de522ccc-6d0c-465f-892a-ca25f6667c85"
      },
      "execution_count": 5,
      "outputs": [
        {
          "output_type": "stream",
          "name": "stdout",
          "text": [
            "/content/mixed-segdec-net-comind2021\n"
          ]
        }
      ]
    },
    {
      "cell_type": "code",
      "execution_count": 6,
      "metadata": {
        "id": "5dOYSnyJ17fH"
      },
      "outputs": [],
      "source": [
        "from end2end import End2End\n",
        "import argparse\n",
        "from config import Config"
      ]
    },
    {
      "cell_type": "code",
      "execution_count": 7,
      "metadata": {
        "id": "FcIoIStX17fL"
      },
      "outputs": [],
      "source": [
        "def str2bool(v):\n",
        "    return v.lower() in (\"yes\", \"true\", \"t\", \"1\")"
      ]
    },
    {
      "cell_type": "code",
      "execution_count": 8,
      "metadata": {
        "id": "C45RKV0617fM"
      },
      "outputs": [],
      "source": [
        "def parse_args():\n",
        "    parser = argparse.ArgumentParser()\n",
        "    parser.add_argument('--GPU', type=int, required=True, help=\"ID of GPU used for training/evaluation.\")\n",
        "    parser.add_argument('--RUN_NAME', type=str, required=True, help=\"Name of the run, used as directory name for storing results.\")\n",
        "    parser.add_argument('--DATASET', type=str, required=True, help=\"Which dataset to use.\")\n",
        "    parser.add_argument('--DATASET_PATH', type=str, required=True, help=\"Path to the dataset.\")\n",
        "    parser.add_argument('--EPOCHS', type=int, required=True, help=\"Number of training epochs.\")\n",
        "    parser.add_argument('--LEARNING_RATE', type=float, required=True, help=\"Learning rate.\")\n",
        "    parser.add_argument('--DELTA_CLS_LOSS', type=float, required=True, help=\"Weight delta for classification loss.\")\n",
        "    parser.add_argument('--BATCH_SIZE', type=int, required=True, help=\"Batch size for training.\")\n",
        "    parser.add_argument('--WEIGHTED_SEG_LOSS', type=str2bool, required=True, help=\"Whether to use weighted segmentation loss.\")\n",
        "    parser.add_argument('--WEIGHTED_SEG_LOSS_P', type=float, required=False, default=None, help=\"Degree of polynomial for weighted segmentation loss.\")\n",
        "    parser.add_argument('--WEIGHTED_SEG_LOSS_MAX', type=float, required=False, default=None, help=\"Scaling factor for weighted segmentation loss.\")\n",
        "    parser.add_argument('--DYN_BALANCED_LOSS', type=str2bool, required=True, help=\"Whether to use dynamically balanced loss.\")\n",
        "    parser.add_argument('--GRADIENT_ADJUSTMENT', type=str2bool, required=True, help=\"Whether to use gradient adjustment.\")\n",
        "    parser.add_argument('--FREQUENCY_SAMPLING', type=str2bool, required=False, help=\"Whether to use frequency-of-use based sampling.\")\n",
        "    parser.add_argument('--DILATE', type=int, required=False, default=None, help=\"Size of dilation kernel for labels\")\n",
        "    parser.add_argument('--FOLD', type=int, default=None, help=\"Which fold (KSDD) or class (DAGM) to train.\")\n",
        "    parser.add_argument('--TRAIN_NUM', type=int, default=None, help=\"Number of positive training samples for KSDD or STEEL.\")\n",
        "    parser.add_argument('--NUM_SEGMENTED', type=int, required=True, default=None, help=\"Number of segmented positive  samples.\")\n",
        "    parser.add_argument('--RESULTS_PATH', type=str, default=None, help=\"Directory to which results are saved.\")\n",
        "    parser.add_argument('--VALIDATE', type=str2bool, default=None, help=\"Whether to validate during training.\")\n",
        "    parser.add_argument('--VALIDATE_ON_TEST', type=str2bool, default=None, help=\"Whether to validate on test set.\")\n",
        "    parser.add_argument('--VALIDATION_N_EPOCHS', type=int, default=None, help=\"Number of epochs between consecutive validation runs.\")\n",
        "    parser.add_argument('--USE_BEST_MODEL', type=str2bool, default=None, help=\"Whether to use the best model according to validation metrics for evaluation.\")\n",
        "    parser.add_argument('--ON_DEMAND_READ', type=str2bool, default=None, help=\"Whether to use on-demand read of data from disk instead of storing it in memory.\")\n",
        "    parser.add_argument('--REPRODUCIBLE_RUN', type=str2bool, default=None, help=\"Whether to fix seeds and disable CUDA benchmark mode.\")\n",
        "    parser.add_argument('--MEMORY_FIT', type=int, default=None, help=\"How many images can be fitted in GPU memory.\")\n",
        "    parser.add_argument('--SAVE_IMAGES', type=str2bool, default=None, help=\"Save test images or not.\")\n",
        "    args = parser.parse_args()\n",
        "    return args"
      ]
    },
    {
      "cell_type": "code",
      "execution_count": 9,
      "metadata": {
        "colab": {
          "base_uri": "https://localhost:8080/",
          "height": 569
        },
        "id": "5q3QJy--17fN",
        "outputId": "27ef3007-d0c4-42cb-bd37-671133871e7c"
      },
      "outputs": [
        {
          "output_type": "stream",
          "name": "stderr",
          "text": [
            "usage: ipykernel_launcher.py [-h] --GPU GPU --RUN_NAME RUN_NAME --DATASET\n",
            "                             DATASET --DATASET_PATH DATASET_PATH --EPOCHS\n",
            "                             EPOCHS --LEARNING_RATE LEARNING_RATE\n",
            "                             --DELTA_CLS_LOSS DELTA_CLS_LOSS --BATCH_SIZE\n",
            "                             BATCH_SIZE --WEIGHTED_SEG_LOSS WEIGHTED_SEG_LOSS\n",
            "                             [--WEIGHTED_SEG_LOSS_P WEIGHTED_SEG_LOSS_P]\n",
            "                             [--WEIGHTED_SEG_LOSS_MAX WEIGHTED_SEG_LOSS_MAX]\n",
            "                             --DYN_BALANCED_LOSS DYN_BALANCED_LOSS\n",
            "                             --GRADIENT_ADJUSTMENT GRADIENT_ADJUSTMENT\n",
            "                             [--FREQUENCY_SAMPLING FREQUENCY_SAMPLING]\n",
            "                             [--DILATE DILATE] [--FOLD FOLD]\n",
            "                             [--TRAIN_NUM TRAIN_NUM] --NUM_SEGMENTED\n",
            "                             NUM_SEGMENTED [--RESULTS_PATH RESULTS_PATH]\n",
            "                             [--VALIDATE VALIDATE]\n",
            "                             [--VALIDATE_ON_TEST VALIDATE_ON_TEST]\n",
            "                             [--VALIDATION_N_EPOCHS VALIDATION_N_EPOCHS]\n",
            "                             [--USE_BEST_MODEL USE_BEST_MODEL]\n",
            "                             [--ON_DEMAND_READ ON_DEMAND_READ]\n",
            "                             [--REPRODUCIBLE_RUN REPRODUCIBLE_RUN]\n",
            "                             [--MEMORY_FIT MEMORY_FIT]\n",
            "                             [--SAVE_IMAGES SAVE_IMAGES]\n",
            "ipykernel_launcher.py: error: the following arguments are required: --GPU, --RUN_NAME, --DATASET, --DATASET_PATH, --EPOCHS, --LEARNING_RATE, --DELTA_CLS_LOSS, --BATCH_SIZE, --WEIGHTED_SEG_LOSS, --DYN_BALANCED_LOSS, --GRADIENT_ADJUSTMENT, --NUM_SEGMENTED\n"
          ]
        },
        {
          "output_type": "error",
          "ename": "SystemExit",
          "evalue": "ignored",
          "traceback": [
            "An exception has occurred, use %tb to see the full traceback.\n",
            "\u001b[0;31mSystemExit\u001b[0m\u001b[0;31m:\u001b[0m 2\n"
          ]
        },
        {
          "output_type": "stream",
          "name": "stderr",
          "text": [
            "/usr/local/lib/python3.7/dist-packages/IPython/core/interactiveshell.py:2890: UserWarning: To exit: use 'exit', 'quit', or Ctrl-D.\n",
            "  warn(\"To exit: use 'exit', 'quit', or Ctrl-D.\", stacklevel=1)\n"
          ]
        }
      ],
      "source": [
        "if __name__ == '__main__':\n",
        "    args = parse_args()\n",
        "    configuration = Config()\n",
        "    configuration.merge_from_args(args)\n",
        "    configuration.init_extra()\n",
        "    end2end = End2End(cfg=configuration)\n",
        "    end2end.train()"
      ]
    }
  ],
  "metadata": {
    "kernelspec": {
      "display_name": "Python 3",
      "language": "python",
      "name": "python3"
    },
    "language_info": {
      "codemirror_mode": {
        "name": "ipython",
        "version": 3
      },
      "file_extension": ".py",
      "mimetype": "text/x-python",
      "name": "python",
      "nbconvert_exporter": "python",
      "pygments_lexer": "ipython3",
      "version": "3.6.4"
    },
    "colab": {
      "name": "train_net.ipynb",
      "provenance": [],
      "collapsed_sections": [],
      "include_colab_link": true
    }
  },
  "nbformat": 4,
  "nbformat_minor": 0
}