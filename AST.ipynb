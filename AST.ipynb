{
  "nbformat": 4,
  "nbformat_minor": 0,
  "metadata": {
    "colab": {
      "provenance": [],
      "include_colab_link": true
    },
    "kernelspec": {
      "name": "python3",
      "display_name": "Python 3"
    },
    "language_info": {
      "name": "python"
    },
    "gpuClass": "standard",
    "accelerator": "GPU"
  },
  "cells": [
    {
      "cell_type": "markdown",
      "metadata": {
        "id": "view-in-github",
        "colab_type": "text"
      },
      "source": [
        "<a href=\"https://colab.research.google.com/github/danielsoy/ALOCC-CVPR2018/blob/master/AST.ipynb\" target=\"_parent\"><img src=\"https://colab.research.google.com/assets/colab-badge.svg\" alt=\"Open In Colab\"/></a>"
      ]
    },
    {
      "cell_type": "markdown",
      "source": [
        "https://github.com/danielsoy/AST"
      ],
      "metadata": {
        "id": "fwSzIRD5WuTs"
      }
    },
    {
      "cell_type": "code",
      "source": [
        "!pip install pip"
      ],
      "metadata": {
        "colab": {
          "base_uri": "https://localhost:8080/"
        },
        "id": "yF8Dz3dudvrz",
        "outputId": "81767a7c-0396-4bc6-b985-71cdaf0632cf"
      },
      "execution_count": 1,
      "outputs": [
        {
          "output_type": "stream",
          "name": "stdout",
          "text": [
            "Looking in indexes: https://pypi.org/simple, https://us-python.pkg.dev/colab-wheels/public/simple/\n",
            "Requirement already satisfied: pip in /usr/local/lib/python3.8/dist-packages (22.0.4)\n"
          ]
        }
      ]
    },
    {
      "cell_type": "code",
      "source": [
        "from google.colab import drive\n",
        "drive.mount('/content/drive',force_remount=True)"
      ],
      "metadata": {
        "id": "TxS3z_oQB0AD"
      },
      "execution_count": null,
      "outputs": []
    },
    {
      "cell_type": "code",
      "execution_count": null,
      "metadata": {
        "id": "yLXKg-zlWUxC"
      },
      "outputs": [],
      "source": [
        "!git clone https://github.com/danielsoy/AST.git"
      ]
    },
    {
      "cell_type": "code",
      "source": [
        "%cd /content/AST"
      ],
      "metadata": {
        "colab": {
          "base_uri": "https://localhost:8080/"
        },
        "id": "AV2Wtcv8eGCq",
        "outputId": "e69ecd48-92f0-41a3-a977-e780da1983d4"
      },
      "execution_count": 4,
      "outputs": [
        {
          "output_type": "stream",
          "name": "stdout",
          "text": [
            "/content/AST\n"
          ]
        }
      ]
    },
    {
      "cell_type": "code",
      "source": [
        "!pip install -r requirements.txt"
      ],
      "metadata": {
        "colab": {
          "base_uri": "https://localhost:8080/"
        },
        "id": "ZKSFNh1BeKXR",
        "outputId": "a1bb33dc-b10c-481a-d486-ac7f9c0ae1d6"
      },
      "execution_count": 5,
      "outputs": [
        {
          "output_type": "stream",
          "name": "stdout",
          "text": [
            "Looking in indexes: https://pypi.org/simple, https://us-python.pkg.dev/colab-wheels/public/simple/\n",
            "Requirement already satisfied: scikit-learn>=0.24.2 in /usr/local/lib/python3.8/dist-packages (from -r requirements.txt (line 1)) (1.0.2)\n",
            "Requirement already satisfied: scipy>=1.7.1 in /usr/local/lib/python3.8/dist-packages (from -r requirements.txt (line 2)) (1.7.3)\n",
            "Requirement already satisfied: numpy>=1.21.2 in /usr/local/lib/python3.8/dist-packages (from -r requirements.txt (line 3)) (1.21.6)\n",
            "Requirement already satisfied: torch>=1.9.1 in /usr/local/lib/python3.8/dist-packages (from -r requirements.txt (line 4)) (1.13.1+cu116)\n",
            "Requirement already satisfied: torchvision>=0.10.1 in /usr/local/lib/python3.8/dist-packages (from -r requirements.txt (line 5)) (0.14.1+cu116)\n",
            "Collecting matplotlib>=3.4.2\n",
            "  Using cached matplotlib-3.7.0-cp38-cp38-manylinux_2_12_x86_64.manylinux2010_x86_64.whl (9.2 MB)\n",
            "Requirement already satisfied: tqdm>=4.62.2 in /usr/local/lib/python3.8/dist-packages (from -r requirements.txt (line 7)) (4.64.1)\n",
            "Requirement already satisfied: efficientnet-pytorch>=0.6.3 in /usr/local/lib/python3.8/dist-packages (from -r requirements.txt (line 8)) (0.7.1)\n",
            "Requirement already satisfied: tifffile>=2021.11.2 in /usr/local/lib/python3.8/dist-packages (from -r requirements.txt (line 9)) (2023.2.3)\n",
            "\u001b[31mERROR: Could not find a version that satisfies the requirement PIL>=7.1.2 (from versions: none)\u001b[0m\u001b[31m\n",
            "\u001b[0m\u001b[31mERROR: No matching distribution found for PIL>=7.1.2\u001b[0m\u001b[31m\n",
            "\u001b[0m"
          ]
        }
      ]
    },
    {
      "cell_type": "code",
      "source": [
        "!pip install torch"
      ],
      "metadata": {
        "colab": {
          "base_uri": "https://localhost:8080/"
        },
        "id": "6gAgPGRVQK02",
        "outputId": "60ff3c50-a634-414b-98f0-f51685f3b0cf"
      },
      "execution_count": 6,
      "outputs": [
        {
          "output_type": "stream",
          "name": "stdout",
          "text": [
            "Looking in indexes: https://pypi.org/simple, https://us-python.pkg.dev/colab-wheels/public/simple/\n",
            "Requirement already satisfied: torch in /usr/local/lib/python3.8/dist-packages (1.13.1+cu116)\n",
            "Requirement already satisfied: typing-extensions in /usr/local/lib/python3.8/dist-packages (from torch) (4.4.0)\n"
          ]
        }
      ]
    },
    {
      "cell_type": "code",
      "source": [
        "!pip install pillow"
      ],
      "metadata": {
        "colab": {
          "base_uri": "https://localhost:8080/"
        },
        "id": "-B8iu7gGhJqb",
        "outputId": "a1b35aa3-98f4-4f46-f221-ccecb740745d"
      },
      "execution_count": 7,
      "outputs": [
        {
          "output_type": "stream",
          "name": "stdout",
          "text": [
            "Looking in indexes: https://pypi.org/simple, https://us-python.pkg.dev/colab-wheels/public/simple/\n",
            "Requirement already satisfied: pillow in /usr/local/lib/python3.8/dist-packages (7.1.2)\n"
          ]
        }
      ]
    },
    {
      "cell_type": "code",
      "source": [
        "import torch\n",
        "import torchvision"
      ],
      "metadata": {
        "id": "qRmUp6mKgV0S"
      },
      "execution_count": 8,
      "outputs": []
    },
    {
      "cell_type": "code",
      "source": [
        "!pip install --upgrade efficientnet-pytorch"
      ],
      "metadata": {
        "colab": {
          "base_uri": "https://localhost:8080/"
        },
        "id": "gbKImy8ahQiF",
        "outputId": "5bb05ab4-a735-4612-e9a4-3034413f88fc"
      },
      "execution_count": 9,
      "outputs": [
        {
          "output_type": "stream",
          "name": "stdout",
          "text": [
            "Looking in indexes: https://pypi.org/simple, https://us-python.pkg.dev/colab-wheels/public/simple/\n",
            "Requirement already satisfied: efficientnet-pytorch in /usr/local/lib/python3.8/dist-packages (0.7.1)\n",
            "Requirement already satisfied: torch in /usr/local/lib/python3.8/dist-packages (from efficientnet-pytorch) (1.13.1+cu116)\n",
            "Requirement already satisfied: typing-extensions in /usr/local/lib/python3.8/dist-packages (from torch->efficientnet-pytorch) (4.4.0)\n"
          ]
        }
      ]
    },
    {
      "cell_type": "code",
      "source": [
        "!python preprocess.py\n",
        "!python train_teacher.py\n",
        "!python train_student.py\n",
        "\n"
      ],
      "metadata": {
        "colab": {
          "base_uri": "https://localhost:8080/"
        },
        "id": "Qwo4KQMtf8Pj",
        "outputId": "2c15adfd-0b53-4890-861c-6d7bd29a7961"
      },
      "execution_count": 10,
      "outputs": [
        {
          "output_type": "stream",
          "name": "stdout",
          "text": [
            "my_experiment\n",
            "Loaded pretrained weights for efficientnet-b5\n",
            "fideo\n",
            "100% 3/3 [00:13<00:00,  4.52s/it]\n",
            "data/features/fideo\n",
            "100% 3/3 [00:13<00:00,  4.52s/it]\n",
            "data/features/fideo\n",
            "my_experiment\n",
            "\n",
            "\n",
            "Train class fideo\n",
            "\n",
            "Train epoch 0\n",
            "Epoch: 0.0 \t train loss: 3933.1470\n",
            "Epoch: 0.4 \t train loss: 3715.1216\n",
            "Epoch: 0.8 \t train loss: 2365.2549\n",
            "Epoch: 0.12 \t train loss: 1031.7065\n",
            "Epoch: 0.16 \t train loss: 605.8602\n",
            "Epoch: 0.20 \t train loss: 546.2103\n",
            "\n",
            "Compute loss and scores on test set:\n",
            "Epoch: 0 \t test_loss: 534.6036\n",
            "AUROC mean over maps: \t last: 38.00 \t best: 38.00\n",
            "AUROC  max over maps: \t last: 66.50 \t best: 66.50\n",
            "\n",
            "Train epoch 1\n",
            "Epoch: 1.0 \t train loss: 536.6899\n",
            "Epoch: 1.4 \t train loss: 518.7671\n",
            "Epoch: 1.8 \t train loss: 506.7227\n",
            "Epoch: 1.12 \t train loss: 498.6810\n",
            "Epoch: 1.16 \t train loss: 490.4976\n",
            "Epoch: 1.20 \t train loss: 482.0977\n",
            "\n",
            "Compute loss and scores on test set:\n",
            "Epoch: 1 \t test_loss: 471.0159\n",
            "AUROC mean over maps: \t last: 47.75 \t best: 47.75\n",
            "AUROC  max over maps: \t last: 75.25 \t best: 75.25\n",
            "\n",
            "Train epoch 2\n",
            "Epoch: 2.0 \t train loss: 474.3677\n",
            "Epoch: 2.4 \t train loss: 465.3630\n",
            "Epoch: 2.8 \t train loss: 456.9173\n",
            "Epoch: 2.12 \t train loss: 448.0959\n",
            "Epoch: 2.16 \t train loss: 439.9514\n",
            "Epoch: 2.20 \t train loss: 430.4413\n",
            "\n",
            "Compute loss and scores on test set:\n",
            "Epoch: 2 \t test_loss: 418.0201\n",
            "AUROC mean over maps: \t last: 48.75 \t best: 48.75\n",
            "AUROC  max over maps: \t last: 78.75 \t best: 78.75\n",
            "student saved\n",
            "\n",
            "AUROC % after last epoch\n",
            "\tmean over maps: 48.75 \t max over maps: 78.75\n",
            "best AUROC %\n",
            "\tmean over maps: 48.75 \t max over maps: 78.75\n",
            "my_experiment\n",
            "\n",
            "\n",
            "Train class fideo\n",
            "Traceback (most recent call last):\n",
            "  File \"train_student.py\", line 109, in <module>\n",
            "    train_dataset(train)\n",
            "  File \"/content/AST/utils.py\", line 25, in train_dataset\n",
            "    mean_sc, max_sc = train_function(train_loader, test_loader)\n",
            "  File \"train_student.py\", line 13, in train\n",
            "    student = Model(nf=not c.asymmetric_student, channels_hidden=c.channels_hidden_student, n_blocks=c.n_st_blocks)\n",
            "  File \"/content/AST/model.py\", line 95, in __init__\n",
            "    self.pos_enc = positionalencoding2d(c.pos_enc_dim, c.map_len, c.map_len)\n",
            "  File \"/content/AST/model.py\", line 79, in positionalencoding2d\n",
            "    return P.to(c.device)[None]\n",
            "  File \"/usr/local/lib/python3.8/dist-packages/torch/cuda/__init__.py\", line 229, in _lazy_init\n",
            "    torch._C._cuda_init()\n",
            "KeyboardInterrupt\n",
            "^C\n"
          ]
        }
      ]
    },
    {
      "cell_type": "code",
      "source": [
        "!python eval.py"
      ],
      "metadata": {
        "id": "tKThe2qxI5bc",
        "colab": {
          "base_uri": "https://localhost:8080/"
        },
        "outputId": "1c10fc71-a805-4391-b963-4e9aea684c74"
      },
      "execution_count": 11,
      "outputs": [
        {
          "output_type": "stream",
          "name": "stdout",
          "text": [
            "my_experiment\n",
            "\n",
            "Evaluate class fideo\n",
            "Traceback (most recent call last):\n",
            "  File \"eval.py\", line 90, in <module>\n",
            "    mean_sc, max_sc = evaluate(test_loader)\n",
            "  File \"eval.py\", line 26, in evaluate\n",
            "    student = Model(nf=not c.asymmetric_student, channels_hidden=c.channels_hidden_student)\n",
            "  File \"/content/AST/model.py\", line 95, in __init__\n",
            "    self.pos_enc = positionalencoding2d(c.pos_enc_dim, c.map_len, c.map_len)\n",
            "  File \"/content/AST/model.py\", line 79, in positionalencoding2d\n",
            "    return P.to(c.device)[None]\n",
            "KeyboardInterrupt\n",
            "^C\n"
          ]
        }
      ]
    },
    {
      "cell_type": "code",
      "source": [],
      "metadata": {
        "id": "VG6MOOpZlB6O"
      },
      "execution_count": 11,
      "outputs": []
    },
    {
      "cell_type": "code",
      "source": [
        "\n",
        "!python train_teacher.py\n",
        "\n",
        "\n"
      ],
      "metadata": {
        "id": "W9-efaXElCPE"
      },
      "execution_count": null,
      "outputs": []
    }
  ]
}