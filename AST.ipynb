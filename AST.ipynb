{
  "nbformat": 4,
  "nbformat_minor": 0,
  "metadata": {
    "colab": {
      "provenance": [],
      "authorship_tag": "ABX9TyNVuq8T0HG5QP52Rekj6rh8",
      "include_colab_link": true
    },
    "kernelspec": {
      "name": "python3",
      "display_name": "Python 3"
    },
    "language_info": {
      "name": "python"
    },
    "accelerator": "GPU",
    "gpuClass": "standard"
  },
  "cells": [
    {
      "cell_type": "markdown",
      "metadata": {
        "id": "view-in-github",
        "colab_type": "text"
      },
      "source": [
        "<a href=\"https://colab.research.google.com/github/danielsoy/ALOCC-CVPR2018/blob/master/AST.ipynb\" target=\"_parent\"><img src=\"https://colab.research.google.com/assets/colab-badge.svg\" alt=\"Open In Colab\"/></a>"
      ]
    },
    {
      "cell_type": "markdown",
      "source": [
        "https://github.com/danielsoy/AST"
      ],
      "metadata": {
        "id": "fwSzIRD5WuTs"
      }
    },
    {
      "cell_type": "code",
      "source": [
        "!pip install pip"
      ],
      "metadata": {
        "colab": {
          "base_uri": "https://localhost:8080/"
        },
        "id": "yF8Dz3dudvrz",
        "outputId": "9136171b-b354-4064-92bf-da5e4587bebe"
      },
      "execution_count": 30,
      "outputs": [
        {
          "output_type": "stream",
          "name": "stdout",
          "text": [
            "Looking in indexes: https://pypi.org/simple, https://us-python.pkg.dev/colab-wheels/public/simple/\n",
            "Requirement already satisfied: pip in /usr/local/lib/python3.8/dist-packages (22.0.4)\n"
          ]
        }
      ]
    },
    {
      "cell_type": "code",
      "execution_count": 11,
      "metadata": {
        "colab": {
          "base_uri": "https://localhost:8080/"
        },
        "id": "yLXKg-zlWUxC",
        "outputId": "bf60ba87-9c2b-4d39-ecd4-746f00a73295"
      },
      "outputs": [
        {
          "output_type": "stream",
          "name": "stdout",
          "text": [
            "Cloning into 'AST'...\n",
            "remote: Enumerating objects: 30, done.\u001b[K\n",
            "remote: Counting objects: 100% (30/30), done.\u001b[K\n",
            "remote: Compressing objects: 100% (29/29), done.\u001b[K\n",
            "remote: Total 30 (delta 11), reused 2 (delta 0), pack-reused 0\u001b[K\n",
            "Unpacking objects: 100% (30/30), 21.98 KiB | 2.00 MiB/s, done.\n"
          ]
        }
      ],
      "source": [
        "!git clone https://github.com/danielsoy/AST.git"
      ]
    },
    {
      "cell_type": "code",
      "source": [
        "from google.colab import drive\n",
        "drive.mount('/content/drive',force_remount=True)"
      ],
      "metadata": {
        "colab": {
          "base_uri": "https://localhost:8080/"
        },
        "id": "xrOiUbG-YecD",
        "outputId": "0449675e-8ede-4a62-c7dc-1aacf3e81f56"
      },
      "execution_count": 48,
      "outputs": [
        {
          "output_type": "stream",
          "name": "stdout",
          "text": [
            "Mounted at /content/drive\n"
          ]
        }
      ]
    },
    {
      "cell_type": "code",
      "source": [
        "%cd /content/AST"
      ],
      "metadata": {
        "colab": {
          "base_uri": "https://localhost:8080/"
        },
        "id": "AV2Wtcv8eGCq",
        "outputId": "801279c3-b0f2-482d-98fb-5bba4255525e"
      },
      "execution_count": 49,
      "outputs": [
        {
          "output_type": "stream",
          "name": "stdout",
          "text": [
            "/content/AST\n"
          ]
        }
      ]
    },
    {
      "cell_type": "code",
      "source": [
        "!pip install -r requirements.txt"
      ],
      "metadata": {
        "colab": {
          "base_uri": "https://localhost:8080/"
        },
        "id": "ZKSFNh1BeKXR",
        "outputId": "d694b1ba-b4e2-4705-dbad-a36c6e8a1c36"
      },
      "execution_count": 50,
      "outputs": [
        {
          "output_type": "stream",
          "name": "stdout",
          "text": [
            "Looking in indexes: https://pypi.org/simple, https://us-python.pkg.dev/colab-wheels/public/simple/\n",
            "Requirement already satisfied: scikit-learn>=0.24.2 in /usr/local/lib/python3.8/dist-packages (from -r requirements.txt (line 1)) (1.0.2)\n",
            "Requirement already satisfied: scipy>=1.7.1 in /usr/local/lib/python3.8/dist-packages (from -r requirements.txt (line 2)) (1.7.3)\n",
            "Requirement already satisfied: numpy>=1.21.2 in /usr/local/lib/python3.8/dist-packages (from -r requirements.txt (line 3)) (1.21.6)\n",
            "Requirement already satisfied: torch>=1.9.1 in /usr/local/lib/python3.8/dist-packages (from -r requirements.txt (line 4)) (1.13.1+cu116)\n",
            "Requirement already satisfied: torchvision>=0.10.1 in /usr/local/lib/python3.8/dist-packages (from -r requirements.txt (line 5)) (0.14.1+cu116)\n",
            "Requirement already satisfied: matplotlib>=3.4.2 in /usr/local/lib/python3.8/dist-packages (from -r requirements.txt (line 6)) (3.6.3)\n",
            "Requirement already satisfied: tqdm>=4.62.2 in /usr/local/lib/python3.8/dist-packages (from -r requirements.txt (line 7)) (4.64.1)\n",
            "Requirement already satisfied: efficientnet-pytorch>=0.6.3 in /usr/local/lib/python3.8/dist-packages (from -r requirements.txt (line 8)) (0.7.1)\n",
            "Requirement already satisfied: tifffile>=2021.11.2 in /usr/local/lib/python3.8/dist-packages (from -r requirements.txt (line 9)) (2023.2.3)\n",
            "Requirement already satisfied: pillow>=9.4.0 in /usr/local/lib/python3.8/dist-packages (from -r requirements.txt (line 10)) (9.4.0)\n",
            "Requirement already satisfied: threadpoolctl>=2.0.0 in /usr/local/lib/python3.8/dist-packages (from scikit-learn>=0.24.2->-r requirements.txt (line 1)) (3.1.0)\n",
            "Requirement already satisfied: joblib>=0.11 in /usr/local/lib/python3.8/dist-packages (from scikit-learn>=0.24.2->-r requirements.txt (line 1)) (1.2.0)\n",
            "Requirement already satisfied: typing-extensions in /usr/local/lib/python3.8/dist-packages (from torch>=1.9.1->-r requirements.txt (line 4)) (4.4.0)\n",
            "Requirement already satisfied: requests in /usr/local/lib/python3.8/dist-packages (from torchvision>=0.10.1->-r requirements.txt (line 5)) (2.25.1)\n",
            "Requirement already satisfied: kiwisolver>=1.0.1 in /usr/local/lib/python3.8/dist-packages (from matplotlib>=3.4.2->-r requirements.txt (line 6)) (1.4.4)\n",
            "Requirement already satisfied: cycler>=0.10 in /usr/local/lib/python3.8/dist-packages (from matplotlib>=3.4.2->-r requirements.txt (line 6)) (0.11.0)\n",
            "Requirement already satisfied: pyparsing>=2.2.1 in /usr/local/lib/python3.8/dist-packages (from matplotlib>=3.4.2->-r requirements.txt (line 6)) (3.0.9)\n",
            "Requirement already satisfied: fonttools>=4.22.0 in /usr/local/lib/python3.8/dist-packages (from matplotlib>=3.4.2->-r requirements.txt (line 6)) (4.38.0)\n",
            "Requirement already satisfied: packaging>=20.0 in /usr/local/lib/python3.8/dist-packages (from matplotlib>=3.4.2->-r requirements.txt (line 6)) (23.0)\n",
            "Requirement already satisfied: contourpy>=1.0.1 in /usr/local/lib/python3.8/dist-packages (from matplotlib>=3.4.2->-r requirements.txt (line 6)) (1.0.7)\n",
            "Requirement already satisfied: python-dateutil>=2.7 in /usr/local/lib/python3.8/dist-packages (from matplotlib>=3.4.2->-r requirements.txt (line 6)) (2.8.2)\n",
            "Requirement already satisfied: six>=1.5 in /usr/local/lib/python3.8/dist-packages (from python-dateutil>=2.7->matplotlib>=3.4.2->-r requirements.txt (line 6)) (1.15.0)\n",
            "Requirement already satisfied: chardet<5,>=3.0.2 in /usr/local/lib/python3.8/dist-packages (from requests->torchvision>=0.10.1->-r requirements.txt (line 5)) (4.0.0)\n",
            "Requirement already satisfied: urllib3<1.27,>=1.21.1 in /usr/local/lib/python3.8/dist-packages (from requests->torchvision>=0.10.1->-r requirements.txt (line 5)) (1.24.3)\n",
            "Requirement already satisfied: certifi>=2017.4.17 in /usr/local/lib/python3.8/dist-packages (from requests->torchvision>=0.10.1->-r requirements.txt (line 5)) (2022.12.7)\n",
            "Requirement already satisfied: idna<3,>=2.5 in /usr/local/lib/python3.8/dist-packages (from requests->torchvision>=0.10.1->-r requirements.txt (line 5)) (2.10)\n"
          ]
        }
      ]
    },
    {
      "cell_type": "code",
      "source": [
        "!python pip install Pillow==9.4.0"
      ],
      "metadata": {
        "colab": {
          "base_uri": "https://localhost:8080/"
        },
        "id": "e3safLPCetvV",
        "outputId": "3533a1a7-a33e-4928-a2e2-c942e7a0884a"
      },
      "execution_count": 38,
      "outputs": [
        {
          "output_type": "stream",
          "name": "stdout",
          "text": [
            "python3: can't open file 'pip': [Errno 2] No such file or directory\n"
          ]
        }
      ]
    },
    {
      "cell_type": "code",
      "source": [
        "!python pillow --version"
      ],
      "metadata": {
        "id": "hFI8P4KZgqAw",
        "outputId": "9eb5992a-d076-43e6-db69-166f2221227b",
        "colab": {
          "base_uri": "https://localhost:8080/"
        }
      },
      "execution_count": 32,
      "outputs": [
        {
          "output_type": "stream",
          "name": "stdout",
          "text": [
            "python3: can't open file 'pillow': [Errno 2] No such file or directory\n"
          ]
        }
      ]
    },
    {
      "cell_type": "code",
      "source": [
        "!python config.py"
      ],
      "metadata": {
        "colab": {
          "base_uri": "https://localhost:8080/"
        },
        "id": "N39S6tYhf3Ue",
        "outputId": "1387798a-ce6c-4528-b152-3c4c14374e24"
      },
      "execution_count": 15,
      "outputs": [
        {
          "output_type": "stream",
          "name": "stdout",
          "text": [
            "my_experiment\n"
          ]
        }
      ]
    },
    {
      "cell_type": "code",
      "source": [
        "import torch\n",
        "import torchvision"
      ],
      "metadata": {
        "id": "qRmUp6mKgV0S"
      },
      "execution_count": 16,
      "outputs": []
    },
    {
      "cell_type": "code",
      "source": [
        "#!pip install Pillow"
      ],
      "metadata": {
        "colab": {
          "base_uri": "https://localhost:8080/"
        },
        "id": "9dZSqE5ig7K2",
        "outputId": "34fcffb3-da5b-46c8-9a16-657a975cded6"
      },
      "execution_count": null,
      "outputs": [
        {
          "output_type": "stream",
          "name": "stdout",
          "text": [
            "Looking in indexes: https://pypi.org/simple, https://us-python.pkg.dev/colab-wheels/public/simple/\n",
            "Requirement already satisfied: Pillow in /usr/local/lib/python3.8/dist-packages (7.1.2)\n"
          ]
        }
      ]
    },
    {
      "cell_type": "code",
      "source": [
        "#!pip install torch"
      ],
      "metadata": {
        "colab": {
          "base_uri": "https://localhost:8080/"
        },
        "id": "8XEfeBGsgtmT",
        "outputId": "af228ecf-dac3-4426-b3d3-cea49c27529f"
      },
      "execution_count": 10,
      "outputs": [
        {
          "output_type": "stream",
          "name": "stdout",
          "text": [
            "Looking in indexes: https://pypi.org/simple, https://us-python.pkg.dev/colab-wheels/public/simple/\n",
            "Requirement already satisfied: torch in /usr/local/lib/python3.8/dist-packages (1.13.1+cu116)\n",
            "Requirement already satisfied: typing-extensions in /usr/local/lib/python3.8/dist-packages (from torch) (4.4.0)\n"
          ]
        }
      ]
    },
    {
      "cell_type": "code",
      "source": [
        "!pip install --upgrade efficientnet-pytorch"
      ],
      "metadata": {
        "colab": {
          "base_uri": "https://localhost:8080/"
        },
        "id": "gbKImy8ahQiF",
        "outputId": "ccd1e7cd-9943-4f3b-c638-d879690afb46"
      },
      "execution_count": 17,
      "outputs": [
        {
          "output_type": "stream",
          "name": "stdout",
          "text": [
            "Looking in indexes: https://pypi.org/simple, https://us-python.pkg.dev/colab-wheels/public/simple/\n",
            "Requirement already satisfied: efficientnet-pytorch in /usr/local/lib/python3.8/dist-packages (0.7.1)\n",
            "Requirement already satisfied: torch in /usr/local/lib/python3.8/dist-packages (from efficientnet-pytorch) (1.13.1+cu116)\n",
            "Requirement already satisfied: typing-extensions in /usr/local/lib/python3.8/dist-packages (from torch->efficientnet-pytorch) (4.4.0)\n"
          ]
        }
      ]
    },
    {
      "cell_type": "code",
      "source": [
        "!python preprocess.py\n",
        "!python train_teacher.py\n",
        "!python train_student.py\n",
        "\n"
      ],
      "metadata": {
        "colab": {
          "base_uri": "https://localhost:8080/"
        },
        "id": "Qwo4KQMtf8Pj",
        "outputId": "19531c19-2483-46e7-dd7d-fc9f0f68f051"
      },
      "execution_count": 51,
      "outputs": [
        {
          "output_type": "stream",
          "name": "stdout",
          "text": [
            "my_experiment\n",
            "Loaded pretrained weights for efficientnet-b5\n",
            "fideo\n",
            "100% 29/29 [00:26<00:00,  1.10it/s]\n",
            "data/features/fideo\n",
            "100% 15/15 [02:45<00:00, 11.04s/it]\n",
            "data/features/fideo\n"
          ]
        }
      ]
    },
    {
      "cell_type": "code",
      "source": [
        "!python train_teacher.py"
      ],
      "metadata": {
        "colab": {
          "base_uri": "https://localhost:8080/"
        },
        "id": "yCy1_piVIr1q",
        "outputId": "9e57c951-cfe4-4741-85af-e90096d871fa"
      },
      "execution_count": 53,
      "outputs": [
        {
          "output_type": "stream",
          "name": "stdout",
          "text": [
            "my_experiment\n",
            "\n",
            "\n",
            "Train class fideo\n",
            "\n",
            "Train epoch 0\n",
            "Epoch: 0.0 \t train loss: 2574.6733\n",
            "Epoch: 0.4 \t train loss: 445.8675\n",
            "Epoch: 0.8 \t train loss: 351.1922\n",
            "Epoch: 0.12 \t train loss: 279.8517\n",
            "Epoch: 0.16 \t train loss: 217.2024\n",
            "Epoch: 0.20 \t train loss: 165.0707\n",
            "\n",
            "Compute loss and scores on test set:\n",
            "Epoch: 0 \t test_loss: 133.9512\n",
            "AUROC mean over maps: \t last: 92.11 \t best: 92.11\n",
            "AUROC  max over maps: \t last: 86.95 \t best: 86.95\n",
            "\n",
            "Train epoch 1\n",
            "Epoch: 1.0 \t train loss: 126.3633\n",
            "Epoch: 1.4 \t train loss: 99.3057\n",
            "Epoch: 1.8 \t train loss: 76.9626\n",
            "Epoch: 1.12 \t train loss: 59.3703\n",
            "Epoch: 1.16 \t train loss: 44.3784\n",
            "Epoch: 1.20 \t train loss: 30.3344\n",
            "\n",
            "Compute loss and scores on test set:\n",
            "Epoch: 1 \t test_loss: 26.7472\n",
            "AUROC mean over maps: \t last: 96.78 \t best: 96.78\n",
            "AUROC  max over maps: \t last: 87.41 \t best: 87.41\n",
            "\n",
            "Train epoch 2\n",
            "Epoch: 2.0 \t train loss: 17.8423\n",
            "Epoch: 2.4 \t train loss: 8.4582\n",
            "Epoch: 2.8 \t train loss: -3.1556\n",
            "Epoch: 2.12 \t train loss: -11.3064\n",
            "Epoch: 2.16 \t train loss: -19.0090\n",
            "Epoch: 2.20 \t train loss: -27.6834\n",
            "\n",
            "Compute loss and scores on test set:\n",
            "Epoch: 2 \t test_loss: -21.1982\n",
            "AUROC mean over maps: \t last: 97.79 \t best: 97.79\n",
            "AUROC  max over maps: \t last: 89.48 \t best: 89.48\n",
            "student saved\n",
            "\n",
            "AUROC % after last epoch\n",
            "\tmean over maps: 97.79 \t max over maps: 89.48\n",
            "best AUROC %\n",
            "\tmean over maps: 97.79 \t max over maps: 89.48\n"
          ]
        }
      ]
    },
    {
      "cell_type": "code",
      "source": [
        "!python train_student.py"
      ],
      "metadata": {
        "colab": {
          "base_uri": "https://localhost:8080/"
        },
        "id": "QjABEMSMI1W7",
        "outputId": "2f8f5582-20a5-4d14-b4f2-55fdb8b0ea43"
      },
      "execution_count": 54,
      "outputs": [
        {
          "output_type": "stream",
          "name": "stdout",
          "text": [
            "my_experiment\n",
            "\n",
            "\n",
            "Train class fideo\n",
            "\n",
            "Train epoch 0\n",
            "Epoch: 0.0 \t train loss: 2.0225\n",
            "Epoch: 0.4 \t train loss: 0.9079\n",
            "Epoch: 0.8 \t train loss: 0.8244\n",
            "Epoch: 0.12 \t train loss: 0.6110\n",
            "Epoch: 0.16 \t train loss: 0.4710\n",
            "Epoch: 0.20 \t train loss: 0.3811\n",
            "\n",
            "Compute loss and scores on test set:\n",
            "Epoch: 0 \t test_loss: 0.6999\n",
            "AUROC mean over maps: \t last: 99.33 \t best: 99.33\n",
            "AUROC  max over maps: \t last: 94.19 \t best: 94.19\n",
            "\n",
            "Train epoch 1\n",
            "Epoch: 1.0 \t train loss: 0.3241\n",
            "Epoch: 1.4 \t train loss: 0.2889\n",
            "Epoch: 1.8 \t train loss: 0.2431\n",
            "Epoch: 1.12 \t train loss: 0.2174\n",
            "Epoch: 1.16 \t train loss: 0.2196\n",
            "Epoch: 1.20 \t train loss: 0.1863\n",
            "\n",
            "Compute loss and scores on test set:\n",
            "Epoch: 1 \t test_loss: 0.5131\n",
            "AUROC mean over maps: \t last: 99.56 \t best: 99.56\n",
            "AUROC  max over maps: \t last: 95.82 \t best: 95.82\n",
            "\n",
            "Train epoch 2\n",
            "Epoch: 2.0 \t train loss: 0.1693\n",
            "Epoch: 2.4 \t train loss: 0.1603\n",
            "Epoch: 2.8 \t train loss: 0.1429\n",
            "Epoch: 2.12 \t train loss: 0.1537\n",
            "Epoch: 2.16 \t train loss: 0.1312\n",
            "Epoch: 2.20 \t train loss: 0.1294\n",
            "\n",
            "Compute loss and scores on test set:\n",
            "Epoch: 2 \t test_loss: 0.5625\n",
            "AUROC mean over maps: \t last: 99.48 \t best: 99.56\n",
            "AUROC  max over maps: \t last: 96.43 \t best: 96.43\n",
            "student saved\n",
            "\n",
            "AUROC % after last epoch\n",
            "\tmean over maps: 99.48 \t max over maps: 96.43\n",
            "best AUROC %\n",
            "\tmean over maps: 99.56 \t max over maps: 96.43\n"
          ]
        }
      ]
    },
    {
      "cell_type": "code",
      "source": [
        "!python eval.py"
      ],
      "metadata": {
        "colab": {
          "base_uri": "https://localhost:8080/"
        },
        "id": "tKThe2qxI5bc",
        "outputId": "59bc7a06-5e9e-4e04-e893-3f1072e9dd22"
      },
      "execution_count": 55,
      "outputs": [
        {
          "output_type": "stream",
          "name": "stdout",
          "text": [
            "my_experiment\n",
            "\n",
            "Evaluate class fideo\n",
            "Traceback (most recent call last):\n",
            "  File \"eval.py\", line 90, in <module>\n",
            "    mean_sc, max_sc = evaluate(test_loader)\n",
            "  File \"eval.py\", line 37, in evaluate\n",
            "    for i, data in enumerate(tqdm(test_loader, disable=c.hide_tqdm_bar)):\n",
            "  File \"/usr/local/lib/python3.8/dist-packages/tqdm/std.py\", line 1183, in __iter__\n",
            "    for obj in iterable:\n",
            "  File \"/usr/local/lib/python3.8/dist-packages/torch/utils/data/dataloader.py\", line 628, in __next__\n",
            "    data = self._next_data()\n",
            "  File \"/usr/local/lib/python3.8/dist-packages/torch/utils/data/dataloader.py\", line 671, in _next_data\n",
            "    data = self._dataset_fetcher.fetch(index)  # may raise StopIteration\n",
            "  File \"/usr/local/lib/python3.8/dist-packages/torch/utils/data/_utils/fetch.py\", line 58, in fetch\n",
            "    data = [self.dataset[idx] for idx in possibly_batched_index]\n",
            "  File \"/usr/local/lib/python3.8/dist-packages/torch/utils/data/_utils/fetch.py\", line 58, in <listcomp>\n",
            "    data = [self.dataset[idx] for idx in possibly_batched_index]\n",
            "  File \"/content/AST/utils.py\", line 308, in __getitem__\n",
            "    with open(self.masks[index], 'rb') as f:\n",
            "FileNotFoundError: [Errno 2] No such file or directory: '/content/drive/MyDrive/AST_data/fideo/ground_truth/good/activotensor([10.0711]).PNG'\n"
          ]
        }
      ]
    }
  ]
}