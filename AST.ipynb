{
  "nbformat": 4,
  "nbformat_minor": 0,
  "metadata": {
    "colab": {
      "provenance": [],
      "include_colab_link": true
    },
    "kernelspec": {
      "name": "python3",
      "display_name": "Python 3"
    },
    "language_info": {
      "name": "python"
    },
    "gpuClass": "standard",
    "accelerator": "GPU"
  },
  "cells": [
    {
      "cell_type": "markdown",
      "metadata": {
        "id": "view-in-github",
        "colab_type": "text"
      },
      "source": [
        "<a href=\"https://colab.research.google.com/github/danielsoy/ALOCC-CVPR2018/blob/master/AST.ipynb\" target=\"_parent\"><img src=\"https://colab.research.google.com/assets/colab-badge.svg\" alt=\"Open In Colab\"/></a>"
      ]
    },
    {
      "cell_type": "markdown",
      "source": [
        "https://github.com/danielsoy/AST"
      ],
      "metadata": {
        "id": "fwSzIRD5WuTs"
      }
    },
    {
      "cell_type": "code",
      "source": [
        "!pip install pip"
      ],
      "metadata": {
        "colab": {
          "base_uri": "https://localhost:8080/"
        },
        "id": "yF8Dz3dudvrz",
        "outputId": "5e57cb71-84ec-473d-8b21-4b7c7ffb5605"
      },
      "execution_count": 1,
      "outputs": [
        {
          "output_type": "stream",
          "name": "stdout",
          "text": [
            "Looking in indexes: https://pypi.org/simple, https://us-python.pkg.dev/colab-wheels/public/simple/\n",
            "Requirement already satisfied: pip in /usr/local/lib/python3.8/dist-packages (22.0.4)\n"
          ]
        }
      ]
    },
    {
      "cell_type": "code",
      "source": [
        "from google.colab import drive\n",
        "drive.mount('/content/drive',force_remount=True)"
      ],
      "metadata": {
        "id": "TxS3z_oQB0AD",
        "colab": {
          "base_uri": "https://localhost:8080/"
        },
        "outputId": "f6716497-2515-4d7a-f973-ac740e08c1ec"
      },
      "execution_count": 2,
      "outputs": [
        {
          "output_type": "stream",
          "name": "stdout",
          "text": [
            "Mounted at /content/drive\n"
          ]
        }
      ]
    },
    {
      "cell_type": "code",
      "execution_count": 3,
      "metadata": {
        "id": "yLXKg-zlWUxC",
        "colab": {
          "base_uri": "https://localhost:8080/"
        },
        "outputId": "99b38dd8-8ae5-4b2b-e097-66509d4d6473"
      },
      "outputs": [
        {
          "output_type": "stream",
          "name": "stdout",
          "text": [
            "Cloning into 'AST'...\n",
            "remote: Enumerating objects: 42, done.\u001b[K\n",
            "remote: Counting objects: 100% (42/42), done.\u001b[K\n",
            "remote: Compressing objects: 100% (41/41), done.\u001b[K\n",
            "remote: Total 42 (delta 19), reused 2 (delta 0), pack-reused 0\u001b[K\n",
            "Unpacking objects: 100% (42/42), 24.48 KiB | 2.04 MiB/s, done.\n"
          ]
        }
      ],
      "source": [
        "!git clone https://github.com/danielsoy/AST.git"
      ]
    },
    {
      "cell_type": "code",
      "source": [
        "%cd /content/AST"
      ],
      "metadata": {
        "colab": {
          "base_uri": "https://localhost:8080/"
        },
        "id": "AV2Wtcv8eGCq",
        "outputId": "755b5de6-206b-4f24-8c74-449e53be1c3d"
      },
      "execution_count": 4,
      "outputs": [
        {
          "output_type": "stream",
          "name": "stdout",
          "text": [
            "/content/AST\n"
          ]
        }
      ]
    },
    {
      "cell_type": "code",
      "source": [
        "!pip install -r requirements.txt"
      ],
      "metadata": {
        "colab": {
          "base_uri": "https://localhost:8080/"
        },
        "id": "ZKSFNh1BeKXR",
        "outputId": "11afc996-851f-4591-a4e3-26259762ebe7"
      },
      "execution_count": 5,
      "outputs": [
        {
          "output_type": "stream",
          "name": "stdout",
          "text": [
            "Looking in indexes: https://pypi.org/simple, https://us-python.pkg.dev/colab-wheels/public/simple/\n",
            "Requirement already satisfied: scikit-learn>=0.24.2 in /usr/local/lib/python3.8/dist-packages (from -r requirements.txt (line 1)) (1.0.2)\n",
            "Requirement already satisfied: scipy>=1.7.1 in /usr/local/lib/python3.8/dist-packages (from -r requirements.txt (line 2)) (1.7.3)\n",
            "Requirement already satisfied: numpy>=1.21.2 in /usr/local/lib/python3.8/dist-packages (from -r requirements.txt (line 3)) (1.21.6)\n",
            "Requirement already satisfied: torch>=1.9.1 in /usr/local/lib/python3.8/dist-packages (from -r requirements.txt (line 4)) (1.13.1+cu116)\n",
            "Requirement already satisfied: torchvision>=0.10.1 in /usr/local/lib/python3.8/dist-packages (from -r requirements.txt (line 5)) (0.14.1+cu116)\n",
            "Collecting matplotlib>=3.4.2\n",
            "  Downloading matplotlib-3.7.0-cp38-cp38-manylinux_2_12_x86_64.manylinux2010_x86_64.whl (9.2 MB)\n",
            "\u001b[2K     \u001b[90m━━━━━━━━━━━━━━━━━━━━━━━━━━━━━━━━━━━━━━━━\u001b[0m \u001b[32m9.2/9.2 MB\u001b[0m \u001b[31m88.3 MB/s\u001b[0m eta \u001b[36m0:00:00\u001b[0m\n",
            "\u001b[?25hRequirement already satisfied: tqdm>=4.62.2 in /usr/local/lib/python3.8/dist-packages (from -r requirements.txt (line 7)) (4.64.1)\n",
            "Collecting efficientnet-pytorch>=0.6.3\n",
            "  Downloading efficientnet_pytorch-0.7.1.tar.gz (21 kB)\n",
            "  Preparing metadata (setup.py) ... \u001b[?25l\u001b[?25hdone\n",
            "Requirement already satisfied: tifffile>=2021.11.2 in /usr/local/lib/python3.8/dist-packages (from -r requirements.txt (line 9)) (2023.2.3)\n",
            "\u001b[31mERROR: Could not find a version that satisfies the requirement PIL>=7.1.2 (from versions: none)\u001b[0m\u001b[31m\n",
            "\u001b[0m\u001b[31mERROR: No matching distribution found for PIL>=7.1.2\u001b[0m\u001b[31m\n",
            "\u001b[0m"
          ]
        }
      ]
    },
    {
      "cell_type": "code",
      "source": [
        "!pip install torch"
      ],
      "metadata": {
        "colab": {
          "base_uri": "https://localhost:8080/"
        },
        "id": "6gAgPGRVQK02",
        "outputId": "828b9a74-0ba1-4c36-8f86-50031933eb3c"
      },
      "execution_count": 6,
      "outputs": [
        {
          "output_type": "stream",
          "name": "stdout",
          "text": [
            "Looking in indexes: https://pypi.org/simple, https://us-python.pkg.dev/colab-wheels/public/simple/\n",
            "Requirement already satisfied: torch in /usr/local/lib/python3.8/dist-packages (1.13.1+cu116)\n",
            "Requirement already satisfied: typing-extensions in /usr/local/lib/python3.8/dist-packages (from torch) (4.5.0)\n"
          ]
        }
      ]
    },
    {
      "cell_type": "code",
      "source": [
        "!pip install pillow"
      ],
      "metadata": {
        "colab": {
          "base_uri": "https://localhost:8080/"
        },
        "id": "-B8iu7gGhJqb",
        "outputId": "1e979183-6576-4fe1-9ff1-097971724e35"
      },
      "execution_count": 7,
      "outputs": [
        {
          "output_type": "stream",
          "name": "stdout",
          "text": [
            "Looking in indexes: https://pypi.org/simple, https://us-python.pkg.dev/colab-wheels/public/simple/\n",
            "Requirement already satisfied: pillow in /usr/local/lib/python3.8/dist-packages (7.1.2)\n"
          ]
        }
      ]
    },
    {
      "cell_type": "code",
      "source": [
        "import torch\n",
        "import torchvision"
      ],
      "metadata": {
        "id": "qRmUp6mKgV0S"
      },
      "execution_count": 8,
      "outputs": []
    },
    {
      "cell_type": "code",
      "source": [
        "!pip install --upgrade efficientnet-pytorch"
      ],
      "metadata": {
        "colab": {
          "base_uri": "https://localhost:8080/"
        },
        "id": "gbKImy8ahQiF",
        "outputId": "3691aa63-d714-47b1-a26c-f2a73ea1cf65"
      },
      "execution_count": 9,
      "outputs": [
        {
          "output_type": "stream",
          "name": "stdout",
          "text": [
            "Looking in indexes: https://pypi.org/simple, https://us-python.pkg.dev/colab-wheels/public/simple/\n",
            "Collecting efficientnet-pytorch\n",
            "  Using cached efficientnet_pytorch-0.7.1.tar.gz (21 kB)\n",
            "  Preparing metadata (setup.py) ... \u001b[?25l\u001b[?25hdone\n",
            "Requirement already satisfied: torch in /usr/local/lib/python3.8/dist-packages (from efficientnet-pytorch) (1.13.1+cu116)\n",
            "Requirement already satisfied: typing-extensions in /usr/local/lib/python3.8/dist-packages (from torch->efficientnet-pytorch) (4.5.0)\n",
            "Building wheels for collected packages: efficientnet-pytorch\n",
            "  Building wheel for efficientnet-pytorch (setup.py) ... \u001b[?25l\u001b[?25hdone\n",
            "  Created wheel for efficientnet-pytorch: filename=efficientnet_pytorch-0.7.1-py3-none-any.whl size=16446 sha256=476f4e783d8d837ebab59fe0388460de2ea375dd925bf6b6b7db8aa8740a8c75\n",
            "  Stored in directory: /root/.cache/pip/wheels/84/b9/90/25a0195cf95fb5533db96f1c77ea3f296b7cc86ae8ae48e3dc\n",
            "Successfully built efficientnet-pytorch\n",
            "Installing collected packages: efficientnet-pytorch\n",
            "Successfully installed efficientnet-pytorch-0.7.1\n"
          ]
        }
      ]
    },
    {
      "cell_type": "code",
      "source": [
        "!python preprocess.py\n",
        "!python train_teacher.py\n",
        "!python train_student.py\n",
        "\n"
      ],
      "metadata": {
        "colab": {
          "base_uri": "https://localhost:8080/"
        },
        "id": "Qwo4KQMtf8Pj",
        "outputId": "b35916ef-8676-474a-faae-3226cd368e3b"
      },
      "execution_count": 10,
      "outputs": [
        {
          "output_type": "stream",
          "name": "stdout",
          "text": [
            "my_experiment\n",
            "Downloading: \"https://github.com/lukemelas/EfficientNet-PyTorch/releases/download/1.0/efficientnet-b5-b6417697.pth\" to /root/.cache/torch/hub/checkpoints/efficientnet-b5-b6417697.pth\n",
            "100% 117M/117M [00:03<00:00, 32.7MB/s]\n",
            "Loaded pretrained weights for efficientnet-b5\n",
            "fideo\n",
            "100% 3/3 [00:16<00:00,  5.65s/it]\n",
            "data/features/fideo\n",
            "100% 3/3 [00:21<00:00,  7.32s/it]\n",
            "data/features/fideo\n",
            "my_experiment\n",
            "\n",
            "\n",
            "Train class fideo\n",
            "\n",
            "Train epoch 0\n",
            "Epoch: 0.0 \t train loss: 3926.2334\n",
            "Epoch: 0.4 \t train loss: 3709.9133\n",
            "Epoch: 0.8 \t train loss: 2316.4460\n",
            "Epoch: 0.12 \t train loss: 1029.5005\n",
            "Epoch: 0.16 \t train loss: 606.1071\n",
            "Epoch: 0.20 \t train loss: 544.7268\n",
            "\n",
            "Compute loss and scores on test set:\n",
            "Epoch: 0 \t test_loss: 533.6465\n",
            "AUROC mean over maps: \t last: 37.00 \t best: 37.00\n",
            "AUROC  max over maps: \t last: 66.00 \t best: 66.00\n",
            "\n",
            "Train epoch 1\n",
            "Epoch: 1.0 \t train loss: 535.1221\n",
            "Epoch: 1.4 \t train loss: 518.2772\n",
            "Epoch: 1.8 \t train loss: 506.3999\n",
            "Epoch: 1.12 \t train loss: 497.6903\n",
            "Epoch: 1.16 \t train loss: 491.7241\n",
            "Epoch: 1.20 \t train loss: 483.0686\n",
            "\n",
            "Compute loss and scores on test set:\n",
            "Epoch: 1 \t test_loss: 472.5208\n",
            "AUROC mean over maps: \t last: 47.25 \t best: 47.25\n",
            "AUROC  max over maps: \t last: 75.00 \t best: 75.00\n",
            "\n",
            "Train epoch 2\n",
            "Epoch: 2.0 \t train loss: 475.0735\n",
            "Epoch: 2.4 \t train loss: 468.2811\n",
            "Epoch: 2.8 \t train loss: 460.7026\n",
            "Epoch: 2.12 \t train loss: 453.7326\n",
            "Epoch: 2.16 \t train loss: 446.9107\n",
            "Epoch: 2.20 \t train loss: 439.8691\n",
            "\n",
            "Compute loss and scores on test set:\n",
            "Epoch: 2 \t test_loss: 429.3069\n",
            "AUROC mean over maps: \t last: 46.25 \t best: 47.25\n",
            "AUROC  max over maps: \t last: 77.50 \t best: 77.50\n",
            "student saved\n",
            "\n",
            "AUROC % after last epoch\n",
            "\tmean over maps: 46.25 \t max over maps: 77.50\n",
            "best AUROC %\n",
            "\tmean over maps: 47.25 \t max over maps: 77.50\n",
            "my_experiment\n",
            "\n",
            "\n",
            "Train class fideo\n",
            "\n",
            "Train epoch 0\n",
            "Epoch: 0.0 \t train loss: 9.4398\n",
            "Epoch: 0.4 \t train loss: 1.3460\n",
            "Epoch: 0.8 \t train loss: 0.6360\n",
            "Epoch: 0.12 \t train loss: 0.4891\n",
            "Epoch: 0.16 \t train loss: 0.3798\n",
            "Epoch: 0.20 \t train loss: 0.3088\n",
            "\n",
            "Compute loss and scores on test set:\n",
            "Epoch: 0 \t test_loss: 0.3157\n",
            "AUROC mean over maps: \t last: 96.50 \t best: 96.50\n",
            "AUROC  max over maps: \t last: 87.75 \t best: 87.75\n",
            "\n",
            "Train epoch 1\n",
            "Epoch: 1.0 \t train loss: 0.2717\n",
            "Epoch: 1.4 \t train loss: 0.2375\n",
            "Epoch: 1.8 \t train loss: 0.2200\n",
            "Epoch: 1.12 \t train loss: 0.1988\n",
            "Epoch: 1.16 \t train loss: 0.1780\n",
            "Epoch: 1.20 \t train loss: 0.1710\n",
            "\n",
            "Compute loss and scores on test set:\n",
            "Epoch: 1 \t test_loss: 0.2175\n",
            "AUROC mean over maps: \t last: 96.50 \t best: 96.50\n",
            "AUROC  max over maps: \t last: 89.25 \t best: 89.25\n",
            "\n",
            "Train epoch 2\n",
            "Epoch: 2.0 \t train loss: 0.1581\n",
            "Epoch: 2.4 \t train loss: 0.1459\n",
            "Epoch: 2.8 \t train loss: 0.1390\n",
            "Epoch: 2.12 \t train loss: 0.1296\n",
            "Epoch: 2.16 \t train loss: 0.1216\n",
            "Epoch: 2.20 \t train loss: 0.1141\n",
            "\n",
            "Compute loss and scores on test set:\n",
            "Epoch: 2 \t test_loss: 0.1769\n",
            "AUROC mean over maps: \t last: 96.50 \t best: 96.50\n",
            "AUROC  max over maps: \t last: 87.50 \t best: 89.25\n",
            "student saved\n",
            "\n",
            "AUROC % after last epoch\n",
            "\tmean over maps: 96.50 \t max over maps: 87.50\n",
            "best AUROC %\n",
            "\tmean over maps: 96.50 \t max over maps: 89.25\n"
          ]
        }
      ]
    },
    {
      "cell_type": "code",
      "source": [
        "!python eval.py"
      ],
      "metadata": {
        "id": "tKThe2qxI5bc",
        "outputId": "91720668-3123-4274-dfe4-c495e26a0627",
        "colab": {
          "base_uri": "https://localhost:8080/"
        }
      },
      "execution_count": 11,
      "outputs": [
        {
          "output_type": "stream",
          "name": "stdout",
          "text": [
            "my_experiment\n",
            "\n",
            "Evaluate class fideo\n",
            "AUROC %\tmean over maps: 96.50 \t max over maps: 87.50\n",
            "\n",
            "mean AUROC % over all classes\n",
            "\tmean over maps: 96.50 \t max over maps: 87.50\n"
          ]
        }
      ]
    },
    {
      "cell_type": "code",
      "source": [],
      "metadata": {
        "id": "VG6MOOpZlB6O"
      },
      "execution_count": 11,
      "outputs": []
    },
    {
      "cell_type": "code",
      "source": [
        "# !python train_teacher.py\n",
        "\n",
        "\n"
      ],
      "metadata": {
        "id": "W9-efaXElCPE",
        "outputId": "7f4729d5-3fe1-4fe8-8109-b867ce10c3db",
        "colab": {
          "base_uri": "https://localhost:8080/"
        }
      },
      "execution_count": 12,
      "outputs": [
        {
          "output_type": "stream",
          "name": "stdout",
          "text": [
            "my_experiment\n",
            "\n",
            "\n",
            "Train class fideo\n",
            "\n",
            "Train epoch 0\n",
            "Epoch: 0.0 \t train loss: 3926.3823\n",
            "Epoch: 0.4 \t train loss: 3732.4695\n",
            "Epoch: 0.8 \t train loss: 2359.4321\n",
            "Epoch: 0.12 \t train loss: 1051.7670\n",
            "Epoch: 0.16 \t train loss: 610.8759\n",
            "Epoch: 0.20 \t train loss: 547.1885\n",
            "\n",
            "Compute loss and scores on test set:\n",
            "Epoch: 0 \t test_loss: 534.9224\n",
            "AUROC mean over maps: \t last: 37.50 \t best: 37.50\n",
            "AUROC  max over maps: \t last: 66.25 \t best: 66.25\n",
            "\n",
            "Train epoch 1\n",
            "Epoch: 1.0 \t train loss: 537.2804\n",
            "Epoch: 1.4 \t train loss: 519.9037\n",
            "Epoch: 1.8 \t train loss: 506.1308\n",
            "Epoch: 1.12 \t train loss: 499.2250\n",
            "Epoch: 1.16 \t train loss: 490.2428\n",
            "Epoch: 1.20 \t train loss: 481.3771\n",
            "\n",
            "Compute loss and scores on test set:\n",
            "Epoch: 1 \t test_loss: 468.7880\n",
            "AUROC mean over maps: \t last: 47.75 \t best: 47.75\n",
            "AUROC  max over maps: \t last: 73.25 \t best: 73.25\n",
            "\n",
            "Train epoch 2\n",
            "Epoch: 2.0 \t train loss: 472.1595\n",
            "Epoch: 2.4 \t train loss: 463.5726\n",
            "Epoch: 2.8 \t train loss: 453.6299\n",
            "Epoch: 2.12 \t train loss: 444.0208\n",
            "Epoch: 2.16 \t train loss: 434.6196\n",
            "Epoch: 2.20 \t train loss: 425.3764\n",
            "\n",
            "Compute loss and scores on test set:\n",
            "Epoch: 2 \t test_loss: 412.2441\n",
            "AUROC mean over maps: \t last: 48.50 \t best: 48.50\n",
            "AUROC  max over maps: \t last: 76.50 \t best: 76.50\n",
            "student saved\n",
            "\n",
            "AUROC % after last epoch\n",
            "\tmean over maps: 48.50 \t max over maps: 76.50\n",
            "best AUROC %\n",
            "\tmean over maps: 48.50 \t max over maps: 76.50\n"
          ]
        }
      ]
    }
  ]
}