{
  "nbformat": 4,
  "nbformat_minor": 0,
  "metadata": {
    "colab": {
      "provenance": [],
      "include_colab_link": true
    },
    "kernelspec": {
      "name": "python3",
      "display_name": "Python 3"
    },
    "language_info": {
      "name": "python"
    },
    "gpuClass": "standard",
    "accelerator": "GPU"
  },
  "cells": [
    {
      "cell_type": "markdown",
      "metadata": {
        "id": "view-in-github",
        "colab_type": "text"
      },
      "source": [
        "<a href=\"https://colab.research.google.com/github/danielsoy/ALOCC-CVPR2018/blob/master/AST.ipynb\" target=\"_parent\"><img src=\"https://colab.research.google.com/assets/colab-badge.svg\" alt=\"Open In Colab\"/></a>"
      ]
    },
    {
      "cell_type": "markdown",
      "source": [
        "https://github.com/danielsoy/AST"
      ],
      "metadata": {
        "id": "fwSzIRD5WuTs"
      }
    },
    {
      "cell_type": "code",
      "source": [
        "!pip install pip"
      ],
      "metadata": {
        "colab": {
          "base_uri": "https://localhost:8080/"
        },
        "id": "yF8Dz3dudvrz",
        "outputId": "e67b39f5-5c29-48fc-f515-f2c856c51c07"
      },
      "execution_count": null,
      "outputs": [
        {
          "output_type": "stream",
          "name": "stdout",
          "text": [
            "Looking in indexes: https://pypi.org/simple, https://us-python.pkg.dev/colab-wheels/public/simple/\n",
            "Requirement already satisfied: pip in /usr/local/lib/python3.8/dist-packages (22.0.4)\n"
          ]
        }
      ]
    },
    {
      "cell_type": "code",
      "source": [
        "from google.colab import drive\n",
        "drive.mount('/content/drive',force_remount=True)"
      ],
      "metadata": {
        "id": "TxS3z_oQB0AD",
        "colab": {
          "base_uri": "https://localhost:8080/"
        },
        "outputId": "ed2397cc-ed0b-42b4-c7c0-b891027789e8"
      },
      "execution_count": null,
      "outputs": [
        {
          "output_type": "stream",
          "name": "stdout",
          "text": [
            "Mounted at /content/drive\n"
          ]
        }
      ]
    },
    {
      "cell_type": "code",
      "execution_count": null,
      "metadata": {
        "id": "yLXKg-zlWUxC",
        "colab": {
          "base_uri": "https://localhost:8080/"
        },
        "outputId": "f93b8821-71a5-4f96-a790-487caa704989"
      },
      "outputs": [
        {
          "output_type": "stream",
          "name": "stdout",
          "text": [
            "Cloning into 'AST'...\n",
            "remote: Enumerating objects: 42, done.\u001b[K\n",
            "remote: Counting objects: 100% (42/42), done.\u001b[K\n",
            "remote: Compressing objects: 100% (41/41), done.\u001b[K\n",
            "remote: Total 42 (delta 19), reused 2 (delta 0), pack-reused 0\u001b[K\n",
            "Unpacking objects: 100% (42/42), 24.48 KiB | 1.44 MiB/s, done.\n"
          ]
        }
      ],
      "source": [
        "!git clone https://github.com/danielsoy/AST.git"
      ]
    },
    {
      "cell_type": "code",
      "source": [
        "%cd /content/AST"
      ],
      "metadata": {
        "colab": {
          "base_uri": "https://localhost:8080/"
        },
        "id": "AV2Wtcv8eGCq",
        "outputId": "99ae352e-44b8-43a4-c0cd-d0f20a7647bf"
      },
      "execution_count": null,
      "outputs": [
        {
          "output_type": "stream",
          "name": "stdout",
          "text": [
            "/content/AST\n"
          ]
        }
      ]
    },
    {
      "cell_type": "code",
      "source": [
        "!pip install -r requirements.txt"
      ],
      "metadata": {
        "colab": {
          "base_uri": "https://localhost:8080/"
        },
        "id": "ZKSFNh1BeKXR",
        "outputId": "4f45d553-311b-4aeb-9ade-871bb14b918d"
      },
      "execution_count": null,
      "outputs": [
        {
          "output_type": "stream",
          "name": "stdout",
          "text": [
            "Looking in indexes: https://pypi.org/simple, https://us-python.pkg.dev/colab-wheels/public/simple/\n",
            "Requirement already satisfied: scikit-learn>=0.24.2 in /usr/local/lib/python3.8/dist-packages (from -r requirements.txt (line 1)) (1.0.2)\n",
            "Requirement already satisfied: scipy>=1.7.1 in /usr/local/lib/python3.8/dist-packages (from -r requirements.txt (line 2)) (1.7.3)\n",
            "Requirement already satisfied: numpy>=1.21.2 in /usr/local/lib/python3.8/dist-packages (from -r requirements.txt (line 3)) (1.21.6)\n",
            "Requirement already satisfied: torch>=1.9.1 in /usr/local/lib/python3.8/dist-packages (from -r requirements.txt (line 4)) (1.13.1+cu116)\n",
            "Requirement already satisfied: torchvision>=0.10.1 in /usr/local/lib/python3.8/dist-packages (from -r requirements.txt (line 5)) (0.14.1+cu116)\n",
            "Collecting matplotlib>=3.4.2\n",
            "  Downloading matplotlib-3.7.0-cp38-cp38-manylinux_2_12_x86_64.manylinux2010_x86_64.whl (9.2 MB)\n",
            "\u001b[2K     \u001b[90m━━━━━━━━━━━━━━━━━━━━━━━━━━━━━━━━━━━━━━━━\u001b[0m \u001b[32m9.2/9.2 MB\u001b[0m \u001b[31m99.6 MB/s\u001b[0m eta \u001b[36m0:00:00\u001b[0m\n",
            "\u001b[?25hRequirement already satisfied: tqdm>=4.62.2 in /usr/local/lib/python3.8/dist-packages (from -r requirements.txt (line 7)) (4.64.1)\n",
            "Collecting efficientnet-pytorch>=0.6.3\n",
            "  Downloading efficientnet_pytorch-0.7.1.tar.gz (21 kB)\n",
            "  Preparing metadata (setup.py) ... \u001b[?25l\u001b[?25hdone\n",
            "Requirement already satisfied: tifffile>=2021.11.2 in /usr/local/lib/python3.8/dist-packages (from -r requirements.txt (line 9)) (2023.2.3)\n",
            "\u001b[31mERROR: Could not find a version that satisfies the requirement PIL>=7.1.2 (from versions: none)\u001b[0m\u001b[31m\n",
            "\u001b[0m\u001b[31mERROR: No matching distribution found for PIL>=7.1.2\u001b[0m\u001b[31m\n",
            "\u001b[0m"
          ]
        }
      ]
    },
    {
      "cell_type": "code",
      "source": [
        "!pip install torch"
      ],
      "metadata": {
        "colab": {
          "base_uri": "https://localhost:8080/"
        },
        "id": "6gAgPGRVQK02",
        "outputId": "4c12eec8-4fa2-487b-ad01-075e1772793f"
      },
      "execution_count": null,
      "outputs": [
        {
          "output_type": "stream",
          "name": "stdout",
          "text": [
            "Looking in indexes: https://pypi.org/simple, https://us-python.pkg.dev/colab-wheels/public/simple/\n",
            "Requirement already satisfied: torch in /usr/local/lib/python3.8/dist-packages (1.13.1+cu116)\n",
            "Requirement already satisfied: typing-extensions in /usr/local/lib/python3.8/dist-packages (from torch) (4.5.0)\n"
          ]
        }
      ]
    },
    {
      "cell_type": "code",
      "source": [
        "!pip install pillow"
      ],
      "metadata": {
        "colab": {
          "base_uri": "https://localhost:8080/"
        },
        "id": "-B8iu7gGhJqb",
        "outputId": "fd5d501a-e0ae-4aa9-e584-d0ebdffa24a7"
      },
      "execution_count": null,
      "outputs": [
        {
          "output_type": "stream",
          "name": "stdout",
          "text": [
            "Looking in indexes: https://pypi.org/simple, https://us-python.pkg.dev/colab-wheels/public/simple/\n",
            "Requirement already satisfied: pillow in /usr/local/lib/python3.8/dist-packages (7.1.2)\n"
          ]
        }
      ]
    },
    {
      "cell_type": "code",
      "source": [
        "import torch\n",
        "import torchvision"
      ],
      "metadata": {
        "id": "qRmUp6mKgV0S"
      },
      "execution_count": null,
      "outputs": []
    },
    {
      "cell_type": "code",
      "source": [
        "!pip install --upgrade efficientnet-pytorch"
      ],
      "metadata": {
        "colab": {
          "base_uri": "https://localhost:8080/"
        },
        "id": "gbKImy8ahQiF",
        "outputId": "e47ea3c6-b85f-4d4e-bc3a-6e7b3829dafd"
      },
      "execution_count": null,
      "outputs": [
        {
          "output_type": "stream",
          "name": "stdout",
          "text": [
            "Looking in indexes: https://pypi.org/simple, https://us-python.pkg.dev/colab-wheels/public/simple/\n",
            "Collecting efficientnet-pytorch\n",
            "  Using cached efficientnet_pytorch-0.7.1.tar.gz (21 kB)\n",
            "  Preparing metadata (setup.py) ... \u001b[?25l\u001b[?25hdone\n",
            "Requirement already satisfied: torch in /usr/local/lib/python3.8/dist-packages (from efficientnet-pytorch) (1.13.1+cu116)\n",
            "Requirement already satisfied: typing-extensions in /usr/local/lib/python3.8/dist-packages (from torch->efficientnet-pytorch) (4.5.0)\n",
            "Building wheels for collected packages: efficientnet-pytorch\n",
            "  Building wheel for efficientnet-pytorch (setup.py) ... \u001b[?25l\u001b[?25hdone\n",
            "  Created wheel for efficientnet-pytorch: filename=efficientnet_pytorch-0.7.1-py3-none-any.whl size=16446 sha256=c870c04e206b10f8abdc822d2fafe4bd9426d23ac6e96c5bdbcb2740327d335e\n",
            "  Stored in directory: /root/.cache/pip/wheels/84/b9/90/25a0195cf95fb5533db96f1c77ea3f296b7cc86ae8ae48e3dc\n",
            "Successfully built efficientnet-pytorch\n",
            "Installing collected packages: efficientnet-pytorch\n",
            "Successfully installed efficientnet-pytorch-0.7.1\n"
          ]
        }
      ]
    },
    {
      "cell_type": "code",
      "source": [
        "!python preprocess.py\n",
        "!python train_teacher.py\n",
        "!python train_student.py\n",
        "\n"
      ],
      "metadata": {
        "colab": {
          "base_uri": "https://localhost:8080/"
        },
        "id": "Qwo4KQMtf8Pj",
        "outputId": "b000b07f-f59f-4b4e-a30d-5752ad421255"
      },
      "execution_count": null,
      "outputs": [
        {
          "output_type": "stream",
          "name": "stdout",
          "text": [
            "my_experiment\n",
            "Downloading: \"https://github.com/lukemelas/EfficientNet-PyTorch/releases/download/1.0/efficientnet-b5-b6417697.pth\" to /root/.cache/torch/hub/checkpoints/efficientnet-b5-b6417697.pth\n",
            "100% 117M/117M [00:29<00:00, 4.15MB/s]\n",
            "Loaded pretrained weights for efficientnet-b5\n",
            "fideo\n",
            "100% 38/38 [00:40<00:00,  1.05s/it]\n",
            "data/features/fideo\n",
            "100% 10/10 [02:17<00:00, 13.73s/it]\n",
            "data/features/fideo\n",
            "my_experiment\n",
            "\n",
            "\n",
            "Train class fideo\n",
            "\n",
            "Train epoch 0\n",
            "Epoch: 0.0 \t train loss: 2135.3464\n",
            "Epoch: 0.4 \t train loss: 420.4598\n",
            "Epoch: 0.8 \t train loss: 307.3531\n",
            "Epoch: 0.12 \t train loss: 229.4008\n",
            "Epoch: 0.16 \t train loss: 168.2652\n",
            "Epoch: 0.20 \t train loss: 121.5210\n",
            "\n",
            "Compute loss and scores on test set:\n",
            "Epoch: 0 \t test_loss: 136.4992\n",
            "AUROC mean over maps: \t last: 85.16 \t best: 85.16\n",
            "AUROC  max over maps: \t last: 91.01 \t best: 91.01\n",
            "\n",
            "Train epoch 1\n",
            "Epoch: 1.0 \t train loss: 86.3118\n",
            "Epoch: 1.4 \t train loss: 59.4122\n",
            "Epoch: 1.8 \t train loss: 37.6597\n",
            "Epoch: 1.12 \t train loss: 20.3653\n",
            "Epoch: 1.16 \t train loss: 3.1489\n",
            "Epoch: 1.20 \t train loss: -10.4923\n",
            "\n",
            "Compute loss and scores on test set:\n",
            "Epoch: 1 \t test_loss: 71.4767\n",
            "AUROC mean over maps: \t last: 87.39 \t best: 87.39\n",
            "AUROC  max over maps: \t last: 92.00 \t best: 92.00\n",
            "\n",
            "Train epoch 2\n",
            "Epoch: 2.0 \t train loss: -22.5983\n",
            "Epoch: 2.4 \t train loss: -34.0746\n",
            "Epoch: 2.8 \t train loss: -44.9178\n",
            "Epoch: 2.12 \t train loss: -53.6738\n",
            "Epoch: 2.16 \t train loss: -61.5395\n",
            "Epoch: 2.20 \t train loss: -68.8162\n",
            "\n",
            "Compute loss and scores on test set:\n",
            "Epoch: 2 \t test_loss: 45.4160\n",
            "AUROC mean over maps: \t last: 87.63 \t best: 87.63\n",
            "AUROC  max over maps: \t last: 91.96 \t best: 92.00\n",
            "student saved\n",
            "\n",
            "AUROC % after last epoch\n",
            "\tmean over maps: 87.63 \t max over maps: 91.96\n",
            "best AUROC %\n",
            "\tmean over maps: 87.63 \t max over maps: 92.00\n",
            "my_experiment\n",
            "\n",
            "\n",
            "Train class fideo\n",
            "\n",
            "Train epoch 0\n",
            "Epoch: 0.0 \t train loss: 1.7912\n",
            "Epoch: 0.4 \t train loss: 0.9036\n",
            "Epoch: 0.8 \t train loss: 0.8064\n",
            "Epoch: 0.12 \t train loss: 0.5699\n",
            "Epoch: 0.16 \t train loss: 0.4176\n",
            "Epoch: 0.20 \t train loss: 0.3229\n",
            "\n",
            "Compute loss and scores on test set:\n",
            "Epoch: 0 \t test_loss: 1.3369\n",
            "AUROC mean over maps: \t last: 89.65 \t best: 89.65\n",
            "AUROC  max over maps: \t last: 94.60 \t best: 94.60\n",
            "\n",
            "Train epoch 1\n",
            "Epoch: 1.0 \t train loss: 0.2588\n",
            "Epoch: 1.4 \t train loss: 0.2241\n",
            "Epoch: 1.8 \t train loss: 0.1917\n",
            "Epoch: 1.12 \t train loss: 0.1694\n",
            "Epoch: 1.16 \t train loss: 0.1533\n",
            "Epoch: 1.20 \t train loss: 0.1411\n",
            "\n",
            "Compute loss and scores on test set:\n",
            "Epoch: 1 \t test_loss: 1.2734\n",
            "AUROC mean over maps: \t last: 89.28 \t best: 89.65\n",
            "AUROC  max over maps: \t last: 94.38 \t best: 94.60\n",
            "\n",
            "Train epoch 2\n",
            "Epoch: 2.0 \t train loss: 0.1278\n",
            "Epoch: 2.4 \t train loss: 0.1134\n",
            "Epoch: 2.8 \t train loss: 0.1159\n",
            "Epoch: 2.12 \t train loss: 0.1018\n",
            "Epoch: 2.16 \t train loss: 0.1027\n",
            "Epoch: 2.20 \t train loss: 0.0910\n",
            "\n",
            "Compute loss and scores on test set:\n",
            "Epoch: 2 \t test_loss: 1.1761\n",
            "AUROC mean over maps: \t last: 91.22 \t best: 91.22\n",
            "AUROC  max over maps: \t last: 95.35 \t best: 95.35\n",
            "student saved\n",
            "\n",
            "AUROC % after last epoch\n",
            "\tmean over maps: 91.22 \t max over maps: 95.35\n",
            "best AUROC %\n",
            "\tmean over maps: 91.22 \t max over maps: 95.35\n"
          ]
        }
      ]
    },
    {
      "cell_type": "code",
      "source": [
        "!python eval.py"
      ],
      "metadata": {
        "id": "tKThe2qxI5bc",
        "colab": {
          "base_uri": "https://localhost:8080/"
        },
        "outputId": "87f81015-44e9-4e61-81c8-4b10e315f01b"
      },
      "execution_count": null,
      "outputs": [
        {
          "output_type": "stream",
          "name": "stdout",
          "text": [
            "my_experiment\n",
            "\n",
            "Evaluate class fideo\n",
            "AUROC %\tmean over maps: 91.22 \t max over maps: 95.35\n",
            "\n",
            "mean AUROC % over all classes\n",
            "\tmean over maps: 91.22 \t max over maps: 95.35\n"
          ]
        }
      ]
    },
    {
      "cell_type": "code",
      "source": [
        "\n",
        "from google.colab import files\n",
        "\n",
        "!zip -r /content/AZT-viz.zip /content/AST/viz\n",
        "\n",
        "files.download('/content/AZT-viz.zip')"
      ],
      "metadata": {
        "id": "VG6MOOpZlB6O",
        "colab": {
          "base_uri": "https://localhost:8080/",
          "height": 1000
        },
        "outputId": "bc075b03-5008-4e89-e9b3-6bff6a34a7f5"
      },
      "execution_count": null,
      "outputs": [
        {
          "output_type": "stream",
          "name": "stdout",
          "text": [
            "  adding: content/AST/viz/ (stored 0%)\n",
            "  adding: content/AST/viz/hist/ (stored 0%)\n",
            "  adding: content/AST/viz/hist/my_experiment/ (stored 0%)\n",
            "  adding: content/AST/viz/hist/my_experiment/fideo_mean.png (deflated 13%)\n",
            "  adding: content/AST/viz/hist/my_experiment/fideo_max.png (deflated 13%)\n",
            "  adding: content/AST/viz/maps/ (stored 0%)\n",
            "  adding: content/AST/viz/maps/my_experiment/ (stored 0%)\n",
            "  adding: content/AST/viz/maps/my_experiment/fideo_4_14.png (deflated 3%)\n",
            "  adding: content/AST/viz/maps/my_experiment/fideo_2_14.png (deflated 3%)\n",
            "  adding: content/AST/viz/maps/my_experiment/fideo_1_14.png (deflated 3%)\n",
            "  adding: content/AST/viz/maps/my_experiment/fideo_0_2.png (deflated 2%)\n",
            "  adding: content/AST/viz/maps/my_experiment/fideo_3_9.png (deflated 3%)\n",
            "  adding: content/AST/viz/maps/my_experiment/fideo_2_8.png (deflated 3%)\n",
            "  adding: content/AST/viz/maps/my_experiment/fideo_2_7.png (deflated 3%)\n",
            "  adding: content/AST/viz/maps/my_experiment/fideo_0_3.png (deflated 3%)\n",
            "  adding: content/AST/viz/maps/my_experiment/fideo_1_6.png (deflated 3%)\n",
            "  adding: content/AST/viz/maps/my_experiment/fideo_2_4.png (deflated 3%)\n",
            "  adding: content/AST/viz/maps/my_experiment/fideo_3_11.png (deflated 3%)\n",
            "  adding: content/AST/viz/maps/my_experiment/fideo_1_1.png (deflated 3%)\n",
            "  adding: content/AST/viz/maps/my_experiment/fideo_3_14.png (deflated 3%)\n",
            "  adding: content/AST/viz/maps/my_experiment/fideo_2_10.png (deflated 3%)\n",
            "  adding: content/AST/viz/maps/my_experiment/fideo_4_11.png (deflated 3%)\n",
            "  adding: content/AST/viz/maps/my_experiment/fideo_4_10.png (deflated 4%)\n",
            "  adding: content/AST/viz/maps/my_experiment/fideo_0_4.png (deflated 3%)\n",
            "  adding: content/AST/viz/maps/my_experiment/fideo_1_12.png (deflated 3%)\n",
            "  adding: content/AST/viz/maps/my_experiment/fideo_3_6.png (deflated 3%)\n",
            "  adding: content/AST/viz/maps/my_experiment/fideo_2_15.png (deflated 3%)\n",
            "  adding: content/AST/viz/maps/my_experiment/fideo_3_12.png (deflated 3%)\n",
            "  adding: content/AST/viz/maps/my_experiment/fideo_1_15.png (deflated 3%)\n",
            "  adding: content/AST/viz/maps/my_experiment/fideo_3_8.png (deflated 2%)\n",
            "  adding: content/AST/viz/maps/my_experiment/fideo_2_5.png (deflated 3%)\n",
            "  adding: content/AST/viz/maps/my_experiment/fideo_4_8.png (deflated 3%)\n",
            "  adding: content/AST/viz/maps/my_experiment/fideo_4_0.png (deflated 3%)\n",
            "  adding: content/AST/viz/maps/my_experiment/fideo_2_9.png (deflated 3%)\n",
            "  adding: content/AST/viz/maps/my_experiment/fideo_1_2.png (deflated 3%)\n",
            "  adding: content/AST/viz/maps/my_experiment/fideo_4_6.png (deflated 3%)\n",
            "  adding: content/AST/viz/maps/my_experiment/fideo_4_4.png (deflated 3%)\n",
            "  adding: content/AST/viz/maps/my_experiment/fideo_3_0.png (deflated 3%)\n",
            "  adding: content/AST/viz/maps/my_experiment/fideo_0_1.png (deflated 3%)\n",
            "  adding: content/AST/viz/maps/my_experiment/fideo_2_6.png (deflated 2%)\n",
            "  adding: content/AST/viz/maps/my_experiment/fideo_3_7.png (deflated 3%)\n",
            "  adding: content/AST/viz/maps/my_experiment/fideo_4_7.png (deflated 3%)\n",
            "  adding: content/AST/viz/maps/my_experiment/fideo_1_5.png (deflated 3%)\n",
            "  adding: content/AST/viz/maps/my_experiment/fideo_0_8.png (deflated 3%)\n",
            "  adding: content/AST/viz/maps/my_experiment/fideo_3_13.png (deflated 4%)\n",
            "  adding: content/AST/viz/maps/my_experiment/fideo_1_3.png (deflated 3%)\n",
            "  adding: content/AST/viz/maps/my_experiment/fideo_3_4.png (deflated 3%)\n",
            "  adding: content/AST/viz/maps/my_experiment/fideo_4_3.png (deflated 3%)\n",
            "  adding: content/AST/viz/maps/my_experiment/fideo_0_5.png (deflated 2%)\n",
            "  adding: content/AST/viz/maps/my_experiment/fideo_3_2.png (deflated 3%)\n",
            "  adding: content/AST/viz/maps/my_experiment/fideo_1_10.png (deflated 3%)\n",
            "  adding: content/AST/viz/maps/my_experiment/fideo_1_7.png (deflated 3%)\n",
            "  adding: content/AST/viz/maps/my_experiment/fideo_0_11.png (deflated 3%)\n",
            "  adding: content/AST/viz/maps/my_experiment/fideo_3_1.png (deflated 2%)\n",
            "  adding: content/AST/viz/maps/my_experiment/fideo_0_0.png (deflated 3%)\n",
            "  adding: content/AST/viz/maps/my_experiment/fideo_2_0.png (deflated 3%)\n",
            "  adding: content/AST/viz/maps/my_experiment/fideo_1_4.png (deflated 3%)\n",
            "  adding: content/AST/viz/maps/my_experiment/fideo_3_5.png (deflated 3%)\n",
            "  adding: content/AST/viz/maps/my_experiment/fideo_4_2.png (deflated 3%)\n",
            "  adding: content/AST/viz/maps/my_experiment/fideo_0_13.png (deflated 3%)\n",
            "  adding: content/AST/viz/maps/my_experiment/fideo_2_1.png (deflated 3%)\n",
            "  adding: content/AST/viz/maps/my_experiment/fideo_0_10.png (deflated 3%)\n",
            "  adding: content/AST/viz/maps/my_experiment/fideo_2_3.png (deflated 3%)\n",
            "  adding: content/AST/viz/maps/my_experiment/fideo_1_9.png (deflated 3%)\n",
            "  adding: content/AST/viz/maps/my_experiment/fideo_1_11.png (deflated 3%)\n",
            "  adding: content/AST/viz/maps/my_experiment/fideo_3_15.png (deflated 3%)\n",
            "  adding: content/AST/viz/maps/my_experiment/fideo_0_6.png (deflated 3%)\n",
            "  adding: content/AST/viz/maps/my_experiment/fideo_3_10.png (deflated 3%)\n",
            "  adding: content/AST/viz/maps/my_experiment/fideo_0_7.png (deflated 3%)\n",
            "  adding: content/AST/viz/maps/my_experiment/fideo_0_14.png (deflated 3%)\n",
            "  adding: content/AST/viz/maps/my_experiment/fideo_2_12.png (deflated 2%)\n",
            "  adding: content/AST/viz/maps/my_experiment/fideo_2_2.png (deflated 3%)\n",
            "  adding: content/AST/viz/maps/my_experiment/fideo_1_0.png (deflated 3%)\n",
            "  adding: content/AST/viz/maps/my_experiment/fideo_4_12.png (deflated 3%)\n",
            "  adding: content/AST/viz/maps/my_experiment/fideo_4_5.png (deflated 3%)\n",
            "  adding: content/AST/viz/maps/my_experiment/fideo_0_12.png (deflated 3%)\n",
            "  adding: content/AST/viz/maps/my_experiment/fideo_0_15.png (deflated 3%)\n",
            "  adding: content/AST/viz/maps/my_experiment/fideo_2_13.png (deflated 3%)\n",
            "  adding: content/AST/viz/maps/my_experiment/fideo_4_9.png (deflated 3%)\n",
            "  adding: content/AST/viz/maps/my_experiment/fideo_2_11.png (deflated 4%)\n",
            "  adding: content/AST/viz/maps/my_experiment/fideo_0_9.png (deflated 3%)\n",
            "  adding: content/AST/viz/maps/my_experiment/fideo_1_13.png (deflated 3%)\n",
            "  adding: content/AST/viz/maps/my_experiment/fideo_3_3.png (deflated 3%)\n",
            "  adding: content/AST/viz/maps/my_experiment/fideo_1_8.png (deflated 3%)\n",
            "  adding: content/AST/viz/maps/my_experiment/fideo_4_1.png (deflated 3%)\n",
            "  adding: content/AST/viz/maps/my_experiment/fideo_4_13.png (deflated 3%)\n",
            "  adding: content/AST/viz/roc/ (stored 0%)\n",
            "  adding: content/AST/viz/roc/my_experiment/ (stored 0%)\n",
            "  adding: content/AST/viz/roc/my_experiment/fideo_mean.png (deflated 7%)\n",
            "  adding: content/AST/viz/roc/my_experiment/fideo_max.png (deflated 7%)\n"
          ]
        },
        {
          "output_type": "display_data",
          "data": {
            "text/plain": [
              "<IPython.core.display.Javascript object>"
            ],
            "application/javascript": [
              "\n",
              "    async function download(id, filename, size) {\n",
              "      if (!google.colab.kernel.accessAllowed) {\n",
              "        return;\n",
              "      }\n",
              "      const div = document.createElement('div');\n",
              "      const label = document.createElement('label');\n",
              "      label.textContent = `Downloading \"${filename}\": `;\n",
              "      div.appendChild(label);\n",
              "      const progress = document.createElement('progress');\n",
              "      progress.max = size;\n",
              "      div.appendChild(progress);\n",
              "      document.body.appendChild(div);\n",
              "\n",
              "      const buffers = [];\n",
              "      let downloaded = 0;\n",
              "\n",
              "      const channel = await google.colab.kernel.comms.open(id);\n",
              "      // Send a message to notify the kernel that we're ready.\n",
              "      channel.send({})\n",
              "\n",
              "      for await (const message of channel.messages) {\n",
              "        // Send a message to notify the kernel that we're ready.\n",
              "        channel.send({})\n",
              "        if (message.buffers) {\n",
              "          for (const buffer of message.buffers) {\n",
              "            buffers.push(buffer);\n",
              "            downloaded += buffer.byteLength;\n",
              "            progress.value = downloaded;\n",
              "          }\n",
              "        }\n",
              "      }\n",
              "      const blob = new Blob(buffers, {type: 'application/binary'});\n",
              "      const a = document.createElement('a');\n",
              "      a.href = window.URL.createObjectURL(blob);\n",
              "      a.download = filename;\n",
              "      div.appendChild(a);\n",
              "      a.click();\n",
              "      div.remove();\n",
              "    }\n",
              "  "
            ]
          },
          "metadata": {}
        },
        {
          "output_type": "display_data",
          "data": {
            "text/plain": [
              "<IPython.core.display.Javascript object>"
            ],
            "application/javascript": [
              "download(\"download_3724678f-4ab9-43c6-83fc-fdffb72e5264\", \"AZT-viz.zip\", 11900673)"
            ]
          },
          "metadata": {}
        }
      ]
    },
    {
      "cell_type": "code",
      "source": [
        "# !python train_teacher.py\n",
        "\n",
        "\n"
      ],
      "metadata": {
        "id": "W9-efaXElCPE"
      },
      "execution_count": null,
      "outputs": []
    }
  ]
}