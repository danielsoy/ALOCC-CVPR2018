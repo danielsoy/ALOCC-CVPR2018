{
  "nbformat": 4,
  "nbformat_minor": 0,
  "metadata": {
    "colab": {
      "provenance": [],
      "include_colab_link": true
    },
    "kernelspec": {
      "name": "python3",
      "display_name": "Python 3"
    },
    "language_info": {
      "name": "python"
    },
    "gpuClass": "standard",
    "accelerator": "GPU"
  },
  "cells": [
    {
      "cell_type": "markdown",
      "metadata": {
        "id": "view-in-github",
        "colab_type": "text"
      },
      "source": [
        "<a href=\"https://colab.research.google.com/github/danielsoy/ALOCC-CVPR2018/blob/master/AST.ipynb\" target=\"_parent\"><img src=\"https://colab.research.google.com/assets/colab-badge.svg\" alt=\"Open In Colab\"/></a>"
      ]
    },
    {
      "cell_type": "markdown",
      "source": [
        "https://github.com/danielsoy/AST"
      ],
      "metadata": {
        "id": "fwSzIRD5WuTs"
      }
    },
    {
      "cell_type": "code",
      "source": [
        "!pip install pip"
      ],
      "metadata": {
        "colab": {
          "base_uri": "https://localhost:8080/"
        },
        "id": "yF8Dz3dudvrz",
        "outputId": "0960eca5-3e18-4187-cc4c-6c552dedf9ae"
      },
      "execution_count": 1,
      "outputs": [
        {
          "output_type": "stream",
          "name": "stdout",
          "text": [
            "Looking in indexes: https://pypi.org/simple, https://us-python.pkg.dev/colab-wheels/public/simple/\n",
            "Requirement already satisfied: pip in /usr/local/lib/python3.8/dist-packages (22.0.4)\n"
          ]
        }
      ]
    },
    {
      "cell_type": "code",
      "source": [
        "from google.colab import drive\n",
        "drive.mount('/content/drive',force_remount=True)"
      ],
      "metadata": {
        "id": "TxS3z_oQB0AD",
        "colab": {
          "base_uri": "https://localhost:8080/"
        },
        "outputId": "7e02f479-49bd-4fab-feaf-f41fe3fab7c2"
      },
      "execution_count": 2,
      "outputs": [
        {
          "output_type": "stream",
          "name": "stdout",
          "text": [
            "Mounted at /content/drive\n"
          ]
        }
      ]
    },
    {
      "cell_type": "code",
      "execution_count": 3,
      "metadata": {
        "id": "yLXKg-zlWUxC",
        "colab": {
          "base_uri": "https://localhost:8080/"
        },
        "outputId": "0ead202e-553b-409b-a294-182cc75cd810"
      },
      "outputs": [
        {
          "output_type": "stream",
          "name": "stdout",
          "text": [
            "fatal: destination path 'AST' already exists and is not an empty directory.\n"
          ]
        }
      ],
      "source": [
        "!git clone https://github.com/danielsoy/AST.git"
      ]
    },
    {
      "cell_type": "code",
      "source": [
        "%cd /content/AST"
      ],
      "metadata": {
        "colab": {
          "base_uri": "https://localhost:8080/"
        },
        "id": "AV2Wtcv8eGCq",
        "outputId": "d84aaecf-4650-421f-c624-33079340994f"
      },
      "execution_count": 4,
      "outputs": [
        {
          "output_type": "stream",
          "name": "stdout",
          "text": [
            "/content/AST\n"
          ]
        }
      ]
    },
    {
      "cell_type": "code",
      "source": [
        "!pip install -r requirements.txt"
      ],
      "metadata": {
        "colab": {
          "base_uri": "https://localhost:8080/"
        },
        "id": "ZKSFNh1BeKXR",
        "outputId": "143f9d97-481a-412f-cbc3-f6c85db5123d"
      },
      "execution_count": 5,
      "outputs": [
        {
          "output_type": "stream",
          "name": "stdout",
          "text": [
            "Looking in indexes: https://pypi.org/simple, https://us-python.pkg.dev/colab-wheels/public/simple/\n",
            "Requirement already satisfied: scikit-learn>=0.24.2 in /usr/local/lib/python3.8/dist-packages (from -r requirements.txt (line 1)) (1.0.2)\n",
            "Requirement already satisfied: scipy>=1.7.1 in /usr/local/lib/python3.8/dist-packages (from -r requirements.txt (line 2)) (1.7.3)\n",
            "Requirement already satisfied: numpy>=1.21.2 in /usr/local/lib/python3.8/dist-packages (from -r requirements.txt (line 3)) (1.21.6)\n",
            "Requirement already satisfied: torch>=1.9.1 in /usr/local/lib/python3.8/dist-packages (from -r requirements.txt (line 4)) (1.13.1+cu116)\n",
            "Requirement already satisfied: torchvision>=0.10.1 in /usr/local/lib/python3.8/dist-packages (from -r requirements.txt (line 5)) (0.14.1+cu116)\n",
            "Collecting matplotlib>=3.4.2\n",
            "  Using cached matplotlib-3.7.0-cp38-cp38-manylinux_2_12_x86_64.manylinux2010_x86_64.whl (9.2 MB)\n",
            "Requirement already satisfied: tqdm>=4.62.2 in /usr/local/lib/python3.8/dist-packages (from -r requirements.txt (line 7)) (4.64.1)\n",
            "Requirement already satisfied: efficientnet-pytorch>=0.6.3 in /usr/local/lib/python3.8/dist-packages (from -r requirements.txt (line 8)) (0.7.1)\n",
            "Requirement already satisfied: tifffile>=2021.11.2 in /usr/local/lib/python3.8/dist-packages (from -r requirements.txt (line 9)) (2023.2.3)\n",
            "\u001b[31mERROR: Could not find a version that satisfies the requirement PIL>=7.1.2 (from versions: none)\u001b[0m\u001b[31m\n",
            "\u001b[0m\u001b[31mERROR: No matching distribution found for PIL>=7.1.2\u001b[0m\u001b[31m\n",
            "\u001b[0m"
          ]
        }
      ]
    },
    {
      "cell_type": "code",
      "source": [
        "!pip install torch"
      ],
      "metadata": {
        "colab": {
          "base_uri": "https://localhost:8080/"
        },
        "id": "6gAgPGRVQK02",
        "outputId": "c268a155-1bb6-4c82-c8eb-256d7781b0ba"
      },
      "execution_count": 6,
      "outputs": [
        {
          "output_type": "stream",
          "name": "stdout",
          "text": [
            "Looking in indexes: https://pypi.org/simple, https://us-python.pkg.dev/colab-wheels/public/simple/\n",
            "Requirement already satisfied: torch in /usr/local/lib/python3.8/dist-packages (1.13.1+cu116)\n",
            "Requirement already satisfied: typing-extensions in /usr/local/lib/python3.8/dist-packages (from torch) (4.4.0)\n"
          ]
        }
      ]
    },
    {
      "cell_type": "code",
      "source": [
        "!pip install pillow"
      ],
      "metadata": {
        "colab": {
          "base_uri": "https://localhost:8080/"
        },
        "id": "-B8iu7gGhJqb",
        "outputId": "65d54a86-3f69-41a3-fb75-7fdd1f64ddf1"
      },
      "execution_count": 7,
      "outputs": [
        {
          "output_type": "stream",
          "name": "stdout",
          "text": [
            "Looking in indexes: https://pypi.org/simple, https://us-python.pkg.dev/colab-wheels/public/simple/\n",
            "Requirement already satisfied: pillow in /usr/local/lib/python3.8/dist-packages (7.1.2)\n"
          ]
        }
      ]
    },
    {
      "cell_type": "code",
      "source": [
        "import torch\n",
        "import torchvision"
      ],
      "metadata": {
        "id": "qRmUp6mKgV0S"
      },
      "execution_count": 8,
      "outputs": []
    },
    {
      "cell_type": "code",
      "source": [
        "!pip install --upgrade efficientnet-pytorch"
      ],
      "metadata": {
        "colab": {
          "base_uri": "https://localhost:8080/"
        },
        "id": "gbKImy8ahQiF",
        "outputId": "62454ce2-26a7-4fb9-a608-808f5f280857"
      },
      "execution_count": 9,
      "outputs": [
        {
          "output_type": "stream",
          "name": "stdout",
          "text": [
            "Looking in indexes: https://pypi.org/simple, https://us-python.pkg.dev/colab-wheels/public/simple/\n",
            "Requirement already satisfied: efficientnet-pytorch in /usr/local/lib/python3.8/dist-packages (0.7.1)\n",
            "Requirement already satisfied: torch in /usr/local/lib/python3.8/dist-packages (from efficientnet-pytorch) (1.13.1+cu116)\n",
            "Requirement already satisfied: typing-extensions in /usr/local/lib/python3.8/dist-packages (from torch->efficientnet-pytorch) (4.4.0)\n"
          ]
        }
      ]
    },
    {
      "cell_type": "code",
      "source": [
        "!python preprocess.py\n",
        "!python train_teacher.py\n",
        "!python train_student.py\n",
        "\n"
      ],
      "metadata": {
        "colab": {
          "base_uri": "https://localhost:8080/"
        },
        "id": "Qwo4KQMtf8Pj",
        "outputId": "af95680d-5ad5-40bb-f046-e7f3065a645e"
      },
      "execution_count": null,
      "outputs": [
        {
          "output_type": "stream",
          "name": "stdout",
          "text": [
            "my_experiment\n",
            "Loaded pretrained weights for efficientnet-b5\n",
            "fideo\n",
            "100% 3/3 [00:04<00:00,  1.63s/it]\n",
            "data/features/fideo\n",
            "100% 3/3 [00:04<00:00,  1.39s/it]\n",
            "data/features/fideo\n",
            "my_experiment\n",
            "\n",
            "\n",
            "Train class fideo\n",
            "\n",
            "Train epoch 0\n",
            "Epoch: 0.0 \t train loss: 3938.5332\n",
            "Epoch: 0.4 \t train loss: 3716.1660\n",
            "Epoch: 0.8 \t train loss: 2339.4500\n",
            "Epoch: 0.12 \t train loss: 1022.0349\n",
            "Epoch: 0.16 \t train loss: 607.4688\n",
            "Epoch: 0.20 \t train loss: 544.5769\n",
            "\n",
            "Compute loss and scores on test set:\n",
            "Epoch: 0 \t test_loss: 532.7639\n",
            "AUROC mean over maps: \t last: 37.75 \t best: 37.75\n",
            "AUROC  max over maps: \t last: 67.50 \t best: 67.50\n",
            "\n",
            "Train epoch 1\n",
            "Epoch: 1.0 \t train loss: 534.6616\n",
            "Epoch: 1.4 \t train loss: 517.9924\n",
            "Epoch: 1.8 \t train loss: 507.1472\n",
            "Epoch: 1.12 \t train loss: 499.7160\n",
            "Epoch: 1.16 \t train loss: 492.8788\n",
            "Epoch: 1.20 \t train loss: 486.7650\n",
            "\n",
            "Compute loss and scores on test set:\n",
            "Epoch: 1 \t test_loss: 475.8685\n",
            "AUROC mean over maps: \t last: 46.75 \t best: 46.75\n",
            "AUROC  max over maps: \t last: 73.25 \t best: 73.25\n",
            "\n",
            "Train epoch 2\n",
            "Epoch: 2.0 \t train loss: 480.0883\n",
            "Epoch: 2.4 \t train loss: 471.7258\n",
            "Epoch: 2.8 \t train loss: 463.9811\n",
            "Epoch: 2.12 \t train loss: 456.8502\n",
            "Epoch: 2.16 \t train loss: 448.8934\n",
            "Epoch: 2.20 \t train loss: 441.6533\n",
            "\n",
            "Compute loss and scores on test set:\n",
            "Epoch: 2 \t test_loss: 430.1222\n",
            "AUROC mean over maps: \t last: 46.25 \t best: 46.75\n",
            "AUROC  max over maps: \t last: 78.50 \t best: 78.50\n",
            "student saved\n",
            "\n",
            "AUROC % after last epoch\n",
            "\tmean over maps: 46.25 \t max over maps: 78.50\n",
            "best AUROC %\n",
            "\tmean over maps: 46.75 \t max over maps: 78.50\n",
            "my_experiment\n",
            "\n",
            "\n",
            "Train class fideo\n",
            "\n",
            "Train epoch 0\n",
            "Epoch: 0.0 \t train loss: 8.7752\n",
            "Epoch: 0.4 \t train loss: 1.2863\n",
            "Epoch: 0.8 \t train loss: 0.6606\n",
            "Epoch: 0.12 \t train loss: 0.4856\n",
            "Epoch: 0.16 \t train loss: 0.3880\n",
            "Epoch: 0.20 \t train loss: 0.3255\n",
            "\n",
            "Compute loss and scores on test set:\n",
            "Epoch: 0 \t test_loss: 0.3340\n",
            "AUROC mean over maps: \t last: 96.50 \t best: 96.50\n",
            "AUROC  max over maps: \t last: 89.75 \t best: 89.75\n",
            "\n",
            "Train epoch 1\n",
            "Epoch: 1.0 \t train loss: 0.2839\n",
            "Epoch: 1.4 \t train loss: 0.2533\n",
            "Epoch: 1.8 \t train loss: 0.2234\n"
          ]
        }
      ]
    },
    {
      "cell_type": "code",
      "source": [
        "!python eval.py"
      ],
      "metadata": {
        "id": "tKThe2qxI5bc"
      },
      "execution_count": null,
      "outputs": []
    },
    {
      "cell_type": "code",
      "source": [],
      "metadata": {
        "id": "VG6MOOpZlB6O"
      },
      "execution_count": null,
      "outputs": []
    },
    {
      "cell_type": "code",
      "source": [
        "\n",
        "!python train_teacher.py\n",
        "\n",
        "\n"
      ],
      "metadata": {
        "id": "W9-efaXElCPE"
      },
      "execution_count": null,
      "outputs": []
    }
  ]
}