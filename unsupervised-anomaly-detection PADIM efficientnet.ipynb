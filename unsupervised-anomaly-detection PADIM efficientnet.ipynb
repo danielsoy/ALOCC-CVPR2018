{
  "nbformat": 4,
  "nbformat_minor": 0,
  "metadata": {
    "colab": {
      "provenance": [],
      "authorship_tag": "ABX9TyMSgQm7uEWfgJfZ8XPQXbZe",
      "include_colab_link": true
    },
    "kernelspec": {
      "name": "python3",
      "display_name": "Python 3"
    },
    "language_info": {
      "name": "python"
    }
  },
  "cells": [
    {
      "cell_type": "markdown",
      "metadata": {
        "id": "view-in-github",
        "colab_type": "text"
      },
      "source": [
        "<a href=\"https://colab.research.google.com/github/danielsoy/ALOCC-CVPR2018/blob/master/unsupervised-anomaly-detection%20PADIM%20efficientnet.ipynb\" target=\"_parent\"><img src=\"https://colab.research.google.com/assets/colab-badge.svg\" alt=\"Open In Colab\"/></a>"
      ]
    },
    {
      "cell_type": "markdown",
      "source": [
        "https://github.com/lamnguyenvu98/unsupervised-anomaly-detection\n",
        "\n",
        "\n"
      ],
      "metadata": {
        "id": "rVXBZtW0Oti7"
      }
    },
    {
      "cell_type": "code",
      "execution_count": 1,
      "metadata": {
        "colab": {
          "base_uri": "https://localhost:8080/"
        },
        "id": "2obiX8TfOkOq",
        "outputId": "4e6d36ce-514b-4d44-acfe-8e7c41da37ec"
      },
      "outputs": [
        {
          "output_type": "stream",
          "name": "stdout",
          "text": [
            "Cloning into 'unsupervised-anomaly-detection'...\n",
            "remote: Enumerating objects: 74, done.\u001b[K\n",
            "remote: Counting objects: 100% (74/74), done.\u001b[K\n",
            "remote: Compressing objects: 100% (47/47), done.\u001b[K\n",
            "remote: Total 74 (delta 29), reused 70 (delta 25), pack-reused 0\u001b[K\n",
            "Unpacking objects: 100% (74/74), 1.44 MiB | 7.43 MiB/s, done.\n"
          ]
        }
      ],
      "source": [
        "!git clone https://github.com/lamnguyenvu98/unsupervised-anomaly-detection.git"
      ]
    },
    {
      "cell_type": "code",
      "source": [
        "!cd /content/unsupervised-anomaly-detection/PaDiM"
      ],
      "metadata": {
        "id": "3L5gM8bNO4Iv"
      },
      "execution_count": 4,
      "outputs": []
    },
    {
      "cell_type": "code",
      "source": [
        "!pip install -r requirements.txt"
      ],
      "metadata": {
        "colab": {
          "base_uri": "https://localhost:8080/"
        },
        "id": "Gznc2qMGO7Y8",
        "outputId": "8e6166f5-2fdf-4179-c53a-40f80b677ec5"
      },
      "execution_count": 5,
      "outputs": [
        {
          "output_type": "stream",
          "name": "stdout",
          "text": [
            "\u001b[31mERROR: Could not open requirements file: [Errno 2] No such file or directory: 'requirements.txt'\u001b[0m\u001b[31m\n",
            "\u001b[0m"
          ]
        }
      ]
    }
  ]
}