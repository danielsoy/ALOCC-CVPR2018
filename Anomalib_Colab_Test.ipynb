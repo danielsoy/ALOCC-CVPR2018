{
  "nbformat": 4,
  "nbformat_minor": 0,
  "metadata": {
    "colab": {
      "provenance": [],
      "include_colab_link": true
    },
    "kernelspec": {
      "name": "python3",
      "display_name": "Python 3"
    },
    "language_info": {
      "name": "python"
    },
    "accelerator": "GPU",
    "gpuClass": "standard"
  },
  "cells": [
    {
      "cell_type": "markdown",
      "metadata": {
        "id": "view-in-github",
        "colab_type": "text"
      },
      "source": [
        "<a href=\"https://colab.research.google.com/github/danielsoy/ALOCC-CVPR2018/blob/master/Anomalib_Colab_Test.ipynb\" target=\"_parent\"><img src=\"https://colab.research.google.com/assets/colab-badge.svg\" alt=\"Open In Colab\"/></a>"
      ]
    },
    {
      "cell_type": "markdown",
      "source": [
        "This notebook is an example of running the PADIM model on the MVTec bottle dataset. After training two examples of inference are run, one on a bad sample and one on a good sample. \n",
        "\n",
        "Link to info:\n",
        "\n",
        "https://github.com/openvinotoolkit/anomalib\n",
        "\n",
        "(Runtime has to be GPU)"
      ],
      "metadata": {
        "id": "jZDG7NKG69Em"
      }
    },
    {
      "cell_type": "code",
      "source": [
        "#!git clone https://github.com/openvinotoolkit/anomalib.git\n",
        "!git clone https://github.com/danielsoy/anomalib.git\n"
      ],
      "metadata": {
        "id": "JrgrWWF47X3s",
        "colab": {
          "base_uri": "https://localhost:8080/"
        },
        "outputId": "c680a2ba-a1ad-49e4-f1b6-963fbb2149f5"
      },
      "execution_count": 33,
      "outputs": [
        {
          "output_type": "stream",
          "name": "stdout",
          "text": [
            "Cloning into 'anomalib'...\n",
            "remote: Enumerating objects: 5810, done.\u001b[K\n",
            "remote: Counting objects: 100% (232/232), done.\u001b[K\n",
            "remote: Compressing objects: 100% (189/189), done.\u001b[K\n",
            "remote: Total 5810 (delta 65), reused 156 (delta 36), pack-reused 5578\n",
            "Receiving objects: 100% (5810/5810), 35.88 MiB | 40.83 MiB/s, done.\n",
            "Resolving deltas: 100% (3623/3623), done.\n"
          ]
        }
      ]
    },
    {
      "cell_type": "code",
      "source": [
        "!pip install anomalib"
      ],
      "metadata": {
        "id": "wsd-I8MS8acb",
        "colab": {
          "base_uri": "https://localhost:8080/"
        },
        "outputId": "7281d46e-bfc5-4502-8462-242a43b3273a"
      },
      "execution_count": 29,
      "outputs": [
        {
          "output_type": "stream",
          "name": "stdout",
          "text": [
            "Looking in indexes: https://pypi.org/simple, https://us-python.pkg.dev/colab-wheels/public/simple/\n",
            "Requirement already satisfied: anomalib in /usr/local/lib/python3.9/dist-packages (0.4.0)\n",
            "Requirement already satisfied: freia>=0.2 in /usr/local/lib/python3.9/dist-packages (from anomalib) (0.2)\n",
            "Requirement already satisfied: albumentations>=1.1.0 in /usr/local/lib/python3.9/dist-packages (from anomalib) (1.2.1)\n",
            "Requirement already satisfied: timm<=0.6.12,>=0.5.4 in /usr/local/lib/python3.9/dist-packages (from anomalib) (0.6.12)\n",
            "Requirement already satisfied: torchtext>=0.9.1 in /usr/local/lib/python3.9/dist-packages (from anomalib) (0.14.1)\n",
            "Requirement already satisfied: torchmetrics==0.10.3 in /usr/local/lib/python3.9/dist-packages (from anomalib) (0.10.3)\n",
            "Requirement already satisfied: av>=10.0.0 in /usr/local/lib/python3.9/dist-packages (from anomalib) (10.0.0)\n",
            "Requirement already satisfied: pandas>=1.1.0 in /usr/local/lib/python3.9/dist-packages (from anomalib) (1.3.5)\n",
            "Requirement already satisfied: pytorch-lightning<1.10.0,>=1.7.0 in /usr/local/lib/python3.9/dist-packages (from anomalib) (1.9.4)\n",
            "Requirement already satisfied: torchvision>=0.9.1 in /usr/local/lib/python3.9/dist-packages (from anomalib) (0.14.1+cu116)\n",
            "Requirement already satisfied: opencv-python>=4.5.3.56 in /usr/local/lib/python3.9/dist-packages (from anomalib) (4.7.0.72)\n",
            "Requirement already satisfied: matplotlib>=3.4.3 in /usr/local/lib/python3.9/dist-packages (from anomalib) (3.7.1)\n",
            "Requirement already satisfied: kornia<0.6.10,>=0.6.6 in /usr/local/lib/python3.9/dist-packages (from anomalib) (0.6.9)\n",
            "Requirement already satisfied: einops>=0.3.2 in /usr/local/lib/python3.9/dist-packages (from anomalib) (0.6.0)\n",
            "Requirement already satisfied: imgaug==0.4.0 in /usr/local/lib/python3.9/dist-packages (from anomalib) (0.4.0)\n",
            "Requirement already satisfied: omegaconf>=2.1.1 in /usr/local/lib/python3.9/dist-packages (from anomalib) (2.3.0)\n",
            "Requirement already satisfied: jsonargparse[signatures]>=4.3 in /usr/local/lib/python3.9/dist-packages (from anomalib) (4.20.0)\n",
            "Requirement already satisfied: six in /usr/local/lib/python3.9/dist-packages (from imgaug==0.4.0->anomalib) (1.16.0)\n",
            "Requirement already satisfied: numpy>=1.15 in /usr/local/lib/python3.9/dist-packages (from imgaug==0.4.0->anomalib) (1.22.4)\n",
            "Requirement already satisfied: Shapely in /usr/local/lib/python3.9/dist-packages (from imgaug==0.4.0->anomalib) (2.0.1)\n",
            "Requirement already satisfied: Pillow in /usr/local/lib/python3.9/dist-packages (from imgaug==0.4.0->anomalib) (8.4.0)\n",
            "Requirement already satisfied: scipy in /usr/local/lib/python3.9/dist-packages (from imgaug==0.4.0->anomalib) (1.10.0)\n",
            "Requirement already satisfied: imageio in /usr/local/lib/python3.9/dist-packages (from imgaug==0.4.0->anomalib) (2.25.1)\n",
            "Requirement already satisfied: scikit-image>=0.14.2 in /usr/local/lib/python3.9/dist-packages (from imgaug==0.4.0->anomalib) (0.19.3)\n",
            "Requirement already satisfied: torch>=1.3.1 in /usr/local/lib/python3.9/dist-packages (from torchmetrics==0.10.3->anomalib) (1.13.1+cu116)\n",
            "Requirement already satisfied: packaging in /usr/local/lib/python3.9/dist-packages (from torchmetrics==0.10.3->anomalib) (23.0)\n",
            "Requirement already satisfied: PyYAML in /usr/local/lib/python3.9/dist-packages (from albumentations>=1.1.0->anomalib) (6.0)\n",
            "Requirement already satisfied: opencv-python-headless>=4.1.1 in /usr/local/lib/python3.9/dist-packages (from albumentations>=1.1.0->anomalib) (4.7.0.72)\n",
            "Requirement already satisfied: qudida>=0.0.4 in /usr/local/lib/python3.9/dist-packages (from albumentations>=1.1.0->anomalib) (0.0.4)\n",
            "Requirement already satisfied: typeshed-client>=2.1.0 in /usr/local/lib/python3.9/dist-packages (from jsonargparse[signatures]>=4.3->anomalib) (2.2.0)\n",
            "Requirement already satisfied: docstring-parser>=0.15 in /usr/local/lib/python3.9/dist-packages (from jsonargparse[signatures]>=4.3->anomalib) (0.15)\n",
            "Requirement already satisfied: fonttools>=4.22.0 in /usr/local/lib/python3.9/dist-packages (from matplotlib>=3.4.3->anomalib) (4.39.2)\n",
            "Requirement already satisfied: python-dateutil>=2.7 in /usr/local/lib/python3.9/dist-packages (from matplotlib>=3.4.3->anomalib) (2.8.2)\n",
            "Requirement already satisfied: importlib-resources>=3.2.0 in /usr/local/lib/python3.9/dist-packages (from matplotlib>=3.4.3->anomalib) (5.12.0)\n",
            "Requirement already satisfied: contourpy>=1.0.1 in /usr/local/lib/python3.9/dist-packages (from matplotlib>=3.4.3->anomalib) (1.0.7)\n",
            "Requirement already satisfied: kiwisolver>=1.0.1 in /usr/local/lib/python3.9/dist-packages (from matplotlib>=3.4.3->anomalib) (1.4.4)\n",
            "Requirement already satisfied: pyparsing>=2.3.1 in /usr/local/lib/python3.9/dist-packages (from matplotlib>=3.4.3->anomalib) (2.4.7)\n",
            "Requirement already satisfied: cycler>=0.10 in /usr/local/lib/python3.9/dist-packages (from matplotlib>=3.4.3->anomalib) (0.11.0)\n",
            "Requirement already satisfied: antlr4-python3-runtime==4.9.* in /usr/local/lib/python3.9/dist-packages (from omegaconf>=2.1.1->anomalib) (4.9.3)\n",
            "Requirement already satisfied: pytz>=2017.3 in /usr/local/lib/python3.9/dist-packages (from pandas>=1.1.0->anomalib) (2022.7.1)\n",
            "Requirement already satisfied: tqdm>=4.57.0 in /usr/local/lib/python3.9/dist-packages (from pytorch-lightning<1.10.0,>=1.7.0->anomalib) (4.65.0)\n",
            "Requirement already satisfied: fsspec[http]>2021.06.0 in /usr/local/lib/python3.9/dist-packages (from pytorch-lightning<1.10.0,>=1.7.0->anomalib) (2023.3.0)\n",
            "Requirement already satisfied: typing-extensions>=4.0.0 in /usr/local/lib/python3.9/dist-packages (from pytorch-lightning<1.10.0,>=1.7.0->anomalib) (4.5.0)\n",
            "Requirement already satisfied: lightning-utilities>=0.6.0.post0 in /usr/local/lib/python3.9/dist-packages (from pytorch-lightning<1.10.0,>=1.7.0->anomalib) (0.8.0)\n",
            "Requirement already satisfied: huggingface-hub in /usr/local/lib/python3.9/dist-packages (from timm<=0.6.12,>=0.5.4->anomalib) (0.13.3)\n",
            "Requirement already satisfied: requests in /usr/local/lib/python3.9/dist-packages (from torchtext>=0.9.1->anomalib) (2.26.0)\n",
            "Requirement already satisfied: aiohttp!=4.0.0a0,!=4.0.0a1 in /usr/local/lib/python3.9/dist-packages (from fsspec[http]>2021.06.0->pytorch-lightning<1.10.0,>=1.7.0->anomalib) (3.8.4)\n",
            "Requirement already satisfied: zipp>=3.1.0 in /usr/local/lib/python3.9/dist-packages (from importlib-resources>=3.2.0->matplotlib>=3.4.3->anomalib) (3.15.0)\n",
            "Requirement already satisfied: scikit-learn>=0.19.1 in /usr/local/lib/python3.9/dist-packages (from qudida>=0.0.4->albumentations>=1.1.0->anomalib) (1.2.2)\n",
            "Requirement already satisfied: tifffile>=2019.7.26 in /usr/local/lib/python3.9/dist-packages (from scikit-image>=0.14.2->imgaug==0.4.0->anomalib) (2023.3.21)\n",
            "Requirement already satisfied: networkx>=2.2 in /usr/local/lib/python3.9/dist-packages (from scikit-image>=0.14.2->imgaug==0.4.0->anomalib) (2.8.2)\n",
            "Requirement already satisfied: PyWavelets>=1.1.1 in /usr/local/lib/python3.9/dist-packages (from scikit-image>=0.14.2->imgaug==0.4.0->anomalib) (1.4.1)\n",
            "Requirement already satisfied: filelock in /usr/local/lib/python3.9/dist-packages (from huggingface-hub->timm<=0.6.12,>=0.5.4->anomalib) (3.10.1)\n",
            "Requirement already satisfied: urllib3<1.27,>=1.21.1 in /usr/local/lib/python3.9/dist-packages (from requests->torchtext>=0.9.1->anomalib) (1.26.15)\n",
            "Requirement already satisfied: certifi>=2017.4.17 in /usr/local/lib/python3.9/dist-packages (from requests->torchtext>=0.9.1->anomalib) (2022.12.7)\n",
            "Requirement already satisfied: charset-normalizer~=2.0.0 in /usr/local/lib/python3.9/dist-packages (from requests->torchtext>=0.9.1->anomalib) (2.0.12)\n",
            "Requirement already satisfied: idna<4,>=2.5 in /usr/local/lib/python3.9/dist-packages (from requests->torchtext>=0.9.1->anomalib) (3.4)\n",
            "Requirement already satisfied: frozenlist>=1.1.1 in /usr/local/lib/python3.9/dist-packages (from aiohttp!=4.0.0a0,!=4.0.0a1->fsspec[http]>2021.06.0->pytorch-lightning<1.10.0,>=1.7.0->anomalib) (1.3.3)\n",
            "Requirement already satisfied: yarl<2.0,>=1.0 in /usr/local/lib/python3.9/dist-packages (from aiohttp!=4.0.0a0,!=4.0.0a1->fsspec[http]>2021.06.0->pytorch-lightning<1.10.0,>=1.7.0->anomalib) (1.8.2)\n",
            "Requirement already satisfied: aiosignal>=1.1.2 in /usr/local/lib/python3.9/dist-packages (from aiohttp!=4.0.0a0,!=4.0.0a1->fsspec[http]>2021.06.0->pytorch-lightning<1.10.0,>=1.7.0->anomalib) (1.3.1)\n",
            "Requirement already satisfied: async-timeout<5.0,>=4.0.0a3 in /usr/local/lib/python3.9/dist-packages (from aiohttp!=4.0.0a0,!=4.0.0a1->fsspec[http]>2021.06.0->pytorch-lightning<1.10.0,>=1.7.0->anomalib) (4.0.2)\n",
            "Requirement already satisfied: attrs>=17.3.0 in /usr/local/lib/python3.9/dist-packages (from aiohttp!=4.0.0a0,!=4.0.0a1->fsspec[http]>2021.06.0->pytorch-lightning<1.10.0,>=1.7.0->anomalib) (22.2.0)\n",
            "Requirement already satisfied: multidict<7.0,>=4.5 in /usr/local/lib/python3.9/dist-packages (from aiohttp!=4.0.0a0,!=4.0.0a1->fsspec[http]>2021.06.0->pytorch-lightning<1.10.0,>=1.7.0->anomalib) (6.0.4)\n",
            "Requirement already satisfied: joblib>=1.1.1 in /usr/local/lib/python3.9/dist-packages (from scikit-learn>=0.19.1->qudida>=0.0.4->albumentations>=1.1.0->anomalib) (1.1.1)\n",
            "Requirement already satisfied: threadpoolctl>=2.0.0 in /usr/local/lib/python3.9/dist-packages (from scikit-learn>=0.19.1->qudida>=0.0.4->albumentations>=1.1.0->anomalib) (3.1.0)\n"
          ]
        }
      ]
    },
    {
      "cell_type": "code",
      "source": [
        "!ls"
      ],
      "metadata": {
        "id": "zqPoArfU8q0G",
        "colab": {
          "base_uri": "https://localhost:8080/"
        },
        "outputId": "09a90087-664f-413b-d53d-6e501f4c2f22"
      },
      "execution_count": 30,
      "outputs": [
        {
          "output_type": "stream",
          "name": "stdout",
          "text": [
            "anomalib\t    docs\t    README.md\t  third-party-programs.txt\n",
            "CHANGELOG.md\t    LICENSE\t    requirements  tools\n",
            "CITATION.cff\t    MANIFEST.in     setup.py\t  tox.ini\n",
            "CODE_OF_CONDUCT.md  notebooks\t    src\n",
            "CONTRIBUTING.md     pyproject.toml  tests\n"
          ]
        }
      ]
    },
    {
      "cell_type": "code",
      "source": [
        "%cd /content/anomaliborig/anomalib/anomalib"
      ],
      "metadata": {
        "id": "sDxgOQaT_nBo",
        "colab": {
          "base_uri": "https://localhost:8080/"
        },
        "outputId": "0370c390-7a97-40a0-f6ab-178c2d6d674e"
      },
      "execution_count": 34,
      "outputs": [
        {
          "output_type": "stream",
          "name": "stdout",
          "text": [
            "/content/anomaliborig/anomalib/anomalib\n"
          ]
        }
      ]
    },
    {
      "cell_type": "code",
      "source": [
        "!ls"
      ],
      "metadata": {
        "id": "lKjn5J5d_p5v",
        "colab": {
          "base_uri": "https://localhost:8080/"
        },
        "outputId": "e41bd3a6-1312-422c-c65c-784b11149a7b"
      },
      "execution_count": 35,
      "outputs": [
        {
          "output_type": "stream",
          "name": "stdout",
          "text": [
            "CHANGELOG.md\t    data\t pyproject.toml  tests\n",
            "CITATION.cff\t    docs\t README.md\t third-party-programs.txt\n",
            "CODE_OF_CONDUCT.md  LICENSE\t requirements\t tools\n",
            "config\t\t    MANIFEST.in  setup.py\t tox.ini\n",
            "CONTRIBUTING.md     notebooks\t src\t\t utils\n"
          ]
        }
      ]
    },
    {
      "cell_type": "code",
      "source": [
        "%cd requirements "
      ],
      "metadata": {
        "colab": {
          "base_uri": "https://localhost:8080/"
        },
        "id": "8hg7ZBr1BV9O",
        "outputId": "cd5eca75-ab34-4d7a-beae-9b3053e901d0"
      },
      "execution_count": 36,
      "outputs": [
        {
          "output_type": "stream",
          "name": "stdout",
          "text": [
            "/content/anomaliborig/anomalib/anomalib/requirements\n"
          ]
        }
      ]
    },
    {
      "cell_type": "code",
      "source": [
        "!pip install -r openvino.txt"
      ],
      "metadata": {
        "colab": {
          "base_uri": "https://localhost:8080/"
        },
        "id": "D18X7t7DBG12",
        "outputId": "bfa3804d-4e1f-40e6-ff0b-f257ae5682d8"
      },
      "execution_count": 37,
      "outputs": [
        {
          "output_type": "stream",
          "name": "stdout",
          "text": [
            "Looking in indexes: https://pypi.org/simple, https://us-python.pkg.dev/colab-wheels/public/simple/\n",
            "Requirement already satisfied: defusedxml==0.7.1 in /usr/local/lib/python3.9/dist-packages (from -r openvino.txt (line 1)) (0.7.1)\n",
            "Requirement already satisfied: requests==2.26.0 in /usr/local/lib/python3.9/dist-packages (from -r openvino.txt (line 2)) (2.26.0)\n",
            "Requirement already satisfied: networkx~=2.5 in /usr/local/lib/python3.9/dist-packages (from -r openvino.txt (line 3)) (2.8.2)\n",
            "Requirement already satisfied: nncf>=2.1.0 in /usr/local/lib/python3.9/dist-packages (from -r openvino.txt (line 4)) (2.4.0)\n",
            "Requirement already satisfied: onnx>=1.10.1 in /usr/local/lib/python3.9/dist-packages (from -r openvino.txt (line 5)) (1.13.1)\n",
            "Requirement already satisfied: openvino-dev>=2022.3.0 in /usr/local/lib/python3.9/dist-packages (from -r openvino.txt (line 6)) (2022.3.0)\n",
            "Requirement already satisfied: charset-normalizer~=2.0.0 in /usr/local/lib/python3.9/dist-packages (from requests==2.26.0->-r openvino.txt (line 2)) (2.0.12)\n",
            "Requirement already satisfied: urllib3<1.27,>=1.21.1 in /usr/local/lib/python3.9/dist-packages (from requests==2.26.0->-r openvino.txt (line 2)) (1.26.15)\n",
            "Requirement already satisfied: certifi>=2017.4.17 in /usr/local/lib/python3.9/dist-packages (from requests==2.26.0->-r openvino.txt (line 2)) (2022.12.7)\n",
            "Requirement already satisfied: idna<4,>=2.5 in /usr/local/lib/python3.9/dist-packages (from requests==2.26.0->-r openvino.txt (line 2)) (3.4)\n",
            "Requirement already satisfied: pydot>=1.4.1 in /usr/local/lib/python3.9/dist-packages (from nncf>=2.1.0->-r openvino.txt (line 4)) (1.4.2)\n",
            "Requirement already satisfied: texttable>=1.6.3 in /usr/local/lib/python3.9/dist-packages (from nncf>=2.1.0->-r openvino.txt (line 4)) (1.6.7)\n",
            "Requirement already satisfied: numpy<1.24,>=1.19.1 in /usr/local/lib/python3.9/dist-packages (from nncf>=2.1.0->-r openvino.txt (line 4)) (1.22.4)\n",
            "Requirement already satisfied: pyparsing<3.0 in /usr/local/lib/python3.9/dist-packages (from nncf>=2.1.0->-r openvino.txt (line 4)) (2.4.7)\n",
            "Requirement already satisfied: tqdm>=4.54.1 in /usr/local/lib/python3.9/dist-packages (from nncf>=2.1.0->-r openvino.txt (line 4)) (4.65.0)\n",
            "Requirement already satisfied: pandas<=1.5.2,>=1.1.5 in /usr/local/lib/python3.9/dist-packages (from nncf>=2.1.0->-r openvino.txt (line 4)) (1.3.5)\n",
            "Requirement already satisfied: ninja<1.11,>=1.10.0.post2 in /usr/local/lib/python3.9/dist-packages (from nncf>=2.1.0->-r openvino.txt (line 4)) (1.10.2.4)\n",
            "Requirement already satisfied: jsonschema>=3.2.0 in /usr/local/lib/python3.9/dist-packages (from nncf>=2.1.0->-r openvino.txt (line 4)) (4.3.3)\n",
            "Requirement already satisfied: scipy<=1.10.0,>=1.3.2 in /usr/local/lib/python3.9/dist-packages (from nncf>=2.1.0->-r openvino.txt (line 4)) (1.10.0)\n",
            "Requirement already satisfied: jstyleson>=0.0.2 in /usr/local/lib/python3.9/dist-packages (from nncf>=2.1.0->-r openvino.txt (line 4)) (0.0.2)\n",
            "Requirement already satisfied: openvino-telemetry in /usr/local/lib/python3.9/dist-packages (from nncf>=2.1.0->-r openvino.txt (line 4)) (2022.3.0)\n",
            "Requirement already satisfied: pymoo==0.5.0 in /usr/local/lib/python3.9/dist-packages (from nncf>=2.1.0->-r openvino.txt (line 4)) (0.5.0)\n",
            "Requirement already satisfied: scikit-learn>=0.24.0 in /usr/local/lib/python3.9/dist-packages (from nncf>=2.1.0->-r openvino.txt (line 4)) (1.2.2)\n",
            "Requirement already satisfied: natsort>=7.1.0 in /usr/local/lib/python3.9/dist-packages (from nncf>=2.1.0->-r openvino.txt (line 4)) (8.3.1)\n",
            "Requirement already satisfied: matplotlib>=3 in /usr/local/lib/python3.9/dist-packages (from pymoo==0.5.0->nncf>=2.1.0->-r openvino.txt (line 4)) (3.7.1)\n",
            "Requirement already satisfied: cma==2.7 in /usr/local/lib/python3.9/dist-packages (from pymoo==0.5.0->nncf>=2.1.0->-r openvino.txt (line 4)) (2.7.0)\n",
            "Requirement already satisfied: autograd>=1.3 in /usr/local/lib/python3.9/dist-packages (from pymoo==0.5.0->nncf>=2.1.0->-r openvino.txt (line 4)) (1.5)\n",
            "Requirement already satisfied: protobuf<4,>=3.20.2 in /usr/local/lib/python3.9/dist-packages (from onnx>=1.10.1->-r openvino.txt (line 5)) (3.20.3)\n",
            "Requirement already satisfied: typing-extensions>=3.6.2.1 in /usr/local/lib/python3.9/dist-packages (from onnx>=1.10.1->-r openvino.txt (line 5)) (4.5.0)\n",
            "Requirement already satisfied: pyyaml>=5.4.1 in /usr/local/lib/python3.9/dist-packages (from openvino-dev>=2022.3.0->-r openvino.txt (line 6)) (6.0)\n",
            "Requirement already satisfied: openvino==2022.3.0 in /usr/local/lib/python3.9/dist-packages (from openvino-dev>=2022.3.0->-r openvino.txt (line 6)) (2022.3.0)\n",
            "Requirement already satisfied: pillow>=8.1.2 in /usr/local/lib/python3.9/dist-packages (from openvino-dev>=2022.3.0->-r openvino.txt (line 6)) (8.4.0)\n",
            "Requirement already satisfied: addict>=2.4.0 in /usr/local/lib/python3.9/dist-packages (from openvino-dev>=2022.3.0->-r openvino.txt (line 6)) (2.4.0)\n",
            "Requirement already satisfied: opencv-python>=4.5 in /usr/local/lib/python3.9/dist-packages (from openvino-dev>=2022.3.0->-r openvino.txt (line 6)) (4.7.0.72)\n",
            "Requirement already satisfied: attrs>=17.4.0 in /usr/local/lib/python3.9/dist-packages (from jsonschema>=3.2.0->nncf>=2.1.0->-r openvino.txt (line 4)) (22.2.0)\n",
            "Requirement already satisfied: pyrsistent!=0.17.0,!=0.17.1,!=0.17.2,>=0.14.0 in /usr/local/lib/python3.9/dist-packages (from jsonschema>=3.2.0->nncf>=2.1.0->-r openvino.txt (line 4)) (0.19.3)\n",
            "Requirement already satisfied: pytz>=2017.3 in /usr/local/lib/python3.9/dist-packages (from pandas<=1.5.2,>=1.1.5->nncf>=2.1.0->-r openvino.txt (line 4)) (2022.7.1)\n",
            "Requirement already satisfied: python-dateutil>=2.7.3 in /usr/local/lib/python3.9/dist-packages (from pandas<=1.5.2,>=1.1.5->nncf>=2.1.0->-r openvino.txt (line 4)) (2.8.2)\n",
            "Requirement already satisfied: threadpoolctl>=2.0.0 in /usr/local/lib/python3.9/dist-packages (from scikit-learn>=0.24.0->nncf>=2.1.0->-r openvino.txt (line 4)) (3.1.0)\n",
            "Requirement already satisfied: joblib>=1.1.1 in /usr/local/lib/python3.9/dist-packages (from scikit-learn>=0.24.0->nncf>=2.1.0->-r openvino.txt (line 4)) (1.1.1)\n",
            "Requirement already satisfied: future>=0.15.2 in /usr/local/lib/python3.9/dist-packages (from autograd>=1.3->pymoo==0.5.0->nncf>=2.1.0->-r openvino.txt (line 4)) (0.18.3)\n",
            "Requirement already satisfied: importlib-resources>=3.2.0 in /usr/local/lib/python3.9/dist-packages (from matplotlib>=3->pymoo==0.5.0->nncf>=2.1.0->-r openvino.txt (line 4)) (5.12.0)\n",
            "Requirement already satisfied: fonttools>=4.22.0 in /usr/local/lib/python3.9/dist-packages (from matplotlib>=3->pymoo==0.5.0->nncf>=2.1.0->-r openvino.txt (line 4)) (4.39.2)\n",
            "Requirement already satisfied: packaging>=20.0 in /usr/local/lib/python3.9/dist-packages (from matplotlib>=3->pymoo==0.5.0->nncf>=2.1.0->-r openvino.txt (line 4)) (23.0)\n",
            "Requirement already satisfied: kiwisolver>=1.0.1 in /usr/local/lib/python3.9/dist-packages (from matplotlib>=3->pymoo==0.5.0->nncf>=2.1.0->-r openvino.txt (line 4)) (1.4.4)\n",
            "Requirement already satisfied: contourpy>=1.0.1 in /usr/local/lib/python3.9/dist-packages (from matplotlib>=3->pymoo==0.5.0->nncf>=2.1.0->-r openvino.txt (line 4)) (1.0.7)\n",
            "Requirement already satisfied: cycler>=0.10 in /usr/local/lib/python3.9/dist-packages (from matplotlib>=3->pymoo==0.5.0->nncf>=2.1.0->-r openvino.txt (line 4)) (0.11.0)\n",
            "Requirement already satisfied: six>=1.5 in /usr/local/lib/python3.9/dist-packages (from python-dateutil>=2.7.3->pandas<=1.5.2,>=1.1.5->nncf>=2.1.0->-r openvino.txt (line 4)) (1.16.0)\n",
            "Requirement already satisfied: zipp>=3.1.0 in /usr/local/lib/python3.9/dist-packages (from importlib-resources>=3.2.0->matplotlib>=3->pymoo==0.5.0->nncf>=2.1.0->-r openvino.txt (line 4)) (3.15.0)\n"
          ]
        }
      ]
    },
    {
      "cell_type": "markdown",
      "source": [
        "Restart runtime"
      ],
      "metadata": {
        "id": "vZU2QatiXwxd"
      }
    },
    {
      "cell_type": "code",
      "source": [
        "%cd /content/"
      ],
      "metadata": {
        "colab": {
          "base_uri": "https://localhost:8080/"
        },
        "id": "_LGYo5j_DWnZ",
        "outputId": "d7543b58-e8ea-469c-a19b-fbcab3621f92"
      },
      "execution_count": 38,
      "outputs": [
        {
          "output_type": "stream",
          "name": "stdout",
          "text": [
            "/content\n"
          ]
        }
      ]
    },
    {
      "cell_type": "code",
      "source": [
        "!ls"
      ],
      "metadata": {
        "colab": {
          "base_uri": "https://localhost:8080/"
        },
        "id": "RmSyAVs0Dg1O",
        "outputId": "0606717b-ba0b-490a-9c9a-6a665c4568f0"
      },
      "execution_count": 39,
      "outputs": [
        {
          "output_type": "stream",
          "name": "stdout",
          "text": [
            "anomaliborig  sample_data\n"
          ]
        }
      ]
    },
    {
      "cell_type": "code",
      "source": [
        "%cd /content/anomaliborig/anomalib/anomalib"
      ],
      "metadata": {
        "colab": {
          "base_uri": "https://localhost:8080/"
        },
        "id": "r6Sv-afHDkme",
        "outputId": "b5f08299-99ec-488f-c027-6262b158a1b8"
      },
      "execution_count": 41,
      "outputs": [
        {
          "output_type": "stream",
          "name": "stdout",
          "text": [
            "/content/anomaliborig/anomalib/anomalib\n"
          ]
        }
      ]
    },
    {
      "cell_type": "code",
      "source": [
        "!python tools/train.py --config anomalib/models/padim/config.yaml\n",
        "!python tools/train.py --config anomalib/models/patchcore/config.yaml\n"
      ],
      "metadata": {
        "id": "ipJSDBmP84YV",
        "colab": {
          "base_uri": "https://localhost:8080/"
        },
        "outputId": "1fdaf86e-c528-443a-e79c-7bef9ea72d34"
      },
      "execution_count": 42,
      "outputs": [
        {
          "output_type": "stream",
          "name": "stdout",
          "text": [
            "To use wandb logger install it using `pip install wandb`\n",
            "Traceback (most recent call last):\n",
            "  File \"/content/anomaliborig/anomalib/anomalib/tools/train.py\", line 75, in <module>\n",
            "    train()\n",
            "  File \"/content/anomaliborig/anomalib/anomalib/tools/train.py\", line 50, in train\n",
            "    config = get_configurable_parameters(model_name=args.model, config_path=args.config)\n",
            "  File \"/usr/local/lib/python3.9/dist-packages/anomalib/config/config.py\", line 231, in get_configurable_parameters\n",
            "    config = OmegaConf.load(config_path)\n",
            "  File \"/usr/local/lib/python3.9/dist-packages/omegaconf/omegaconf.py\", line 189, in load\n",
            "    with io.open(os.path.abspath(file_), \"r\", encoding=\"utf-8\") as f:\n",
            "FileNotFoundError: [Errno 2] No such file or directory: '/content/anomaliborig/anomalib/anomalib/anomalib/models/padim/config.yaml'\n",
            "To use wandb logger install it using `pip install wandb`\n",
            "Traceback (most recent call last):\n",
            "  File \"/content/anomaliborig/anomalib/anomalib/tools/train.py\", line 75, in <module>\n",
            "    train()\n",
            "  File \"/content/anomaliborig/anomalib/anomalib/tools/train.py\", line 50, in train\n",
            "    config = get_configurable_parameters(model_name=args.model, config_path=args.config)\n",
            "  File \"/usr/local/lib/python3.9/dist-packages/anomalib/config/config.py\", line 231, in get_configurable_parameters\n",
            "    config = OmegaConf.load(config_path)\n",
            "  File \"/usr/local/lib/python3.9/dist-packages/omegaconf/omegaconf.py\", line 189, in load\n",
            "    with io.open(os.path.abspath(file_), \"r\", encoding=\"utf-8\") as f:\n",
            "FileNotFoundError: [Errno 2] No such file or directory: '/content/anomaliborig/anomalib/anomalib/anomalib/models/patchcore/config.yaml'\n"
          ]
        }
      ]
    },
    {
      "cell_type": "markdown",
      "source": [
        "# Inference"
      ],
      "metadata": {
        "id": "qXGkKsSwdHVH"
      }
    },
    {
      "cell_type": "code",
      "source": [
        "!mkdir test_result"
      ],
      "metadata": {
        "id": "rx0jtHM5uZ04",
        "colab": {
          "base_uri": "https://localhost:8080/"
        },
        "outputId": "0d8def09-24df-4a2a-fba2-a0bd7018c03d"
      },
      "execution_count": 17,
      "outputs": [
        {
          "output_type": "stream",
          "name": "stdout",
          "text": [
            "mkdir: cannot create directory ‘test_result’: File exists\n"
          ]
        }
      ]
    },
    {
      "cell_type": "code",
      "source": [
        "!python tools/inference/lightning_inference.py \\\n",
        "    --config anomalib/models/padim/config.yaml \\\n",
        "    --weights results/padim/mvtec/bottle/weights/model.ckpt \\\n",
        "    --input datasets/MVTec/bottle/test/broken_large/000.png \\\n",
        "    --output test_result"
      ],
      "metadata": {
        "id": "Vg9htEEIC7pp",
        "colab": {
          "base_uri": "https://localhost:8080/"
        },
        "outputId": "3e2d4efc-94b6-42f0-9b97-74408d9ddb00"
      },
      "execution_count": 18,
      "outputs": [
        {
          "output_type": "stream",
          "name": "stdout",
          "text": [
            "python3: can't open file '/content/anomalib/requirements/tools/inference/lightning_inference.py': [Errno 2] No such file or directory\n"
          ]
        }
      ]
    },
    {
      "cell_type": "code",
      "source": [
        "!python tools/inference/lightning_inference.py \\\n",
        "    --config anomalib/models/padim/config.yaml \\\n",
        "    --weights results/padim/mvtec/bottle/weights/model.ckpt \\\n",
        "    --input datasets/MVTec/bottle/test/good/012.png \\\n",
        "    --output test_result \\\n",
        "    --visualization_mode full"
      ],
      "metadata": {
        "id": "487xFn7EDkhl",
        "colab": {
          "base_uri": "https://localhost:8080/"
        },
        "outputId": "044f92b7-2fe6-4343-c43e-1d38a2555583"
      },
      "execution_count": 19,
      "outputs": [
        {
          "output_type": "stream",
          "name": "stdout",
          "text": [
            "python3: can't open file '/content/anomalib/requirements/tools/inference/lightning_inference.py': [Errno 2] No such file or directory\n"
          ]
        }
      ]
    },
    {
      "cell_type": "code",
      "source": [
        "!python tools/inference/openvino_inference.py \\\n",
        "    --config anomalib/models/padim/config.yaml \\\n",
        "    --weights /content/anomalib/results/padim/mvtec/bottle/openvino/model.onnx \\\n",
        "    --input datasets/MVTec/bottle/test/good/012.png \\\n",
        "    --output test_result \\\n",
        "    --visualization_mode full \\\n",
        "    --meta_data /content/anomalib/results/padim/mvtec/bottle/openvino/meta_data.json\n",
        "    "
      ],
      "metadata": {
        "id": "qzlFV3NkFRYE",
        "colab": {
          "base_uri": "https://localhost:8080/"
        },
        "outputId": "95ce70ef-e05e-405f-fb55-149acb64eddd"
      },
      "execution_count": 20,
      "outputs": [
        {
          "output_type": "stream",
          "name": "stdout",
          "text": [
            "python3: can't open file '/content/anomalib/requirements/tools/inference/openvino_inference.py': [Errno 2] No such file or directory\n"
          ]
        }
      ]
    },
    {
      "cell_type": "code",
      "source": [
        "!python tools/inference/openvino_inference.py \\\n",
        "    --config anomalib/models/padim/config.yaml \\\n",
        "    --weights /content/anomalib/results/padim/mvtec/bottle/openvino/model.onnx \\\n",
        "    --input datasets/MVTec/bottle/test/broken_large/000.png \\\n",
        "    --output test_result \\\n",
        "    --visualization_mode full \\\n",
        "    --meta_data /content/anomalib/results/padim/mvtec/bottle/openvino/meta_data.json \\\n",
        "    --visualization_mode full"
      ],
      "metadata": {
        "colab": {
          "base_uri": "https://localhost:8080/"
        },
        "id": "Q4_JcO_RAt_v",
        "outputId": "94a98937-bfcd-4d41-b65c-0d26316d8aef"
      },
      "execution_count": 16,
      "outputs": [
        {
          "output_type": "stream",
          "name": "stdout",
          "text": [
            "python3: can't open file '/content/anomalib/requirements/tools/inference/openvino_inference.py': [Errno 2] No such file or directory\n"
          ]
        }
      ]
    }
  ]
}