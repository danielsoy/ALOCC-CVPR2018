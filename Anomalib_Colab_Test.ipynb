{
  "nbformat": 4,
  "nbformat_minor": 0,
  "metadata": {
    "colab": {
      "provenance": [],
      "include_colab_link": true
    },
    "kernelspec": {
      "name": "python3",
      "display_name": "Python 3"
    },
    "language_info": {
      "name": "python"
    },
    "accelerator": "GPU",
    "gpuClass": "standard"
  },
  "cells": [
    {
      "cell_type": "markdown",
      "metadata": {
        "id": "view-in-github",
        "colab_type": "text"
      },
      "source": [
        "<a href=\"https://colab.research.google.com/github/danielsoy/ALOCC-CVPR2018/blob/master/Anomalib_Colab_Test.ipynb\" target=\"_parent\"><img src=\"https://colab.research.google.com/assets/colab-badge.svg\" alt=\"Open In Colab\"/></a>"
      ]
    },
    {
      "cell_type": "markdown",
      "source": [
        "This notebook is an example of running the PADIM model on the MVTec bottle dataset. After training two examples of inference are run, one on a bad sample and one on a good sample. \n",
        "\n",
        "Link to info:\n",
        "\n",
        "https://github.com/openvinotoolkit/anomalib\n",
        "\n",
        "(Runtime has to be GPU)"
      ],
      "metadata": {
        "id": "jZDG7NKG69Em"
      }
    },
    {
      "cell_type": "code",
      "source": [
        "!git clone https://github.com/openvinotoolkit/anomalib.git"
      ],
      "metadata": {
        "id": "JrgrWWF47X3s",
        "colab": {
          "base_uri": "https://localhost:8080/"
        },
        "outputId": "3c84d867-6d03-46a6-a714-0e8509b3b38e"
      },
      "execution_count": 1,
      "outputs": [
        {
          "output_type": "stream",
          "name": "stdout",
          "text": [
            "Cloning into 'anomalib'...\n",
            "remote: Enumerating objects: 27705, done.\u001b[K\n",
            "remote: Counting objects: 100% (920/920), done.\u001b[K\n",
            "remote: Compressing objects: 100% (649/649), done.\u001b[K\n",
            "remote: Total 27705 (delta 294), reused 836 (delta 253), pack-reused 26785\u001b[K\n",
            "Receiving objects: 100% (27705/27705), 1.50 GiB | 36.87 MiB/s, done.\n",
            "Resolving deltas: 100% (15240/15240), done.\n"
          ]
        }
      ]
    },
    {
      "cell_type": "code",
      "source": [
        "!pip install anomalib"
      ],
      "metadata": {
        "id": "wsd-I8MS8acb",
        "colab": {
          "base_uri": "https://localhost:8080/",
          "height": 1000
        },
        "outputId": "307cdc4f-c861-4652-e402-9862f8e9ce40"
      },
      "execution_count": 2,
      "outputs": [
        {
          "output_type": "stream",
          "name": "stdout",
          "text": [
            "Looking in indexes: https://pypi.org/simple, https://us-python.pkg.dev/colab-wheels/public/simple/\n",
            "Collecting anomalib\n",
            "  Downloading anomalib-0.4.0-py3-none-any.whl (346 kB)\n",
            "\u001b[2K     \u001b[90m━━━━━━━━━━━━━━━━━━━━━━━━━━━━━━━━━━━━━━━\u001b[0m \u001b[32m346.9/346.9 KB\u001b[0m \u001b[31m7.8 MB/s\u001b[0m eta \u001b[36m0:00:00\u001b[0m\n",
            "\u001b[?25hRequirement already satisfied: matplotlib>=3.4.3 in /usr/local/lib/python3.9/dist-packages (from anomalib) (3.7.1)\n",
            "Collecting av>=10.0.0\n",
            "  Downloading av-10.0.0-cp39-cp39-manylinux_2_17_x86_64.manylinux2014_x86_64.whl (31.2 MB)\n",
            "\u001b[2K     \u001b[90m━━━━━━━━━━━━━━━━━━━━━━━━━━━━━━━━━━━━━━━━\u001b[0m \u001b[32m31.2/31.2 MB\u001b[0m \u001b[31m32.4 MB/s\u001b[0m eta \u001b[36m0:00:00\u001b[0m\n",
            "\u001b[?25hCollecting pytorch-lightning<1.10.0,>=1.7.0\n",
            "  Downloading pytorch_lightning-1.9.4-py3-none-any.whl (827 kB)\n",
            "\u001b[2K     \u001b[90m━━━━━━━━━━━━━━━━━━━━━━━━━━━━━━━━━━━━━━\u001b[0m \u001b[32m827.8/827.8 KB\u001b[0m \u001b[31m67.9 MB/s\u001b[0m eta \u001b[36m0:00:00\u001b[0m\n",
            "\u001b[?25hRequirement already satisfied: imgaug==0.4.0 in /usr/local/lib/python3.9/dist-packages (from anomalib) (0.4.0)\n",
            "Collecting kornia<0.6.10,>=0.6.6\n",
            "  Downloading kornia-0.6.9-py2.py3-none-any.whl (569 kB)\n",
            "\u001b[2K     \u001b[90m━━━━━━━━━━━━━━━━━━━━━━━━━━━━━━━━━━━━━━\u001b[0m \u001b[32m569.1/569.1 KB\u001b[0m \u001b[31m48.6 MB/s\u001b[0m eta \u001b[36m0:00:00\u001b[0m\n",
            "\u001b[?25hCollecting torchmetrics==0.10.3\n",
            "  Downloading torchmetrics-0.10.3-py3-none-any.whl (529 kB)\n",
            "\u001b[2K     \u001b[90m━━━━━━━━━━━━━━━━━━━━━━━━━━━━━━━━━━━━━━\u001b[0m \u001b[32m529.7/529.7 KB\u001b[0m \u001b[31m40.0 MB/s\u001b[0m eta \u001b[36m0:00:00\u001b[0m\n",
            "\u001b[?25hRequirement already satisfied: torchtext>=0.9.1 in /usr/local/lib/python3.9/dist-packages (from anomalib) (0.14.1)\n",
            "Requirement already satisfied: torchvision>=0.9.1 in /usr/local/lib/python3.9/dist-packages (from anomalib) (0.14.1+cu116)\n",
            "Collecting timm<=0.6.12,>=0.5.4\n",
            "  Downloading timm-0.6.12-py3-none-any.whl (549 kB)\n",
            "\u001b[2K     \u001b[90m━━━━━━━━━━━━━━━━━━━━━━━━━━━━━━━━━━━━━━\u001b[0m \u001b[32m549.1/549.1 KB\u001b[0m \u001b[31m55.1 MB/s\u001b[0m eta \u001b[36m0:00:00\u001b[0m\n",
            "\u001b[?25hCollecting einops>=0.3.2\n",
            "  Downloading einops-0.6.0-py3-none-any.whl (41 kB)\n",
            "\u001b[2K     \u001b[90m━━━━━━━━━━━━━━━━━━━━━━━━━━━━━━━━━━━━━━━━\u001b[0m \u001b[32m41.6/41.6 KB\u001b[0m \u001b[31m5.4 MB/s\u001b[0m eta \u001b[36m0:00:00\u001b[0m\n",
            "\u001b[?25hCollecting freia>=0.2\n",
            "  Downloading FrEIA-0.2.tar.gz (34 kB)\n",
            "  Preparing metadata (setup.py) ... \u001b[?25l\u001b[?25hdone\n",
            "Requirement already satisfied: albumentations>=1.1.0 in /usr/local/lib/python3.9/dist-packages (from anomalib) (1.2.1)\n",
            "Requirement already satisfied: pandas>=1.1.0 in /usr/local/lib/python3.9/dist-packages (from anomalib) (1.4.4)\n",
            "Collecting jsonargparse[signatures]>=4.3\n",
            "  Downloading jsonargparse-4.20.0-py3-none-any.whl (183 kB)\n",
            "\u001b[2K     \u001b[90m━━━━━━━━━━━━━━━━━━━━━━━━━━━━━━━━━━━━━━\u001b[0m \u001b[32m183.6/183.6 KB\u001b[0m \u001b[31m23.9 MB/s\u001b[0m eta \u001b[36m0:00:00\u001b[0m\n",
            "\u001b[?25hCollecting omegaconf>=2.1.1\n",
            "  Downloading omegaconf-2.3.0-py3-none-any.whl (79 kB)\n",
            "\u001b[2K     \u001b[90m━━━━━━━━━━━━━━━━━━━━━━━━━━━━━━━━━━━━━━━━\u001b[0m \u001b[32m79.5/79.5 KB\u001b[0m \u001b[31m10.9 MB/s\u001b[0m eta \u001b[36m0:00:00\u001b[0m\n",
            "\u001b[?25hRequirement already satisfied: opencv-python>=4.5.3.56 in /usr/local/lib/python3.9/dist-packages (from anomalib) (4.7.0.72)\n",
            "Requirement already satisfied: six in /usr/local/lib/python3.9/dist-packages (from imgaug==0.4.0->anomalib) (1.16.0)\n",
            "Requirement already satisfied: scikit-image>=0.14.2 in /usr/local/lib/python3.9/dist-packages (from imgaug==0.4.0->anomalib) (0.19.3)\n",
            "Requirement already satisfied: Shapely in /usr/local/lib/python3.9/dist-packages (from imgaug==0.4.0->anomalib) (2.0.1)\n",
            "Requirement already satisfied: numpy>=1.15 in /usr/local/lib/python3.9/dist-packages (from imgaug==0.4.0->anomalib) (1.22.4)\n",
            "Requirement already satisfied: Pillow in /usr/local/lib/python3.9/dist-packages (from imgaug==0.4.0->anomalib) (8.4.0)\n",
            "Requirement already satisfied: imageio in /usr/local/lib/python3.9/dist-packages (from imgaug==0.4.0->anomalib) (2.25.1)\n",
            "Requirement already satisfied: scipy in /usr/local/lib/python3.9/dist-packages (from imgaug==0.4.0->anomalib) (1.10.1)\n",
            "Requirement already satisfied: torch>=1.3.1 in /usr/local/lib/python3.9/dist-packages (from torchmetrics==0.10.3->anomalib) (1.13.1+cu116)\n",
            "Requirement already satisfied: packaging in /usr/local/lib/python3.9/dist-packages (from torchmetrics==0.10.3->anomalib) (23.0)\n",
            "Requirement already satisfied: opencv-python-headless>=4.1.1 in /usr/local/lib/python3.9/dist-packages (from albumentations>=1.1.0->anomalib) (4.7.0.72)\n",
            "Requirement already satisfied: PyYAML in /usr/local/lib/python3.9/dist-packages (from albumentations>=1.1.0->anomalib) (6.0)\n",
            "Requirement already satisfied: qudida>=0.0.4 in /usr/local/lib/python3.9/dist-packages (from albumentations>=1.1.0->anomalib) (0.0.4)\n",
            "Collecting typeshed-client>=2.1.0\n",
            "  Downloading typeshed_client-2.2.0-py3-none-any.whl (551 kB)\n",
            "\u001b[2K     \u001b[90m━━━━━━━━━━━━━━━━━━━━━━━━━━━━━━━━━━━━━━\u001b[0m \u001b[32m551.6/551.6 KB\u001b[0m \u001b[31m47.8 MB/s\u001b[0m eta \u001b[36m0:00:00\u001b[0m\n",
            "\u001b[?25hCollecting docstring-parser>=0.15\n",
            "  Downloading docstring_parser-0.15-py3-none-any.whl (36 kB)\n",
            "Requirement already satisfied: cycler>=0.10 in /usr/local/lib/python3.9/dist-packages (from matplotlib>=3.4.3->anomalib) (0.11.0)\n",
            "Requirement already satisfied: contourpy>=1.0.1 in /usr/local/lib/python3.9/dist-packages (from matplotlib>=3.4.3->anomalib) (1.0.7)\n",
            "Requirement already satisfied: fonttools>=4.22.0 in /usr/local/lib/python3.9/dist-packages (from matplotlib>=3.4.3->anomalib) (4.39.2)\n",
            "Requirement already satisfied: pyparsing>=2.3.1 in /usr/local/lib/python3.9/dist-packages (from matplotlib>=3.4.3->anomalib) (3.0.9)\n",
            "Requirement already satisfied: importlib-resources>=3.2.0 in /usr/local/lib/python3.9/dist-packages (from matplotlib>=3.4.3->anomalib) (5.12.0)\n",
            "Requirement already satisfied: kiwisolver>=1.0.1 in /usr/local/lib/python3.9/dist-packages (from matplotlib>=3.4.3->anomalib) (1.4.4)\n",
            "Requirement already satisfied: python-dateutil>=2.7 in /usr/local/lib/python3.9/dist-packages (from matplotlib>=3.4.3->anomalib) (2.8.2)\n",
            "Collecting antlr4-python3-runtime==4.9.*\n",
            "  Downloading antlr4-python3-runtime-4.9.3.tar.gz (117 kB)\n",
            "\u001b[2K     \u001b[90m━━━━━━━━━━━━━━━━━━━━━━━━━━━━━━━━━━━━━━\u001b[0m \u001b[32m117.0/117.0 KB\u001b[0m \u001b[31m16.1 MB/s\u001b[0m eta \u001b[36m0:00:00\u001b[0m\n",
            "\u001b[?25h  Preparing metadata (setup.py) ... \u001b[?25l\u001b[?25hdone\n",
            "Requirement already satisfied: pytz>=2020.1 in /usr/local/lib/python3.9/dist-packages (from pandas>=1.1.0->anomalib) (2022.7.1)\n",
            "Collecting lightning-utilities>=0.6.0.post0\n",
            "  Downloading lightning_utilities-0.8.0-py3-none-any.whl (20 kB)\n",
            "Requirement already satisfied: typing-extensions>=4.0.0 in /usr/local/lib/python3.9/dist-packages (from pytorch-lightning<1.10.0,>=1.7.0->anomalib) (4.5.0)\n",
            "Requirement already satisfied: tqdm>=4.57.0 in /usr/local/lib/python3.9/dist-packages (from pytorch-lightning<1.10.0,>=1.7.0->anomalib) (4.65.0)\n",
            "Requirement already satisfied: fsspec[http]>2021.06.0 in /usr/local/lib/python3.9/dist-packages (from pytorch-lightning<1.10.0,>=1.7.0->anomalib) (2023.3.0)\n",
            "Collecting huggingface-hub\n",
            "  Downloading huggingface_hub-0.13.3-py3-none-any.whl (199 kB)\n",
            "\u001b[2K     \u001b[90m━━━━━━━━━━━━━━━━━━━━━━━━━━━━━━━━━━━━━━\u001b[0m \u001b[32m199.8/199.8 KB\u001b[0m \u001b[31m26.3 MB/s\u001b[0m eta \u001b[36m0:00:00\u001b[0m\n",
            "\u001b[?25hRequirement already satisfied: requests in /usr/local/lib/python3.9/dist-packages (from torchtext>=0.9.1->anomalib) (2.27.1)\n",
            "Collecting aiohttp!=4.0.0a0,!=4.0.0a1\n",
            "  Downloading aiohttp-3.8.4-cp39-cp39-manylinux_2_17_x86_64.manylinux2014_x86_64.whl (1.0 MB)\n",
            "\u001b[2K     \u001b[90m━━━━━━━━━━━━━━━━━━━━━━━━━━━━━━━━━━━━━━━━\u001b[0m \u001b[32m1.0/1.0 MB\u001b[0m \u001b[31m76.2 MB/s\u001b[0m eta \u001b[36m0:00:00\u001b[0m\n",
            "\u001b[?25hRequirement already satisfied: zipp>=3.1.0 in /usr/local/lib/python3.9/dist-packages (from importlib-resources>=3.2.0->matplotlib>=3.4.3->anomalib) (3.15.0)\n",
            "Requirement already satisfied: scikit-learn>=0.19.1 in /usr/local/lib/python3.9/dist-packages (from qudida>=0.0.4->albumentations>=1.1.0->anomalib) (1.2.2)\n",
            "Requirement already satisfied: networkx>=2.2 in /usr/local/lib/python3.9/dist-packages (from scikit-image>=0.14.2->imgaug==0.4.0->anomalib) (3.0)\n",
            "Requirement already satisfied: PyWavelets>=1.1.1 in /usr/local/lib/python3.9/dist-packages (from scikit-image>=0.14.2->imgaug==0.4.0->anomalib) (1.4.1)\n",
            "Requirement already satisfied: tifffile>=2019.7.26 in /usr/local/lib/python3.9/dist-packages (from scikit-image>=0.14.2->imgaug==0.4.0->anomalib) (2023.3.21)\n",
            "Requirement already satisfied: filelock in /usr/local/lib/python3.9/dist-packages (from huggingface-hub->timm<=0.6.12,>=0.5.4->anomalib) (3.10.1)\n",
            "Requirement already satisfied: urllib3<1.27,>=1.21.1 in /usr/local/lib/python3.9/dist-packages (from requests->torchtext>=0.9.1->anomalib) (1.26.15)\n",
            "Requirement already satisfied: charset-normalizer~=2.0.0 in /usr/local/lib/python3.9/dist-packages (from requests->torchtext>=0.9.1->anomalib) (2.0.12)\n",
            "Requirement already satisfied: idna<4,>=2.5 in /usr/local/lib/python3.9/dist-packages (from requests->torchtext>=0.9.1->anomalib) (3.4)\n",
            "Requirement already satisfied: certifi>=2017.4.17 in /usr/local/lib/python3.9/dist-packages (from requests->torchtext>=0.9.1->anomalib) (2022.12.7)\n",
            "Collecting multidict<7.0,>=4.5\n",
            "  Downloading multidict-6.0.4-cp39-cp39-manylinux_2_17_x86_64.manylinux2014_x86_64.whl (114 kB)\n",
            "\u001b[2K     \u001b[90m━━━━━━━━━━━━━━━━━━━━━━━━━━━━━━━━━━━━━━\u001b[0m \u001b[32m114.2/114.2 KB\u001b[0m \u001b[31m15.1 MB/s\u001b[0m eta \u001b[36m0:00:00\u001b[0m\n",
            "\u001b[?25hCollecting frozenlist>=1.1.1\n",
            "  Downloading frozenlist-1.3.3-cp39-cp39-manylinux_2_5_x86_64.manylinux1_x86_64.manylinux_2_17_x86_64.manylinux2014_x86_64.whl (158 kB)\n",
            "\u001b[2K     \u001b[90m━━━━━━━━━━━━━━━━━━━━━━━━━━━━━━━━━━━━━━\u001b[0m \u001b[32m158.8/158.8 KB\u001b[0m \u001b[31m21.0 MB/s\u001b[0m eta \u001b[36m0:00:00\u001b[0m\n",
            "\u001b[?25hRequirement already satisfied: attrs>=17.3.0 in /usr/local/lib/python3.9/dist-packages (from aiohttp!=4.0.0a0,!=4.0.0a1->fsspec[http]>2021.06.0->pytorch-lightning<1.10.0,>=1.7.0->anomalib) (22.2.0)\n",
            "Collecting yarl<2.0,>=1.0\n",
            "  Downloading yarl-1.8.2-cp39-cp39-manylinux_2_17_x86_64.manylinux2014_x86_64.whl (264 kB)\n",
            "\u001b[2K     \u001b[90m━━━━━━━━━━━━━━━━━━━━━━━━━━━━━━━━━━━━━━\u001b[0m \u001b[32m264.6/264.6 KB\u001b[0m \u001b[31m25.2 MB/s\u001b[0m eta \u001b[36m0:00:00\u001b[0m\n",
            "\u001b[?25hCollecting aiosignal>=1.1.2\n",
            "  Downloading aiosignal-1.3.1-py3-none-any.whl (7.6 kB)\n",
            "Collecting async-timeout<5.0,>=4.0.0a3\n",
            "  Downloading async_timeout-4.0.2-py3-none-any.whl (5.8 kB)\n",
            "Requirement already satisfied: threadpoolctl>=2.0.0 in /usr/local/lib/python3.9/dist-packages (from scikit-learn>=0.19.1->qudida>=0.0.4->albumentations>=1.1.0->anomalib) (3.1.0)\n",
            "Requirement already satisfied: joblib>=1.1.1 in /usr/local/lib/python3.9/dist-packages (from scikit-learn>=0.19.1->qudida>=0.0.4->albumentations>=1.1.0->anomalib) (1.1.1)\n",
            "Building wheels for collected packages: freia, antlr4-python3-runtime\n",
            "  Building wheel for freia (setup.py) ... \u001b[?25l\u001b[?25hdone\n",
            "  Created wheel for freia: filename=FrEIA-0.2-py3-none-any.whl size=42781 sha256=6f48301944c5174ffa77515c66e49a505f1b240c5a24a8721efe571b0525d4a7\n",
            "  Stored in directory: /root/.cache/pip/wheels/09/a1/a2/86042a265a1955f22241bad323984cdbec939c785008530e6c\n",
            "  Building wheel for antlr4-python3-runtime (setup.py) ... \u001b[?25l\u001b[?25hdone\n",
            "  Created wheel for antlr4-python3-runtime: filename=antlr4_python3_runtime-4.9.3-py3-none-any.whl size=144573 sha256=a1f9af163969de221ee6c53370cc7fa29de1cc7c0f47afe1dc1976942dc9290e\n",
            "  Stored in directory: /root/.cache/pip/wheels/23/cf/80/f3efa822e6ab23277902ee9165fe772eeb1dfb8014f359020a\n",
            "Successfully built freia antlr4-python3-runtime\n",
            "Installing collected packages: av, antlr4-python3-runtime, omegaconf, multidict, lightning-utilities, jsonargparse, frozenlist, einops, docstring-parser, async-timeout, yarl, typeshed-client, torchmetrics, kornia, huggingface-hub, freia, aiosignal, timm, aiohttp, pytorch-lightning, anomalib\n",
            "Successfully installed aiohttp-3.8.4 aiosignal-1.3.1 anomalib-0.4.0 antlr4-python3-runtime-4.9.3 async-timeout-4.0.2 av-10.0.0 docstring-parser-0.15 einops-0.6.0 freia-0.2 frozenlist-1.3.3 huggingface-hub-0.13.3 jsonargparse-4.20.0 kornia-0.6.9 lightning-utilities-0.8.0 multidict-6.0.4 omegaconf-2.3.0 pytorch-lightning-1.9.4 timm-0.6.12 torchmetrics-0.10.3 typeshed-client-2.2.0 yarl-1.8.2\n"
          ]
        },
        {
          "output_type": "display_data",
          "data": {
            "application/vnd.colab-display-data+json": {
              "pip_warning": {
                "packages": [
                  "pydevd_plugins"
                ]
              }
            }
          },
          "metadata": {}
        }
      ]
    },
    {
      "cell_type": "code",
      "source": [
        "!ls"
      ],
      "metadata": {
        "id": "zqPoArfU8q0G",
        "colab": {
          "base_uri": "https://localhost:8080/"
        },
        "outputId": "ebc1447b-a331-4191-8282-a1e29f7fce06"
      },
      "execution_count": 3,
      "outputs": [
        {
          "output_type": "stream",
          "name": "stdout",
          "text": [
            "anomalib  sample_data\n"
          ]
        }
      ]
    },
    {
      "cell_type": "code",
      "source": [
        "%cd anomalib"
      ],
      "metadata": {
        "id": "sDxgOQaT_nBo",
        "colab": {
          "base_uri": "https://localhost:8080/"
        },
        "outputId": "efa5f078-3853-4a9c-eb1c-721e7c73ed23"
      },
      "execution_count": 4,
      "outputs": [
        {
          "output_type": "stream",
          "name": "stdout",
          "text": [
            "/content/anomalib\n"
          ]
        }
      ]
    },
    {
      "cell_type": "code",
      "source": [
        "!ls"
      ],
      "metadata": {
        "id": "lKjn5J5d_p5v",
        "colab": {
          "base_uri": "https://localhost:8080/"
        },
        "outputId": "715f7f5b-7394-445d-b837-54b1bddc52af"
      },
      "execution_count": 5,
      "outputs": [
        {
          "output_type": "stream",
          "name": "stdout",
          "text": [
            "CHANGELOG.md\t    LICENSE\t    requirements\t      tools\n",
            "CITATION.cff\t    MANIFEST.in     setup.py\t\t      tox.ini\n",
            "CODE_OF_CONDUCT.md  notebooks\t    src\n",
            "CONTRIBUTING.md     pyproject.toml  tests\n",
            "docs\t\t    README.md\t    third-party-programs.txt\n"
          ]
        }
      ]
    },
    {
      "cell_type": "code",
      "source": [
        "%cd requirements "
      ],
      "metadata": {
        "colab": {
          "base_uri": "https://localhost:8080/"
        },
        "id": "8hg7ZBr1BV9O",
        "outputId": "9f86d604-f2d5-4694-b54f-cff7242a1152"
      },
      "execution_count": 6,
      "outputs": [
        {
          "output_type": "stream",
          "name": "stdout",
          "text": [
            "/content/anomalib/requirements\n"
          ]
        }
      ]
    },
    {
      "cell_type": "code",
      "source": [
        "!pip install -r openvino.txt"
      ],
      "metadata": {
        "colab": {
          "base_uri": "https://localhost:8080/"
        },
        "id": "D18X7t7DBG12",
        "outputId": "44451b93-e3e0-406a-b034-77cc05cdbe76"
      },
      "execution_count": 7,
      "outputs": [
        {
          "output_type": "stream",
          "name": "stdout",
          "text": [
            "Looking in indexes: https://pypi.org/simple, https://us-python.pkg.dev/colab-wheels/public/simple/\n",
            "Requirement already satisfied: defusedxml==0.7.1 in /usr/local/lib/python3.9/dist-packages (from -r openvino.txt (line 1)) (0.7.1)\n",
            "Collecting requests==2.26.0\n",
            "  Downloading requests-2.26.0-py2.py3-none-any.whl (62 kB)\n",
            "\u001b[2K     \u001b[90m━━━━━━━━━━━━━━━━━━━━━━━━━━━━━━━━━━━━━━━━\u001b[0m \u001b[32m62.3/62.3 KB\u001b[0m \u001b[31m3.7 MB/s\u001b[0m eta \u001b[36m0:00:00\u001b[0m\n",
            "\u001b[?25hCollecting networkx~=2.5\n",
            "  Downloading networkx-2.8.8-py3-none-any.whl (2.0 MB)\n",
            "\u001b[2K     \u001b[90m━━━━━━━━━━━━━━━━━━━━━━━━━━━━━━━━━━━━━━━━\u001b[0m \u001b[32m2.0/2.0 MB\u001b[0m \u001b[31m36.3 MB/s\u001b[0m eta \u001b[36m0:00:00\u001b[0m\n",
            "\u001b[?25hCollecting nncf>=2.1.0\n",
            "  Downloading nncf-2.4.0-py3-none-any.whl (904 kB)\n",
            "\u001b[2K     \u001b[90m━━━━━━━━━━━━━━━━━━━━━━━━━━━━━━━━━━━━━━\u001b[0m \u001b[32m904.5/904.5 KB\u001b[0m \u001b[31m70.6 MB/s\u001b[0m eta \u001b[36m0:00:00\u001b[0m\n",
            "\u001b[?25hCollecting onnx>=1.10.1\n",
            "  Downloading onnx-1.13.1-cp39-cp39-manylinux_2_17_x86_64.manylinux2014_x86_64.whl (13.5 MB)\n",
            "\u001b[2K     \u001b[90m━━━━━━━━━━━━━━━━━━━━━━━━━━━━━━━━━━━━━━━━\u001b[0m \u001b[32m13.5/13.5 MB\u001b[0m \u001b[31m91.4 MB/s\u001b[0m eta \u001b[36m0:00:00\u001b[0m\n",
            "\u001b[?25hCollecting openvino-dev>=2022.3.0\n",
            "  Downloading openvino_dev-2022.3.0-9052-py3-none-any.whl (5.8 MB)\n",
            "\u001b[2K     \u001b[90m━━━━━━━━━━━━━━━━━━━━━━━━━━━━━━━━━━━━━━━━\u001b[0m \u001b[32m5.8/5.8 MB\u001b[0m \u001b[31m106.3 MB/s\u001b[0m eta \u001b[36m0:00:00\u001b[0m\n",
            "\u001b[?25hRequirement already satisfied: urllib3<1.27,>=1.21.1 in /usr/local/lib/python3.9/dist-packages (from requests==2.26.0->-r openvino.txt (line 2)) (1.26.15)\n",
            "Requirement already satisfied: charset-normalizer~=2.0.0 in /usr/local/lib/python3.9/dist-packages (from requests==2.26.0->-r openvino.txt (line 2)) (2.0.12)\n",
            "Requirement already satisfied: idna<4,>=2.5 in /usr/local/lib/python3.9/dist-packages (from requests==2.26.0->-r openvino.txt (line 2)) (3.4)\n",
            "Requirement already satisfied: certifi>=2017.4.17 in /usr/local/lib/python3.9/dist-packages (from requests==2.26.0->-r openvino.txt (line 2)) (2022.12.7)\n",
            "Requirement already satisfied: pandas<=1.5.2,>=1.1.5 in /usr/local/lib/python3.9/dist-packages (from nncf>=2.1.0->-r openvino.txt (line 4)) (1.4.4)\n",
            "Collecting pyparsing<3.0\n",
            "  Downloading pyparsing-2.4.7-py2.py3-none-any.whl (67 kB)\n",
            "\u001b[2K     \u001b[90m━━━━━━━━━━━━━━━━━━━━━━━━━━━━━━━━━━━━━━━━\u001b[0m \u001b[32m67.8/67.8 KB\u001b[0m \u001b[31m9.7 MB/s\u001b[0m eta \u001b[36m0:00:00\u001b[0m\n",
            "\u001b[?25hRequirement already satisfied: tqdm>=4.54.1 in /usr/local/lib/python3.9/dist-packages (from nncf>=2.1.0->-r openvino.txt (line 4)) (4.65.0)\n",
            "Collecting natsort>=7.1.0\n",
            "  Downloading natsort-8.3.1-py3-none-any.whl (38 kB)\n",
            "Collecting openvino-telemetry\n",
            "  Downloading openvino_telemetry-2022.3.0-py3-none-any.whl (20 kB)\n",
            "Collecting texttable>=1.6.3\n",
            "  Downloading texttable-1.6.7-py2.py3-none-any.whl (10 kB)\n",
            "Collecting pymoo==0.5.0\n",
            "  Downloading pymoo-0.5.0-cp39-cp39-manylinux_2_5_x86_64.manylinux1_x86_64.manylinux_2_12_x86_64.manylinux2010_x86_64.whl (2.6 MB)\n",
            "\u001b[2K     \u001b[90m━━━━━━━━━━━━━━━━━━━━━━━━━━━━━━━━━━━━━━━━\u001b[0m \u001b[32m2.6/2.6 MB\u001b[0m \u001b[31m105.8 MB/s\u001b[0m eta \u001b[36m0:00:00\u001b[0m\n",
            "\u001b[?25hCollecting networkx~=2.5\n",
            "  Downloading networkx-2.8.2-py3-none-any.whl (2.0 MB)\n",
            "\u001b[2K     \u001b[90m━━━━━━━━━━━━━━━━━━━━━━━━━━━━━━━━━━━━━━━━\u001b[0m \u001b[32m2.0/2.0 MB\u001b[0m \u001b[31m99.2 MB/s\u001b[0m eta \u001b[36m0:00:00\u001b[0m\n",
            "\u001b[?25hCollecting scipy<=1.10.0,>=1.3.2\n",
            "  Downloading scipy-1.10.0-cp39-cp39-manylinux_2_17_x86_64.manylinux2014_x86_64.whl (34.4 MB)\n",
            "\u001b[2K     \u001b[90m━━━━━━━━━━━━━━━━━━━━━━━━━━━━━━━━━━━━━━━━\u001b[0m \u001b[32m34.4/34.4 MB\u001b[0m \u001b[31m14.5 MB/s\u001b[0m eta \u001b[36m0:00:00\u001b[0m\n",
            "\u001b[?25hCollecting jstyleson>=0.0.2\n",
            "  Downloading jstyleson-0.0.2.tar.gz (2.0 kB)\n",
            "  Preparing metadata (setup.py) ... \u001b[?25l\u001b[?25hdone\n",
            "Requirement already satisfied: numpy<1.24,>=1.19.1 in /usr/local/lib/python3.9/dist-packages (from nncf>=2.1.0->-r openvino.txt (line 4)) (1.22.4)\n",
            "Requirement already satisfied: scikit-learn>=0.24.0 in /usr/local/lib/python3.9/dist-packages (from nncf>=2.1.0->-r openvino.txt (line 4)) (1.2.2)\n",
            "Requirement already satisfied: pydot>=1.4.1 in /usr/local/lib/python3.9/dist-packages (from nncf>=2.1.0->-r openvino.txt (line 4)) (1.4.2)\n",
            "Collecting ninja<1.11,>=1.10.0.post2\n",
            "  Downloading ninja-1.10.2.4-py2.py3-none-manylinux_2_5_x86_64.manylinux1_x86_64.whl (120 kB)\n",
            "\u001b[2K     \u001b[90m━━━━━━━━━━━━━━━━━━━━━━━━━━━━━━━━━━━━━━\u001b[0m \u001b[32m120.7/120.7 KB\u001b[0m \u001b[31m11.1 MB/s\u001b[0m eta \u001b[36m0:00:00\u001b[0m\n",
            "\u001b[?25hRequirement already satisfied: jsonschema>=3.2.0 in /usr/local/lib/python3.9/dist-packages (from nncf>=2.1.0->-r openvino.txt (line 4)) (4.3.3)\n",
            "Requirement already satisfied: autograd>=1.3 in /usr/local/lib/python3.9/dist-packages (from pymoo==0.5.0->nncf>=2.1.0->-r openvino.txt (line 4)) (1.5)\n",
            "Requirement already satisfied: matplotlib>=3 in /usr/local/lib/python3.9/dist-packages (from pymoo==0.5.0->nncf>=2.1.0->-r openvino.txt (line 4)) (3.7.1)\n",
            "Collecting cma==2.7\n",
            "  Downloading cma-2.7.0-py2.py3-none-any.whl (239 kB)\n",
            "\u001b[2K     \u001b[90m━━━━━━━━━━━━━━━━━━━━━━━━━━━━━━━━━━━━━━\u001b[0m \u001b[32m239.1/239.1 KB\u001b[0m \u001b[31m25.7 MB/s\u001b[0m eta \u001b[36m0:00:00\u001b[0m\n",
            "\u001b[?25hRequirement already satisfied: typing-extensions>=3.6.2.1 in /usr/local/lib/python3.9/dist-packages (from onnx>=1.10.1->-r openvino.txt (line 5)) (4.5.0)\n",
            "Collecting protobuf<4,>=3.20.2\n",
            "  Downloading protobuf-3.20.3-cp39-cp39-manylinux_2_5_x86_64.manylinux1_x86_64.whl (1.0 MB)\n",
            "\u001b[2K     \u001b[90m━━━━━━━━━━━━━━━━━━━━━━━━━━━━━━━━━━━━━━━━\u001b[0m \u001b[32m1.0/1.0 MB\u001b[0m \u001b[31m54.7 MB/s\u001b[0m eta \u001b[36m0:00:00\u001b[0m\n",
            "\u001b[?25hCollecting openvino==2022.3.0\n",
            "  Downloading openvino-2022.3.0-9052-cp39-cp39-manylinux_2_17_x86_64.whl (36.4 MB)\n",
            "\u001b[2K     \u001b[90m━━━━━━━━━━━━━━━━━━━━━━━━━━━━━━━━━━━━━━━━\u001b[0m \u001b[32m36.4/36.4 MB\u001b[0m \u001b[31m38.7 MB/s\u001b[0m eta \u001b[36m0:00:00\u001b[0m\n",
            "\u001b[?25hRequirement already satisfied: pyyaml>=5.4.1 in /usr/local/lib/python3.9/dist-packages (from openvino-dev>=2022.3.0->-r openvino.txt (line 6)) (6.0)\n",
            "Requirement already satisfied: pillow>=8.1.2 in /usr/local/lib/python3.9/dist-packages (from openvino-dev>=2022.3.0->-r openvino.txt (line 6)) (8.4.0)\n",
            "Collecting pandas<=1.5.2,>=1.1.5\n",
            "  Downloading pandas-1.3.5-cp39-cp39-manylinux_2_17_x86_64.manylinux2014_x86_64.whl (11.5 MB)\n",
            "\u001b[2K     \u001b[90m━━━━━━━━━━━━━━━━━━━━━━━━━━━━━━━━━━━━━━━\u001b[0m \u001b[32m11.5/11.5 MB\u001b[0m \u001b[31m108.1 MB/s\u001b[0m eta \u001b[36m0:00:00\u001b[0m\n",
            "\u001b[?25hRequirement already satisfied: opencv-python>=4.5 in /usr/local/lib/python3.9/dist-packages (from openvino-dev>=2022.3.0->-r openvino.txt (line 6)) (4.7.0.72)\n",
            "Collecting addict>=2.4.0\n",
            "  Downloading addict-2.4.0-py3-none-any.whl (3.8 kB)\n",
            "Requirement already satisfied: attrs>=17.4.0 in /usr/local/lib/python3.9/dist-packages (from jsonschema>=3.2.0->nncf>=2.1.0->-r openvino.txt (line 4)) (22.2.0)\n",
            "Requirement already satisfied: pyrsistent!=0.17.0,!=0.17.1,!=0.17.2,>=0.14.0 in /usr/local/lib/python3.9/dist-packages (from jsonschema>=3.2.0->nncf>=2.1.0->-r openvino.txt (line 4)) (0.19.3)\n",
            "Requirement already satisfied: python-dateutil>=2.7.3 in /usr/local/lib/python3.9/dist-packages (from pandas<=1.5.2,>=1.1.5->nncf>=2.1.0->-r openvino.txt (line 4)) (2.8.2)\n",
            "Requirement already satisfied: pytz>=2017.3 in /usr/local/lib/python3.9/dist-packages (from pandas<=1.5.2,>=1.1.5->nncf>=2.1.0->-r openvino.txt (line 4)) (2022.7.1)\n",
            "Requirement already satisfied: threadpoolctl>=2.0.0 in /usr/local/lib/python3.9/dist-packages (from scikit-learn>=0.24.0->nncf>=2.1.0->-r openvino.txt (line 4)) (3.1.0)\n",
            "Requirement already satisfied: joblib>=1.1.1 in /usr/local/lib/python3.9/dist-packages (from scikit-learn>=0.24.0->nncf>=2.1.0->-r openvino.txt (line 4)) (1.1.1)\n",
            "Requirement already satisfied: future>=0.15.2 in /usr/local/lib/python3.9/dist-packages (from autograd>=1.3->pymoo==0.5.0->nncf>=2.1.0->-r openvino.txt (line 4)) (0.18.3)\n",
            "Requirement already satisfied: cycler>=0.10 in /usr/local/lib/python3.9/dist-packages (from matplotlib>=3->pymoo==0.5.0->nncf>=2.1.0->-r openvino.txt (line 4)) (0.11.0)\n",
            "Requirement already satisfied: packaging>=20.0 in /usr/local/lib/python3.9/dist-packages (from matplotlib>=3->pymoo==0.5.0->nncf>=2.1.0->-r openvino.txt (line 4)) (23.0)\n",
            "Requirement already satisfied: contourpy>=1.0.1 in /usr/local/lib/python3.9/dist-packages (from matplotlib>=3->pymoo==0.5.0->nncf>=2.1.0->-r openvino.txt (line 4)) (1.0.7)\n",
            "Requirement already satisfied: importlib-resources>=3.2.0 in /usr/local/lib/python3.9/dist-packages (from matplotlib>=3->pymoo==0.5.0->nncf>=2.1.0->-r openvino.txt (line 4)) (5.12.0)\n",
            "Requirement already satisfied: kiwisolver>=1.0.1 in /usr/local/lib/python3.9/dist-packages (from matplotlib>=3->pymoo==0.5.0->nncf>=2.1.0->-r openvino.txt (line 4)) (1.4.4)\n",
            "Requirement already satisfied: fonttools>=4.22.0 in /usr/local/lib/python3.9/dist-packages (from matplotlib>=3->pymoo==0.5.0->nncf>=2.1.0->-r openvino.txt (line 4)) (4.39.2)\n",
            "Requirement already satisfied: six>=1.5 in /usr/local/lib/python3.9/dist-packages (from python-dateutil>=2.7.3->pandas<=1.5.2,>=1.1.5->nncf>=2.1.0->-r openvino.txt (line 4)) (1.16.0)\n",
            "Requirement already satisfied: zipp>=3.1.0 in /usr/local/lib/python3.9/dist-packages (from importlib-resources>=3.2.0->matplotlib>=3->pymoo==0.5.0->nncf>=2.1.0->-r openvino.txt (line 4)) (3.15.0)\n",
            "Building wheels for collected packages: jstyleson\n",
            "  Building wheel for jstyleson (setup.py) ... \u001b[?25l\u001b[?25hdone\n",
            "  Created wheel for jstyleson: filename=jstyleson-0.0.2-py3-none-any.whl size=2398 sha256=7eea69346e850fb8bb4bd4a34d13099c16fbc59875c9a4bf6f147b41c5d0c859\n",
            "  Stored in directory: /root/.cache/pip/wheels/d4/2a/06/11202ea86be0f51f34e9411d691e25b991d188d93ab4d3e551\n",
            "Successfully built jstyleson\n",
            "Installing collected packages: texttable, ninja, jstyleson, cma, addict, scipy, requests, pyparsing, protobuf, openvino, networkx, natsort, pandas, openvino-telemetry, onnx, pymoo, openvino-dev, nncf\n",
            "  Attempting uninstall: scipy\n",
            "    Found existing installation: scipy 1.10.1\n",
            "    Uninstalling scipy-1.10.1:\n",
            "      Successfully uninstalled scipy-1.10.1\n",
            "  Attempting uninstall: requests\n",
            "    Found existing installation: requests 2.27.1\n",
            "    Uninstalling requests-2.27.1:\n",
            "      Successfully uninstalled requests-2.27.1\n",
            "  Attempting uninstall: pyparsing\n",
            "    Found existing installation: pyparsing 3.0.9\n",
            "    Uninstalling pyparsing-3.0.9:\n",
            "      Successfully uninstalled pyparsing-3.0.9\n",
            "  Attempting uninstall: protobuf\n",
            "    Found existing installation: protobuf 3.19.6\n",
            "    Uninstalling protobuf-3.19.6:\n",
            "      Successfully uninstalled protobuf-3.19.6\n",
            "  Attempting uninstall: networkx\n",
            "    Found existing installation: networkx 3.0\n",
            "    Uninstalling networkx-3.0:\n",
            "      Successfully uninstalled networkx-3.0\n",
            "  Attempting uninstall: natsort\n",
            "    Found existing installation: natsort 5.5.0\n",
            "    Uninstalling natsort-5.5.0:\n",
            "      Successfully uninstalled natsort-5.5.0\n",
            "  Attempting uninstall: pandas\n",
            "    Found existing installation: pandas 1.4.4\n",
            "    Uninstalling pandas-1.4.4:\n",
            "      Successfully uninstalled pandas-1.4.4\n",
            "\u001b[31mERROR: pip's dependency resolver does not currently take into account all the packages that are installed. This behaviour is the source of the following dependency conflicts.\n",
            "tweepy 4.13.0 requires requests<3,>=2.27.0, but you have requests 2.26.0 which is incompatible.\n",
            "tensorflow 2.11.0 requires protobuf<3.20,>=3.9.2, but you have protobuf 3.20.3 which is incompatible.\n",
            "google-colab 1.0.0 requires requests>=2.27.0, but you have requests 2.26.0 which is incompatible.\u001b[0m\u001b[31m\n",
            "\u001b[0mSuccessfully installed addict-2.4.0 cma-2.7.0 jstyleson-0.0.2 natsort-8.3.1 networkx-2.8.2 ninja-1.10.2.4 nncf-2.4.0 onnx-1.13.1 openvino-2022.3.0 openvino-dev-2022.3.0 openvino-telemetry-2022.3.0 pandas-1.3.5 protobuf-3.20.3 pymoo-0.5.0 pyparsing-2.4.7 requests-2.26.0 scipy-1.10.0 texttable-1.6.7\n"
          ]
        }
      ]
    },
    {
      "cell_type": "markdown",
      "source": [
        "Restart runtime"
      ],
      "metadata": {
        "id": "vZU2QatiXwxd"
      }
    },
    {
      "cell_type": "code",
      "source": [
        "%cd /content/"
      ],
      "metadata": {
        "colab": {
          "base_uri": "https://localhost:8080/"
        },
        "id": "_LGYo5j_DWnZ",
        "outputId": "34942093-eb7f-4cbd-dad2-aefa174f4021"
      },
      "execution_count": 23,
      "outputs": [
        {
          "output_type": "stream",
          "name": "stdout",
          "text": [
            "/content\n"
          ]
        }
      ]
    },
    {
      "cell_type": "code",
      "source": [
        "!ls"
      ],
      "metadata": {
        "colab": {
          "base_uri": "https://localhost:8080/"
        },
        "id": "RmSyAVs0Dg1O",
        "outputId": "0969b410-07d9-42a2-d026-4bde2309bb7b"
      },
      "execution_count": 24,
      "outputs": [
        {
          "output_type": "stream",
          "name": "stdout",
          "text": [
            "anomalib  sample_data\n"
          ]
        }
      ]
    },
    {
      "cell_type": "code",
      "source": [
        "%cd anomalib"
      ],
      "metadata": {
        "colab": {
          "base_uri": "https://localhost:8080/"
        },
        "id": "r6Sv-afHDkme",
        "outputId": "9865e855-9d0e-4d84-ae70-26332a15b2ca"
      },
      "execution_count": 25,
      "outputs": [
        {
          "output_type": "stream",
          "name": "stdout",
          "text": [
            "/content/anomalib\n"
          ]
        }
      ]
    },
    {
      "cell_type": "code",
      "source": [
        "!python tools/train.py --config anomalib/models/padim/config.yaml\n",
        "!python tools/train.py --config anomalib/models/patchcore/config.yaml\n"
      ],
      "metadata": {
        "id": "ipJSDBmP84YV",
        "colab": {
          "base_uri": "https://localhost:8080/"
        },
        "outputId": "f8af4414-6172-47ac-9fe7-67e4cac02adf"
      },
      "execution_count": 26,
      "outputs": [
        {
          "output_type": "stream",
          "name": "stdout",
          "text": [
            "To use wandb logger install it using `pip install wandb`\n",
            "Traceback (most recent call last):\n",
            "  File \"/content/anomalib/tools/train.py\", line 75, in <module>\n",
            "    train()\n",
            "  File \"/content/anomalib/tools/train.py\", line 50, in train\n",
            "    config = get_configurable_parameters(model_name=args.model, config_path=args.config)\n",
            "  File \"/usr/local/lib/python3.9/dist-packages/anomalib/config/config.py\", line 231, in get_configurable_parameters\n",
            "    config = OmegaConf.load(config_path)\n",
            "  File \"/usr/local/lib/python3.9/dist-packages/omegaconf/omegaconf.py\", line 189, in load\n",
            "    with io.open(os.path.abspath(file_), \"r\", encoding=\"utf-8\") as f:\n",
            "FileNotFoundError: [Errno 2] No such file or directory: '/content/anomalib/anomalib/models/padim/config.yaml'\n",
            "To use wandb logger install it using `pip install wandb`\n",
            "Traceback (most recent call last):\n",
            "  File \"/content/anomalib/tools/train.py\", line 75, in <module>\n",
            "    train()\n",
            "  File \"/content/anomalib/tools/train.py\", line 50, in train\n",
            "    config = get_configurable_parameters(model_name=args.model, config_path=args.config)\n",
            "  File \"/usr/local/lib/python3.9/dist-packages/anomalib/config/config.py\", line 231, in get_configurable_parameters\n",
            "    config = OmegaConf.load(config_path)\n",
            "  File \"/usr/local/lib/python3.9/dist-packages/omegaconf/omegaconf.py\", line 189, in load\n",
            "    with io.open(os.path.abspath(file_), \"r\", encoding=\"utf-8\") as f:\n",
            "FileNotFoundError: [Errno 2] No such file or directory: '/content/anomalib/anomalib/models/patchcore/config.yaml'\n"
          ]
        }
      ]
    },
    {
      "cell_type": "markdown",
      "source": [
        "# Inference"
      ],
      "metadata": {
        "id": "qXGkKsSwdHVH"
      }
    },
    {
      "cell_type": "code",
      "source": [
        "!mkdir test_result"
      ],
      "metadata": {
        "id": "rx0jtHM5uZ04",
        "colab": {
          "base_uri": "https://localhost:8080/"
        },
        "outputId": "0d8def09-24df-4a2a-fba2-a0bd7018c03d"
      },
      "execution_count": 17,
      "outputs": [
        {
          "output_type": "stream",
          "name": "stdout",
          "text": [
            "mkdir: cannot create directory ‘test_result’: File exists\n"
          ]
        }
      ]
    },
    {
      "cell_type": "code",
      "source": [
        "!python tools/inference/lightning_inference.py \\\n",
        "    --config anomalib/models/padim/config.yaml \\\n",
        "    --weights results/padim/mvtec/bottle/weights/model.ckpt \\\n",
        "    --input datasets/MVTec/bottle/test/broken_large/000.png \\\n",
        "    --output test_result"
      ],
      "metadata": {
        "id": "Vg9htEEIC7pp",
        "colab": {
          "base_uri": "https://localhost:8080/"
        },
        "outputId": "3e2d4efc-94b6-42f0-9b97-74408d9ddb00"
      },
      "execution_count": 18,
      "outputs": [
        {
          "output_type": "stream",
          "name": "stdout",
          "text": [
            "python3: can't open file '/content/anomalib/requirements/tools/inference/lightning_inference.py': [Errno 2] No such file or directory\n"
          ]
        }
      ]
    },
    {
      "cell_type": "code",
      "source": [
        "!python tools/inference/lightning_inference.py \\\n",
        "    --config anomalib/models/padim/config.yaml \\\n",
        "    --weights results/padim/mvtec/bottle/weights/model.ckpt \\\n",
        "    --input datasets/MVTec/bottle/test/good/012.png \\\n",
        "    --output test_result \\\n",
        "    --visualization_mode full"
      ],
      "metadata": {
        "id": "487xFn7EDkhl",
        "colab": {
          "base_uri": "https://localhost:8080/"
        },
        "outputId": "044f92b7-2fe6-4343-c43e-1d38a2555583"
      },
      "execution_count": 19,
      "outputs": [
        {
          "output_type": "stream",
          "name": "stdout",
          "text": [
            "python3: can't open file '/content/anomalib/requirements/tools/inference/lightning_inference.py': [Errno 2] No such file or directory\n"
          ]
        }
      ]
    },
    {
      "cell_type": "code",
      "source": [
        "!python tools/inference/openvino_inference.py \\\n",
        "    --config anomalib/models/padim/config.yaml \\\n",
        "    --weights /content/anomalib/results/padim/mvtec/bottle/openvino/model.onnx \\\n",
        "    --input datasets/MVTec/bottle/test/good/012.png \\\n",
        "    --output test_result \\\n",
        "    --visualization_mode full \\\n",
        "    --meta_data /content/anomalib/results/padim/mvtec/bottle/openvino/meta_data.json\n",
        "    "
      ],
      "metadata": {
        "id": "qzlFV3NkFRYE",
        "colab": {
          "base_uri": "https://localhost:8080/"
        },
        "outputId": "95ce70ef-e05e-405f-fb55-149acb64eddd"
      },
      "execution_count": 20,
      "outputs": [
        {
          "output_type": "stream",
          "name": "stdout",
          "text": [
            "python3: can't open file '/content/anomalib/requirements/tools/inference/openvino_inference.py': [Errno 2] No such file or directory\n"
          ]
        }
      ]
    },
    {
      "cell_type": "code",
      "source": [
        "!python tools/inference/openvino_inference.py \\\n",
        "    --config anomalib/models/padim/config.yaml \\\n",
        "    --weights /content/anomalib/results/padim/mvtec/bottle/openvino/model.onnx \\\n",
        "    --input datasets/MVTec/bottle/test/broken_large/000.png \\\n",
        "    --output test_result \\\n",
        "    --visualization_mode full \\\n",
        "    --meta_data /content/anomalib/results/padim/mvtec/bottle/openvino/meta_data.json \\\n",
        "    --visualization_mode full"
      ],
      "metadata": {
        "colab": {
          "base_uri": "https://localhost:8080/"
        },
        "id": "Q4_JcO_RAt_v",
        "outputId": "94a98937-bfcd-4d41-b65c-0d26316d8aef"
      },
      "execution_count": 16,
      "outputs": [
        {
          "output_type": "stream",
          "name": "stdout",
          "text": [
            "python3: can't open file '/content/anomalib/requirements/tools/inference/openvino_inference.py': [Errno 2] No such file or directory\n"
          ]
        }
      ]
    }
  ]
}