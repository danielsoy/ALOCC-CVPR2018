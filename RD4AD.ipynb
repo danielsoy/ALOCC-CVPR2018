{
  "nbformat": 4,
  "nbformat_minor": 0,
  "metadata": {
    "colab": {
      "provenance": [],
      "authorship_tag": "ABX9TyPqxJGxEiGWzY99PohorzwO",
      "include_colab_link": true
    },
    "kernelspec": {
      "name": "python3",
      "display_name": "Python 3"
    },
    "language_info": {
      "name": "python"
    }
  },
  "cells": [
    {
      "cell_type": "markdown",
      "metadata": {
        "id": "view-in-github",
        "colab_type": "text"
      },
      "source": [
        "<a href=\"https://colab.research.google.com/github/danielsoy/ALOCC-CVPR2018/blob/master/RD4AD.ipynb\" target=\"_parent\"><img src=\"https://colab.research.google.com/assets/colab-badge.svg\" alt=\"Open In Colab\"/></a>"
      ]
    },
    {
      "cell_type": "markdown",
      "source": [
        "\n",
        "https://github.com/danielsoy/RD4AD/tree/main"
      ],
      "metadata": {
        "id": "xJ3n7S8-n1sC"
      }
    },
    {
      "cell_type": "code",
      "execution_count": 1,
      "metadata": {
        "colab": {
          "base_uri": "https://localhost:8080/"
        },
        "id": "pZ1NESkpnvxc",
        "outputId": "7b80719f-5550-46b2-9afa-eef1dd60a415"
      },
      "outputs": [
        {
          "output_type": "stream",
          "name": "stdout",
          "text": [
            "Cloning into 'RD4AD'...\n",
            "remote: Enumerating objects: 77, done.\u001b[K\n",
            "remote: Counting objects: 100% (52/52), done.\u001b[K\n",
            "remote: Compressing objects: 100% (21/21), done.\u001b[K\n",
            "remote: Total 77 (delta 45), reused 31 (delta 31), pack-reused 25\u001b[K\n",
            "Unpacking objects: 100% (77/77), 28.08 KiB | 1.56 MiB/s, done.\n"
          ]
        }
      ],
      "source": [
        "!git clone https://github.com/danielsoy/RD4AD.git"
      ]
    },
    {
      "cell_type": "code",
      "source": [
        "from google.colab import drive\n",
        "drive.mount('/content/drive')"
      ],
      "metadata": {
        "id": "4eZmNoErn48w"
      },
      "execution_count": null,
      "outputs": []
    },
    {
      "cell_type": "code",
      "source": [
        "cd /content/RD4AD"
      ],
      "metadata": {
        "id": "NC4OksGvoe9g"
      },
      "execution_count": null,
      "outputs": []
    },
    {
      "cell_type": "code",
      "source": [
        "!python main.py"
      ],
      "metadata": {
        "id": "YZri_1H6oNlV"
      },
      "execution_count": null,
      "outputs": []
    }
  ]
}