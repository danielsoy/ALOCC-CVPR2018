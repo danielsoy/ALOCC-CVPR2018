{
  "nbformat": 4,
  "nbformat_minor": 0,
  "metadata": {
    "colab": {
      "provenance": [],
      "gpuType": "T4",
      "authorship_tag": "ABX9TyMVno+SyQDFVjog3KRoV3iX",
      "include_colab_link": true
    },
    "kernelspec": {
      "name": "python3",
      "display_name": "Python 3"
    },
    "language_info": {
      "name": "python"
    },
    "accelerator": "GPU"
  },
  "cells": [
    {
      "cell_type": "markdown",
      "metadata": {
        "id": "view-in-github",
        "colab_type": "text"
      },
      "source": [
        "<a href=\"https://colab.research.google.com/github/danielsoy/ALOCC-CVPR2018/blob/master/CDO%20salva%20result%20y%20model.ipynb\" target=\"_parent\"><img src=\"https://colab.research.google.com/assets/colab-badge.svg\" alt=\"Open In Colab\"/></a>"
      ]
    },
    {
      "cell_type": "markdown",
      "source": [
        "\n",
        "https://github.com/danielsoy/CDO\n"
      ],
      "metadata": {
        "id": "RZLImozeWnHM"
      }
    },
    {
      "cell_type": "code",
      "source": [
        "!git clone https://github.com/danielsoy/CDO.git"
      ],
      "metadata": {
        "colab": {
          "base_uri": "https://localhost:8080/"
        },
        "id": "zM-4l8p3SnQL",
        "outputId": "02f761ba-6ac1-43d2-e6fa-66e200496623"
      },
      "execution_count": 1,
      "outputs": [
        {
          "output_type": "stream",
          "name": "stdout",
          "text": [
            "Cloning into 'CDO'...\n",
            "remote: Enumerating objects: 53, done.\u001b[K\n",
            "remote: Counting objects: 100% (53/53), done.\u001b[K\n",
            "remote: Compressing objects: 100% (44/44), done.\u001b[K\n",
            "remote: Total 53 (delta 14), reused 38 (delta 7), pack-reused 0\u001b[K\n",
            "Unpacking objects: 100% (53/53), 3.98 MiB | 10.90 MiB/s, done.\n"
          ]
        }
      ]
    },
    {
      "cell_type": "code",
      "execution_count": 2,
      "metadata": {
        "colab": {
          "base_uri": "https://localhost:8080/"
        },
        "id": "l31enEMXSV2j",
        "outputId": "ad05eff2-d6a5-496c-ec0b-9c252a0ce3eb"
      },
      "outputs": [
        {
          "output_type": "stream",
          "name": "stdout",
          "text": [
            "Mounted at /content/drive\n"
          ]
        }
      ],
      "source": [
        "from google.colab import drive\n",
        "drive.mount('/content/drive')"
      ]
    },
    {
      "cell_type": "code",
      "source": [
        "cd /content/CDO"
      ],
      "metadata": {
        "colab": {
          "base_uri": "https://localhost:8080/"
        },
        "id": "D313euV9VRxk",
        "outputId": "90753757-1049-4d37-a636-6bd7923e2533"
      },
      "execution_count": 3,
      "outputs": [
        {
          "output_type": "stream",
          "name": "stdout",
          "text": [
            "/content/CDO\n"
          ]
        }
      ]
    },
    {
      "cell_type": "code",
      "source": [
        "!pip install loguru\n",
        "!pip install yacs\n"
      ],
      "metadata": {
        "colab": {
          "base_uri": "https://localhost:8080/"
        },
        "id": "Pd6VXLH8Vd3b",
        "outputId": "11c33766-e355-4973-8de7-f0a50f40aa41"
      },
      "execution_count": 4,
      "outputs": [
        {
          "output_type": "stream",
          "name": "stdout",
          "text": [
            "Collecting loguru\n",
            "  Downloading loguru-0.7.0-py3-none-any.whl (59 kB)\n",
            "\u001b[?25l     \u001b[90m━━━━━━━━━━━━━━━━━━━━━━━━━━━━━━━━━━━━━━━━\u001b[0m \u001b[32m0.0/60.0 kB\u001b[0m \u001b[31m?\u001b[0m eta \u001b[36m-:--:--\u001b[0m\r\u001b[2K     \u001b[90m━━━━━━━━━━━━━━━━━━━━━━━━━━━━━━━━━━━━━━━━\u001b[0m \u001b[32m60.0/60.0 kB\u001b[0m \u001b[31m3.0 MB/s\u001b[0m eta \u001b[36m0:00:00\u001b[0m\n",
            "\u001b[?25hInstalling collected packages: loguru\n",
            "Successfully installed loguru-0.7.0\n",
            "Collecting yacs\n",
            "  Downloading yacs-0.1.8-py3-none-any.whl (14 kB)\n",
            "Requirement already satisfied: PyYAML in /usr/local/lib/python3.10/dist-packages (from yacs) (6.0)\n",
            "Installing collected packages: yacs\n",
            "Successfully installed yacs-0.1.8\n"
          ]
        }
      ]
    },
    {
      "cell_type": "code",
      "source": [
        "!python train.py --gpu-id 0 --dataset mvtec2d --class-name bottle --backbone hrnet32 --MOM True --OOM True --gamma 2"
      ],
      "metadata": {
        "colab": {
          "base_uri": "https://localhost:8080/"
        },
        "id": "rAZfBqGFVLlL",
        "outputId": "0006ec23-44a9-462c-fd16-92f94253842d"
      },
      "execution_count": 5,
      "outputs": [
        {
          "output_type": "stream",
          "name": "stdout",
          "text": [
            "2023-07-09 22:34:06.391421: I tensorflow/core/platform/cpu_feature_guard.cc:182] This TensorFlow binary is optimized to use available CPU instructions in performance-critical operations.\n",
            "To enable the following instructions: AVX2 FMA, in other operations, rebuild TensorFlow with the appropriate compiler flags.\n",
            "2023-07-09 22:34:07.639127: W tensorflow/compiler/tf2tensorrt/utils/py_utils.cc:38] TF-TRT Warning: Could not find TensorRT\n",
            "\u001b[32m2023-07-09 22:34:09.404\u001b[0m | \u001b[1mINFO    \u001b[0m | \u001b[36m__main__\u001b[0m:\u001b[36mmain\u001b[0m:\u001b[36m74\u001b[0m - \u001b[1m==========running parameters=============\u001b[0m\n",
            "\u001b[32m2023-07-09 22:34:09.404\u001b[0m | \u001b[1mINFO    \u001b[0m | \u001b[36m__main__\u001b[0m:\u001b[36mmain\u001b[0m:\u001b[36m76\u001b[0m - \u001b[1mdataset: mvtec2d\u001b[0m\n",
            "\u001b[32m2023-07-09 22:34:09.404\u001b[0m | \u001b[1mINFO    \u001b[0m | \u001b[36m__main__\u001b[0m:\u001b[36mmain\u001b[0m:\u001b[36m76\u001b[0m - \u001b[1mclass_name: bottle\u001b[0m\n",
            "\u001b[32m2023-07-09 22:34:09.404\u001b[0m | \u001b[1mINFO    \u001b[0m | \u001b[36m__main__\u001b[0m:\u001b[36mmain\u001b[0m:\u001b[36m76\u001b[0m - \u001b[1mimg_resize: 256\u001b[0m\n",
            "\u001b[32m2023-07-09 22:34:09.404\u001b[0m | \u001b[1mINFO    \u001b[0m | \u001b[36m__main__\u001b[0m:\u001b[36mmain\u001b[0m:\u001b[36m76\u001b[0m - \u001b[1mimg_cropsize: 256\u001b[0m\n",
            "\u001b[32m2023-07-09 22:34:09.404\u001b[0m | \u001b[1mINFO    \u001b[0m | \u001b[36m__main__\u001b[0m:\u001b[36mmain\u001b[0m:\u001b[36m76\u001b[0m - \u001b[1mnum_epochs: 50\u001b[0m\n",
            "\u001b[32m2023-07-09 22:34:09.404\u001b[0m | \u001b[1mINFO    \u001b[0m | \u001b[36m__main__\u001b[0m:\u001b[36mmain\u001b[0m:\u001b[36m76\u001b[0m - \u001b[1mvalidation_epoch: 5\u001b[0m\n",
            "\u001b[32m2023-07-09 22:34:09.405\u001b[0m | \u001b[1mINFO    \u001b[0m | \u001b[36m__main__\u001b[0m:\u001b[36mmain\u001b[0m:\u001b[36m76\u001b[0m - \u001b[1mlr: 0.0004\u001b[0m\n",
            "\u001b[32m2023-07-09 22:34:09.405\u001b[0m | \u001b[1mINFO    \u001b[0m | \u001b[36m__main__\u001b[0m:\u001b[36mmain\u001b[0m:\u001b[36m76\u001b[0m - \u001b[1mbatch_size: 16\u001b[0m\n",
            "\u001b[32m2023-07-09 22:34:09.405\u001b[0m | \u001b[1mINFO    \u001b[0m | \u001b[36m__main__\u001b[0m:\u001b[36mmain\u001b[0m:\u001b[36m76\u001b[0m - \u001b[1mvis: True\u001b[0m\n",
            "\u001b[32m2023-07-09 22:34:09.405\u001b[0m | \u001b[1mINFO    \u001b[0m | \u001b[36m__main__\u001b[0m:\u001b[36mmain\u001b[0m:\u001b[36m76\u001b[0m - \u001b[1mroot_dir: ./result\u001b[0m\n",
            "\u001b[32m2023-07-09 22:34:09.405\u001b[0m | \u001b[1mINFO    \u001b[0m | \u001b[36m__main__\u001b[0m:\u001b[36mmain\u001b[0m:\u001b[36m76\u001b[0m - \u001b[1mload_memory: True\u001b[0m\n",
            "\u001b[32m2023-07-09 22:34:09.405\u001b[0m | \u001b[1mINFO    \u001b[0m | \u001b[36m__main__\u001b[0m:\u001b[36mmain\u001b[0m:\u001b[36m76\u001b[0m - \u001b[1mcal_pro: True\u001b[0m\n",
            "\u001b[32m2023-07-09 22:34:09.405\u001b[0m | \u001b[1mINFO    \u001b[0m | \u001b[36m__main__\u001b[0m:\u001b[36mmain\u001b[0m:\u001b[36m76\u001b[0m - \u001b[1mseed: 111\u001b[0m\n",
            "\u001b[32m2023-07-09 22:34:09.405\u001b[0m | \u001b[1mINFO    \u001b[0m | \u001b[36m__main__\u001b[0m:\u001b[36mmain\u001b[0m:\u001b[36m76\u001b[0m - \u001b[1mgpu_id: 0\u001b[0m\n",
            "\u001b[32m2023-07-09 22:34:09.405\u001b[0m | \u001b[1mINFO    \u001b[0m | \u001b[36m__main__\u001b[0m:\u001b[36mmain\u001b[0m:\u001b[36m76\u001b[0m - \u001b[1mpure_test: False\u001b[0m\n",
            "\u001b[32m2023-07-09 22:34:09.405\u001b[0m | \u001b[1mINFO    \u001b[0m | \u001b[36m__main__\u001b[0m:\u001b[36mmain\u001b[0m:\u001b[36m76\u001b[0m - \u001b[1mbackbone: hrnet32\u001b[0m\n",
            "\u001b[32m2023-07-09 22:34:09.406\u001b[0m | \u001b[1mINFO    \u001b[0m | \u001b[36m__main__\u001b[0m:\u001b[36mmain\u001b[0m:\u001b[36m76\u001b[0m - \u001b[1mMOM: True\u001b[0m\n",
            "\u001b[32m2023-07-09 22:34:09.406\u001b[0m | \u001b[1mINFO    \u001b[0m | \u001b[36m__main__\u001b[0m:\u001b[36mmain\u001b[0m:\u001b[36m76\u001b[0m - \u001b[1mOOM: True\u001b[0m\n",
            "\u001b[32m2023-07-09 22:34:09.406\u001b[0m | \u001b[1mINFO    \u001b[0m | \u001b[36m__main__\u001b[0m:\u001b[36mmain\u001b[0m:\u001b[36m76\u001b[0m - \u001b[1mgamma: 2.0\u001b[0m\n",
            "\u001b[32m2023-07-09 22:34:09.406\u001b[0m | \u001b[1mINFO    \u001b[0m | \u001b[36m__main__\u001b[0m:\u001b[36mmain\u001b[0m:\u001b[36m77\u001b[0m - \u001b[1m=========================================\u001b[0m\n",
            "\u001b[32m2023-07-09 22:34:09.415\u001b[0m | \u001b[1mINFO    \u001b[0m | \u001b[36mutils.training_utils\u001b[0m:\u001b[36mget_dir_from_args\u001b[0m:\u001b[36m69\u001b[0m - \u001b[1m===> Root dir for this experiment: ./result/hrnet32-mvtec2d-wi-OOM-wi-MOM/logger/bottle\u001b[0m\n",
            "\u001b[32m2023-07-09 22:34:48.702\u001b[0m | \u001b[1mINFO    \u001b[0m | \u001b[36mdatasets\u001b[0m:\u001b[36mget_dataloader_from_args\u001b[0m:\u001b[36m33\u001b[0m - \u001b[1m===> datasets: mvtec2d, class name/len: bottle/83, batch size: 16\u001b[0m\n",
            "Downloading: \"https://opr74a.dm.files.1drv.com/y4mKOuRSNGQQlp6wm_a9bF-UEQwp6a10xFCLhm4bqjDu6aSNW9yhDRM7qyx0vK0WTh42gEaniUVm3h7pg0H-W0yJff5qQtoAX7Zze4vOsqjoIthp-FW3nlfMD0-gcJi8IiVrMWqVOw2N3MbCud6uQQrTaEAvAdNjtjMpym1JghN-F060rSQKmgtq5R-wJe185IyW4-_c5_ItbhYpCyLxdqdEQ\" to /root/.cache/torch/hub/checkpoints/y4mKOuRSNGQQlp6wm_a9bF-UEQwp6a10xFCLhm4bqjDu6aSNW9yhDRM7qyx0vK0WTh42gEaniUVm3h7pg0H-W0yJff5qQtoAX7Zze4vOsqjoIthp-FW3nlfMD0-gcJi8IiVrMWqVOw2N3MbCud6uQQrTaEAvAdNjtjMpym1JghN-F060rSQKmgtq5R-wJe185IyW4-_c5_ItbhYpCyLxdqdEQ\n",
            "100% 158M/158M [00:03<00:00, 42.7MB/s]\n",
            "\u001b[32m2023-07-09 22:35:04.485\u001b[0m | \u001b[1mINFO    \u001b[0m | \u001b[36mdatasets\u001b[0m:\u001b[36mget_dataloader_from_args\u001b[0m:\u001b[36m33\u001b[0m - \u001b[1m===> datasets: mvtec2d, class name/len: bottle/209, batch size: 16\u001b[0m\n",
            "CDO:bottle:   0% 0/50 [00:00<?, ?it/s]\u001b[32m2023-07-09 22:35:25.073\u001b[0m | \u001b[1mINFO    \u001b[0m | \u001b[36m__main__\u001b[0m:\u001b[36mmain\u001b[0m:\u001b[36m131\u001b[0m - \u001b[1m\n",
            "\u001b[0m\n",
            "\u001b[32m2023-07-09 22:35:25.074\u001b[0m | \u001b[1mINFO    \u001b[0m | \u001b[36m__main__\u001b[0m:\u001b[36mmain\u001b[0m:\u001b[36m135\u001b[0m - \u001b[1mbottle=======i_roc: 86.51\u001b[0m\n",
            "\u001b[32m2023-07-09 22:35:25.074\u001b[0m | \u001b[1mINFO    \u001b[0m | \u001b[36m__main__\u001b[0m:\u001b[36mmain\u001b[0m:\u001b[36m135\u001b[0m - \u001b[1mbottle=======p_roc: 88.11\u001b[0m\n",
            "\u001b[32m2023-07-09 22:35:25.075\u001b[0m | \u001b[1mINFO    \u001b[0m | \u001b[36m__main__\u001b[0m:\u001b[36mmain\u001b[0m:\u001b[36m135\u001b[0m - \u001b[1mbottle=======p_pro: 0.00\u001b[0m\n",
            "\u001b[32m2023-07-09 22:35:25.075\u001b[0m | \u001b[1mINFO    \u001b[0m | \u001b[36m__main__\u001b[0m:\u001b[36mmain\u001b[0m:\u001b[36m135\u001b[0m - \u001b[1mbottle=======threshold: 1.06\u001b[0m\n",
            "CDO:bottle:  10% 5/50 [01:01<08:17, 11.05s/it]\u001b[32m2023-07-09 22:36:24.509\u001b[0m | \u001b[1mINFO    \u001b[0m | \u001b[36m__main__\u001b[0m:\u001b[36mmain\u001b[0m:\u001b[36m131\u001b[0m - \u001b[1m\n",
            "\u001b[0m\n",
            "\u001b[32m2023-07-09 22:36:24.510\u001b[0m | \u001b[1mINFO    \u001b[0m | \u001b[36m__main__\u001b[0m:\u001b[36mmain\u001b[0m:\u001b[36m135\u001b[0m - \u001b[1mbottle=======i_roc: 99.92\u001b[0m\n",
            "\u001b[32m2023-07-09 22:36:24.510\u001b[0m | \u001b[1mINFO    \u001b[0m | \u001b[36m__main__\u001b[0m:\u001b[36mmain\u001b[0m:\u001b[36m135\u001b[0m - \u001b[1mbottle=======p_roc: 99.05\u001b[0m\n",
            "\u001b[32m2023-07-09 22:36:24.511\u001b[0m | \u001b[1mINFO    \u001b[0m | \u001b[36m__main__\u001b[0m:\u001b[36mmain\u001b[0m:\u001b[36m135\u001b[0m - \u001b[1mbottle=======p_pro: 0.00\u001b[0m\n",
            "\u001b[32m2023-07-09 22:36:24.511\u001b[0m | \u001b[1mINFO    \u001b[0m | \u001b[36m__main__\u001b[0m:\u001b[36mmain\u001b[0m:\u001b[36m135\u001b[0m - \u001b[1mbottle=======threshold: 0.66\u001b[0m\n",
            "CDO:bottle:  20% 10/50 [02:01<07:25, 11.13s/it]\u001b[32m2023-07-09 22:37:24.330\u001b[0m | \u001b[1mINFO    \u001b[0m | \u001b[36m__main__\u001b[0m:\u001b[36mmain\u001b[0m:\u001b[36m131\u001b[0m - \u001b[1m\n",
            "\u001b[0m\n",
            "\u001b[32m2023-07-09 22:37:24.331\u001b[0m | \u001b[1mINFO    \u001b[0m | \u001b[36m__main__\u001b[0m:\u001b[36mmain\u001b[0m:\u001b[36m135\u001b[0m - \u001b[1mbottle=======i_roc: 100.00\u001b[0m\n",
            "\u001b[32m2023-07-09 22:37:24.332\u001b[0m | \u001b[1mINFO    \u001b[0m | \u001b[36m__main__\u001b[0m:\u001b[36mmain\u001b[0m:\u001b[36m135\u001b[0m - \u001b[1mbottle=======p_roc: 99.19\u001b[0m\n",
            "\u001b[32m2023-07-09 22:37:24.332\u001b[0m | \u001b[1mINFO    \u001b[0m | \u001b[36m__main__\u001b[0m:\u001b[36mmain\u001b[0m:\u001b[36m135\u001b[0m - \u001b[1mbottle=======p_pro: 0.00\u001b[0m\n",
            "\u001b[32m2023-07-09 22:37:24.332\u001b[0m | \u001b[1mINFO    \u001b[0m | \u001b[36m__main__\u001b[0m:\u001b[36mmain\u001b[0m:\u001b[36m135\u001b[0m - \u001b[1mbottle=======threshold: 0.63\u001b[0m\n",
            "CDO:bottle:  30% 15/50 [03:02<06:31, 11.18s/it]\u001b[32m2023-07-09 22:38:25.799\u001b[0m | \u001b[1mINFO    \u001b[0m | \u001b[36m__main__\u001b[0m:\u001b[36mmain\u001b[0m:\u001b[36m131\u001b[0m - \u001b[1m\n",
            "\u001b[0m\n",
            "\u001b[32m2023-07-09 22:38:25.800\u001b[0m | \u001b[1mINFO    \u001b[0m | \u001b[36m__main__\u001b[0m:\u001b[36mmain\u001b[0m:\u001b[36m135\u001b[0m - \u001b[1mbottle=======i_roc: 100.00\u001b[0m\n",
            "\u001b[32m2023-07-09 22:38:25.801\u001b[0m | \u001b[1mINFO    \u001b[0m | \u001b[36m__main__\u001b[0m:\u001b[36mmain\u001b[0m:\u001b[36m135\u001b[0m - \u001b[1mbottle=======p_roc: 99.20\u001b[0m\n",
            "\u001b[32m2023-07-09 22:38:25.801\u001b[0m | \u001b[1mINFO    \u001b[0m | \u001b[36m__main__\u001b[0m:\u001b[36mmain\u001b[0m:\u001b[36m135\u001b[0m - \u001b[1mbottle=======p_pro: 0.00\u001b[0m\n",
            "\u001b[32m2023-07-09 22:38:25.802\u001b[0m | \u001b[1mINFO    \u001b[0m | \u001b[36m__main__\u001b[0m:\u001b[36mmain\u001b[0m:\u001b[36m135\u001b[0m - \u001b[1mbottle=======threshold: 0.63\u001b[0m\n",
            "CDO:bottle:  40% 20/50 [04:03<05:42, 11.43s/it]\u001b[32m2023-07-09 22:39:26.404\u001b[0m | \u001b[1mINFO    \u001b[0m | \u001b[36m__main__\u001b[0m:\u001b[36mmain\u001b[0m:\u001b[36m131\u001b[0m - \u001b[1m\n",
            "\u001b[0m\n",
            "\u001b[32m2023-07-09 22:39:26.404\u001b[0m | \u001b[1mINFO    \u001b[0m | \u001b[36m__main__\u001b[0m:\u001b[36mmain\u001b[0m:\u001b[36m135\u001b[0m - \u001b[1mbottle=======i_roc: 100.00\u001b[0m\n",
            "\u001b[32m2023-07-09 22:39:26.405\u001b[0m | \u001b[1mINFO    \u001b[0m | \u001b[36m__main__\u001b[0m:\u001b[36mmain\u001b[0m:\u001b[36m135\u001b[0m - \u001b[1mbottle=======p_roc: 99.21\u001b[0m\n",
            "\u001b[32m2023-07-09 22:39:26.405\u001b[0m | \u001b[1mINFO    \u001b[0m | \u001b[36m__main__\u001b[0m:\u001b[36mmain\u001b[0m:\u001b[36m135\u001b[0m - \u001b[1mbottle=======p_pro: 0.00\u001b[0m\n",
            "\u001b[32m2023-07-09 22:39:26.406\u001b[0m | \u001b[1mINFO    \u001b[0m | \u001b[36m__main__\u001b[0m:\u001b[36mmain\u001b[0m:\u001b[36m135\u001b[0m - \u001b[1mbottle=======threshold: 0.63\u001b[0m\n",
            "CDO:bottle:  50% 25/50 [05:04<04:41, 11.26s/it]\u001b[32m2023-07-09 22:40:26.972\u001b[0m | \u001b[1mINFO    \u001b[0m | \u001b[36m__main__\u001b[0m:\u001b[36mmain\u001b[0m:\u001b[36m131\u001b[0m - \u001b[1m\n",
            "\u001b[0m\n",
            "\u001b[32m2023-07-09 22:40:26.973\u001b[0m | \u001b[1mINFO    \u001b[0m | \u001b[36m__main__\u001b[0m:\u001b[36mmain\u001b[0m:\u001b[36m135\u001b[0m - \u001b[1mbottle=======i_roc: 100.00\u001b[0m\n",
            "\u001b[32m2023-07-09 22:40:26.973\u001b[0m | \u001b[1mINFO    \u001b[0m | \u001b[36m__main__\u001b[0m:\u001b[36mmain\u001b[0m:\u001b[36m135\u001b[0m - \u001b[1mbottle=======p_roc: 99.21\u001b[0m\n",
            "\u001b[32m2023-07-09 22:40:26.974\u001b[0m | \u001b[1mINFO    \u001b[0m | \u001b[36m__main__\u001b[0m:\u001b[36mmain\u001b[0m:\u001b[36m135\u001b[0m - \u001b[1mbottle=======p_pro: 0.00\u001b[0m\n",
            "\u001b[32m2023-07-09 22:40:26.974\u001b[0m | \u001b[1mINFO    \u001b[0m | \u001b[36m__main__\u001b[0m:\u001b[36mmain\u001b[0m:\u001b[36m135\u001b[0m - \u001b[1mbottle=======threshold: 0.63\u001b[0m\n",
            "CDO:bottle:  60% 30/50 [06:04<03:43, 11.17s/it]\u001b[32m2023-07-09 22:41:27.669\u001b[0m | \u001b[1mINFO    \u001b[0m | \u001b[36m__main__\u001b[0m:\u001b[36mmain\u001b[0m:\u001b[36m131\u001b[0m - \u001b[1m\n",
            "\u001b[0m\n",
            "\u001b[32m2023-07-09 22:41:27.670\u001b[0m | \u001b[1mINFO    \u001b[0m | \u001b[36m__main__\u001b[0m:\u001b[36mmain\u001b[0m:\u001b[36m135\u001b[0m - \u001b[1mbottle=======i_roc: 100.00\u001b[0m\n",
            "\u001b[32m2023-07-09 22:41:27.671\u001b[0m | \u001b[1mINFO    \u001b[0m | \u001b[36m__main__\u001b[0m:\u001b[36mmain\u001b[0m:\u001b[36m135\u001b[0m - \u001b[1mbottle=======p_roc: 99.20\u001b[0m\n",
            "\u001b[32m2023-07-09 22:41:27.671\u001b[0m | \u001b[1mINFO    \u001b[0m | \u001b[36m__main__\u001b[0m:\u001b[36mmain\u001b[0m:\u001b[36m135\u001b[0m - \u001b[1mbottle=======p_pro: 0.00\u001b[0m\n",
            "\u001b[32m2023-07-09 22:41:27.671\u001b[0m | \u001b[1mINFO    \u001b[0m | \u001b[36m__main__\u001b[0m:\u001b[36mmain\u001b[0m:\u001b[36m135\u001b[0m - \u001b[1mbottle=======threshold: 0.62\u001b[0m\n",
            "CDO:bottle:  70% 35/50 [07:05<02:48, 11.26s/it]\u001b[32m2023-07-09 22:42:27.583\u001b[0m | \u001b[1mINFO    \u001b[0m | \u001b[36m__main__\u001b[0m:\u001b[36mmain\u001b[0m:\u001b[36m131\u001b[0m - \u001b[1m\n",
            "\u001b[0m\n",
            "\u001b[32m2023-07-09 22:42:27.584\u001b[0m | \u001b[1mINFO    \u001b[0m | \u001b[36m__main__\u001b[0m:\u001b[36mmain\u001b[0m:\u001b[36m135\u001b[0m - \u001b[1mbottle=======i_roc: 100.00\u001b[0m\n",
            "\u001b[32m2023-07-09 22:42:27.584\u001b[0m | \u001b[1mINFO    \u001b[0m | \u001b[36m__main__\u001b[0m:\u001b[36mmain\u001b[0m:\u001b[36m135\u001b[0m - \u001b[1mbottle=======p_roc: 99.22\u001b[0m\n",
            "\u001b[32m2023-07-09 22:42:27.584\u001b[0m | \u001b[1mINFO    \u001b[0m | \u001b[36m__main__\u001b[0m:\u001b[36mmain\u001b[0m:\u001b[36m135\u001b[0m - \u001b[1mbottle=======p_pro: 0.00\u001b[0m\n",
            "\u001b[32m2023-07-09 22:42:27.585\u001b[0m | \u001b[1mINFO    \u001b[0m | \u001b[36m__main__\u001b[0m:\u001b[36mmain\u001b[0m:\u001b[36m135\u001b[0m - \u001b[1mbottle=======threshold: 0.62\u001b[0m\n",
            "CDO:bottle:  80% 40/50 [08:05<01:51, 11.12s/it]\u001b[32m2023-07-09 22:43:28.323\u001b[0m | \u001b[1mINFO    \u001b[0m | \u001b[36m__main__\u001b[0m:\u001b[36mmain\u001b[0m:\u001b[36m131\u001b[0m - \u001b[1m\n",
            "\u001b[0m\n",
            "\u001b[32m2023-07-09 22:43:28.324\u001b[0m | \u001b[1mINFO    \u001b[0m | \u001b[36m__main__\u001b[0m:\u001b[36mmain\u001b[0m:\u001b[36m135\u001b[0m - \u001b[1mbottle=======i_roc: 100.00\u001b[0m\n",
            "\u001b[32m2023-07-09 22:43:28.327\u001b[0m | \u001b[1mINFO    \u001b[0m | \u001b[36m__main__\u001b[0m:\u001b[36mmain\u001b[0m:\u001b[36m135\u001b[0m - \u001b[1mbottle=======p_roc: 99.24\u001b[0m\n",
            "\u001b[32m2023-07-09 22:43:28.332\u001b[0m | \u001b[1mINFO    \u001b[0m | \u001b[36m__main__\u001b[0m:\u001b[36mmain\u001b[0m:\u001b[36m135\u001b[0m - \u001b[1mbottle=======p_pro: 0.00\u001b[0m\n",
            "\u001b[32m2023-07-09 22:43:28.333\u001b[0m | \u001b[1mINFO    \u001b[0m | \u001b[36m__main__\u001b[0m:\u001b[36mmain\u001b[0m:\u001b[36m135\u001b[0m - \u001b[1mbottle=======threshold: 0.63\u001b[0m\n",
            "CDO:bottle:  90% 45/50 [09:05<00:56, 11.21s/it]\u001b[32m2023-07-09 22:44:28.130\u001b[0m | \u001b[1mINFO    \u001b[0m | \u001b[36m__main__\u001b[0m:\u001b[36mmain\u001b[0m:\u001b[36m131\u001b[0m - \u001b[1m\n",
            "\u001b[0m\n",
            "\u001b[32m2023-07-09 22:44:28.131\u001b[0m | \u001b[1mINFO    \u001b[0m | \u001b[36m__main__\u001b[0m:\u001b[36mmain\u001b[0m:\u001b[36m135\u001b[0m - \u001b[1mbottle=======i_roc: 100.00\u001b[0m\n",
            "\u001b[32m2023-07-09 22:44:28.132\u001b[0m | \u001b[1mINFO    \u001b[0m | \u001b[36m__main__\u001b[0m:\u001b[36mmain\u001b[0m:\u001b[36m135\u001b[0m - \u001b[1mbottle=======p_roc: 99.25\u001b[0m\n",
            "\u001b[32m2023-07-09 22:44:28.132\u001b[0m | \u001b[1mINFO    \u001b[0m | \u001b[36m__main__\u001b[0m:\u001b[36mmain\u001b[0m:\u001b[36m135\u001b[0m - \u001b[1mbottle=======p_pro: 0.00\u001b[0m\n",
            "\u001b[32m2023-07-09 22:44:28.132\u001b[0m | \u001b[1mINFO    \u001b[0m | \u001b[36m__main__\u001b[0m:\u001b[36mmain\u001b[0m:\u001b[36m135\u001b[0m - \u001b[1mbottle=======threshold: 0.63\u001b[0m\n",
            "CDO:bottle:  98% 49/50 [10:14<00:12, 12.53s/it]\n",
            "Traceback (most recent call last):\n",
            "  File \"/usr/local/lib/python3.10/dist-packages/matplotlib/style/core.py\", line 166, in use\n",
            "    style = _rc_params_in_file(style)\n",
            "  File \"/usr/local/lib/python3.10/dist-packages/matplotlib/__init__.py\", line 850, in _rc_params_in_file\n",
            "    with _open_file_or_url(fname) as fd:\n",
            "  File \"/usr/lib/python3.10/contextlib.py\", line 135, in __enter__\n",
            "    return next(self.gen)\n",
            "  File \"/usr/local/lib/python3.10/dist-packages/matplotlib/__init__.py\", line 827, in _open_file_or_url\n",
            "    with open(fname, encoding='utf-8') as f:\n",
            "FileNotFoundError: [Errno 2] No such file or directory: 'science'\n",
            "\n",
            "The above exception was the direct cause of the following exception:\n",
            "\n",
            "Traceback (most recent call last):\n",
            "  File \"/content/CDO/train.py\", line 202, in <module>\n",
            "    main(args)\n",
            "  File \"/content/CDO/train.py\", line 125, in main\n",
            "    metrics = test_epoch(model, test_dataloader, device, is_viz, img_dir,\n",
            "  File \"/content/CDO/train.py\", line 62, in test_epoch\n",
            "    plot_anomaly_score_distributions({'CDO': scores}, gt_mask_list, save_folder=img_dir,\n",
            "  File \"/content/CDO/utils/visualization.py\", line 66, in plot_anomaly_score_distributions\n",
            "    with plt.style.context(['science', 'ieee', 'no-latex']):\n",
            "  File \"/usr/lib/python3.10/contextlib.py\", line 135, in __enter__\n",
            "    return next(self.gen)\n",
            "  File \"/usr/local/lib/python3.10/dist-packages/matplotlib/style/core.py\", line 223, in context\n",
            "    use(style)\n",
            "  File \"/usr/local/lib/python3.10/dist-packages/matplotlib/style/core.py\", line 168, in use\n",
            "    raise IOError(\n",
            "OSError: 'science' is not a valid package style, path of style file, URL of style file, or library style name (library styles are listed in `style.available`)\n"
          ]
        }
      ]
    },
    {
      "cell_type": "code",
      "source": [
        "from google.colab import files\n",
        "\n",
        "\n",
        "\n",
        "!zip -r /content/models.zip /content/CDO/models\n",
        "\n",
        "\n",
        "files.download('/content/models.zip')"
      ],
      "metadata": {
        "colab": {
          "base_uri": "https://localhost:8080/",
          "height": 506
        },
        "id": "dfTVf7pUyVOm",
        "outputId": "d886e0dc-25f5-40b3-d884-f5d20fc15d9c"
      },
      "execution_count": 7,
      "outputs": [
        {
          "output_type": "stream",
          "name": "stdout",
          "text": [
            "\tzip warning: name not matched: /content/AST/viz\n",
            "\n",
            "zip error: Nothing to do! (try: zip -r /content/AZT-viz.zip . -i /content/AST/viz)\n",
            "  adding: content/CDO/models/ (stored 0%)\n",
            "  adding: content/CDO/models/hrnet/ (stored 0%)\n",
            "  adding: content/CDO/models/hrnet/__pycache__/ (stored 0%)\n",
            "  adding: content/CDO/models/hrnet/__pycache__/__init__.cpython-310.pyc (deflated 26%)\n",
            "  adding: content/CDO/models/hrnet/__pycache__/hrnet.cpython-310.pyc (deflated 53%)\n",
            "  adding: content/CDO/models/hrnet/config/ (stored 0%)\n",
            "  adding: content/CDO/models/hrnet/config/default.py (deflated 59%)\n",
            "  adding: content/CDO/models/hrnet/config/__pycache__/ (stored 0%)\n",
            "  adding: content/CDO/models/hrnet/config/__pycache__/default.cpython-310.pyc (deflated 40%)\n",
            "  adding: content/CDO/models/hrnet/config/__pycache__/__init__.cpython-310.pyc (deflated 28%)\n",
            "  adding: content/CDO/models/hrnet/config/__pycache__/hrnet_config.cpython-310.pyc (deflated 54%)\n",
            "  adding: content/CDO/models/hrnet/config/__pycache__/models.cpython-310.pyc (deflated 36%)\n",
            "  adding: content/CDO/models/hrnet/config/models.py (deflated 70%)\n",
            "  adding: content/CDO/models/hrnet/config/hrnet_config.py (deflated 79%)\n",
            "  adding: content/CDO/models/hrnet/config/__init__.py (deflated 59%)\n",
            "  adding: content/CDO/models/hrnet/hrnet.py (deflated 81%)\n",
            "  adding: content/CDO/models/hrnet/__init__.py (stored 0%)\n",
            "  adding: content/CDO/models/resnet.py (deflated 84%)\n",
            "  adding: content/CDO/models/CDO.py (deflated 71%)\n",
            "  adding: content/CDO/models/__pycache__/ (stored 0%)\n",
            "  adding: content/CDO/models/__pycache__/__init__.cpython-310.pyc (deflated 28%)\n",
            "  adding: content/CDO/models/__pycache__/resnet.cpython-310.pyc (deflated 64%)\n",
            "  adding: content/CDO/models/__pycache__/CDO.cpython-310.pyc (deflated 45%)\n",
            "  adding: content/CDO/models/__init__.py (deflated 31%)\n"
          ]
        },
        {
          "output_type": "display_data",
          "data": {
            "text/plain": [
              "<IPython.core.display.Javascript object>"
            ],
            "application/javascript": [
              "\n",
              "    async function download(id, filename, size) {\n",
              "      if (!google.colab.kernel.accessAllowed) {\n",
              "        return;\n",
              "      }\n",
              "      const div = document.createElement('div');\n",
              "      const label = document.createElement('label');\n",
              "      label.textContent = `Downloading \"${filename}\": `;\n",
              "      div.appendChild(label);\n",
              "      const progress = document.createElement('progress');\n",
              "      progress.max = size;\n",
              "      div.appendChild(progress);\n",
              "      document.body.appendChild(div);\n",
              "\n",
              "      const buffers = [];\n",
              "      let downloaded = 0;\n",
              "\n",
              "      const channel = await google.colab.kernel.comms.open(id);\n",
              "      // Send a message to notify the kernel that we're ready.\n",
              "      channel.send({})\n",
              "\n",
              "      for await (const message of channel.messages) {\n",
              "        // Send a message to notify the kernel that we're ready.\n",
              "        channel.send({})\n",
              "        if (message.buffers) {\n",
              "          for (const buffer of message.buffers) {\n",
              "            buffers.push(buffer);\n",
              "            downloaded += buffer.byteLength;\n",
              "            progress.value = downloaded;\n",
              "          }\n",
              "        }\n",
              "      }\n",
              "      const blob = new Blob(buffers, {type: 'application/binary'});\n",
              "      const a = document.createElement('a');\n",
              "      a.href = window.URL.createObjectURL(blob);\n",
              "      a.download = filename;\n",
              "      div.appendChild(a);\n",
              "      a.click();\n",
              "      div.remove();\n",
              "    }\n",
              "  "
            ]
          },
          "metadata": {}
        },
        {
          "output_type": "display_data",
          "data": {
            "text/plain": [
              "<IPython.core.display.Javascript object>"
            ],
            "application/javascript": [
              "download(\"download_2bd61106-8612-4172-abff-68d905f431a2\", \"models.zip\", 36991)"
            ]
          },
          "metadata": {}
        }
      ]
    },
    {
      "cell_type": "code",
      "source": [
        "\n",
        "\n",
        "!zip -r /content/result.zip /content/CDO/result\n",
        "\n",
        "\n",
        "files.download('/content/result.zip')"
      ],
      "metadata": {
        "colab": {
          "base_uri": "https://localhost:8080/",
          "height": 1000
        },
        "id": "Qn1L4eYh1UvO",
        "outputId": "bdc51814-84bf-40db-f84e-a28138149b28"
      },
      "execution_count": 8,
      "outputs": [
        {
          "output_type": "stream",
          "name": "stdout",
          "text": [
            "  adding: content/CDO/result/ (stored 0%)\n",
            "  adding: content/CDO/result/tensorboard/ (stored 0%)\n",
            "  adding: content/CDO/result/tensorboard/hrnet32-mvtec2d-wi-OOM-wi-MOM/ (stored 0%)\n",
            "  adding: content/CDO/result/tensorboard/hrnet32-mvtec2d-wi-OOM-wi-MOM/bottle/ (stored 0%)\n",
            "  adding: content/CDO/result/tensorboard/hrnet32-mvtec2d-wi-OOM-wi-MOM/bottle/events.out.tfevents.1688942094.36221f9a721a.2592.0 (deflated 58%)\n",
            "  adding: content/CDO/result/hrnet32-mvtec2d-wi-OOM-wi-MOM/ (stored 0%)\n",
            "  adding: content/CDO/result/hrnet32-mvtec2d-wi-OOM-wi-MOM/models/ (stored 0%)\n",
            "  adding: content/CDO/result/hrnet32-mvtec2d-wi-OOM-wi-MOM/models/bottle.pt (deflated 8%)\n",
            "  adding: content/CDO/result/hrnet32-mvtec2d-wi-OOM-wi-MOM/imgs/ (stored 0%)\n",
            "  adding: content/CDO/result/hrnet32-mvtec2d-wi-OOM-wi-MOM/imgs/bottle_good_017_gt.jpg (deflated 2%)\n",
            "  adding: content/CDO/result/hrnet32-mvtec2d-wi-OOM-wi-MOM/imgs/bottle_contamination_017_CDO.jpg (deflated 1%)\n",
            "  adding: content/CDO/result/hrnet32-mvtec2d-wi-OOM-wi-MOM/imgs/bottle_broken_small_011_ori.jpg (deflated 2%)\n",
            "  adding: content/CDO/result/hrnet32-mvtec2d-wi-OOM-wi-MOM/imgs/bottle_broken_small_014_gt.jpg (deflated 2%)\n",
            "  adding: content/CDO/result/hrnet32-mvtec2d-wi-OOM-wi-MOM/imgs/bottle_broken_small_012_ori.jpg (deflated 2%)\n",
            "  adding: content/CDO/result/hrnet32-mvtec2d-wi-OOM-wi-MOM/imgs/bottle_good_007_CDO.jpg (deflated 1%)\n",
            "  adding: content/CDO/result/hrnet32-mvtec2d-wi-OOM-wi-MOM/imgs/bottle_good_015_gt.jpg (deflated 2%)\n",
            "  adding: content/CDO/result/hrnet32-mvtec2d-wi-OOM-wi-MOM/imgs/bottle_contamination_020_ori.jpg (deflated 2%)\n",
            "  adding: content/CDO/result/hrnet32-mvtec2d-wi-OOM-wi-MOM/imgs/bottle_broken_large_006_gt.jpg (deflated 2%)\n",
            "  adding: content/CDO/result/hrnet32-mvtec2d-wi-OOM-wi-MOM/imgs/bottle_broken_small_020_gt.jpg (deflated 2%)\n",
            "  adding: content/CDO/result/hrnet32-mvtec2d-wi-OOM-wi-MOM/imgs/bottle_contamination_009_CDO.jpg (deflated 1%)\n",
            "  adding: content/CDO/result/hrnet32-mvtec2d-wi-OOM-wi-MOM/imgs/bottle_broken_small_013_CDO.jpg (deflated 1%)\n",
            "  adding: content/CDO/result/hrnet32-mvtec2d-wi-OOM-wi-MOM/imgs/bottle_broken_small_021_CDO.jpg (deflated 1%)\n",
            "  adding: content/CDO/result/hrnet32-mvtec2d-wi-OOM-wi-MOM/imgs/bottle_broken_large_012_ori.jpg (deflated 2%)\n",
            "  adding: content/CDO/result/hrnet32-mvtec2d-wi-OOM-wi-MOM/imgs/bottle_broken_large_000_CDO.jpg (deflated 1%)\n",
            "  adding: content/CDO/result/hrnet32-mvtec2d-wi-OOM-wi-MOM/imgs/bottle_contamination_012_gt.jpg (deflated 2%)\n",
            "  adding: content/CDO/result/hrnet32-mvtec2d-wi-OOM-wi-MOM/imgs/bottle_contamination_010_gt.jpg (deflated 2%)\n",
            "  adding: content/CDO/result/hrnet32-mvtec2d-wi-OOM-wi-MOM/imgs/bottle_broken_large_007_gt.jpg (deflated 2%)\n",
            "  adding: content/CDO/result/hrnet32-mvtec2d-wi-OOM-wi-MOM/imgs/bottle_broken_large_016_CDO.jpg (deflated 1%)\n",
            "  adding: content/CDO/result/hrnet32-mvtec2d-wi-OOM-wi-MOM/imgs/bottle_broken_large_011_gt.jpg (deflated 2%)\n",
            "  adding: content/CDO/result/hrnet32-mvtec2d-wi-OOM-wi-MOM/imgs/bottle_broken_large_003_ori.jpg (deflated 2%)\n",
            "  adding: content/CDO/result/hrnet32-mvtec2d-wi-OOM-wi-MOM/imgs/bottle_broken_small_000_gt.jpg (deflated 2%)\n",
            "  adding: content/CDO/result/hrnet32-mvtec2d-wi-OOM-wi-MOM/imgs/bottle_broken_large_010_gt.jpg (deflated 2%)\n",
            "  adding: content/CDO/result/hrnet32-mvtec2d-wi-OOM-wi-MOM/imgs/bottle_broken_large_018_ori.jpg (deflated 2%)\n",
            "  adding: content/CDO/result/hrnet32-mvtec2d-wi-OOM-wi-MOM/imgs/bottle_broken_small_001_CDO.jpg (deflated 1%)\n",
            "  adding: content/CDO/result/hrnet32-mvtec2d-wi-OOM-wi-MOM/imgs/bottle_contamination_020_gt.jpg (deflated 2%)\n",
            "  adding: content/CDO/result/hrnet32-mvtec2d-wi-OOM-wi-MOM/imgs/bottle_broken_large_009_ori.jpg (deflated 2%)\n",
            "  adding: content/CDO/result/hrnet32-mvtec2d-wi-OOM-wi-MOM/imgs/bottle_contamination_000_gt.jpg (deflated 2%)\n",
            "  adding: content/CDO/result/hrnet32-mvtec2d-wi-OOM-wi-MOM/imgs/bottle_good_010_CDO.jpg (deflated 1%)\n",
            "  adding: content/CDO/result/hrnet32-mvtec2d-wi-OOM-wi-MOM/imgs/bottle_broken_small_019_ori.jpg (deflated 2%)\n",
            "  adding: content/CDO/result/hrnet32-mvtec2d-wi-OOM-wi-MOM/imgs/bottle_broken_small_017_ori.jpg (deflated 2%)\n",
            "  adding: content/CDO/result/hrnet32-mvtec2d-wi-OOM-wi-MOM/imgs/bottle_broken_small_015_CDO.jpg (deflated 1%)\n",
            "  adding: content/CDO/result/hrnet32-mvtec2d-wi-OOM-wi-MOM/imgs/bottle_good_019_CDO.jpg (deflated 1%)\n",
            "  adding: content/CDO/result/hrnet32-mvtec2d-wi-OOM-wi-MOM/imgs/bottle_broken_large_001_gt.jpg (deflated 2%)\n",
            "  adding: content/CDO/result/hrnet32-mvtec2d-wi-OOM-wi-MOM/imgs/bottle_broken_small_020_ori.jpg (deflated 2%)\n",
            "  adding: content/CDO/result/hrnet32-mvtec2d-wi-OOM-wi-MOM/imgs/bottle_contamination_009_ori.jpg (deflated 2%)\n",
            "  adding: content/CDO/result/hrnet32-mvtec2d-wi-OOM-wi-MOM/imgs/bottle_broken_large_011_ori.jpg (deflated 2%)\n",
            "  adding: content/CDO/result/hrnet32-mvtec2d-wi-OOM-wi-MOM/imgs/bottle_broken_large_001_CDO.jpg (deflated 1%)\n",
            "  adding: content/CDO/result/hrnet32-mvtec2d-wi-OOM-wi-MOM/imgs/bottle_good_000_CDO.jpg (deflated 1%)\n",
            "  adding: content/CDO/result/hrnet32-mvtec2d-wi-OOM-wi-MOM/imgs/bottle_broken_small_004_CDO.jpg (deflated 1%)\n",
            "  adding: content/CDO/result/hrnet32-mvtec2d-wi-OOM-wi-MOM/imgs/bottle_broken_large_000_ori.jpg (deflated 2%)\n",
            "  adding: content/CDO/result/hrnet32-mvtec2d-wi-OOM-wi-MOM/imgs/bottle_broken_small_003_gt.jpg (deflated 2%)\n",
            "  adding: content/CDO/result/hrnet32-mvtec2d-wi-OOM-wi-MOM/imgs/bottle_contamination_017_gt.jpg (deflated 2%)\n",
            "  adding: content/CDO/result/hrnet32-mvtec2d-wi-OOM-wi-MOM/imgs/bottle_contamination_005_ori.jpg (deflated 2%)\n",
            "  adding: content/CDO/result/hrnet32-mvtec2d-wi-OOM-wi-MOM/imgs/bottle_broken_large_013_gt.jpg (deflated 2%)\n",
            "  adding: content/CDO/result/hrnet32-mvtec2d-wi-OOM-wi-MOM/imgs/bottle_broken_large_012_gt.jpg (deflated 2%)\n",
            "  adding: content/CDO/result/hrnet32-mvtec2d-wi-OOM-wi-MOM/imgs/bottle_contamination_019_ori.jpg (deflated 2%)\n",
            "  adding: content/CDO/result/hrnet32-mvtec2d-wi-OOM-wi-MOM/imgs/bottle_broken_small_008_gt.jpg (deflated 2%)\n",
            "  adding: content/CDO/result/hrnet32-mvtec2d-wi-OOM-wi-MOM/imgs/bottle_good_001_ori.jpg (deflated 2%)\n",
            "  adding: content/CDO/result/hrnet32-mvtec2d-wi-OOM-wi-MOM/imgs/bottle_broken_small_008_ori.jpg (deflated 2%)\n",
            "  adding: content/CDO/result/hrnet32-mvtec2d-wi-OOM-wi-MOM/imgs/bottle_contamination_006_gt.jpg (deflated 2%)\n",
            "  adding: content/CDO/result/hrnet32-mvtec2d-wi-OOM-wi-MOM/imgs/bottle_broken_small_000_ori.jpg (deflated 2%)\n",
            "  adding: content/CDO/result/hrnet32-mvtec2d-wi-OOM-wi-MOM/imgs/bottle_broken_large_004_CDO.jpg (deflated 1%)\n",
            "  adding: content/CDO/result/hrnet32-mvtec2d-wi-OOM-wi-MOM/imgs/bottle_broken_small_018_ori.jpg (deflated 2%)\n",
            "  adding: content/CDO/result/hrnet32-mvtec2d-wi-OOM-wi-MOM/imgs/bottle_broken_small_012_CDO.jpg (deflated 1%)\n",
            "  adding: content/CDO/result/hrnet32-mvtec2d-wi-OOM-wi-MOM/imgs/bottle_broken_large_015_ori.jpg (deflated 2%)\n",
            "  adding: content/CDO/result/hrnet32-mvtec2d-wi-OOM-wi-MOM/imgs/bottle_contamination_001_CDO.jpg (deflated 1%)\n",
            "  adding: content/CDO/result/hrnet32-mvtec2d-wi-OOM-wi-MOM/imgs/bottle_contamination_002_gt.jpg (deflated 2%)\n",
            "  adding: content/CDO/result/hrnet32-mvtec2d-wi-OOM-wi-MOM/imgs/bottle_broken_large_019_ori.jpg (deflated 2%)\n",
            "  adding: content/CDO/result/hrnet32-mvtec2d-wi-OOM-wi-MOM/imgs/bottle_good_004_CDO.jpg (deflated 1%)\n",
            "  adding: content/CDO/result/hrnet32-mvtec2d-wi-OOM-wi-MOM/imgs/bottle_contamination_013_CDO.jpg (deflated 1%)\n",
            "  adding: content/CDO/result/hrnet32-mvtec2d-wi-OOM-wi-MOM/imgs/bottle_broken_small_016_CDO.jpg (deflated 1%)\n",
            "  adding: content/CDO/result/hrnet32-mvtec2d-wi-OOM-wi-MOM/imgs/bottle_broken_large_008_ori.jpg (deflated 2%)\n",
            "  adding: content/CDO/result/hrnet32-mvtec2d-wi-OOM-wi-MOM/imgs/bottle_contamination_016_gt.jpg (deflated 2%)\n",
            "  adding: content/CDO/result/hrnet32-mvtec2d-wi-OOM-wi-MOM/imgs/bottle_contamination_007_gt.jpg (deflated 2%)\n",
            "  adding: content/CDO/result/hrnet32-mvtec2d-wi-OOM-wi-MOM/imgs/bottle_good_016_ori.jpg (deflated 2%)\n",
            "  adding: content/CDO/result/hrnet32-mvtec2d-wi-OOM-wi-MOM/imgs/bottle_broken_large_003_gt.jpg (deflated 2%)\n",
            "  adding: content/CDO/result/hrnet32-mvtec2d-wi-OOM-wi-MOM/imgs/bottle_broken_small_010_ori.jpg (deflated 2%)\n",
            "  adding: content/CDO/result/hrnet32-mvtec2d-wi-OOM-wi-MOM/imgs/bottle_broken_large_001_ori.jpg (deflated 2%)\n",
            "  adding: content/CDO/result/hrnet32-mvtec2d-wi-OOM-wi-MOM/imgs/bottle_broken_small_003_CDO.jpg (deflated 1%)\n",
            "  adding: content/CDO/result/hrnet32-mvtec2d-wi-OOM-wi-MOM/imgs/bottle_broken_small_016_ori.jpg (deflated 2%)\n",
            "  adding: content/CDO/result/hrnet32-mvtec2d-wi-OOM-wi-MOM/imgs/bottle_contamination_003_gt.jpg (deflated 2%)\n",
            "  adding: content/CDO/result/hrnet32-mvtec2d-wi-OOM-wi-MOM/imgs/bottle_broken_small_019_CDO.jpg (deflated 1%)\n",
            "  adding: content/CDO/result/hrnet32-mvtec2d-wi-OOM-wi-MOM/imgs/bottle_good_007_ori.jpg (deflated 2%)\n",
            "  adding: content/CDO/result/hrnet32-mvtec2d-wi-OOM-wi-MOM/imgs/bottle_contamination_008_CDO.jpg (deflated 1%)\n",
            "  adding: content/CDO/result/hrnet32-mvtec2d-wi-OOM-wi-MOM/imgs/bottle_broken_small_013_ori.jpg (deflated 2%)\n",
            "  adding: content/CDO/result/hrnet32-mvtec2d-wi-OOM-wi-MOM/imgs/bottle_good_012_gt.jpg (deflated 2%)\n",
            "  adding: content/CDO/result/hrnet32-mvtec2d-wi-OOM-wi-MOM/imgs/bottle_good_006_CDO.jpg (deflated 1%)\n",
            "  adding: content/CDO/result/hrnet32-mvtec2d-wi-OOM-wi-MOM/imgs/bottle_contamination_004_ori.jpg (deflated 2%)\n",
            "  adding: content/CDO/result/hrnet32-mvtec2d-wi-OOM-wi-MOM/imgs/bottle_broken_large_009_CDO.jpg (deflated 1%)\n",
            "  adding: content/CDO/result/hrnet32-mvtec2d-wi-OOM-wi-MOM/imgs/bottle_good_008_ori.jpg (deflated 2%)\n",
            "  adding: content/CDO/result/hrnet32-mvtec2d-wi-OOM-wi-MOM/imgs/bottle_broken_large_005_ori.jpg (deflated 2%)\n",
            "  adding: content/CDO/result/hrnet32-mvtec2d-wi-OOM-wi-MOM/imgs/bottle_contamination_014_ori.jpg (deflated 2%)\n",
            "  adding: content/CDO/result/hrnet32-mvtec2d-wi-OOM-wi-MOM/imgs/bottle_good_012_ori.jpg (deflated 2%)\n",
            "  adding: content/CDO/result/hrnet32-mvtec2d-wi-OOM-wi-MOM/imgs/bottle_good_006_ori.jpg (deflated 2%)\n",
            "  adding: content/CDO/result/hrnet32-mvtec2d-wi-OOM-wi-MOM/imgs/bottle_broken_small_018_gt.jpg (deflated 2%)\n",
            "  adding: content/CDO/result/hrnet32-mvtec2d-wi-OOM-wi-MOM/imgs/bottle_contamination_019_CDO.jpg (deflated 1%)\n",
            "  adding: content/CDO/result/hrnet32-mvtec2d-wi-OOM-wi-MOM/imgs/bottle_broken_small_009_CDO.jpg (deflated 1%)\n",
            "  adding: content/CDO/result/hrnet32-mvtec2d-wi-OOM-wi-MOM/imgs/bottle_good_008_gt.jpg (deflated 2%)\n",
            "  adding: content/CDO/result/hrnet32-mvtec2d-wi-OOM-wi-MOM/imgs/bottle_broken_large_017_ori.jpg (deflated 2%)\n",
            "  adding: content/CDO/result/hrnet32-mvtec2d-wi-OOM-wi-MOM/imgs/bottle_broken_large_002_gt.jpg (deflated 2%)\n",
            "  adding: content/CDO/result/hrnet32-mvtec2d-wi-OOM-wi-MOM/imgs/bottle_broken_small_006_CDO.jpg (deflated 1%)\n",
            "  adding: content/CDO/result/hrnet32-mvtec2d-wi-OOM-wi-MOM/imgs/bottle_broken_small_002_CDO.jpg (deflated 1%)\n",
            "  adding: content/CDO/result/hrnet32-mvtec2d-wi-OOM-wi-MOM/imgs/bottle_broken_large_007_CDO.jpg (deflated 1%)\n",
            "  adding: content/CDO/result/hrnet32-mvtec2d-wi-OOM-wi-MOM/imgs/bottle_good_003_CDO.jpg (deflated 1%)\n",
            "  adding: content/CDO/result/hrnet32-mvtec2d-wi-OOM-wi-MOM/imgs/bottle_broken_large_015_gt.jpg (deflated 2%)\n",
            "  adding: content/CDO/result/hrnet32-mvtec2d-wi-OOM-wi-MOM/imgs/bottle_good_011_ori.jpg (deflated 2%)\n",
            "  adding: content/CDO/result/hrnet32-mvtec2d-wi-OOM-wi-MOM/imgs/bottle_good_014_CDO.jpg (deflated 1%)\n",
            "  adding: content/CDO/result/hrnet32-mvtec2d-wi-OOM-wi-MOM/imgs/bottle_good_013_ori.jpg (deflated 2%)\n",
            "  adding: content/CDO/result/hrnet32-mvtec2d-wi-OOM-wi-MOM/imgs/bottle_good_016_CDO.jpg (deflated 1%)\n",
            "  adding: content/CDO/result/hrnet32-mvtec2d-wi-OOM-wi-MOM/imgs/bottle_broken_small_007_ori.jpg (deflated 2%)\n",
            "  adding: content/CDO/result/hrnet32-mvtec2d-wi-OOM-wi-MOM/imgs/bottle_broken_large_019_CDO.jpg (deflated 1%)\n",
            "  adding: content/CDO/result/hrnet32-mvtec2d-wi-OOM-wi-MOM/imgs/bottle_broken_large_019_gt.jpg (deflated 2%)\n",
            "  adding: content/CDO/result/hrnet32-mvtec2d-wi-OOM-wi-MOM/imgs/bottle_contamination_020_CDO.jpg (deflated 1%)\n",
            "  adding: content/CDO/result/hrnet32-mvtec2d-wi-OOM-wi-MOM/imgs/bottle_good_005_CDO.jpg (deflated 1%)\n",
            "  adding: content/CDO/result/hrnet32-mvtec2d-wi-OOM-wi-MOM/imgs/bottle_broken_small_011_gt.jpg (deflated 2%)\n",
            "  adding: content/CDO/result/hrnet32-mvtec2d-wi-OOM-wi-MOM/imgs/bottle_broken_small_017_CDO.jpg (deflated 1%)\n",
            "  adding: content/CDO/result/hrnet32-mvtec2d-wi-OOM-wi-MOM/imgs/bottle_contamination_001_gt.jpg (deflated 2%)\n",
            "  adding: content/CDO/result/hrnet32-mvtec2d-wi-OOM-wi-MOM/imgs/bottle_broken_large_014_gt.jpg (deflated 2%)\n",
            "  adding: content/CDO/result/hrnet32-mvtec2d-wi-OOM-wi-MOM/imgs/bottle_contamination_011_gt.jpg (deflated 2%)\n",
            "  adding: content/CDO/result/hrnet32-mvtec2d-wi-OOM-wi-MOM/imgs/bottle_broken_small_009_ori.jpg (deflated 2%)\n",
            "  adding: content/CDO/result/hrnet32-mvtec2d-wi-OOM-wi-MOM/imgs/bottle_good_015_CDO.jpg (deflated 1%)\n",
            "  adding: content/CDO/result/hrnet32-mvtec2d-wi-OOM-wi-MOM/imgs/bottle_good_019_ori.jpg (deflated 2%)\n",
            "  adding: content/CDO/result/hrnet32-mvtec2d-wi-OOM-wi-MOM/imgs/bottle_contamination_015_CDO.jpg (deflated 1%)\n",
            "  adding: content/CDO/result/hrnet32-mvtec2d-wi-OOM-wi-MOM/imgs/bottle_broken_large_004_ori.jpg (deflated 2%)\n",
            "  adding: content/CDO/result/hrnet32-mvtec2d-wi-OOM-wi-MOM/imgs/bottle_broken_small_009_gt.jpg (deflated 2%)\n",
            "  adding: content/CDO/result/hrnet32-mvtec2d-wi-OOM-wi-MOM/imgs/bottle_good_002_gt.jpg (deflated 2%)\n",
            "  adding: content/CDO/result/hrnet32-mvtec2d-wi-OOM-wi-MOM/imgs/bottle_contamination_018_ori.jpg (deflated 2%)\n",
            "  adding: content/CDO/result/hrnet32-mvtec2d-wi-OOM-wi-MOM/imgs/bottle_broken_small_002_gt.jpg (deflated 2%)\n",
            "  adding: content/CDO/result/hrnet32-mvtec2d-wi-OOM-wi-MOM/imgs/bottle_contamination_017_ori.jpg (deflated 2%)\n",
            "  adding: content/CDO/result/hrnet32-mvtec2d-wi-OOM-wi-MOM/imgs/bottle_contamination_014_gt.jpg (deflated 2%)\n",
            "  adding: content/CDO/result/hrnet32-mvtec2d-wi-OOM-wi-MOM/imgs/bottle_contamination_019_gt.jpg (deflated 2%)\n",
            "  adding: content/CDO/result/hrnet32-mvtec2d-wi-OOM-wi-MOM/imgs/bottle_broken_small_010_gt.jpg (deflated 2%)\n",
            "  adding: content/CDO/result/hrnet32-mvtec2d-wi-OOM-wi-MOM/imgs/bottle_good_014_gt.jpg (deflated 2%)\n",
            "  adding: content/CDO/result/hrnet32-mvtec2d-wi-OOM-wi-MOM/imgs/bottle_good_013_CDO.jpg (deflated 1%)\n",
            "  adding: content/CDO/result/hrnet32-mvtec2d-wi-OOM-wi-MOM/imgs/bottle_contamination_013_gt.jpg (deflated 2%)\n",
            "  adding: content/CDO/result/hrnet32-mvtec2d-wi-OOM-wi-MOM/imgs/bottle_broken_large_010_ori.jpg (deflated 2%)\n",
            "  adding: content/CDO/result/hrnet32-mvtec2d-wi-OOM-wi-MOM/imgs/bottle_good_005_gt.jpg (deflated 2%)\n",
            "  adding: content/CDO/result/hrnet32-mvtec2d-wi-OOM-wi-MOM/imgs/bottle_contamination_011_ori.jpg (deflated 2%)\n",
            "  adding: content/CDO/result/hrnet32-mvtec2d-wi-OOM-wi-MOM/imgs/bottle_contamination_006_CDO.jpg (deflated 1%)\n",
            "  adding: content/CDO/result/hrnet32-mvtec2d-wi-OOM-wi-MOM/imgs/bottle_good_003_ori.jpg (deflated 2%)\n",
            "  adding: content/CDO/result/hrnet32-mvtec2d-wi-OOM-wi-MOM/imgs/bottle_contamination_010_CDO.jpg (deflated 1%)\n",
            "  adding: content/CDO/result/hrnet32-mvtec2d-wi-OOM-wi-MOM/imgs/bottle_broken_large_018_gt.jpg (deflated 2%)\n",
            "  adding: content/CDO/result/hrnet32-mvtec2d-wi-OOM-wi-MOM/imgs/bottle_broken_small_010_CDO.jpg (deflated 1%)\n",
            "  adding: content/CDO/result/hrnet32-mvtec2d-wi-OOM-wi-MOM/imgs/bottle_broken_large_018_CDO.jpg (deflated 1%)\n",
            "  adding: content/CDO/result/hrnet32-mvtec2d-wi-OOM-wi-MOM/imgs/bottle_good_018_ori.jpg (deflated 2%)\n",
            "  adding: content/CDO/result/hrnet32-mvtec2d-wi-OOM-wi-MOM/imgs/bottle_contamination_011_CDO.jpg (deflated 1%)\n",
            "  adding: content/CDO/result/hrnet32-mvtec2d-wi-OOM-wi-MOM/imgs/bottle_contamination_012_ori.jpg (deflated 2%)\n",
            "  adding: content/CDO/result/hrnet32-mvtec2d-wi-OOM-wi-MOM/imgs/bottle_contamination_009_gt.jpg (deflated 2%)\n",
            "  adding: content/CDO/result/hrnet32-mvtec2d-wi-OOM-wi-MOM/imgs/bottle_broken_large_006_CDO.jpg (deflated 1%)\n",
            "  adding: content/CDO/result/hrnet32-mvtec2d-wi-OOM-wi-MOM/imgs/bottle_broken_small_001_ori.jpg (deflated 2%)\n",
            "  adding: content/CDO/result/hrnet32-mvtec2d-wi-OOM-wi-MOM/imgs/bottle_broken_large_017_CDO.jpg (deflated 1%)\n",
            "  adding: content/CDO/result/hrnet32-mvtec2d-wi-OOM-wi-MOM/imgs/bottle_contamination_016_CDO.jpg (deflated 1%)\n",
            "  adding: content/CDO/result/hrnet32-mvtec2d-wi-OOM-wi-MOM/imgs/bottle_good_001_CDO.jpg (deflated 1%)\n",
            "  adding: content/CDO/result/hrnet32-mvtec2d-wi-OOM-wi-MOM/imgs/bottle_broken_large_016_ori.jpg (deflated 2%)\n",
            "  adding: content/CDO/result/hrnet32-mvtec2d-wi-OOM-wi-MOM/imgs/bottle_broken_large_008_CDO.jpg (deflated 1%)\n",
            "  adding: content/CDO/result/hrnet32-mvtec2d-wi-OOM-wi-MOM/imgs/bottle_good_010_ori.jpg (deflated 2%)\n",
            "  adding: content/CDO/result/hrnet32-mvtec2d-wi-OOM-wi-MOM/imgs/bottle_broken_large_017_gt.jpg (deflated 2%)\n",
            "  adding: content/CDO/result/hrnet32-mvtec2d-wi-OOM-wi-MOM/imgs/bottle_broken_small_006_ori.jpg (deflated 2%)\n",
            "  adding: content/CDO/result/hrnet32-mvtec2d-wi-OOM-wi-MOM/imgs/bottle_contamination_016_ori.jpg (deflated 2%)\n",
            "  adding: content/CDO/result/hrnet32-mvtec2d-wi-OOM-wi-MOM/imgs/bottle_broken_large_002_ori.jpg (deflated 2%)\n",
            "  adding: content/CDO/result/hrnet32-mvtec2d-wi-OOM-wi-MOM/imgs/bottle_broken_large_009_gt.jpg (deflated 2%)\n",
            "  adding: content/CDO/result/hrnet32-mvtec2d-wi-OOM-wi-MOM/imgs/bottle_good_009_CDO.jpg (deflated 1%)\n",
            "  adding: content/CDO/result/hrnet32-mvtec2d-wi-OOM-wi-MOM/imgs/bottle_broken_small_008_CDO.jpg (deflated 1%)\n",
            "  adding: content/CDO/result/hrnet32-mvtec2d-wi-OOM-wi-MOM/imgs/bottle_broken_large_005_gt.jpg (deflated 2%)\n",
            "  adding: content/CDO/result/hrnet32-mvtec2d-wi-OOM-wi-MOM/imgs/bottle_broken_large_003_CDO.jpg (deflated 1%)\n",
            "  adding: content/CDO/result/hrnet32-mvtec2d-wi-OOM-wi-MOM/imgs/bottle_contamination_000_CDO.jpg (deflated 1%)\n",
            "  adding: content/CDO/result/hrnet32-mvtec2d-wi-OOM-wi-MOM/imgs/bottle_contamination_015_gt.jpg (deflated 2%)\n",
            "  adding: content/CDO/result/hrnet32-mvtec2d-wi-OOM-wi-MOM/imgs/bottle_broken_large_010_CDO.jpg (deflated 1%)\n",
            "  adding: content/CDO/result/hrnet32-mvtec2d-wi-OOM-wi-MOM/imgs/bottle_good_009_ori.jpg (deflated 2%)\n",
            "  adding: content/CDO/result/hrnet32-mvtec2d-wi-OOM-wi-MOM/imgs/bottle_broken_small_017_gt.jpg (deflated 2%)\n",
            "  adding: content/CDO/result/hrnet32-mvtec2d-wi-OOM-wi-MOM/imgs/bottle_contamination_005_CDO.jpg (deflated 1%)\n",
            "  adding: content/CDO/result/hrnet32-mvtec2d-wi-OOM-wi-MOM/imgs/bottle_broken_small_004_gt.jpg (deflated 2%)\n",
            "  adding: content/CDO/result/hrnet32-mvtec2d-wi-OOM-wi-MOM/imgs/bottle_good_011_CDO.jpg (deflated 1%)\n",
            "  adding: content/CDO/result/hrnet32-mvtec2d-wi-OOM-wi-MOM/imgs/bottle_broken_small_012_gt.jpg (deflated 2%)\n",
            "  adding: content/CDO/result/hrnet32-mvtec2d-wi-OOM-wi-MOM/imgs/bottle_broken_large_011_CDO.jpg (deflated 1%)\n",
            "  adding: content/CDO/result/hrnet32-mvtec2d-wi-OOM-wi-MOM/imgs/bottle_broken_large_008_gt.jpg (deflated 2%)\n",
            "  adding: content/CDO/result/hrnet32-mvtec2d-wi-OOM-wi-MOM/imgs/bottle_good_013_gt.jpg (deflated 2%)\n",
            "  adding: content/CDO/result/hrnet32-mvtec2d-wi-OOM-wi-MOM/imgs/bottle_good_004_ori.jpg (deflated 2%)\n",
            "  adding: content/CDO/result/hrnet32-mvtec2d-wi-OOM-wi-MOM/imgs/bottle_broken_large_014_ori.jpg (deflated 2%)\n",
            "  adding: content/CDO/result/hrnet32-mvtec2d-wi-OOM-wi-MOM/imgs/bottle_broken_small_005_ori.jpg (deflated 2%)\n",
            "  adding: content/CDO/result/hrnet32-mvtec2d-wi-OOM-wi-MOM/imgs/bottle_good_005_ori.jpg (deflated 2%)\n",
            "  adding: content/CDO/result/hrnet32-mvtec2d-wi-OOM-wi-MOM/imgs/bottle_broken_small_019_gt.jpg (deflated 2%)\n",
            "  adding: content/CDO/result/hrnet32-mvtec2d-wi-OOM-wi-MOM/imgs/bottle_broken_small_007_gt.jpg (deflated 2%)\n",
            "  adding: content/CDO/result/hrnet32-mvtec2d-wi-OOM-wi-MOM/imgs/bottle_contamination_000_ori.jpg (deflated 2%)\n",
            "  adding: content/CDO/result/hrnet32-mvtec2d-wi-OOM-wi-MOM/imgs/bottle_good_000_gt.jpg (deflated 2%)\n",
            "  adding: content/CDO/result/hrnet32-mvtec2d-wi-OOM-wi-MOM/imgs/bottle_contamination_007_CDO.jpg (deflated 1%)\n",
            "  adding: content/CDO/result/hrnet32-mvtec2d-wi-OOM-wi-MOM/imgs/bottle_broken_large_012_CDO.jpg (deflated 1%)\n",
            "  adding: content/CDO/result/hrnet32-mvtec2d-wi-OOM-wi-MOM/imgs/bottle_contamination_004_gt.jpg (deflated 2%)\n",
            "  adding: content/CDO/result/hrnet32-mvtec2d-wi-OOM-wi-MOM/imgs/bottle_contamination_008_gt.jpg (deflated 2%)\n",
            "  adding: content/CDO/result/hrnet32-mvtec2d-wi-OOM-wi-MOM/imgs/bottle_broken_small_016_gt.jpg (deflated 2%)\n",
            "  adding: content/CDO/result/hrnet32-mvtec2d-wi-OOM-wi-MOM/imgs/bottle_broken_small_020_CDO.jpg (deflated 1%)\n",
            "  adding: content/CDO/result/hrnet32-mvtec2d-wi-OOM-wi-MOM/imgs/bottle_good_007_gt.jpg (deflated 2%)\n",
            "  adding: content/CDO/result/hrnet32-mvtec2d-wi-OOM-wi-MOM/imgs/bottle_broken_small_014_ori.jpg (deflated 2%)\n",
            "  adding: content/CDO/result/hrnet32-mvtec2d-wi-OOM-wi-MOM/imgs/bottle_broken_small_015_ori.jpg (deflated 2%)\n",
            "  adding: content/CDO/result/hrnet32-mvtec2d-wi-OOM-wi-MOM/imgs/bottle_broken_large_005_CDO.jpg (deflated 1%)\n",
            "  adding: content/CDO/result/hrnet32-mvtec2d-wi-OOM-wi-MOM/imgs/bottle_good_006_gt.jpg (deflated 2%)\n",
            "  adding: content/CDO/result/hrnet32-mvtec2d-wi-OOM-wi-MOM/imgs/bottle_contamination_003_CDO.jpg (deflated 1%)\n",
            "  adding: content/CDO/result/hrnet32-mvtec2d-wi-OOM-wi-MOM/imgs/bottle_good_018_CDO.jpg (deflated 1%)\n",
            "  adding: content/CDO/result/hrnet32-mvtec2d-wi-OOM-wi-MOM/imgs/bottle_broken_small_005_CDO.jpg (deflated 1%)\n",
            "  adding: content/CDO/result/hrnet32-mvtec2d-wi-OOM-wi-MOM/imgs/bottle_contamination_018_gt.jpg (deflated 2%)\n",
            "  adding: content/CDO/result/hrnet32-mvtec2d-wi-OOM-wi-MOM/imgs/bottle_broken_small_005_gt.jpg (deflated 2%)\n",
            "  adding: content/CDO/result/hrnet32-mvtec2d-wi-OOM-wi-MOM/imgs/bottle_broken_large_006_ori.jpg (deflated 2%)\n",
            "  adding: content/CDO/result/hrnet32-mvtec2d-wi-OOM-wi-MOM/imgs/bottle_broken_large_000_gt.jpg (deflated 2%)\n",
            "  adding: content/CDO/result/hrnet32-mvtec2d-wi-OOM-wi-MOM/imgs/bottle_broken_large_004_gt.jpg (deflated 2%)\n",
            "  adding: content/CDO/result/hrnet32-mvtec2d-wi-OOM-wi-MOM/imgs/bottle_broken_small_011_CDO.jpg (deflated 1%)\n",
            "  adding: content/CDO/result/hrnet32-mvtec2d-wi-OOM-wi-MOM/imgs/bottle_contamination_014_CDO.jpg (deflated 1%)\n",
            "  adding: content/CDO/result/hrnet32-mvtec2d-wi-OOM-wi-MOM/imgs/bottle_good_018_gt.jpg (deflated 2%)\n",
            "  adding: content/CDO/result/hrnet32-mvtec2d-wi-OOM-wi-MOM/imgs/bottle_good_004_gt.jpg (deflated 2%)\n",
            "  adding: content/CDO/result/hrnet32-mvtec2d-wi-OOM-wi-MOM/imgs/bottle_good_015_ori.jpg (deflated 2%)\n",
            "  adding: content/CDO/result/hrnet32-mvtec2d-wi-OOM-wi-MOM/imgs/bottle_good_012_CDO.jpg (deflated 1%)\n",
            "  adding: content/CDO/result/hrnet32-mvtec2d-wi-OOM-wi-MOM/imgs/bottle_good_002_ori.jpg (deflated 2%)\n",
            "  adding: content/CDO/result/hrnet32-mvtec2d-wi-OOM-wi-MOM/imgs/bottle_broken_small_018_CDO.jpg (deflated 1%)\n",
            "  adding: content/CDO/result/hrnet32-mvtec2d-wi-OOM-wi-MOM/imgs/bottle_contamination_008_ori.jpg (deflated 2%)\n",
            "  adding: content/CDO/result/hrnet32-mvtec2d-wi-OOM-wi-MOM/imgs/bottle_good_017_ori.jpg (deflated 2%)\n",
            "  adding: content/CDO/result/hrnet32-mvtec2d-wi-OOM-wi-MOM/imgs/bottle_good_017_CDO.jpg (deflated 1%)\n",
            "  adding: content/CDO/result/hrnet32-mvtec2d-wi-OOM-wi-MOM/imgs/bottle_good_011_gt.jpg (deflated 2%)\n",
            "  adding: content/CDO/result/hrnet32-mvtec2d-wi-OOM-wi-MOM/imgs/bottle_broken_small_014_CDO.jpg (deflated 1%)\n",
            "  adding: content/CDO/result/hrnet32-mvtec2d-wi-OOM-wi-MOM/imgs/bottle_good_014_ori.jpg (deflated 2%)\n",
            "  adding: content/CDO/result/hrnet32-mvtec2d-wi-OOM-wi-MOM/imgs/bottle_broken_small_000_CDO.jpg (deflated 1%)\n",
            "  adding: content/CDO/result/hrnet32-mvtec2d-wi-OOM-wi-MOM/imgs/bottle_broken_large_002_CDO.jpg (deflated 1%)\n",
            "  adding: content/CDO/result/hrnet32-mvtec2d-wi-OOM-wi-MOM/imgs/bottle_broken_small_021_ori.jpg (deflated 2%)\n",
            "  adding: content/CDO/result/hrnet32-mvtec2d-wi-OOM-wi-MOM/imgs/bottle_broken_large_014_CDO.jpg (deflated 1%)\n",
            "  adding: content/CDO/result/hrnet32-mvtec2d-wi-OOM-wi-MOM/imgs/bottle_good_001_gt.jpg (deflated 2%)\n",
            "  adding: content/CDO/result/hrnet32-mvtec2d-wi-OOM-wi-MOM/imgs/bottle_broken_large_013_CDO.jpg (deflated 1%)\n",
            "  adding: content/CDO/result/hrnet32-mvtec2d-wi-OOM-wi-MOM/imgs/bottle_good_000_ori.jpg (deflated 2%)\n",
            "  adding: content/CDO/result/hrnet32-mvtec2d-wi-OOM-wi-MOM/imgs/bottle_good_002_CDO.jpg (deflated 1%)\n",
            "  adding: content/CDO/result/hrnet32-mvtec2d-wi-OOM-wi-MOM/imgs/bottle_broken_small_013_gt.jpg (deflated 2%)\n",
            "  adding: content/CDO/result/hrnet32-mvtec2d-wi-OOM-wi-MOM/imgs/bottle_contamination_001_ori.jpg (deflated 2%)\n",
            "  adding: content/CDO/result/hrnet32-mvtec2d-wi-OOM-wi-MOM/imgs/bottle_contamination_005_gt.jpg (deflated 2%)\n",
            "  adding: content/CDO/result/hrnet32-mvtec2d-wi-OOM-wi-MOM/imgs/bottle_contamination_002_ori.jpg (deflated 2%)\n",
            "  adding: content/CDO/result/hrnet32-mvtec2d-wi-OOM-wi-MOM/imgs/bottle_broken_small_015_gt.jpg (deflated 2%)\n",
            "  adding: content/CDO/result/hrnet32-mvtec2d-wi-OOM-wi-MOM/imgs/bottle_broken_large_007_ori.jpg (deflated 2%)\n",
            "  adding: content/CDO/result/hrnet32-mvtec2d-wi-OOM-wi-MOM/imgs/bottle_contamination_006_ori.jpg (deflated 2%)\n",
            "  adding: content/CDO/result/hrnet32-mvtec2d-wi-OOM-wi-MOM/imgs/bottle_broken_large_013_ori.jpg (deflated 2%)\n",
            "  adding: content/CDO/result/hrnet32-mvtec2d-wi-OOM-wi-MOM/imgs/bottle_good_010_gt.jpg (deflated 2%)\n",
            "  adding: content/CDO/result/hrnet32-mvtec2d-wi-OOM-wi-MOM/imgs/bottle_good_003_gt.jpg (deflated 2%)\n",
            "  adding: content/CDO/result/hrnet32-mvtec2d-wi-OOM-wi-MOM/imgs/bottle_broken_small_006_gt.jpg (deflated 2%)\n",
            "  adding: content/CDO/result/hrnet32-mvtec2d-wi-OOM-wi-MOM/imgs/bottle_contamination_010_ori.jpg (deflated 2%)\n",
            "  adding: content/CDO/result/hrnet32-mvtec2d-wi-OOM-wi-MOM/imgs/bottle_broken_small_004_ori.jpg (deflated 2%)\n",
            "  adding: content/CDO/result/hrnet32-mvtec2d-wi-OOM-wi-MOM/imgs/bottle_contamination_004_CDO.jpg (deflated 1%)\n",
            "  adding: content/CDO/result/hrnet32-mvtec2d-wi-OOM-wi-MOM/imgs/bottle_good_008_CDO.jpg (deflated 1%)\n",
            "  adding: content/CDO/result/hrnet32-mvtec2d-wi-OOM-wi-MOM/imgs/bottle_broken_small_007_CDO.jpg (deflated 1%)\n",
            "  adding: content/CDO/result/hrnet32-mvtec2d-wi-OOM-wi-MOM/imgs/bottle_broken_small_021_gt.jpg (deflated 2%)\n",
            "  adding: content/CDO/result/hrnet32-mvtec2d-wi-OOM-wi-MOM/imgs/bottle_good_016_gt.jpg (deflated 2%)\n",
            "  adding: content/CDO/result/hrnet32-mvtec2d-wi-OOM-wi-MOM/imgs/bottle_contamination_002_CDO.jpg (deflated 1%)\n",
            "  adding: content/CDO/result/hrnet32-mvtec2d-wi-OOM-wi-MOM/imgs/bottle_broken_large_016_gt.jpg (deflated 2%)\n",
            "  adding: content/CDO/result/hrnet32-mvtec2d-wi-OOM-wi-MOM/imgs/bottle_contamination_007_ori.jpg (deflated 2%)\n",
            "  adding: content/CDO/result/hrnet32-mvtec2d-wi-OOM-wi-MOM/imgs/bottle_contamination_012_CDO.jpg (deflated 1%)\n",
            "  adding: content/CDO/result/hrnet32-mvtec2d-wi-OOM-wi-MOM/imgs/bottle_contamination_018_CDO.jpg (deflated 1%)\n",
            "  adding: content/CDO/result/hrnet32-mvtec2d-wi-OOM-wi-MOM/imgs/bottle_broken_large_015_CDO.jpg (deflated 1%)\n",
            "  adding: content/CDO/result/hrnet32-mvtec2d-wi-OOM-wi-MOM/imgs/bottle_contamination_003_ori.jpg (deflated 2%)\n",
            "  adding: content/CDO/result/hrnet32-mvtec2d-wi-OOM-wi-MOM/imgs/bottle_broken_small_003_ori.jpg (deflated 2%)\n",
            "  adding: content/CDO/result/hrnet32-mvtec2d-wi-OOM-wi-MOM/imgs/bottle_good_019_gt.jpg (deflated 2%)\n",
            "  adding: content/CDO/result/hrnet32-mvtec2d-wi-OOM-wi-MOM/imgs/bottle_broken_small_001_gt.jpg (deflated 2%)\n",
            "  adding: content/CDO/result/hrnet32-mvtec2d-wi-OOM-wi-MOM/imgs/bottle_good_009_gt.jpg (deflated 2%)\n",
            "  adding: content/CDO/result/hrnet32-mvtec2d-wi-OOM-wi-MOM/imgs/bottle_contamination_013_ori.jpg (deflated 2%)\n",
            "  adding: content/CDO/result/hrnet32-mvtec2d-wi-OOM-wi-MOM/imgs/bottle_broken_small_002_ori.jpg (deflated 2%)\n",
            "  adding: content/CDO/result/hrnet32-mvtec2d-wi-OOM-wi-MOM/imgs/bottle_contamination_015_ori.jpg (deflated 2%)\n",
            "  adding: content/CDO/result/hrnet32-mvtec2d-wi-OOM-wi-MOM/logger/ (stored 0%)\n",
            "  adding: content/CDO/result/hrnet32-mvtec2d-wi-OOM-wi-MOM/logger/bottle/ (stored 0%)\n",
            "  adding: content/CDO/result/hrnet32-mvtec2d-wi-OOM-wi-MOM/logger/bottle/log_2023-07-09-22-10-09.log (deflated 87%)\n",
            "  adding: content/CDO/result/csv/ (stored 0%)\n"
          ]
        },
        {
          "output_type": "display_data",
          "data": {
            "text/plain": [
              "<IPython.core.display.Javascript object>"
            ],
            "application/javascript": [
              "\n",
              "    async function download(id, filename, size) {\n",
              "      if (!google.colab.kernel.accessAllowed) {\n",
              "        return;\n",
              "      }\n",
              "      const div = document.createElement('div');\n",
              "      const label = document.createElement('label');\n",
              "      label.textContent = `Downloading \"${filename}\": `;\n",
              "      div.appendChild(label);\n",
              "      const progress = document.createElement('progress');\n",
              "      progress.max = size;\n",
              "      div.appendChild(progress);\n",
              "      document.body.appendChild(div);\n",
              "\n",
              "      const buffers = [];\n",
              "      let downloaded = 0;\n",
              "\n",
              "      const channel = await google.colab.kernel.comms.open(id);\n",
              "      // Send a message to notify the kernel that we're ready.\n",
              "      channel.send({})\n",
              "\n",
              "      for await (const message of channel.messages) {\n",
              "        // Send a message to notify the kernel that we're ready.\n",
              "        channel.send({})\n",
              "        if (message.buffers) {\n",
              "          for (const buffer of message.buffers) {\n",
              "            buffers.push(buffer);\n",
              "            downloaded += buffer.byteLength;\n",
              "            progress.value = downloaded;\n",
              "          }\n",
              "        }\n",
              "      }\n",
              "      const blob = new Blob(buffers, {type: 'application/binary'});\n",
              "      const a = document.createElement('a');\n",
              "      a.href = window.URL.createObjectURL(blob);\n",
              "      a.download = filename;\n",
              "      div.appendChild(a);\n",
              "      a.click();\n",
              "      div.remove();\n",
              "    }\n",
              "  "
            ]
          },
          "metadata": {}
        },
        {
          "output_type": "display_data",
          "data": {
            "text/plain": [
              "<IPython.core.display.Javascript object>"
            ],
            "application/javascript": [
              "download(\"download_20038fc1-bfa4-4b12-a1c7-65caf5d1b628\", \"result.zip\", 113384737)"
            ]
          },
          "metadata": {}
        }
      ]
    }
  ]
}