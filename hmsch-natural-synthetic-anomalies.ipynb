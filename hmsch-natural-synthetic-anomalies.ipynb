{
  "nbformat": 4,
  "nbformat_minor": 0,
  "metadata": {
    "colab": {
      "provenance": [],
      "authorship_tag": "ABX9TyPLxUWpWRgx1SIRDHriWKQ2",
      "include_colab_link": true
    },
    "kernelspec": {
      "name": "python3",
      "display_name": "Python 3"
    },
    "language_info": {
      "name": "python"
    }
  },
  "cells": [
    {
      "cell_type": "markdown",
      "metadata": {
        "id": "view-in-github",
        "colab_type": "text"
      },
      "source": [
        "<a href=\"https://colab.research.google.com/github/danielsoy/ALOCC-CVPR2018/blob/master/hmsch-natural-synthetic-anomalies.ipynb\" target=\"_parent\"><img src=\"https://colab.research.google.com/assets/colab-badge.svg\" alt=\"Open In Colab\"/></a>"
      ]
    },
    {
      "cell_type": "markdown",
      "source": [
        "https://github.com/hmsch/natural-synthetic-anomalies\n"
      ],
      "metadata": {
        "id": "JUx6suyCe56G"
      }
    },
    {
      "cell_type": "code",
      "source": [
        "!git clone https://github.com/hmsch/natural-synthetic-anomalies.git"
      ],
      "metadata": {
        "colab": {
          "base_uri": "https://localhost:8080/"
        },
        "id": "DODjyvbzfAvn",
        "outputId": "1d1172fb-3d49-4cc1-8730-bcd5a8f4e663"
      },
      "execution_count": 1,
      "outputs": [
        {
          "output_type": "stream",
          "name": "stdout",
          "text": [
            "Cloning into 'natural-synthetic-anomalies'...\n",
            "remote: Enumerating objects: 82, done.\u001b[K\n",
            "remote: Counting objects: 100% (82/82), done.\u001b[K\n",
            "remote: Compressing objects: 100% (66/66), done.\u001b[K\n",
            "remote: Total 82 (delta 33), reused 51 (delta 14), pack-reused 0\u001b[K\n",
            "Unpacking objects: 100% (82/82), 68.46 KiB | 865.00 KiB/s, done.\n"
          ]
        }
      ]
    },
    {
      "cell_type": "code",
      "execution_count": null,
      "metadata": {
        "id": "omNyUt2ae4ex"
      },
      "outputs": [],
      "source": []
    }
  ]
}