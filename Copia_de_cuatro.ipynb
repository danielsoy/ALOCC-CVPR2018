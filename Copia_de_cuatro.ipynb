{
  "cells": [
    {
      "cell_type": "markdown",
      "metadata": {
        "id": "view-in-github",
        "colab_type": "text"
      },
      "source": [
        "<a href=\"https://colab.research.google.com/github/danielsoy/ALOCC-CVPR2018/blob/master/Copia_de_cuatro.ipynb\" target=\"_parent\"><img src=\"https://colab.research.google.com/assets/colab-badge.svg\" alt=\"Open In Colab\"/></a>"
      ]
    },
    {
      "cell_type": "code",
      "execution_count": 1,
      "metadata": {
        "colab": {
          "base_uri": "https://localhost:8080/"
        },
        "id": "5FyKRrpYFxcE",
        "outputId": "687a58e0-65a0-459d-c1c5-dd3457c46216"
      },
      "outputs": [
        {
          "output_type": "stream",
          "name": "stdout",
          "text": [
            "Mounted at /content/drive\n"
          ]
        }
      ],
      "source": [
        "from google.colab import drive\n",
        "drive.mount('/content/drive')"
      ]
    },
    {
      "cell_type": "code",
      "execution_count": 2,
      "metadata": {
        "id": "O6FhjF4BFxcG"
      },
      "outputs": [],
      "source": [
        "import torch\n",
        "import torch.nn as nn\n",
        "import torch.optim as optim\n",
        "from torch.utils.data import DataLoader, Dataset\n",
        "from torchvision import models, transforms\n",
        "from sklearn.model_selection import train_test_split\n",
        "from sklearn.metrics import accuracy_score, roc_auc_score, f1_score\n",
        "import os\n",
        "from PIL import Image\n",
        "import numpy as np"
      ]
    },
    {
      "cell_type": "markdown",
      "metadata": {
        "id": "ytcKE-mTFxcH"
      },
      "source": [
        "Set random seed for reproducibility"
      ]
    },
    {
      "cell_type": "code",
      "execution_count": 3,
      "metadata": {
        "id": "iHGsrYK6FxcI"
      },
      "outputs": [],
      "source": [
        "torch.manual_seed(42)\n",
        "np.random.seed(42)"
      ]
    },
    {
      "cell_type": "markdown",
      "metadata": {
        "id": "u34oUSfnFxcI"
      },
      "source": [
        "Device configuration (use GPU if available)"
      ]
    },
    {
      "cell_type": "code",
      "execution_count": 4,
      "metadata": {
        "id": "OOVZHwrPFxcJ"
      },
      "outputs": [],
      "source": [
        "device = torch.device(\"cuda\" if torch.cuda.is_available() else \"cpu\")"
      ]
    },
    {
      "cell_type": "markdown",
      "metadata": {
        "id": "miU0X-6HFxcJ"
      },
      "source": [
        "Custom Dataset Class"
      ]
    },
    {
      "cell_type": "code",
      "execution_count": 5,
      "metadata": {
        "id": "PMs6fdU_FxcJ"
      },
      "outputs": [],
      "source": [
        "class CustomDataset(Dataset):\n",
        "    def __init__(self, image_paths, labels, transform=None):\n",
        "        self.image_paths = image_paths\n",
        "        self.labels = labels\n",
        "        self.transform = transform\n",
        "    def __len__(self):\n",
        "        return len(self.image_paths)\n",
        "    def __getitem__(self, idx):\n",
        "        image_path = self.image_paths[idx]\n",
        "        image = Image.open(image_path).convert(\"RGB\")\n",
        "        label = self.labels[idx]\n",
        "        if self.transform:\n",
        "            image = self.transform(image)\n",
        "        return image, label"
      ]
    },
    {
      "cell_type": "markdown",
      "metadata": {
        "id": "hOm0HCaxFxcK"
      },
      "source": [
        "Data Preprocessing"
      ]
    },
    {
      "cell_type": "code",
      "execution_count": 6,
      "metadata": {
        "id": "diClkajdFxcK"
      },
      "outputs": [],
      "source": [
        "transform = transforms.Compose([\n",
        "    transforms.Resize((224, 224)),  # EfficientNet-B0 expects 224x224 images\n",
        "    transforms.ToTensor(),\n",
        "    transforms.Normalize(mean=[0.485, 0.456, 0.406], std=[0.229, 0.224, 0.225])  # ImageNet normalization\n",
        "])"
      ]
    },
    {
      "cell_type": "markdown",
      "metadata": {
        "id": "lgipSSUcFxcL"
      },
      "source": [
        "Load Dataset"
      ]
    },
    {
      "cell_type": "code",
      "execution_count": 7,
      "metadata": {
        "id": "sSRXynntFxcL"
      },
      "outputs": [],
      "source": [
        "def load_dataset(data_dir):\n",
        "    image_paths = []\n",
        "    labels = []\n",
        "\n",
        "    # Assuming data_dir has two subfolders: \"normal\" and \"anomalous\"\n",
        "    for label, class_name in enumerate([\"normal\", \"anomalous\"]):\n",
        "        class_dir = os.path.join(data_dir, class_name)\n",
        "        for image_name in os.listdir(class_dir):\n",
        "            image_path = os.path.join(class_dir, image_name)\n",
        "            image_paths.append(image_path)\n",
        "            labels.append(label)\n",
        "    return image_paths, labels"
      ]
    },
    {
      "cell_type": "markdown",
      "metadata": {
        "id": "QBg7nh-VFxcL"
      },
      "source": [
        "Split dataset into train, validation, and test sets"
      ]
    },
    {
      "cell_type": "code",
      "execution_count": 8,
      "metadata": {
        "id": "vl8ytq8DFxcM"
      },
      "outputs": [],
      "source": [
        "data_dir = \"/content/drive/MyDrive/dataset tres\"  # Replace with your dataset path\n",
        "image_paths, labels = load_dataset(data_dir)\n",
        "train_paths, test_paths, train_labels, test_labels = train_test_split(image_paths, labels, test_size=0.2, random_state=42)\n",
        "train_paths, val_paths, train_labels, val_labels = train_test_split(train_paths, train_labels, test_size=0.1, random_state=42)"
      ]
    },
    {
      "cell_type": "markdown",
      "metadata": {
        "id": "uWE2M-YgFxcM"
      },
      "source": [
        "Create DataLoader"
      ]
    },
    {
      "cell_type": "code",
      "execution_count": 9,
      "metadata": {
        "id": "cUZzrHYGFxcM"
      },
      "outputs": [],
      "source": [
        "train_dataset = CustomDataset(train_paths, train_labels, transform=transform)\n",
        "val_dataset = CustomDataset(val_paths, val_labels, transform=transform)\n",
        "test_dataset = CustomDataset(test_paths, test_labels, transform=transform)"
      ]
    },
    {
      "cell_type": "code",
      "execution_count": 10,
      "metadata": {
        "id": "20SETobhFxcN"
      },
      "outputs": [],
      "source": [
        "train_loader = DataLoader(train_dataset, batch_size=32, shuffle=True)\n",
        "val_loader = DataLoader(val_dataset, batch_size=32, shuffle=False)\n",
        "test_loader = DataLoader(test_dataset, batch_size=32, shuffle=False)"
      ]
    },
    {
      "cell_type": "markdown",
      "metadata": {
        "id": "7apjQ5GxFxcN"
      },
      "source": [
        "Define the Model"
      ]
    },
    {
      "cell_type": "code",
      "execution_count": 11,
      "metadata": {
        "id": "EpIg_4JFFxcN"
      },
      "outputs": [],
      "source": [
        "class EfficientNetBinaryClassifier(nn.Module):\n",
        "    def __init__(self):\n",
        "        super(EfficientNetBinaryClassifier, self).__init__()\n",
        "        self.efficientnet = models.efficientnet_b0(pretrained=False)  # Train from scratch\n",
        "        self.efficientnet.classifier = nn.Sequential(\n",
        "            nn.Linear(1280, 1),  # Binary classification\n",
        "            nn.Sigmoid()\n",
        "        )\n",
        "    def forward(self, x):\n",
        "        return self.efficientnet(x)"
      ]
    },
    {
      "cell_type": "markdown",
      "metadata": {
        "id": "QU2IPsNGFxcN"
      },
      "source": [
        "Initialize model, loss, and optimizer"
      ]
    },
    {
      "cell_type": "code",
      "execution_count": 12,
      "metadata": {
        "colab": {
          "base_uri": "https://localhost:8080/"
        },
        "id": "8vMHNEIYFxcN",
        "outputId": "cd103d5e-3e33-4a26-a092-d6d121dd12b7"
      },
      "outputs": [
        {
          "output_type": "stream",
          "name": "stderr",
          "text": [
            "/usr/local/lib/python3.11/dist-packages/torchvision/models/_utils.py:208: UserWarning: The parameter 'pretrained' is deprecated since 0.13 and may be removed in the future, please use 'weights' instead.\n",
            "  warnings.warn(\n",
            "/usr/local/lib/python3.11/dist-packages/torchvision/models/_utils.py:223: UserWarning: Arguments other than a weight enum or `None` for 'weights' are deprecated since 0.13 and may be removed in the future. The current behavior is equivalent to passing `weights=None`.\n",
            "  warnings.warn(msg)\n"
          ]
        }
      ],
      "source": [
        "model = EfficientNetBinaryClassifier().to(device)\n",
        "criterion = nn.BCELoss()  # Binary Cross-Entropy Loss\n",
        "optimizer = optim.Adam(model.parameters(), lr=0.001)"
      ]
    },
    {
      "cell_type": "markdown",
      "metadata": {
        "id": "s_6cWCbhFxcO"
      },
      "source": [
        "Training Function"
      ]
    },
    {
      "cell_type": "code",
      "execution_count": 13,
      "metadata": {
        "id": "Na5GiiQjFxcO"
      },
      "outputs": [],
      "source": [
        "def train(model, train_loader, val_loader, criterion, optimizer, num_epochs=1, save_path=\"efficientnet_b0.pth\"):\n",
        "    best_val_accuracy = 0.0\n",
        "    for epoch in range(num_epochs):\n",
        "        model.train()\n",
        "        running_loss = 0.0\n",
        "        for images, labels in train_loader:\n",
        "            images, labels = images.to(device), labels.float().to(device)\n",
        "\n",
        "            # Forward pass\n",
        "            outputs = model(images).view(-1)\n",
        "            loss = criterion(outputs, labels)\n",
        "\n",
        "            # Backward pass and optimization\n",
        "            optimizer.zero_grad()\n",
        "            loss.backward()\n",
        "            optimizer.step()\n",
        "            running_loss += loss.item()\n",
        "\n",
        "        # Validation\n",
        "        model.eval()\n",
        "        val_loss = 0.0\n",
        "        val_preds, val_labels = [], []\n",
        "        with torch.no_grad():\n",
        "            for images, labels in val_loader:\n",
        "                images, labels = images.to(device), labels.float().to(device)\n",
        "                outputs = model(images).view(-1)\n",
        "                loss = criterion(outputs, labels)\n",
        "                val_loss += loss.item()\n",
        "                val_preds.extend(outputs.cpu().numpy())\n",
        "                val_labels.extend(labels.cpu().numpy())\n",
        "\n",
        "        # Calculate metrics\n",
        "        val_preds = np.array(val_preds) > 0.5  # Convert probabilities to binary predictions\n",
        "        val_accuracy = accuracy_score(val_labels, val_preds)\n",
        "        val_roc_auc = roc_auc_score(val_labels, val_preds)\n",
        "        val_f1 = f1_score(val_labels, val_preds)\n",
        "        print(f\"Epoch [{epoch+1}/{num_epochs}], \"\n",
        "              f\"Train Loss: {running_loss/len(train_loader):.4f}, \"\n",
        "              f\"Val Loss: {val_loss/len(val_loader):.4f}, \"\n",
        "              f\"Val Accuracy: {val_accuracy:.4f}, \"\n",
        "              f\"Val ROC-AUC: {val_roc_auc:.4f}, \"\n",
        "              f\"Val F1-Score: {val_f1:.4f}\")\n",
        "\n",
        "        # Save the model if validation accuracy improves\n",
        "        if val_accuracy > best_val_accuracy:\n",
        "            best_val_accuracy = val_accuracy\n",
        "            torch.save(model.state_dict(), save_path)\n",
        "            print(f\"Model saved to {save_path}\")"
      ]
    },
    {
      "cell_type": "markdown",
      "source": [],
      "metadata": {
        "id": "MjolB0T_F598"
      }
    },
    {
      "cell_type": "markdown",
      "metadata": {
        "id": "4LtSWCRFFxcP"
      },
      "source": [
        "Train the model"
      ]
    },
    {
      "cell_type": "code",
      "source": [],
      "metadata": {
        "id": "MiBUTTSDHMqh"
      },
      "execution_count": null,
      "outputs": []
    },
    {
      "cell_type": "code",
      "source": [
        "\n",
        "from google.colab import drive\n",
        "drive.mount('/content/drive')\n",
        "\n",
        "save_path = \"/content/drive/MyDrive/dataset tres/efficientnet_b0.pth\"\n"
      ],
      "metadata": {
        "colab": {
          "base_uri": "https://localhost:8080/"
        },
        "id": "D5nDNvxFHKj5",
        "outputId": "e459852e-11ed-4483-dad5-f6ed9d1ab063"
      },
      "execution_count": 39,
      "outputs": [
        {
          "output_type": "stream",
          "name": "stdout",
          "text": [
            "Drive already mounted at /content/drive; to attempt to forcibly remount, call drive.mount(\"/content/drive\", force_remount=True).\n"
          ]
        }
      ]
    },
    {
      "cell_type": "code",
      "execution_count": null,
      "metadata": {
        "colab": {
          "base_uri": "https://localhost:8080/"
        },
        "id": "Qzg7iI-IFxcP",
        "outputId": "b7a957b8-c083-48d0-8737-66cefd7a5359"
      },
      "outputs": [
        {
          "output_type": "stream",
          "name": "stdout",
          "text": [
            "Epoch [1/200], Train Loss: 0.0021, Val Loss: 0.6611, Val Accuracy: 0.9531, Val ROC-AUC: 0.7857, Val F1-Score: 0.7273\n",
            "Model saved to /content/drive/MyDrive/dataset tres/efficientnet_b0.pth\n",
            "Epoch [2/200], Train Loss: 0.0344, Val Loss: 0.4231, Val Accuracy: 0.9531, Val ROC-AUC: 0.7857, Val F1-Score: 0.7273\n",
            "Epoch [3/200], Train Loss: 0.0024, Val Loss: 0.4511, Val Accuracy: 0.9531, Val ROC-AUC: 0.7857, Val F1-Score: 0.7273\n",
            "Epoch [4/200], Train Loss: 0.0010, Val Loss: 0.4814, Val Accuracy: 0.9531, Val ROC-AUC: 0.7857, Val F1-Score: 0.7273\n",
            "Epoch [5/200], Train Loss: 0.0009, Val Loss: 0.4882, Val Accuracy: 0.9531, Val ROC-AUC: 0.7857, Val F1-Score: 0.7273\n",
            "Epoch [6/200], Train Loss: 0.0008, Val Loss: 0.5461, Val Accuracy: 0.9531, Val ROC-AUC: 0.7857, Val F1-Score: 0.7273\n",
            "Epoch [7/200], Train Loss: 0.0045, Val Loss: 0.3882, Val Accuracy: 0.9531, Val ROC-AUC: 0.7857, Val F1-Score: 0.7273\n",
            "Epoch [8/200], Train Loss: 0.0006, Val Loss: 0.4598, Val Accuracy: 0.9531, Val ROC-AUC: 0.7857, Val F1-Score: 0.7273\n",
            "Epoch [9/200], Train Loss: 0.0248, Val Loss: 0.6671, Val Accuracy: 0.9531, Val ROC-AUC: 0.7857, Val F1-Score: 0.7273\n",
            "Epoch [10/200], Train Loss: 0.0092, Val Loss: 0.4295, Val Accuracy: 0.9531, Val ROC-AUC: 0.7857, Val F1-Score: 0.7273\n",
            "Epoch [11/200], Train Loss: 0.0129, Val Loss: 0.3895, Val Accuracy: 0.9531, Val ROC-AUC: 0.7857, Val F1-Score: 0.7273\n",
            "Epoch [12/200], Train Loss: 0.0127, Val Loss: 0.4735, Val Accuracy: 0.9219, Val ROC-AUC: 0.6429, Val F1-Score: 0.4444\n",
            "Epoch [13/200], Train Loss: 0.0084, Val Loss: 0.5891, Val Accuracy: 0.8281, Val ROC-AUC: 0.6529, Val F1-Score: 0.3529\n",
            "Epoch [14/200], Train Loss: 0.0012, Val Loss: 0.7016, Val Accuracy: 0.8750, Val ROC-AUC: 0.5539, Val F1-Score: 0.2000\n",
            "Epoch [15/200], Train Loss: 0.0112, Val Loss: 0.5440, Val Accuracy: 0.9062, Val ROC-AUC: 0.6341, Val F1-Score: 0.4000\n"
          ]
        }
      ],
      "source": [
        "train(model, train_loader, val_loader, criterion, optimizer, num_epochs=200, save_path=\"/content/drive/MyDrive/dataset tres/efficientnet_b0.pth\")"
      ]
    },
    {
      "cell_type": "code",
      "source": [
        "# salva cada 5 epochs.\n",
        "\"\"\"\n",
        "def train(model, train_loader, val_loader, criterion, optimizer, num_epochs=1, save_path=\"efficientnet_b0.pth\"):\n",
        "    best_val_accuracy = 0.0\n",
        "    for epoch in range(num_epochs):\n",
        "        # ... (training loop remains the same) ...\n",
        "\n",
        "        # Save the model every 5 epochs\n",
        "        if (epoch + 1) % 5 == 0:\n",
        "            torch.save(model.state_dict(), f\"{save_path}_epoch_{epoch + 1}\")\n",
        "            print(f\"Model saved to {save_path}_epoch_{epoch + 1}\")\n",
        "\n",
        "        # ... (validation and metrics calculation remains the same) ...\n",
        "\n",
        "        # ... (saving the best model based on validation accuracy remains the same) ...\n",
        "        \"\"\""
      ],
      "metadata": {
        "id": "5LMrm4EvY6QD"
      },
      "execution_count": null,
      "outputs": []
    },
    {
      "cell_type": "code",
      "source": [
        "from google.colab import drive\n",
        "drive.mount('/content/drive')\n",
        "# Assuming 'efficientnet_b0.pth' is in your Google Drive's 'My Drive' folder\n",
        "state_dict = torch.load(\"/content/efficientnet_b0.pth\")\n",
        "#\n",
        "model.load_state_dict(state_dict)\n",
        "save_path = \"/content/drive/MyDrive/dataset tres/efficientnet_b0.pth\"\n",
        "torch.save(model.state_dict(), save_path)"
      ],
      "metadata": {
        "id": "JQv4MvVYSrQx"
      },
      "execution_count": null,
      "outputs": []
    },
    {
      "cell_type": "markdown",
      "metadata": {
        "id": "Sbpn_mbbFxcP"
      },
      "source": [
        "Test the model"
      ]
    },
    {
      "cell_type": "code",
      "execution_count": null,
      "metadata": {
        "id": "up5gvKVrFxcP"
      },
      "outputs": [],
      "source": [
        "def test(model, test_loader):\n",
        "    model.eval()\n",
        "    test_preds, test_labels = [], []\n",
        "    with torch.no_grad():\n",
        "        for images, labels in test_loader:\n",
        "            images, labels = images.to(device), labels.float().to(device)\n",
        "            outputs = model(images).view(-1)\n",
        "            test_preds.extend(outputs.cpu().numpy())\n",
        "            test_labels.extend(labels.cpu().numpy())\n",
        "\n",
        "    # Calculate metrics\n",
        "    test_preds = np.array(test_preds) > 0.5\n",
        "    test_accuracy = accuracy_score(test_labels, test_preds)\n",
        "    test_roc_auc = roc_auc_score(test_labels, test_preds)\n",
        "    test_f1 = f1_score(test_labels, test_preds)\n",
        "    print(f\"Test Accuracy: {test_accuracy:.4f}, \"\n",
        "          f\"Test ROC-AUC: {test_roc_auc:.4f}, \"\n",
        "          f\"Test F1-Score: {test_f1:.4f}\")"
      ]
    },
    {
      "cell_type": "markdown",
      "metadata": {
        "id": "jtXPRJvpFxcP"
      },
      "source": [
        "Evaluate on test set"
      ]
    },
    {
      "cell_type": "code",
      "execution_count": null,
      "metadata": {
        "id": "2OLN1eEuFxcP"
      },
      "outputs": [],
      "source": [
        "test(model, test_loader)"
      ]
    }
  ],
  "metadata": {
    "kernelspec": {
      "display_name": "openvino_env",
      "language": "python",
      "name": "openvino_env"
    },
    "language_info": {
      "codemirror_mode": {
        "name": "ipython",
        "version": 3
      },
      "file_extension": ".py",
      "mimetype": "text/x-python",
      "name": "python",
      "nbconvert_exporter": "python",
      "pygments_lexer": "ipython3",
      "version": "3.9.13"
    },
    "colab": {
      "provenance": [],
      "gpuType": "T4",
      "include_colab_link": true
    },
    "accelerator": "GPU"
  },
  "nbformat": 4,
  "nbformat_minor": 0
}