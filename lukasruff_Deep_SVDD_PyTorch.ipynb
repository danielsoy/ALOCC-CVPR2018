{
  "nbformat": 4,
  "nbformat_minor": 0,
  "metadata": {
    "colab": {
      "name": "lukasruff_Deep-SVDD-PyTorch.ipynb",
      "provenance": [],
      "authorship_tag": "ABX9TyPd4KeNP8EQsjq1GrJjacIz",
      "include_colab_link": true
    },
    "kernelspec": {
      "name": "python3",
      "display_name": "Python 3"
    },
    "language_info": {
      "name": "python"
    }
  },
  "cells": [
    {
      "cell_type": "markdown",
      "metadata": {
        "id": "view-in-github",
        "colab_type": "text"
      },
      "source": [
        "<a href=\"https://colab.research.google.com/github/danielsoy/ALOCC-CVPR2018/blob/master/lukasruff_Deep_SVDD_PyTorch.ipynb\" target=\"_parent\"><img src=\"https://colab.research.google.com/assets/colab-badge.svg\" alt=\"Open In Colab\"/></a>"
      ]
    },
    {
      "cell_type": "markdown",
      "source": [
        "https://github.com/lukasruff/Deep-SVDD-PyTorch\n",
        "\n"
      ],
      "metadata": {
        "id": "Xwap-589R7hj"
      }
    },
    {
      "cell_type": "code",
      "execution_count": 1,
      "metadata": {
        "colab": {
          "base_uri": "https://localhost:8080/"
        },
        "id": "YVVVEz_eR1j9",
        "outputId": "766da958-f476-41ae-c6b1-8fbd1ce7da0d"
      },
      "outputs": [
        {
          "output_type": "stream",
          "name": "stdout",
          "text": [
            "Cloning into 'Deep-SVDD-PyTorch'...\n",
            "remote: Enumerating objects: 494, done.\u001b[K\n",
            "remote: Counting objects: 100% (3/3), done.\u001b[K\n",
            "remote: Compressing objects: 100% (3/3), done.\u001b[K\n",
            "remote: Total 494 (delta 0), reused 0 (delta 0), pack-reused 491\u001b[K\n",
            "Receiving objects: 100% (494/494), 2.16 MiB | 18.43 MiB/s, done.\n",
            "Resolving deltas: 100% (321/321), done.\n"
          ]
        }
      ],
      "source": [
        "!git clone https://github.com/lukasruff/Deep-SVDD-PyTorch.git"
      ]
    },
    {
      "cell_type": "code",
      "source": [
        "!mkdir /content/Deep-SVDD-PyTorch/log/cifar10_test"
      ],
      "metadata": {
        "id": "HwiDFhs7SEzx"
      },
      "execution_count": 3,
      "outputs": []
    },
    {
      "cell_type": "code",
      "source": [
        "!cd /content/Deep-SVDD-PyTorch/src"
      ],
      "metadata": {
        "id": "MwuVSKv1Sdqx"
      },
      "execution_count": 4,
      "outputs": []
    },
    {
      "cell_type": "code",
      "source": [
        "!python main.py cifar10 cifar10_LeNet ../log/cifar10_test ../data --objective one-class --lr 0.0001 --n_epochs 150 --lr_milestone 50 --batch_size 200 --weight_decay 0.5e-6 --pretrain True --ae_lr 0.0001 --ae_n_epochs 350 --ae_lr_milestone 250 --ae_batch_size 200 --ae_weight_decay 0.5e-6 --normal_class 3;"
      ],
      "metadata": {
        "id": "o99_XhJkSl6w"
      },
      "execution_count": null,
      "outputs": []
    }
  ]
}