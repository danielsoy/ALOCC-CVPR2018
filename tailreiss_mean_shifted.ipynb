{
  "nbformat": 4,
  "nbformat_minor": 0,
  "metadata": {
    "colab": {
      "name": "tailreiss_mean_shifted.ipynb",
      "provenance": [],
      "collapsed_sections": [],
      "authorship_tag": "ABX9TyMgK4PlF1c+cKr4yQIn38+B",
      "include_colab_link": true
    },
    "kernelspec": {
      "name": "python3",
      "display_name": "Python 3"
    },
    "language_info": {
      "name": "python"
    }
  },
  "cells": [
    {
      "cell_type": "markdown",
      "metadata": {
        "id": "view-in-github",
        "colab_type": "text"
      },
      "source": [
        "<a href=\"https://colab.research.google.com/github/danielsoy/ALOCC-CVPR2018/blob/master/tailreiss_mean_shifted.ipynb\" target=\"_parent\"><img src=\"https://colab.research.google.com/assets/colab-badge.svg\" alt=\"Open In Colab\"/></a>"
      ]
    },
    {
      "cell_type": "code",
      "execution_count": 1,
      "metadata": {
        "colab": {
          "base_uri": "https://localhost:8080/"
        },
        "id": "OgyPluhXMrz1",
        "outputId": "ccdd6647-7eaa-40eb-f883-8bc7ddceef37"
      },
      "outputs": [
        {
          "output_type": "stream",
          "name": "stdout",
          "text": [
            "Cloning into 'Mean-Shifted-Anomaly-Detection'...\n",
            "remote: Enumerating objects: 46, done.\u001b[K\n",
            "remote: Counting objects: 100% (46/46), done.\u001b[K\n",
            "remote: Compressing objects: 100% (39/39), done.\u001b[K\n",
            "remote: Total 46 (delta 19), reused 13 (delta 5), pack-reused 0\u001b[K\n",
            "Unpacking objects: 100% (46/46), done.\n"
          ]
        }
      ],
      "source": [
        "!git clone https://github.com/talreiss/Mean-Shifted-Anomaly-Detection.git"
      ]
    },
    {
      "cell_type": "code",
      "source": [
        "%cd /content/Mean-Shifted-Anomaly-Detection/\n",
        "!pip install -r requirements.txt"
      ],
      "metadata": {
        "colab": {
          "base_uri": "https://localhost:8080/"
        },
        "id": "NaV9ouXjNKFB",
        "outputId": "70aa9179-8d8c-45b2-b94e-24b67f64f8f0"
      },
      "execution_count": null,
      "outputs": [
        {
          "output_type": "stream",
          "name": "stdout",
          "text": [
            "/content/Mean-Shifted-Anomaly-Detection\n",
            "Collecting faiss-gpu==1.7.1\n",
            "  Using cached faiss_gpu-1.7.1-cp37-cp37m-manylinux_2_17_x86_64.manylinux2014_x86_64.whl (89.7 MB)\n",
            "Collecting joblib==1.0.1\n",
            "  Using cached joblib-1.0.1-py3-none-any.whl (303 kB)\n",
            "Collecting numpy==1.21\n",
            "  Using cached numpy-1.21.0-cp37-cp37m-manylinux_2_12_x86_64.manylinux2010_x86_64.whl (15.7 MB)\n",
            "Collecting Pillow==9.0.0\n",
            "  Using cached Pillow-9.0.0-cp37-cp37m-manylinux_2_17_x86_64.manylinux2014_x86_64.whl (4.3 MB)\n",
            "Collecting scikit-learn==0.24.2\n",
            "  Downloading scikit_learn-0.24.2-cp37-cp37m-manylinux2010_x86_64.whl (22.3 MB)\n",
            "\u001b[K     |████████████████████████████████| 22.3 MB 1.5 MB/s \n",
            "\u001b[?25hCollecting scipy==1.6.3\n",
            "  Downloading scipy-1.6.3-cp37-cp37m-manylinux1_x86_64.whl (27.4 MB)\n",
            "\u001b[K     |████████████████████████████████| 27.4 MB 1.3 MB/s \n",
            "\u001b[?25hRequirement already satisfied: sklearn==0.0 in /usr/local/lib/python3.7/dist-packages (from -r requirements.txt (line 8)) (0.0)\n",
            "Collecting threadpoolctl==2.1.0\n",
            "  Downloading threadpoolctl-2.1.0-py3-none-any.whl (12 kB)\n",
            "Collecting torch==1.8.1\n",
            "  Downloading torch-1.8.1-cp37-cp37m-manylinux1_x86_64.whl (804.1 MB)\n",
            "\u001b[K     |██████████▉                     | 271.5 MB 1.5 MB/s eta 0:06:03"
          ]
        }
      ]
    },
    {
      "cell_type": "code",
      "source": [
        "!python main.py --dataset=cifar10 --label=n"
      ],
      "metadata": {
        "colab": {
          "base_uri": "https://localhost:8080/"
        },
        "id": "IxTBZTsrNvwy",
        "outputId": "f5cf64df-34fc-4318-fe8a-5622ebfd37af"
      },
      "execution_count": 3,
      "outputs": [
        {
          "output_type": "stream",
          "name": "stdout",
          "text": [
            "Traceback (most recent call last):\n",
            "  File \"main.py\", line 5, in <module>\n",
            "    import utils\n",
            "  File \"/content/Mean-Shifted-Anomaly-Detection/utils.py\", line 5, in <module>\n",
            "    import faiss\n",
            "ModuleNotFoundError: No module named 'faiss'\n"
          ]
        }
      ]
    }
  ]
}