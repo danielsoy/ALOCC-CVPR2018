{
  "cells": [
    {
      "cell_type": "markdown",
      "metadata": {
        "id": "view-in-github",
        "colab_type": "text"
      },
      "source": [
        "<a href=\"https://colab.research.google.com/github/danielsoy/ALOCC-CVPR2018/blob/master/copilotiatrainer.ipynb\" target=\"_parent\"><img src=\"https://colab.research.google.com/assets/colab-badge.svg\" alt=\"Open In Colab\"/></a>"
      ]
    },
    {
      "cell_type": "code",
      "execution_count": 1,
      "metadata": {
        "colab": {
          "base_uri": "https://localhost:8080/"
        },
        "id": "v4Ssg91aerOw",
        "outputId": "0e41d884-6cd2-4b1e-a0c1-16b86ff422d3"
      },
      "outputs": [
        {
          "output_type": "stream",
          "name": "stdout",
          "text": [
            "Mounted at /content/drive\n"
          ]
        }
      ],
      "source": [
        "from google.colab import drive\n",
        "drive.mount('/content/drive')\n",
        "# cd change directory?"
      ]
    },
    {
      "cell_type": "code",
      "execution_count": null,
      "metadata": {
        "id": "zeU5qrHzerOz"
      },
      "outputs": [],
      "source": [
        "import tensorflow as tf\n",
        "from tensorflow.keras import layers, models\n",
        "from tensorflow.keras.preprocessing.image import ImageDataGenerator\n",
        "import numpy as np\n",
        "import matplotlib.pyplot as plt"
      ]
    },
    {
      "cell_type": "markdown",
      "metadata": {
        "id": "aVjnD817erO0"
      },
      "source": [
        "Define the Autoencoder architecture"
      ]
    },
    {
      "cell_type": "code",
      "execution_count": null,
      "metadata": {
        "id": "RGl1GkbxerO1"
      },
      "outputs": [],
      "source": [
        "input_img = tf.keras.Input(shape=(224, 224, 3))"
      ]
    },
    {
      "cell_type": "markdown",
      "metadata": {
        "id": "kuS329gnerO1"
      },
      "source": [
        "Encoder"
      ]
    },
    {
      "cell_type": "code",
      "execution_count": null,
      "metadata": {
        "id": "Ajk9l0L7erO1"
      },
      "outputs": [],
      "source": [
        "x = layers.Conv2D(32, (3, 3), activation='relu', padding='same')(input_img)\n",
        "x = layers.MaxPooling2D((2, 2), padding='same')(x)\n",
        "x = layers.Conv2D(64, (3, 3), activation='relu', padding='same')(x)\n",
        "x = layers.MaxPooling2D((2, 2), padding='same')(x)\n",
        "x = layers.Conv2D(128, (3, 3), activation='relu', padding='same')(x)\n",
        "encoded = layers.MaxPooling2D((2, 2), padding='same')(x)"
      ]
    },
    {
      "cell_type": "markdown",
      "metadata": {
        "id": "jDJkx3DzerO2"
      },
      "source": [
        "Decoder"
      ]
    },
    {
      "cell_type": "code",
      "execution_count": null,
      "metadata": {
        "id": "hO2jqmZzerO2"
      },
      "outputs": [],
      "source": [
        "x = layers.Conv2D(128, (3, 3), activation='relu', padding='same')(encoded)\n",
        "x = layers.UpSampling2D((2, 2))(x)\n",
        "x = layers.Conv2D(64, (3, 3), activation='relu', padding='same')(x)\n",
        "x = layers.UpSampling2D((2, 2))(x)\n",
        "x = layers.Conv2D(32, (3, 3), activation='relu', padding='same')(x)\n",
        "x = layers.UpSampling2D((2, 2))(x)\n",
        "decoded = layers.Conv2D(3, (3, 3), activation='sigmoid', padding='same')(x)"
      ]
    },
    {
      "cell_type": "markdown",
      "metadata": {
        "id": "UFTrHXsxerO2"
      },
      "source": [
        "Compile the Autoencoder with mean squared error loss"
      ]
    },
    {
      "cell_type": "code",
      "execution_count": null,
      "metadata": {
        "id": "I4DxTCqKerO3"
      },
      "outputs": [],
      "source": [
        "autoencoder = models.Model(input_img, decoded)\n",
        "autoencoder.compile(optimizer='adam', loss='mean_squared_error')"
      ]
    },
    {
      "cell_type": "markdown",
      "metadata": {
        "id": "3bZ6LcuTerO3"
      },
      "source": [
        "Prepare the dataset with data augmentation"
      ]
    },
    {
      "cell_type": "code",
      "execution_count": null,
      "metadata": {
        "id": "hPAplYhderO3"
      },
      "outputs": [],
      "source": [
        "train_datagen = ImageDataGenerator(\n",
        "    rescale=1./255,\n",
        "    validation_split=0.5,\n",
        "    #rotation_range=20,\n",
        "    #width_shift_range=0.2,\n",
        "    #height_shift_range=0.2,\n",
        "    #shear_range=0.2,\n",
        "    #zoom_range=0.2,\n",
        "    #horizontal_flip=True,\n",
        "    #fill_mode='nearest'\n",
        "    )"
      ]
    },
    {
      "cell_type": "markdown",
      "metadata": {
        "id": "t5pPwRuZerO3"
      },
      "source": [
        "Custom data generator that yields both input and target data"
      ]
    },
    {
      "cell_type": "code",
      "execution_count": null,
      "metadata": {
        "id": "WAyvfH3aerO4"
      },
      "outputs": [],
      "source": [
        "def custom_data_generator(generator):\n",
        "    for batch in generator:\n",
        "        yield (batch, batch)"
      ]
    },
    {
      "cell_type": "code",
      "execution_count": null,
      "metadata": {
        "id": "TGaXbSYserO4",
        "outputId": "82ddaa7d-b2eb-4a13-dd3a-619195c6ff40"
      },
      "outputs": [
        {
          "name": "stdout",
          "output_type": "stream",
          "text": [
            "Found 75 images belonging to 1 classes.\n"
          ]
        }
      ],
      "source": [
        "train_generator = train_datagen.flow_from_directory(\n",
        "    '/content/drive/MyDrive/datasets/train',\n",
        "    target_size=(224, 224),\n",
        "    batch_size=1,\n",
        "    class_mode=None,  # No labels needed\n",
        "    subset='training'\n",
        ")"
      ]
    },
    {
      "cell_type": "code",
      "execution_count": null,
      "metadata": {
        "id": "io-SASFnerO5",
        "outputId": "9e3258de-aa66-4ba3-96f9-fb03974bd775"
      },
      "outputs": [
        {
          "name": "stdout",
          "output_type": "stream",
          "text": [
            "Found 75 images belonging to 1 classes.\n"
          ]
        }
      ],
      "source": [
        "validation_generator = train_datagen.flow_from_directory(\n",
        "    '/content/drive/MyDrive/datasets/validation',\n",
        "    target_size=(224, 224),\n",
        "    batch_size=1,\n",
        "    class_mode=None,  # No labels needed\n",
        "    subset='validation'\n",
        ")"
      ]
    },
    {
      "cell_type": "markdown",
      "metadata": {
        "id": "RJryBODkerO5"
      },
      "source": [
        "Train the Autoencoder"
      ]
    },
    {
      "cell_type": "code",
      "execution_count": null,
      "metadata": {
        "id": "nYTDXLnTerO6",
        "outputId": "76f9cf71-fb46-4ca5-b98f-46f3e64a00ae"
      },
      "outputs": [
        {
          "name": "stdout",
          "output_type": "stream",
          "text": [
            "Epoch 1/100\n",
            "75/75 [==============================] - 13s 154ms/step - loss: 0.0235 - val_loss: 0.0019\n",
            "Epoch 2/100\n",
            "75/75 [==============================] - 11s 152ms/step - loss: 0.0021 - val_loss: 0.0021\n",
            "Epoch 3/100\n",
            "75/75 [==============================] - 12s 156ms/step - loss: 0.0019 - val_loss: 0.0015\n",
            "Epoch 4/100\n",
            "75/75 [==============================] - 11s 152ms/step - loss: 0.0017 - val_loss: 0.0020\n",
            "Epoch 5/100\n",
            "75/75 [==============================] - 12s 154ms/step - loss: 0.0018 - val_loss: 0.0015\n",
            "Epoch 6/100\n",
            "75/75 [==============================] - 12s 154ms/step - loss: 0.0015 - val_loss: 0.0012\n",
            "Epoch 7/100\n",
            "75/75 [==============================] - 12s 155ms/step - loss: 0.0014 - val_loss: 0.0011\n",
            "Epoch 8/100\n",
            "75/75 [==============================] - 12s 155ms/step - loss: 0.0014 - val_loss: 0.0012\n",
            "Epoch 9/100\n",
            "75/75 [==============================] - 12s 154ms/step - loss: 0.0013 - val_loss: 0.0012\n",
            "Epoch 10/100\n",
            "75/75 [==============================] - 12s 155ms/step - loss: 0.0012 - val_loss: 9.3806e-04\n",
            "Epoch 11/100\n",
            "75/75 [==============================] - 12s 157ms/step - loss: 0.0011 - val_loss: 8.5494e-04\n",
            "Epoch 12/100\n",
            "75/75 [==============================] - 12s 157ms/step - loss: 9.3504e-04 - val_loss: 7.2819e-04\n",
            "Epoch 13/100\n",
            "75/75 [==============================] - 12s 155ms/step - loss: 7.9643e-04 - val_loss: 6.7866e-04\n",
            "Epoch 14/100\n",
            "75/75 [==============================] - 12s 154ms/step - loss: 6.9599e-04 - val_loss: 7.4936e-04\n",
            "Epoch 15/100\n",
            "75/75 [==============================] - 12s 158ms/step - loss: 6.4359e-04 - val_loss: 5.4666e-04\n",
            "Epoch 16/100\n",
            "75/75 [==============================] - 12s 154ms/step - loss: 6.0178e-04 - val_loss: 5.2780e-04\n",
            "Epoch 17/100\n",
            "75/75 [==============================] - 12s 156ms/step - loss: 5.1395e-04 - val_loss: 4.8993e-04\n",
            "Epoch 18/100\n",
            "75/75 [==============================] - 11s 153ms/step - loss: 5.0786e-04 - val_loss: 4.8689e-04\n",
            "Epoch 19/100\n",
            "75/75 [==============================] - 12s 155ms/step - loss: 4.9585e-04 - val_loss: 3.8834e-04\n",
            "Epoch 20/100\n",
            "75/75 [==============================] - 12s 154ms/step - loss: 4.8629e-04 - val_loss: 3.7784e-04\n",
            "Epoch 21/100\n",
            "75/75 [==============================] - 12s 155ms/step - loss: 4.1427e-04 - val_loss: 3.7639e-04\n",
            "Epoch 22/100\n",
            "75/75 [==============================] - 12s 154ms/step - loss: 3.7803e-04 - val_loss: 3.8371e-04\n",
            "Epoch 23/100\n",
            "75/75 [==============================] - 12s 155ms/step - loss: 3.8981e-04 - val_loss: 3.3180e-04\n",
            "Epoch 24/100\n",
            "75/75 [==============================] - 12s 155ms/step - loss: 3.6579e-04 - val_loss: 3.8815e-04\n",
            "Epoch 25/100\n",
            "75/75 [==============================] - 12s 154ms/step - loss: 3.6747e-04 - val_loss: 3.8052e-04\n",
            "Epoch 26/100\n",
            "75/75 [==============================] - 12s 156ms/step - loss: 3.3838e-04 - val_loss: 3.1520e-04\n",
            "Epoch 27/100\n",
            "75/75 [==============================] - 12s 154ms/step - loss: 3.2386e-04 - val_loss: 3.3985e-04\n",
            "Epoch 28/100\n",
            "75/75 [==============================] - 11s 154ms/step - loss: 3.5038e-04 - val_loss: 4.0012e-04\n",
            "Epoch 29/100\n",
            "75/75 [==============================] - 12s 154ms/step - loss: 3.7562e-04 - val_loss: 3.4349e-04\n",
            "Epoch 30/100\n",
            "75/75 [==============================] - 12s 158ms/step - loss: 3.4384e-04 - val_loss: 3.0535e-04\n",
            "Epoch 31/100\n",
            "75/75 [==============================] - 12s 158ms/step - loss: 3.0927e-04 - val_loss: 2.8255e-04\n",
            "Epoch 32/100\n",
            "75/75 [==============================] - 12s 158ms/step - loss: 2.8751e-04 - val_loss: 3.0972e-04\n",
            "Epoch 33/100\n",
            "75/75 [==============================] - 12s 158ms/step - loss: 3.7781e-04 - val_loss: 4.3440e-04\n",
            "Epoch 34/100\n",
            "75/75 [==============================] - 12s 158ms/step - loss: 3.0899e-04 - val_loss: 2.8103e-04\n",
            "Epoch 35/100\n",
            "75/75 [==============================] - 12s 156ms/step - loss: 2.8185e-04 - val_loss: 3.4937e-04\n",
            "Epoch 36/100\n",
            "75/75 [==============================] - 12s 157ms/step - loss: 2.8842e-04 - val_loss: 2.8869e-04\n",
            "Epoch 37/100\n",
            "75/75 [==============================] - 12s 158ms/step - loss: 2.9329e-04 - val_loss: 2.9512e-04\n",
            "Epoch 38/100\n",
            "75/75 [==============================] - 12s 164ms/step - loss: 2.7168e-04 - val_loss: 2.9754e-04\n",
            "Epoch 39/100\n",
            "75/75 [==============================] - 12s 163ms/step - loss: 2.5502e-04 - val_loss: 2.6651e-04\n",
            "Epoch 40/100\n",
            "75/75 [==============================] - 12s 161ms/step - loss: 2.5701e-04 - val_loss: 3.0053e-04\n",
            "Epoch 41/100\n",
            "75/75 [==============================] - 12s 159ms/step - loss: 2.7980e-04 - val_loss: 3.0700e-04\n",
            "Epoch 42/100\n",
            "75/75 [==============================] - 12s 162ms/step - loss: 3.0838e-04 - val_loss: 2.8899e-04\n",
            "Epoch 43/100\n",
            "75/75 [==============================] - 12s 157ms/step - loss: 2.7909e-04 - val_loss: 2.5982e-04\n",
            "Epoch 44/100\n",
            "75/75 [==============================] - 13s 167ms/step - loss: 2.4495e-04 - val_loss: 2.8063e-04\n",
            "Epoch 45/100\n",
            "75/75 [==============================] - 12s 158ms/step - loss: 2.4528e-04 - val_loss: 2.9514e-04\n",
            "Epoch 46/100\n",
            "75/75 [==============================] - 12s 154ms/step - loss: 2.7353e-04 - val_loss: 2.7821e-04\n",
            "Epoch 47/100\n",
            "75/75 [==============================] - 11s 149ms/step - loss: 2.3262e-04 - val_loss: 3.1334e-04\n",
            "Epoch 48/100\n",
            "75/75 [==============================] - 11s 148ms/step - loss: 2.5801e-04 - val_loss: 2.4754e-04\n",
            "Epoch 49/100\n",
            "75/75 [==============================] - 11s 149ms/step - loss: 2.5479e-04 - val_loss: 4.4648e-04\n",
            "Epoch 50/100\n",
            "75/75 [==============================] - 11s 149ms/step - loss: 2.4937e-04 - val_loss: 2.4190e-04\n",
            "Epoch 51/100\n",
            "75/75 [==============================] - 11s 149ms/step - loss: 2.2909e-04 - val_loss: 2.9528e-04\n",
            "Epoch 52/100\n",
            "75/75 [==============================] - 11s 151ms/step - loss: 2.3330e-04 - val_loss: 2.6731e-04\n",
            "Epoch 53/100\n",
            "75/75 [==============================] - 11s 149ms/step - loss: 2.4090e-04 - val_loss: 2.3903e-04\n",
            "Epoch 54/100\n",
            "75/75 [==============================] - 11s 149ms/step - loss: 2.2224e-04 - val_loss: 2.3158e-04\n",
            "Epoch 55/100\n",
            "75/75 [==============================] - 11s 148ms/step - loss: 2.3746e-04 - val_loss: 3.3308e-04\n",
            "Epoch 56/100\n",
            "75/75 [==============================] - 11s 152ms/step - loss: 2.3725e-04 - val_loss: 2.4046e-04\n",
            "Epoch 57/100\n",
            "75/75 [==============================] - 11s 152ms/step - loss: 2.2351e-04 - val_loss: 2.2712e-04\n",
            "Epoch 58/100\n",
            "75/75 [==============================] - 11s 151ms/step - loss: 2.0416e-04 - val_loss: 2.3253e-04\n",
            "Epoch 59/100\n",
            "75/75 [==============================] - 11s 149ms/step - loss: 2.1544e-04 - val_loss: 2.3422e-04\n",
            "Epoch 60/100\n",
            "75/75 [==============================] - 11s 149ms/step - loss: 2.1080e-04 - val_loss: 2.3414e-04\n",
            "Epoch 61/100\n",
            "75/75 [==============================] - 11s 150ms/step - loss: 1.9163e-04 - val_loss: 2.3048e-04\n",
            "Epoch 62/100\n",
            "75/75 [==============================] - 11s 149ms/step - loss: 1.9249e-04 - val_loss: 2.3136e-04\n",
            "Epoch 63/100\n",
            "75/75 [==============================] - 11s 151ms/step - loss: 2.1134e-04 - val_loss: 2.2173e-04\n",
            "Epoch 64/100\n",
            "75/75 [==============================] - 11s 151ms/step - loss: 1.9388e-04 - val_loss: 2.0513e-04\n",
            "Epoch 65/100\n",
            "75/75 [==============================] - 11s 150ms/step - loss: 2.0552e-04 - val_loss: 2.6908e-04\n",
            "Epoch 66/100\n",
            "75/75 [==============================] - 11s 152ms/step - loss: 2.1850e-04 - val_loss: 2.1066e-04\n",
            "Epoch 67/100\n",
            "75/75 [==============================] - 11s 152ms/step - loss: 1.9641e-04 - val_loss: 2.3481e-04\n",
            "Epoch 68/100\n",
            "75/75 [==============================] - 12s 156ms/step - loss: 1.8230e-04 - val_loss: 2.0875e-04\n",
            "Epoch 69/100\n",
            "75/75 [==============================] - 12s 162ms/step - loss: 1.9092e-04 - val_loss: 2.1223e-04\n",
            "Epoch 70/100\n",
            "75/75 [==============================] - 11s 151ms/step - loss: 1.8330e-04 - val_loss: 2.0466e-04\n",
            "Epoch 71/100\n",
            "75/75 [==============================] - 11s 147ms/step - loss: 1.7461e-04 - val_loss: 2.0076e-04\n",
            "Epoch 72/100\n",
            "75/75 [==============================] - 11s 146ms/step - loss: 1.6905e-04 - val_loss: 2.1361e-04\n",
            "Epoch 73/100\n",
            "75/75 [==============================] - 11s 146ms/step - loss: 1.9517e-04 - val_loss: 3.5439e-04\n",
            "Epoch 74/100\n",
            "75/75 [==============================] - 11s 150ms/step - loss: 1.9909e-04 - val_loss: 2.5318e-04\n",
            "Epoch 75/100\n",
            "75/75 [==============================] - 11s 147ms/step - loss: 1.7759e-04 - val_loss: 1.8582e-04\n",
            "Epoch 76/100\n",
            "75/75 [==============================] - 11s 147ms/step - loss: 1.5616e-04 - val_loss: 2.0835e-04\n",
            "Epoch 77/100\n",
            "75/75 [==============================] - 11s 150ms/step - loss: 1.5477e-04 - val_loss: 1.8582e-04\n",
            "Epoch 78/100\n",
            "75/75 [==============================] - 11s 150ms/step - loss: 1.6812e-04 - val_loss: 1.9712e-04\n",
            "Epoch 79/100\n",
            "75/75 [==============================] - 11s 151ms/step - loss: 1.7550e-04 - val_loss: 2.3903e-04\n",
            "Epoch 80/100\n",
            "75/75 [==============================] - 11s 149ms/step - loss: 1.6451e-04 - val_loss: 2.0120e-04\n",
            "Epoch 81/100\n",
            "75/75 [==============================] - 11s 148ms/step - loss: 1.5166e-04 - val_loss: 1.7954e-04\n",
            "Epoch 82/100\n",
            "75/75 [==============================] - 11s 150ms/step - loss: 1.5167e-04 - val_loss: 2.3914e-04\n",
            "Epoch 83/100\n",
            "75/75 [==============================] - 11s 151ms/step - loss: 1.5702e-04 - val_loss: 1.9089e-04\n",
            "Epoch 84/100\n",
            "75/75 [==============================] - 11s 153ms/step - loss: 1.4691e-04 - val_loss: 1.6099e-04\n",
            "Epoch 85/100\n",
            "75/75 [==============================] - 11s 154ms/step - loss: 1.3658e-04 - val_loss: 1.6761e-04\n",
            "Epoch 86/100\n",
            "75/75 [==============================] - 11s 149ms/step - loss: 1.5707e-04 - val_loss: 1.8118e-04\n",
            "Epoch 87/100\n",
            "75/75 [==============================] - 11s 148ms/step - loss: 1.3969e-04 - val_loss: 1.7079e-04\n",
            "Epoch 88/100\n",
            "75/75 [==============================] - 11s 150ms/step - loss: 1.3916e-04 - val_loss: 1.6753e-04\n",
            "Epoch 89/100\n",
            "75/75 [==============================] - 11s 152ms/step - loss: 1.3731e-04 - val_loss: 1.5719e-04\n",
            "Epoch 90/100\n",
            "75/75 [==============================] - 11s 149ms/step - loss: 1.3310e-04 - val_loss: 1.5323e-04\n",
            "Epoch 91/100\n",
            "75/75 [==============================] - 11s 152ms/step - loss: 1.2746e-04 - val_loss: 1.5252e-04\n",
            "Epoch 92/100\n",
            "75/75 [==============================] - 11s 150ms/step - loss: 1.3058e-04 - val_loss: 1.5850e-04\n",
            "Epoch 93/100\n",
            "75/75 [==============================] - 11s 151ms/step - loss: 1.4328e-04 - val_loss: 1.9490e-04\n",
            "Epoch 94/100\n",
            "75/75 [==============================] - 11s 152ms/step - loss: 1.2342e-04 - val_loss: 1.5991e-04\n",
            "Epoch 95/100\n",
            "75/75 [==============================] - 11s 151ms/step - loss: 1.3349e-04 - val_loss: 1.5478e-04\n",
            "Epoch 96/100\n",
            "75/75 [==============================] - 11s 147ms/step - loss: 1.2241e-04 - val_loss: 1.4959e-04\n",
            "Epoch 97/100\n",
            "75/75 [==============================] - 11s 148ms/step - loss: 1.2085e-04 - val_loss: 1.5325e-04\n",
            "Epoch 98/100\n",
            "75/75 [==============================] - 11s 147ms/step - loss: 1.2387e-04 - val_loss: 1.5909e-04\n",
            "Epoch 99/100\n",
            "75/75 [==============================] - 11s 149ms/step - loss: 1.2621e-04 - val_loss: 1.4768e-04\n",
            "Epoch 100/100\n",
            "75/75 [==============================] - 11s 148ms/step - loss: 1.3311e-04 - val_loss: 1.7480e-04\n"
          ]
        }
      ],
      "source": [
        "history = autoencoder.fit(\n",
        "    custom_data_generator(train_generator),\n",
        "    epochs=100,\n",
        "    validation_data=custom_data_generator(validation_generator),\n",
        "    steps_per_epoch=len(train_generator),\n",
        "    validation_steps=len(validation_generator),\n",
        "    callbacks=[tf.keras.callbacks.EarlyStopping(monitor='val_loss', patience=25, restore_best_weights=True)]\n",
        ")"
      ]
    },
    {
      "cell_type": "markdown",
      "metadata": {
        "id": "Dyh3vdUJerO6"
      },
      "source": [
        "Save the Autoencoder model"
      ]
    },
    {
      "cell_type": "code",
      "execution_count": null,
      "metadata": {
        "id": "97HTzEijerO6"
      },
      "outputs": [],
      "source": [
        "autoencoder.save('anomaly_autoencoder_model.h5')"
      ]
    }
  ],
  "metadata": {
    "kernelspec": {
      "display_name": "openvino_env",
      "language": "python",
      "name": "openvino_env"
    },
    "language_info": {
      "codemirror_mode": {
        "name": "ipython",
        "version": 3
      },
      "file_extension": ".py",
      "mimetype": "text/x-python",
      "name": "python",
      "nbconvert_exporter": "python",
      "pygments_lexer": "ipython3",
      "version": "3.9.13"
    },
    "colab": {
      "provenance": [],
      "include_colab_link": true
    }
  },
  "nbformat": 4,
  "nbformat_minor": 0
}