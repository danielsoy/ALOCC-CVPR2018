{
  "cells": [
    {
      "cell_type": "markdown",
      "metadata": {
        "id": "view-in-github",
        "colab_type": "text"
      },
      "source": [
        "<a href=\"https://colab.research.google.com/github/danielsoy/ALOCC-CVPR2018/blob/master/anyresnet1.ipynb\" target=\"_parent\"><img src=\"https://colab.research.google.com/assets/colab-badge.svg\" alt=\"Open In Colab\"/></a>"
      ]
    },
    {
      "cell_type": "code",
      "source": [
        "from google.colab import drive\n",
        "drive.mount('/content/drive')"
      ],
      "metadata": {
        "colab": {
          "base_uri": "https://localhost:8080/"
        },
        "id": "Vq8OwHbxk3C4",
        "outputId": "489ce841-c561-40fb-cdcf-1c597e821f49"
      },
      "execution_count": 10,
      "outputs": [
        {
          "output_type": "stream",
          "name": "stdout",
          "text": [
            "Mounted at /content/drive\n"
          ]
        }
      ]
    },
    {
      "cell_type": "code",
      "execution_count": 11,
      "metadata": {
        "id": "mEgVT22NkIoH"
      },
      "outputs": [],
      "source": [
        "import torch\n",
        "import torch.nn as nn\n",
        "import torch.optim as optim\n",
        "from torchvision import datasets, transforms, models\n",
        "from torch.utils.data import DataLoader, Dataset\n",
        "from PIL import Image\n",
        "import os"
      ]
    },
    {
      "cell_type": "code",
      "execution_count": 30,
      "metadata": {
        "id": "zuxX9VkbkIoJ"
      },
      "outputs": [],
      "source": [
        "resnet2train=0  # cero=18. uno=50 00 01 10 11\n",
        "     trained=0 # cero false, uno true.\n",
        "epocas=50\n",
        "####################################################################"
      ]
    },
    {
      "cell_type": "code",
      "execution_count": 13,
      "metadata": {
        "id": "-bM4D4rmkIoK"
      },
      "outputs": [],
      "source": [
        "if(trained==0):\n",
        "\tpretrained=False\n",
        "\tpre_train=\"_scratch\"\n",
        "else:\n",
        "\tpretrained=True\n",
        "\tpre_train=\"_preT\""
      ]
    },
    {
      "cell_type": "code",
      "execution_count": 14,
      "metadata": {
        "id": "7-Un8cWhkIoL"
      },
      "outputs": [],
      "source": [
        "if(resnet2train==1):\n",
        "\tmodel = models.resnet50(pretrained=trained)\n",
        "\tsaved_model = models.resnet50(pretrained=trained)\n",
        "\tcustom=\"50\""
      ]
    },
    {
      "cell_type": "code",
      "execution_count": 15,
      "metadata": {
        "id": "J0vN8u9CkIoL"
      },
      "outputs": [],
      "source": [
        "if(resnet2train==0):\n",
        "\tmodel = models.resnet18(pretrained=trained)\n",
        "\tsaved_model = models.resnet18(pretrained=trained)\n",
        "\tcustom=\"18\""
      ]
    },
    {
      "cell_type": "markdown",
      "metadata": {
        "id": "KiBv7aU8kIoM"
      },
      "source": [
        "Check if GPU is available"
      ]
    },
    {
      "cell_type": "code",
      "execution_count": 16,
      "metadata": {
        "colab": {
          "base_uri": "https://localhost:8080/"
        },
        "id": "H04GF1bAkIoN",
        "outputId": "a57e7347-c0ad-47a5-94c3-6f56e6ade1db"
      },
      "outputs": [
        {
          "output_type": "stream",
          "name": "stdout",
          "text": [
            "Using device: cpu\n"
          ]
        }
      ],
      "source": [
        "device = torch.device(\"cuda\" if torch.cuda.is_available() else \"cpu\")\n",
        "print(f\"Using device: {device}\")"
      ]
    },
    {
      "cell_type": "markdown",
      "metadata": {
        "id": "xVt6uDM-kIoN"
      },
      "source": [
        "Custom Dataset Class"
      ]
    },
    {
      "cell_type": "code",
      "execution_count": 17,
      "metadata": {
        "id": "ZVLuOujwkIoN"
      },
      "outputs": [],
      "source": [
        "class SingleClassDataset(Dataset):\n",
        "\tdef __init__(self, root_dir, transform=None):\n",
        "\t\tself.root_dir = root_dir\n",
        "\t\tself.transform = transform\n",
        "\t\tself.image_paths = [os.path.join(root_dir, img) for img in os.listdir(root_dir) if img.endswith(('.jpg', '.png', '.jpeg'))]\n",
        "\n",
        "\tdef __len__(self):\n",
        "\t\treturn len(self.image_paths)\n",
        "\n",
        "\tdef __getitem__(self, idx):\n",
        "\t\timg_path = self.image_paths[idx]\n",
        "\t\timage = Image.open(img_path).convert('RGB')  # Ensure 3 channels\n",
        "\t\tlabel = 0  # Since there's only one class, all labels are 0\n",
        "\n",
        "\t\tif self.transform:\n",
        "\t\t\timage = self.transform(image)\n",
        "\n",
        "\t\treturn image, label"
      ]
    },
    {
      "cell_type": "markdown",
      "metadata": {
        "id": "q_VmOuwGkIoN"
      },
      "source": [
        "Define transformations (no resizing needed, just normalization)"
      ]
    },
    {
      "cell_type": "code",
      "execution_count": 18,
      "metadata": {
        "id": "WIBu0u6ykIoO"
      },
      "outputs": [],
      "source": [
        "transform = transforms.Compose([\n",
        "\ttransforms.ToTensor(),  # Convert images to PyTorch tensors\n",
        "\ttransforms.Normalize(mean=[0.485, 0.456, 0.406], std=[0.229, 0.224, 0.225])  # Normalize with ImageNet stats\n",
        "])"
      ]
    },
    {
      "cell_type": "markdown",
      "metadata": {
        "id": "aL0A0uuVkIoO"
      },
      "source": [
        "Load the dataset"
      ]
    },
    {
      "cell_type": "code",
      "execution_count": 24,
      "metadata": {
        "id": "ytwUi5amkIoO"
      },
      "outputs": [],
      "source": [
        "dataset_path = r\"/content/drive/MyDrive/dataset tres/normal\"\n",
        "dataset = SingleClassDataset(root_dir=dataset_path, transform=transform)"
      ]
    },
    {
      "cell_type": "markdown",
      "metadata": {
        "id": "gy59Ps6GkIoO"
      },
      "source": [
        "Split the dataset into training and validation sets"
      ]
    },
    {
      "cell_type": "code",
      "execution_count": 25,
      "metadata": {
        "id": "XN_gMAH8kIoP"
      },
      "outputs": [],
      "source": [
        "train_size = int(0.8 * len(dataset))  # 80% for training\n",
        "val_size = len(dataset) - train_size  # 20% for validation\n",
        "train_dataset, val_dataset = torch.utils.data.random_split(dataset, [train_size, val_size])"
      ]
    },
    {
      "cell_type": "markdown",
      "metadata": {
        "id": "QbKp7sBskIoP"
      },
      "source": [
        "Create data loaders"
      ]
    },
    {
      "cell_type": "code",
      "execution_count": 26,
      "metadata": {
        "id": "wIrAycH-kIoP"
      },
      "outputs": [],
      "source": [
        "train_loader = DataLoader(train_dataset, batch_size=32, shuffle=True)\n",
        "val_loader = DataLoader(val_dataset, batch_size=32, shuffle=False)"
      ]
    },
    {
      "cell_type": "markdown",
      "metadata": {
        "id": "JmRuoL3gkIoP"
      },
      "source": [
        "Load the pre-trained ResNet-18 model<br>\n",
        "odel = models.resnet50(pretrained=True)"
      ]
    },
    {
      "cell_type": "markdown",
      "metadata": {
        "id": "RzQNAdf1kIoP"
      },
      "source": [
        "Modify the final layer for binary classification (1 output neuron)"
      ]
    },
    {
      "cell_type": "code",
      "execution_count": 27,
      "metadata": {
        "id": "A2wlL9LlkIoQ"
      },
      "outputs": [],
      "source": [
        "model.fc = nn.Linear(model.fc.in_features, 1)"
      ]
    },
    {
      "cell_type": "markdown",
      "metadata": {
        "id": "TFORd8AhkIoQ"
      },
      "source": [
        "Move the model to the GPU if available"
      ]
    },
    {
      "cell_type": "code",
      "execution_count": 28,
      "metadata": {
        "id": "DlGXKCjDkIoQ"
      },
      "outputs": [],
      "source": [
        "model = model.to(device)"
      ]
    },
    {
      "cell_type": "markdown",
      "metadata": {
        "id": "VsSYmayjkIoQ"
      },
      "source": [
        "Define loss function and optimizer"
      ]
    },
    {
      "cell_type": "code",
      "execution_count": 29,
      "metadata": {
        "id": "NAyeZnJ9kIoQ"
      },
      "outputs": [],
      "source": [
        "criterion = nn.BCEWithLogitsLoss()  # Binary Cross-Entropy Loss with logits\n",
        "optimizer = optim.Adam(model.parameters(), lr=0.001)"
      ]
    },
    {
      "cell_type": "markdown",
      "metadata": {
        "id": "TiU17GoKkIoR"
      },
      "source": [
        "Training loop"
      ]
    },
    {
      "cell_type": "code",
      "execution_count": 31,
      "metadata": {
        "colab": {
          "base_uri": "https://localhost:8080/"
        },
        "id": "vqh1F-xXkIoR",
        "outputId": "ffbcdfb3-6cb4-4ac0-faf9-6d36bfcf513e"
      },
      "outputs": [
        {
          "output_type": "stream",
          "name": "stdout",
          "text": [
            "Epoch 1/1, Loss: 0.05785210761759016\n",
            "Validation Loss: 0.0, Accuracy: 100.0%\n"
          ]
        }
      ],
      "source": [
        "num_epochs = epocas\n",
        "for epoch in range(num_epochs):\n",
        "\tmodel.train()\n",
        "\trunning_loss = 0.0\n",
        "\tfor inputs, labels in train_loader:\n",
        "\t\tinputs, labels = inputs.to(device), labels.float().to(device)  # Labels must be float for BCEWithLogitsLoss\n",
        "\n",
        "\t\toptimizer.zero_grad()\n",
        "\t\toutputs = model(inputs).squeeze(1)  # Remove extra dimension\n",
        "\t\tloss = criterion(outputs, labels)\n",
        "\t\tloss.backward()\n",
        "\t\toptimizer.step()\n",
        "\n",
        "\t\trunning_loss += loss.item()\n",
        "\n",
        "\tprint(f\"Epoch {epoch+1}/{num_epochs}, Loss: {running_loss/len(train_loader)}\")\n",
        "\n",
        "\t# Validation loop\n",
        "\tmodel.eval()\n",
        "\tval_loss = 0.0\n",
        "\tcorrect = 0\n",
        "\ttotal = 0\n",
        "\twith torch.no_grad():\n",
        "\t\tfor inputs, labels in val_loader:\n",
        "\t\t\tinputs, labels = inputs.to(device), labels.float().to(device)\n",
        "\t\t\toutputs = model(inputs).squeeze(1)\n",
        "\t\t\tloss = criterion(outputs, labels)\n",
        "\t\t\tval_loss += loss.item()\n",
        "\n",
        "\t\t\tpredicted = (torch.sigmoid(outputs) > 0.5).float()  # Convert logits to binary predictions\n",
        "\t\t\ttotal += labels.size(0)\n",
        "\t\t\tcorrect += (predicted == labels).sum().item()\n",
        "\n",
        "\tprint(f\"Validation Loss: {val_loss/len(val_loader)}, Accuracy: {100 * correct / total}%\")"
      ]
    },
    {
      "cell_type": "markdown",
      "metadata": {
        "id": "gCds7JIskIoR"
      },
      "source": [
        "Save the trained model"
      ]
    },
    {
      "cell_type": "code",
      "execution_count": 34,
      "metadata": {
        "id": "X3VqKL86kIoR"
      },
      "outputs": [],
      "source": [
        "# Save the trained model\n",
        "torch.save(model.state_dict(), \"resnet\" + custom + pre_train +\"_custom.pth\")"
      ]
    },
    {
      "cell_type": "code",
      "execution_count": 33,
      "metadata": {
        "colab": {
          "base_uri": "https://localhost:8080/"
        },
        "id": "XYru3_25kIoR",
        "outputId": "699443ca-2d40-435c-e593-f8184ecfb32e"
      },
      "outputs": [
        {
          "output_type": "stream",
          "name": "stdout",
          "text": [
            "Model saved as resnet18_scratch_custom.pth\n"
          ]
        }
      ],
      "source": [
        "print(\"Model saved as resnet\" + custom + pre_train + \"_custom.pth\")"
      ]
    },
    {
      "cell_type": "code",
      "source": [
        "#\"/content/drive/MyDrive/dataset tres/normal\"\n",
        "\n",
        "torch.save(model.state_dict(), \"/content/drive/MyDrive/dataset tres/\" + \"resnet\" + custom + pre_train +\"_custom.pth\")\n",
        "\n",
        "\n",
        "\n",
        "\n"
      ],
      "metadata": {
        "id": "gKgEtwORmegq"
      },
      "execution_count": 40,
      "outputs": []
    }
  ],
  "metadata": {
    "kernelspec": {
      "display_name": "Python 3",
      "name": "python3"
    },
    "language_info": {
      "codemirror_mode": {
        "name": "ipython",
        "version": 3
      },
      "file_extension": ".py",
      "mimetype": "text/x-python",
      "name": "python",
      "nbconvert_exporter": "python",
      "pygments_lexer": "ipython3",
      "version": "3.6.4"
    },
    "colab": {
      "provenance": [],
      "include_colab_link": true
    }
  },
  "nbformat": 4,
  "nbformat_minor": 0
}