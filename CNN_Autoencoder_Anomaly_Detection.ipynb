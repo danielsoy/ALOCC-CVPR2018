{
  "cells": [
    {
      "cell_type": "markdown",
      "metadata": {
        "id": "view-in-github",
        "colab_type": "text"
      },
      "source": [
        "<a href=\"https://colab.research.google.com/github/danielsoy/ALOCC-CVPR2018/blob/master/CNN_Autoencoder_Anomaly_Detection.ipynb\" target=\"_parent\"><img src=\"https://colab.research.google.com/assets/colab-badge.svg\" alt=\"Open In Colab\"/></a>"
      ]
    },
    {
      "cell_type": "markdown",
      "source": [
        "**https://github.com/JudeWells/keras_anomaly_detection**\n",
        "# keras_anomaly_detection\n",
        "CNN based autoencoder combined with kernel density estimation for colour image anomaly detection / novelty detection. \n",
        "Built using Tensforflow 2.0 and Keras.\n",
        "\n",
        "The network was trained using the** fruits 360 dataset **but should work with any colour images.\n",
        "\n",
        "The final model was able to detect 95% to 98% of anomalous images (depending on which class of images were treated as anomalous) with a false positive rate on 'normal' images of 12%. **texto en negrita**"
      ],
      "metadata": {
        "id": "bml7RWn6H7I4"
      }
    },
    {
      "cell_type": "code",
      "execution_count": 1,
      "metadata": {
        "id": "biJmOIfAH1GM"
      },
      "outputs": [],
      "source": [
        "import os\n",
        "import keras\n",
        "from keras.models import Sequential\n",
        "from keras.layers import Dense, Activation, Flatten, Input\n",
        "from keras.layers import Conv2D, MaxPooling2D, UpSampling2D\n",
        "import matplotlib.pyplot as plt\n",
        "from keras import backend as K\n",
        "import numpy as np\n",
        "from keras.preprocessing.image import ImageDataGenerator, array_to_img, img_to_array, load_img\n",
        "from PIL import Image, ImageChops\n",
        "from sklearn.neighbors import KernelDensity\n",
        "import random"
      ]
    },
    {
      "cell_type": "code",
      "execution_count": 2,
      "metadata": {
        "collapsed": true,
        "id": "61f6EOyLH1GN"
      },
      "outputs": [],
      "source": [
        "% matplotlib inline"
      ]
    },
    {
      "cell_type": "code",
      "source": [
        "from google.colab import drive"
      ],
      "metadata": {
        "id": "CebktpkJKHms"
      },
      "execution_count": 3,
      "outputs": []
    },
    {
      "cell_type": "code",
      "source": [
        "drive.mount('/content/drive')"
      ],
      "metadata": {
        "colab": {
          "base_uri": "https://localhost:8080/"
        },
        "id": "v2CetcbBKIeu",
        "outputId": "2ab7d08d-f419-4a7a-905e-26e20854f51d"
      },
      "execution_count": 4,
      "outputs": [
        {
          "output_type": "stream",
          "name": "stdout",
          "text": [
            "Mounted at /content/drive\n"
          ]
        }
      ]
    },
    {
      "cell_type": "code",
      "source": [
        "img_dir = \"/content/drive/MyDrive/filamentrico\""
      ],
      "metadata": {
        "id": "VvD6ctonMANV"
      },
      "execution_count": 5,
      "outputs": []
    },
    {
      "cell_type": "code",
      "source": [
        "# Create generators for training, validation and testing\n",
        "# Generate data from the images in a folder, allows use of datasets that do not fit in main memory all at once\n",
        "# Image resizing is done by the generator so a folder with any sized-images can be used\n",
        "# The named directory must contain one or more subfolders, \n",
        "# path should look like apples_train/apple_class1/img1.jpg...\n",
        "\n",
        "batch_size = 85\n",
        "train_datagen = ImageDataGenerator(rescale=1./255, data_format='channels_last')\n",
        "train_generator = train_datagen.flow_from_directory(\n",
        "    '/content/drive/MyDrive/apples_train',\n",
        "    target_size=(96, 96),\n",
        "\n",
        "    batch_size=batch_size,\n",
        "    class_mode='input'\n",
        "    )\n",
        "\n",
        "test_datagen = ImageDataGenerator(rescale=1./255, data_format='channels_last')\n",
        "validation_generator = test_datagen.flow_from_directory(\n",
        "    '/content/drive/MyDrive/apples_test',\n",
        "    target_size=(96, 96),\n",
        "\n",
        "    batch_size=batch_size,\n",
        "    class_mode='input'\n",
        "    )\n",
        "\n",
        "anomaly_generator = test_datagen.flow_from_directory(\n",
        "    '/content/drive/MyDrive/eggplant',\n",
        "    target_size=(96, 96),\n",
        "\n",
        "    batch_size=batch_size,\n",
        "    class_mode='input'\n",
        "    )"
      ],
      "metadata": {
        "colab": {
          "base_uri": "https://localhost:8080/"
        },
        "id": "O8-Y3G5FTstV",
        "outputId": "6d0e9952-7273-4665-d94d-f6d7ff4b5a14"
      },
      "execution_count": 54,
      "outputs": [
        {
          "output_type": "stream",
          "name": "stdout",
          "text": [
            "Found 6416 images belonging to 13 classes.\n",
            "Found 2138 images belonging to 13 classes.\n",
            "Found 468 images belonging to 3 classes.\n"
          ]
        }
      ]
    },
    {
      "cell_type": "code",
      "execution_count": 40,
      "metadata": {
        "id": "j7lAsnOrH1GO",
        "outputId": "57c8153c-2f78-48b1-b38c-1821d3de9b47",
        "colab": {
          "base_uri": "https://localhost:8080/"
        }
      },
      "outputs": [
        {
          "output_type": "stream",
          "name": "stdout",
          "text": [
            "Model: \"sequential_5\"\n",
            "_________________________________________________________________\n",
            " Layer (type)                Output Shape              Param #   \n",
            "=================================================================\n",
            " conv2d_27 (Conv2D)          (None, 96, 96, 16)        448       \n",
            "                                                                 \n",
            " max_pooling2d_15 (MaxPoolin  (None, 24, 24, 16)       0         \n",
            " g2D)                                                            \n",
            "                                                                 \n",
            " conv2d_28 (Conv2D)          (None, 24, 24, 8)         1160      \n",
            "                                                                 \n",
            " max_pooling2d_16 (MaxPoolin  (None, 6, 6, 8)          0         \n",
            " g2D)                                                            \n",
            "                                                                 \n",
            " conv2d_29 (Conv2D)          (None, 6, 6, 3)           219       \n",
            "                                                                 \n",
            " max_pooling2d_17 (MaxPoolin  (None, 3, 3, 3)          0         \n",
            " g2D)                                                            \n",
            "                                                                 \n",
            " conv2d_30 (Conv2D)          (None, 3, 3, 3)           84        \n",
            "                                                                 \n",
            " up_sampling2d_9 (UpSampling  (None, 6, 6, 3)          0         \n",
            " 2D)                                                             \n",
            "                                                                 \n",
            " conv2d_31 (Conv2D)          (None, 6, 6, 8)           224       \n",
            "                                                                 \n",
            " up_sampling2d_10 (UpSamplin  (None, 24, 24, 8)        0         \n",
            " g2D)                                                            \n",
            "                                                                 \n",
            " conv2d_32 (Conv2D)          (None, 24, 24, 16)        1168      \n",
            "                                                                 \n",
            " up_sampling2d_11 (UpSamplin  (None, 96, 96, 16)       0         \n",
            " g2D)                                                            \n",
            "                                                                 \n",
            " conv2d_33 (Conv2D)          (None, 96, 96, 3)         435       \n",
            "                                                                 \n",
            "=================================================================\n",
            "Total params: 3,738\n",
            "Trainable params: 3,738\n",
            "Non-trainable params: 0\n",
            "_________________________________________________________________\n"
          ]
        }
      ],
      "source": [
        "# Define the convolutional autoencoder model \n",
        "# input shape must be the same size as the images that will be fed into it by the generators\n",
        "# The output layer must be the same dimensions as the original image\n",
        "model = Sequential()\n",
        "\n",
        "model.add(Conv2D(16, (3, 3), padding='same',activation='relu', input_shape=(96, 96, 3)))\n",
        "model.add(MaxPooling2D(pool_size=(4,4), padding='same')) # using pool_size (4,4) makes the layer 4x smaller in height and width\n",
        "\n",
        "model.add(Conv2D(8,(3, 3),activation='relu',  padding='same'))\n",
        "model.add(MaxPooling2D(pool_size=(4,4), padding='same'))\n",
        "\n",
        "model.add(Conv2D(3,(3, 3),activation='relu',  padding='same'))\n",
        "model.add(MaxPooling2D(pool_size=(2,2), padding='same'))\n",
        "\n",
        "#-------------------------\n",
        "model.add(Conv2D(3,(3, 3),activation='relu',  padding='same'))\n",
        "model.add(UpSampling2D((2, 2)))\n",
        "\n",
        "model.add(Conv2D(8,(3, 3),activation='relu',  padding='same'))\n",
        "model.add(UpSampling2D((4, 4)))\n",
        "\n",
        "model.add(Conv2D(16,(3, 3),activation='relu',  padding='same'))\n",
        "model.add(UpSampling2D((4, 4)))\n",
        "\n",
        "model.add(Conv2D(3,(3, 3), activation='sigmoid', padding='same'))\n",
        "#-------------------------\n",
        "\n",
        "model.summary()\n",
        "\n",
        "# Compile the model\n",
        "model.compile(optimizer='adadelta', loss='mean_squared_error')"
      ]
    },
    {
      "cell_type": "code",
      "execution_count": 42,
      "metadata": {
        "id": "4fNSjQmwH1GP",
        "outputId": "c0d3153a-afde-4708-dd82-0b92f5a59d9f",
        "colab": {
          "base_uri": "https://localhost:8080/"
        }
      },
      "outputs": [
        {
          "output_type": "stream",
          "name": "stderr",
          "text": [
            "/usr/local/lib/python3.7/dist-packages/ipykernel_launcher.py:12: UserWarning: `Model.fit_generator` is deprecated and will be removed in a future version. Please use `Model.fit`, which supports generators.\n",
            "  if sys.path[0] == '':\n"
          ]
        },
        {
          "output_type": "stream",
          "name": "stdout",
          "text": [
            "Epoch 1/10\n",
            "2/2 [==============================] - 3s 3s/step - loss: 0.0239 - val_loss: 0.0263\n",
            "Epoch 2/10\n",
            "2/2 [==============================] - 2s 2s/step - loss: 0.0244 - val_loss: 0.0263\n",
            "Epoch 3/10\n",
            "2/2 [==============================] - 2s 2s/step - loss: 0.0240 - val_loss: 0.0264\n",
            "Epoch 4/10\n",
            "2/2 [==============================] - 2s 2s/step - loss: 0.0240 - val_loss: 0.0263\n",
            "Epoch 5/10\n",
            "2/2 [==============================] - 2s 2s/step - loss: 0.0241 - val_loss: 0.0264\n",
            "Epoch 6/10\n",
            "2/2 [==============================] - 2s 2s/step - loss: 0.0240 - val_loss: 0.0265\n",
            "Epoch 7/10\n",
            "2/2 [==============================] - 2s 2s/step - loss: 0.0238 - val_loss: 0.0262\n",
            "Epoch 8/10\n",
            "2/2 [==============================] - 2s 2s/step - loss: 0.0240 - val_loss: 0.0265\n",
            "Epoch 9/10\n",
            "2/2 [==============================] - 2s 2s/step - loss: 0.0239 - val_loss: 0.0263\n",
            "Epoch 10/10\n",
            "2/2 [==============================] - 2s 2s/step - loss: 0.0241 - val_loss: 0.0263\n"
          ]
        },
        {
          "output_type": "execute_result",
          "data": {
            "text/plain": [
              "<keras.callbacks.History at 0x7ff51cb79950>"
            ]
          },
          "metadata": {},
          "execution_count": 42
        }
      ],
      "source": [
        "# Training the model\n",
        "es = keras.callbacks.EarlyStopping(monitor='val_loss', mode='min', verbose=1, patience=30) # Early stopping (stops training when validation doesn't improve for {patience} epochs)\n",
        "model_filepath = 'models/model1.keras'\n",
        "save_best = keras.callbacks.ModelCheckpoint(model_filepath, monitor='val_loss', save_best_only=True, mode='min') # Saves the best version of the model to disk (as measured on the validation data set)\n",
        "model.fit_generator(\n",
        "        train_generator,\n",
        "        steps_per_epoch=199 // batch_size,\n",
        "        epochs=10,\n",
        "        validation_data=validation_generator,\n",
        "        validation_steps=199 // batch_size,\n",
        "        shuffle = True,\n",
        "        callbacks=[es, save_best])"
      ]
    },
    {
      "cell_type": "code",
      "execution_count": 43,
      "metadata": {
        "collapsed": true,
        "id": "cKaSlPwRH1GP"
      },
      "outputs": [],
      "source": [
        "# Training continues after improvement stops for the number of epochs equivalent to the 'patience' hyper-parameter\n",
        "# To get back the model that performed best on the validation set we load the checkpointed model from disk:\n",
        "model = keras.models.load_model(model_filepath)"
      ]
    },
    {
      "cell_type": "code",
      "execution_count": 44,
      "metadata": {
        "id": "QwrK-QOgH1GP",
        "outputId": "fa36c170-a07c-4823-d7a2-5fbd5f9d780d",
        "colab": {
          "base_uri": "https://localhost:8080/",
          "height": 35
        }
      },
      "outputs": [
        {
          "output_type": "execute_result",
          "data": {
            "application/vnd.google.colaboratory.intrinsic+json": {
              "type": "string"
            },
            "text/plain": [
              "'models/model1.keras'"
            ]
          },
          "metadata": {},
          "execution_count": 44
        }
      ],
      "source": [
        "model_filepath"
      ]
    },
    {
      "cell_type": "code",
      "execution_count": 45,
      "metadata": {
        "id": "dmkGWC40H1GQ",
        "outputId": "f4b42fcb-425b-4763-805e-4d01249fd7eb",
        "colab": {
          "base_uri": "https://localhost:8080/",
          "height": 712
        }
      },
      "outputs": [
        {
          "output_type": "error",
          "ename": "IndexError",
          "evalue": "ignored",
          "traceback": [
            "\u001b[0;31m---------------------------------------------------------------------------\u001b[0m",
            "\u001b[0;31mIndexError\u001b[0m                                Traceback (most recent call last)",
            "\u001b[0;32m<ipython-input-45-c01597cfa659>\u001b[0m in \u001b[0;36m<module>\u001b[0;34m()\u001b[0m\n\u001b[1;32m     13\u001b[0m \u001b[0mimgs\u001b[0m \u001b[0;34m=\u001b[0m \u001b[0;34m[\u001b[0m\u001b[0;34m]\u001b[0m\u001b[0;34m\u001b[0m\u001b[0;34m\u001b[0m\u001b[0m\n\u001b[1;32m     14\u001b[0m \u001b[0;32mfor\u001b[0m \u001b[0mi\u001b[0m \u001b[0;32min\u001b[0m \u001b[0mrange\u001b[0m\u001b[0;34m(\u001b[0m\u001b[0mno_of_samples\u001b[0m\u001b[0;34m)\u001b[0m\u001b[0;34m:\u001b[0m\u001b[0;34m\u001b[0m\u001b[0;34m\u001b[0m\u001b[0m\n\u001b[0;32m---> 15\u001b[0;31m     \u001b[0mimgs\u001b[0m\u001b[0;34m.\u001b[0m\u001b[0mappend\u001b[0m\u001b[0;34m(\u001b[0m\u001b[0mdata_list\u001b[0m\u001b[0;34m[\u001b[0m\u001b[0mi\u001b[0m\u001b[0;34m]\u001b[0m\u001b[0;34m[\u001b[0m\u001b[0mi\u001b[0m\u001b[0;34m]\u001b[0m\u001b[0;34m)\u001b[0m\u001b[0;34m\u001b[0m\u001b[0;34m\u001b[0m\u001b[0m\n\u001b[0m\u001b[1;32m     16\u001b[0m     \u001b[0mimgs\u001b[0m\u001b[0;34m.\u001b[0m\u001b[0mappend\u001b[0m\u001b[0;34m(\u001b[0m\u001b[0mpredicted\u001b[0m\u001b[0;34m[\u001b[0m\u001b[0mi\u001b[0m\u001b[0;34m]\u001b[0m\u001b[0;34m)\u001b[0m\u001b[0;34m\u001b[0m\u001b[0;34m\u001b[0m\u001b[0m\n\u001b[1;32m     17\u001b[0m \u001b[0;32mfor\u001b[0m \u001b[0mimg\u001b[0m\u001b[0;34m,\u001b[0m \u001b[0max\u001b[0m \u001b[0;32min\u001b[0m \u001b[0mzip\u001b[0m\u001b[0;34m(\u001b[0m\u001b[0mimgs\u001b[0m\u001b[0;34m,\u001b[0m \u001b[0maxs\u001b[0m\u001b[0;34m)\u001b[0m\u001b[0;34m:\u001b[0m\u001b[0;34m\u001b[0m\u001b[0;34m\u001b[0m\u001b[0m\n",
            "\u001b[0;31mIndexError\u001b[0m: list index out of range"
          ]
        },
        {
          "output_type": "display_data",
          "data": {
            "image/png": "[encoded data removed]",
            "text/plain": [
              "<Figure size 360x576 with 8 Axes>"
            ]
          },
          "metadata": {
            "needs_background": "light"
          }
        }
      ],
      "source": [
        "# Test the model by viewing a sample of original and reconstructed images\n",
        "data_list = []\n",
        "batch_index = 0\n",
        "while batch_index <= train_generator.batch_index:\n",
        "    data = train_generator.next()\n",
        "    data_list.append(data[0])\n",
        "    batch_index = batch_index + 1\n",
        "\n",
        "predicted = model.predict(data_list[0])\n",
        "no_of_samples = 4\n",
        "_, axs = plt.subplots(no_of_samples, 2, figsize=(5, 8))\n",
        "axs = axs.flatten()\n",
        "imgs = []\n",
        "for i in range(no_of_samples):\n",
        "    imgs.append(data_list[i][i])\n",
        "    imgs.append(predicted[i])\n",
        "for img, ax in zip(imgs, axs):\n",
        "    ax.imshow(img)\n",
        "plt.show()"
      ]
    },
    {
      "cell_type": "code",
      "execution_count": 46,
      "metadata": {
        "id": "AoeLllUNH1GQ",
        "outputId": "4f983c92-0455-4234-e121-bfc1fe545696",
        "colab": {
          "base_uri": "https://localhost:8080/"
        }
      },
      "outputs": [
        {
          "output_type": "stream",
          "name": "stderr",
          "text": [
            "/usr/local/lib/python3.7/dist-packages/ipykernel_launcher.py:2: UserWarning: `Model.evaluate_generator` is deprecated and will be removed in a future version. Please use `Model.evaluate`, which supports generators.\n",
            "  \n"
          ]
        },
        {
          "output_type": "stream",
          "name": "stdout",
          "text": [
            "Error on validation set:0.026363812386989594, error on anomaly set:0.02567354589700699\n"
          ]
        }
      ],
      "source": [
        "# We want the difference the difference in error between the validation (normal) images and anomalous images to be as high as possible\n",
        "print(f\"Error on validation set:{model.evaluate_generator(validation_generator)}, error on anomaly set:{model.evaluate_generator(anomaly_generator)}\")"
      ]
    },
    {
      "cell_type": "markdown",
      "metadata": {
        "id": "fzXGNRoGH1GQ"
      },
      "source": [
        "# Extracting the encoded image"
      ]
    },
    {
      "cell_type": "code",
      "execution_count": 47,
      "metadata": {
        "id": "3KV0rMFzH1GR",
        "outputId": "17f48c44-c947-4edb-fb67-760a0b9803cd",
        "colab": {
          "base_uri": "https://localhost:8080/"
        }
      },
      "outputs": [
        {
          "output_type": "stream",
          "name": "stdout",
          "text": [
            "Model: \"sequential_6\"\n",
            "_________________________________________________________________\n",
            " Layer (type)                Output Shape              Param #   \n",
            "=================================================================\n",
            " conv2d_34 (Conv2D)          (None, 96, 96, 16)        448       \n",
            "                                                                 \n",
            " max_pooling2d_18 (MaxPoolin  (None, 24, 24, 16)       0         \n",
            " g2D)                                                            \n",
            "                                                                 \n",
            " conv2d_35 (Conv2D)          (None, 24, 24, 8)         1160      \n",
            "                                                                 \n",
            " max_pooling2d_19 (MaxPoolin  (None, 6, 6, 8)          0         \n",
            " g2D)                                                            \n",
            "                                                                 \n",
            " conv2d_36 (Conv2D)          (None, 6, 6, 3)           219       \n",
            "                                                                 \n",
            " max_pooling2d_20 (MaxPoolin  (None, 3, 3, 3)          0         \n",
            " g2D)                                                            \n",
            "                                                                 \n",
            "=================================================================\n",
            "Total params: 1,827\n",
            "Trainable params: 1,827\n",
            "Non-trainable params: 0\n",
            "_________________________________________________________________\n"
          ]
        }
      ],
      "source": [
        "# We build a replica of the first half of the auto-encoder (the encoder only)\n",
        "# This network takes a an image which is 96x96x3 and compresses it down to a 3x3x3 tensor\n",
        "encoder_replica = Sequential()\n",
        "encoder_replica.add(Conv2D(16, (3, 3), padding='same',activation='relu', input_shape=(96, 96, 3), weights=model.layers[0].get_weights()) )\n",
        "encoder_replica.add(MaxPooling2D(pool_size=(4,4), padding='same'))\n",
        "encoder_replica.add(Conv2D(8,(3, 3),activation='relu',  padding='same', weights=model.layers[2].get_weights()))\n",
        "encoder_replica.add(MaxPooling2D(pool_size=(4,4), padding='same'))\n",
        "encoder_replica.add(Conv2D(3,(3, 3),activation='relu',  padding='same', weights=model.layers[4].get_weights()))\n",
        "encoder_replica.add(MaxPooling2D(pool_size=(2,2), padding='same'))\n",
        "encoder_replica.summary()"
      ]
    },
    {
      "cell_type": "code",
      "execution_count": 48,
      "metadata": {
        "collapsed": true,
        "id": "v6OzfTQYH1GS",
        "colab": {
          "base_uri": "https://localhost:8080/"
        },
        "outputId": "2b8e3c63-4ae1-452b-cf57-7e0dd0638fc9"
      },
      "outputs": [
        {
          "output_type": "stream",
          "name": "stderr",
          "text": [
            "/usr/local/lib/python3.7/dist-packages/ipykernel_launcher.py:3: UserWarning: `Model.predict_generator` is deprecated and will be removed in a future version. Please use `Model.predict`, which supports generators.\n",
            "  This is separate from the ipykernel package so we can avoid doing imports until\n",
            "/usr/local/lib/python3.7/dist-packages/ipykernel_launcher.py:6: UserWarning: `Model.predict_generator` is deprecated and will be removed in a future version. Please use `Model.predict`, which supports generators.\n",
            "  \n",
            "/usr/local/lib/python3.7/dist-packages/ipykernel_launcher.py:9: UserWarning: `Model.predict_generator` is deprecated and will be removed in a future version. Please use `Model.predict`, which supports generators.\n",
            "  if __name__ == '__main__':\n"
          ]
        }
      ],
      "source": [
        "# Creating encoded (compressed versions of the training, validation and anomalous images) and getting their density\n",
        "# The SKLearn kernel density function only works with 1D arrays so we need to flatten the tensors created by the encoder\n",
        "encoded_images = encoder_replica.predict_generator(train_generator)\n",
        "encoded_images_flat = [np.reshape(img, (27)) for img in encoded_images]\n",
        "\n",
        "validation_encoded = encoder_replica.predict_generator(validation_generator)\n",
        "val_enc_flat = [np.reshape(img, (27)) for img in validation_encoded]\n",
        "\n",
        "anom_encoded = encoder_replica.predict_generator(anomaly_generator)\n",
        "anom_enc_flat = [np.reshape(img, (27)) for img in anom_encoded]"
      ]
    },
    {
      "cell_type": "code",
      "execution_count": 49,
      "metadata": {
        "id": "KpkDlHvoH1GS",
        "outputId": "1321f51c-d147-4780-a020-380056d9792f",
        "colab": {
          "base_uri": "https://localhost:8080/",
          "height": 458
        }
      },
      "outputs": [
        {
          "output_type": "display_data",
          "data": {
            "image/png": "[encoded data removed]",
            "text/plain": [
              "<Figure size 720x504 with 1 Axes>"
            ]
          },
          "metadata": {
            "needs_background": "light"
          }
        }
      ],
      "source": [
        "# Kernel Density Estimation of the encoded vectors\n",
        "kde = KernelDensity(kernel='gaussian', bandwidth=0.2).fit(encoded_images_flat)\n",
        "training_density_scores = kde.score_samples(encoded_images_flat) \n",
        "validation_density_scores = kde.score_samples(val_enc_flat)\n",
        "anomaly_density_scores = kde.score_samples(anom_enc_flat)\n",
        "\n",
        "# Plotting the density distributions of the training (normal), validation (normal) and anomalous images\n",
        "# Ideally we want to see high separation between the normal and anomalous classes\n",
        "plt.figure(figsize = (10,7))\n",
        "plt.title('Distribution of Density Scores')\n",
        "plt.hist(training_density_scores, 12, alpha=0.5, label='Training Normal')\n",
        "plt.hist(validation_density_scores, 12, alpha=0.5, label='Validation Normal')\n",
        "plt.hist(anomaly_density_scores, 12, alpha=0.5, label='Anomalies')\n",
        "plt.legend(loc='upper right')\n",
        "plt.xlabel('Density Score')\n",
        "\n",
        "plt.show()"
      ]
    },
    {
      "cell_type": "code",
      "execution_count": 50,
      "metadata": {
        "collapsed": true,
        "id": "X7VCuWQkH1GT"
      },
      "outputs": [],
      "source": [
        "# Creat a function that will classify whether an unseen image is normal or an anomaly\n",
        "# Low density and high reconstruction error mean that the image is likely to be anomalous\n",
        "def check_anomaly(img_path):\n",
        "    density_threshold = 0 # This threshold was chosen based on looking at the distribution of the density scores of the normal class (validation set)\n",
        "    reconstruction_error_threshold = 0.04 # This threshold was chosen based on looking at the distribution of reconstruction errors of the normal class\n",
        "    img  = Image.open(img_path)\n",
        "    img = np.array(img.resize((96,96), Image.ANTIALIAS))\n",
        "    img = img / 255\n",
        "    encoded_img = encoder_replica.predict([[img]]) # Create a compressed version of the image using the encoder\n",
        "    encoded_img = [np.reshape(img, (27)) for img in encoded_img] # Flatten the compressed image\n",
        "    density = kde.score_samples(encoded_img)[0] # get a density score for the new image\n",
        "#     print(f'density: {density}')\n",
        "    reconstruction = model.predict([[img]])\n",
        "    reconstruction_error = model.evaluate([reconstruction],[[img]], batch_size = 1)\n",
        "#     print(f'reconstruction_error: {reconstruction_error}')\n",
        "    if density < density_threshold or reconstruction_error > reconstruction_error_threshold:\n",
        "        return True\n",
        "    else:\n",
        "        return False"
      ]
    },
    {
      "cell_type": "code",
      "execution_count": 51,
      "metadata": {
        "id": "m6fpv6WDH1GT",
        "outputId": "6e22949f-d535-4c9f-b32a-df3f46117e8f",
        "colab": {
          "base_uri": "https://localhost:8080/",
          "height": 206
        }
      },
      "outputs": [
        {
          "output_type": "error",
          "ename": "ZeroDivisionError",
          "evalue": "ignored",
          "traceback": [
            "\u001b[0;31m---------------------------------------------------------------------------\u001b[0m",
            "\u001b[0;31mZeroDivisionError\u001b[0m                         Traceback (most recent call last)",
            "\u001b[0;32m<ipython-input-51-8fe66d806ef6>\u001b[0m in \u001b[0;36m<module>\u001b[0;34m()\u001b[0m\n\u001b[1;32m      9\u001b[0m \u001b[0;32mfor\u001b[0m \u001b[0mfile\u001b[0m \u001b[0;32min\u001b[0m \u001b[0monion_files\u001b[0m\u001b[0;34m:\u001b[0m\u001b[0;34m\u001b[0m\u001b[0;34m\u001b[0m\u001b[0m\n\u001b[1;32m     10\u001b[0m     \u001b[0monion_predictions\u001b[0m\u001b[0;34m.\u001b[0m\u001b[0mappend\u001b[0m\u001b[0;34m(\u001b[0m\u001b[0mcheck_anomaly\u001b[0m\u001b[0;34m(\u001b[0m\u001b[0mfile\u001b[0m\u001b[0;34m)\u001b[0m\u001b[0;34m)\u001b[0m\u001b[0;34m\u001b[0m\u001b[0;34m\u001b[0m\u001b[0m\n\u001b[0;32m---> 11\u001b[0;31m \u001b[0mprint\u001b[0m\u001b[0;34m(\u001b[0m\u001b[0msum\u001b[0m\u001b[0;34m(\u001b[0m\u001b[0monion_predictions\u001b[0m\u001b[0;34m)\u001b[0m\u001b[0;34m/\u001b[0m\u001b[0mlen\u001b[0m\u001b[0;34m(\u001b[0m\u001b[0monion_predictions\u001b[0m\u001b[0;34m)\u001b[0m\u001b[0;34m)\u001b[0m\u001b[0;34m\u001b[0m\u001b[0;34m\u001b[0m\u001b[0m\n\u001b[0m",
            "\u001b[0;31mZeroDivisionError\u001b[0m: division by zero"
          ]
        }
      ],
      "source": [
        "# Check what proportion of onion images are classified as anomalous\n",
        "onion_files = []\n",
        "for (dirpath, dirnames, filenames) in os.walk('onions'):\n",
        "    for x in filenames:\n",
        "        if x.endswith(\".jpg\"):\n",
        "            onion_files.append(os.path.join(dirpath, x))\n",
        "\n",
        "onion_predictions = []\n",
        "for file in onion_files:\n",
        "    onion_predictions.append(check_anomaly(file))\n",
        "print(sum(onion_predictions)/len(onion_predictions))"
      ]
    },
    {
      "cell_type": "code",
      "execution_count": 52,
      "metadata": {
        "id": "k4rfJD3BH1GU",
        "outputId": "1e93f0eb-5d09-4085-ab9e-a2f5d2119741",
        "colab": {
          "base_uri": "https://localhost:8080/",
          "height": 206
        }
      },
      "outputs": [
        {
          "output_type": "error",
          "ename": "ZeroDivisionError",
          "evalue": "ignored",
          "traceback": [
            "\u001b[0;31m---------------------------------------------------------------------------\u001b[0m",
            "\u001b[0;31mZeroDivisionError\u001b[0m                         Traceback (most recent call last)",
            "\u001b[0;32m<ipython-input-52-56a760e7b3aa>\u001b[0m in \u001b[0;36m<module>\u001b[0;34m()\u001b[0m\n\u001b[1;32m      9\u001b[0m \u001b[0;32mfor\u001b[0m \u001b[0mfile\u001b[0m \u001b[0;32min\u001b[0m \u001b[0mapples_test\u001b[0m\u001b[0;34m:\u001b[0m\u001b[0;34m\u001b[0m\u001b[0;34m\u001b[0m\u001b[0m\n\u001b[1;32m     10\u001b[0m     \u001b[0mapples_predictions\u001b[0m\u001b[0;34m.\u001b[0m\u001b[0mappend\u001b[0m\u001b[0;34m(\u001b[0m\u001b[0mcheck_anomaly\u001b[0m\u001b[0;34m(\u001b[0m\u001b[0mfile\u001b[0m\u001b[0;34m)\u001b[0m\u001b[0;34m)\u001b[0m\u001b[0;34m\u001b[0m\u001b[0;34m\u001b[0m\u001b[0m\n\u001b[0;32m---> 11\u001b[0;31m \u001b[0mprint\u001b[0m\u001b[0;34m(\u001b[0m\u001b[0msum\u001b[0m\u001b[0;34m(\u001b[0m\u001b[0mapples_predictions\u001b[0m\u001b[0;34m)\u001b[0m\u001b[0;34m/\u001b[0m\u001b[0mlen\u001b[0m\u001b[0;34m(\u001b[0m\u001b[0mapples_predictions\u001b[0m\u001b[0;34m)\u001b[0m\u001b[0;34m)\u001b[0m\u001b[0;34m\u001b[0m\u001b[0;34m\u001b[0m\u001b[0m\n\u001b[0m",
            "\u001b[0;31mZeroDivisionError\u001b[0m: division by zero"
          ]
        }
      ],
      "source": [
        "# Check what proportion of apples are classified as anomalous (we hope that this will be close to zero)\n",
        "apples_test = []\n",
        "for (dirpath, dirnames, filenames) in os.walk('apples_test'):\n",
        "    for x in filenames:\n",
        "        if x.endswith(\".jpg\"):\n",
        "            apples_test.append(os.path.join(dirpath, x))\n",
        "\n",
        "apples_predictions = []\n",
        "for file in apples_test:\n",
        "    apples_predictions.append(check_anomaly(file))\n",
        "print(sum(apples_predictions)/len(apples_predictions))"
      ]
    },
    {
      "cell_type": "code",
      "execution_count": 53,
      "metadata": {
        "id": "jAfGN6E_H1GU",
        "outputId": "4e54dbe7-3659-48fb-eeba-0a624d9e1cdb",
        "colab": {
          "base_uri": "https://localhost:8080/",
          "height": 206
        }
      },
      "outputs": [
        {
          "output_type": "error",
          "ename": "ZeroDivisionError",
          "evalue": "ignored",
          "traceback": [
            "\u001b[0;31m---------------------------------------------------------------------------\u001b[0m",
            "\u001b[0;31mZeroDivisionError\u001b[0m                         Traceback (most recent call last)",
            "\u001b[0;32m<ipython-input-53-8dfad94bd53c>\u001b[0m in \u001b[0;36m<module>\u001b[0;34m()\u001b[0m\n\u001b[1;32m      9\u001b[0m \u001b[0;32mfor\u001b[0m \u001b[0mfile\u001b[0m \u001b[0;32min\u001b[0m \u001b[0meggplant_test\u001b[0m\u001b[0;34m:\u001b[0m\u001b[0;34m\u001b[0m\u001b[0;34m\u001b[0m\u001b[0m\n\u001b[1;32m     10\u001b[0m     \u001b[0meggplant_predictions\u001b[0m\u001b[0;34m.\u001b[0m\u001b[0mappend\u001b[0m\u001b[0;34m(\u001b[0m\u001b[0mcheck_anomaly\u001b[0m\u001b[0;34m(\u001b[0m\u001b[0mfile\u001b[0m\u001b[0;34m)\u001b[0m\u001b[0;34m)\u001b[0m\u001b[0;34m\u001b[0m\u001b[0;34m\u001b[0m\u001b[0m\n\u001b[0;32m---> 11\u001b[0;31m \u001b[0mprint\u001b[0m\u001b[0;34m(\u001b[0m\u001b[0msum\u001b[0m\u001b[0;34m(\u001b[0m\u001b[0meggplant_predictions\u001b[0m\u001b[0;34m)\u001b[0m\u001b[0;34m/\u001b[0m\u001b[0mlen\u001b[0m\u001b[0;34m(\u001b[0m\u001b[0meggplant_predictions\u001b[0m\u001b[0;34m)\u001b[0m\u001b[0;34m)\u001b[0m\u001b[0;34m\u001b[0m\u001b[0;34m\u001b[0m\u001b[0m\n\u001b[0m",
            "\u001b[0;31mZeroDivisionError\u001b[0m: division by zero"
          ]
        }
      ],
      "source": [
        "# Check what proportion of aubergines/eggplants get classed as anomalous.\n",
        "eggplant_test = []\n",
        "for (dirpath, dirnames, filenames) in os.walk('eggplant'):\n",
        "    for x in filenames:\n",
        "        if x.endswith(\".jpg\"):\n",
        "            eggplant_test.append(os.path.join(dirpath, x))\n",
        "\n",
        "eggplant_predictions = []\n",
        "for file in eggplant_test:\n",
        "    eggplant_predictions.append(check_anomaly(file))\n",
        "print(sum(eggplant_predictions)/len(eggplant_predictions))"
      ]
    },
    {
      "cell_type": "code",
      "execution_count": null,
      "metadata": {
        "id": "Qjy5V3kMH1GU"
      },
      "outputs": [],
      "source": [
        "peppers_test = []\n",
        "for (dirpath, dirnames, filenames) in os.walk('peppers'):\n",
        "    for x in filenames:\n",
        "        if x.endswith(\".jpg\"):\n",
        "            peppers_test.append(os.path.join(dirpath, x))\n",
        "\n",
        "peppers_predictions = []\n",
        "for file in peppers_test:\n",
        "    peppers_predictions.append(check_anomaly(file))\n",
        "print(sum(peppers_predictions)/len(peppers_predictions))"
      ]
    },
    {
      "cell_type": "code",
      "execution_count": null,
      "metadata": {
        "id": "APxhftf6H1GV"
      },
      "outputs": [],
      "source": [
        "len(peppers_predictions)"
      ]
    }
  ],
  "metadata": {
    "kernelspec": {
      "display_name": "Python 3",
      "language": "python",
      "name": "python3"
    },
    "language_info": {
      "codemirror_mode": {
        "name": "ipython",
        "version": 3
      },
      "file_extension": ".py",
      "mimetype": "text/x-python",
      "name": "python",
      "nbconvert_exporter": "python",
      "pygments_lexer": "ipython3",
      "version": "3.6.8"
    },
    "colab": {
      "name": "CNN Autoencoder Anomaly Detection.ipynb",
      "provenance": [],
      "collapsed_sections": [],
      "include_colab_link": true
    },
    "accelerator": "GPU"
  },
  "nbformat": 4,
  "nbformat_minor": 0
}