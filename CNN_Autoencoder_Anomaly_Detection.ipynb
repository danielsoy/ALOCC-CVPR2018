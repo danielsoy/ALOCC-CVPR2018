{
  "cells": [
    {
      "cell_type": "markdown",
      "metadata": {
        "id": "view-in-github",
        "colab_type": "text"
      },
      "source": [
        "<a href=\"https://colab.research.google.com/github/danielsoy/ALOCC-CVPR2018/blob/master/CNN_Autoencoder_Anomaly_Detection.ipynb\" target=\"_parent\"><img src=\"https://colab.research.google.com/assets/colab-badge.svg\" alt=\"Open In Colab\"/></a>"
      ]
    },
    {
      "cell_type": "markdown",
      "source": [
        "**https://github.com/JudeWells/keras_anomaly_detection**\n",
        "# keras_anomaly_detection\n",
        "CNN based autoencoder combined with kernel density estimation for colour image anomaly detection / novelty detection. \n",
        "Built using Tensforflow 2.0 and Keras.\n",
        "\n",
        "The network was trained using the** fruits 360 dataset **but should work with any colour images.\n",
        "\n",
        "The final model was able to detect 95% to 98% of anomalous images (depending on which class of images were treated as anomalous) with a false positive rate on 'normal' images of 12%. **texto en negrita**"
      ],
      "metadata": {
        "id": "bml7RWn6H7I4"
      }
    },
    {
      "cell_type": "code",
      "execution_count": 1,
      "metadata": {
        "id": "biJmOIfAH1GM"
      },
      "outputs": [],
      "source": [
        "import os\n",
        "import keras\n",
        "from keras.models import Sequential\n",
        "from keras.layers import Dense, Activation, Flatten, Input\n",
        "from keras.layers import Conv2D, MaxPooling2D, UpSampling2D\n",
        "import matplotlib.pyplot as plt\n",
        "from keras import backend as K\n",
        "import numpy as np\n",
        "from keras.preprocessing.image import ImageDataGenerator, array_to_img, img_to_array, load_img\n",
        "from PIL import Image, ImageChops\n",
        "from sklearn.neighbors import KernelDensity\n",
        "import random"
      ]
    },
    {
      "cell_type": "code",
      "execution_count": 2,
      "metadata": {
        "collapsed": true,
        "id": "61f6EOyLH1GN"
      },
      "outputs": [],
      "source": [
        "% matplotlib inline"
      ]
    },
    {
      "cell_type": "code",
      "source": [
        "from google.colab import drive"
      ],
      "metadata": {
        "id": "CebktpkJKHms"
      },
      "execution_count": 3,
      "outputs": []
    },
    {
      "cell_type": "code",
      "source": [
        "drive.mount('/content/drive')"
      ],
      "metadata": {
        "colab": {
          "base_uri": "https://localhost:8080/"
        },
        "id": "v2CetcbBKIeu",
        "outputId": "2ab7d08d-f419-4a7a-905e-26e20854f51d"
      },
      "execution_count": 4,
      "outputs": [
        {
          "output_type": "stream",
          "name": "stdout",
          "text": [
            "Mounted at /content/drive\n"
          ]
        }
      ]
    },
    {
      "cell_type": "code",
      "source": [
        "img_dir = \"/content/drive/MyDrive/filamentrico\""
      ],
      "metadata": {
        "id": "VvD6ctonMANV"
      },
      "execution_count": 5,
      "outputs": []
    },
    {
      "cell_type": "code",
      "source": [
        "# Create generators for training, validation and testing\n",
        "# Generate data from the images in a folder, allows use of datasets that do not fit in main memory all at once\n",
        "# Image resizing is done by the generator so a folder with any sized-images can be used\n",
        "# The named directory must contain one or more subfolders, \n",
        "# path should look like apples_train/apple_class1/img1.jpg...\n",
        "\n",
        "batch_size = 85\n",
        "train_datagen = ImageDataGenerator(rescale=1./255, data_format='channels_last')\n",
        "train_generator = train_datagen.flow_from_directory(\n",
        "    '/content/drive/MyDrive/apples_train',\n",
        "    target_size=(96, 96),\n",
        "\n",
        "    batch_size=batch_size,\n",
        "    class_mode='input'\n",
        "    )\n",
        "\n",
        "test_datagen = ImageDataGenerator(rescale=1./255, data_format='channels_last')\n",
        "validation_generator = test_datagen.flow_from_directory(\n",
        "    '/content/drive/MyDrive/apples_test',\n",
        "    target_size=(96, 96),\n",
        "\n",
        "    batch_size=batch_size,\n",
        "    class_mode='input'\n",
        "    )\n",
        "\n",
        "anomaly_generator = test_datagen.flow_from_directory(\n",
        "    '/content/drive/MyDrive/fruta_anomala',\n",
        "    target_size=(96, 96),\n",
        "\n",
        "    batch_size=batch_size,\n",
        "    class_mode='input'\n",
        "    )"
      ],
      "metadata": {
        "colab": {
          "base_uri": "https://localhost:8080/"
        },
        "id": "O8-Y3G5FTstV",
        "outputId": "233ca200-a615-45cb-d511-f85a4f4351bf"
      },
      "execution_count": 67,
      "outputs": [
        {
          "output_type": "stream",
          "name": "stdout",
          "text": [
            "Found 6416 images belonging to 13 classes.\n",
            "Found 2138 images belonging to 13 classes.\n",
            "Found 200 images belonging to 1 classes.\n"
          ]
        }
      ]
    },
    {
      "cell_type": "code",
      "execution_count": 69,
      "metadata": {
        "id": "j7lAsnOrH1GO",
        "outputId": "99e159ee-9e5f-4b3a-c60e-dd7682e34a33",
        "colab": {
          "base_uri": "https://localhost:8080/"
        }
      },
      "outputs": [
        {
          "output_type": "stream",
          "name": "stdout",
          "text": [
            "Model: \"sequential_10\"\n",
            "_________________________________________________________________\n",
            " Layer (type)                Output Shape              Param #   \n",
            "=================================================================\n",
            " conv2d_54 (Conv2D)          (None, 96, 96, 16)        448       \n",
            "                                                                 \n",
            " max_pooling2d_30 (MaxPoolin  (None, 24, 24, 16)       0         \n",
            " g2D)                                                            \n",
            "                                                                 \n",
            " conv2d_55 (Conv2D)          (None, 24, 24, 8)         1160      \n",
            "                                                                 \n",
            " max_pooling2d_31 (MaxPoolin  (None, 6, 6, 8)          0         \n",
            " g2D)                                                            \n",
            "                                                                 \n",
            " conv2d_56 (Conv2D)          (None, 6, 6, 3)           219       \n",
            "                                                                 \n",
            " max_pooling2d_32 (MaxPoolin  (None, 3, 3, 3)          0         \n",
            " g2D)                                                            \n",
            "                                                                 \n",
            " conv2d_57 (Conv2D)          (None, 3, 3, 3)           84        \n",
            "                                                                 \n",
            " up_sampling2d_18 (UpSamplin  (None, 6, 6, 3)          0         \n",
            " g2D)                                                            \n",
            "                                                                 \n",
            " conv2d_58 (Conv2D)          (None, 6, 6, 8)           224       \n",
            "                                                                 \n",
            " up_sampling2d_19 (UpSamplin  (None, 24, 24, 8)        0         \n",
            " g2D)                                                            \n",
            "                                                                 \n",
            " conv2d_59 (Conv2D)          (None, 24, 24, 16)        1168      \n",
            "                                                                 \n",
            " up_sampling2d_20 (UpSamplin  (None, 96, 96, 16)       0         \n",
            " g2D)                                                            \n",
            "                                                                 \n",
            " conv2d_60 (Conv2D)          (None, 96, 96, 3)         435       \n",
            "                                                                 \n",
            "=================================================================\n",
            "Total params: 3,738\n",
            "Trainable params: 3,738\n",
            "Non-trainable params: 0\n",
            "_________________________________________________________________\n"
          ]
        }
      ],
      "source": [
        "# Define the convolutional autoencoder model \n",
        "# input shape must be the same size as the images that will be fed into it by the generators\n",
        "# The output layer must be the same dimensions as the original image\n",
        "model = Sequential()\n",
        "\n",
        "model.add(Conv2D(16, (3, 3), padding='same',activation='relu', input_shape=(96, 96, 3)))\n",
        "model.add(MaxPooling2D(pool_size=(4,4), padding='same')) # using pool_size (4,4) makes the layer 4x smaller in height and width\n",
        "\n",
        "model.add(Conv2D(8,(3, 3),activation='relu',  padding='same'))\n",
        "model.add(MaxPooling2D(pool_size=(4,4), padding='same'))\n",
        "\n",
        "model.add(Conv2D(3,(3, 3),activation='relu',  padding='same'))\n",
        "model.add(MaxPooling2D(pool_size=(2,2), padding='same'))\n",
        "\n",
        "#-------------------------\n",
        "model.add(Conv2D(3,(3, 3),activation='relu',  padding='same'))\n",
        "model.add(UpSampling2D((2, 2)))\n",
        "\n",
        "model.add(Conv2D(8,(3, 3),activation='relu',  padding='same'))\n",
        "model.add(UpSampling2D((4, 4)))\n",
        "\n",
        "model.add(Conv2D(16,(3, 3),activation='relu',  padding='same'))\n",
        "model.add(UpSampling2D((4, 4)))\n",
        "\n",
        "model.add(Conv2D(3,(3, 3), activation='sigmoid', padding='same'))\n",
        "#-------------------------\n",
        "\n",
        "model.summary()\n",
        "\n",
        "# Compile the model\n",
        "model.compile(optimizer='adadelta', loss='mean_squared_error')"
      ]
    },
    {
      "cell_type": "code",
      "execution_count": 84,
      "metadata": {
        "id": "4fNSjQmwH1GP",
        "outputId": "52ba4508-a635-49b2-d92b-9a64177ce906",
        "colab": {
          "base_uri": "https://localhost:8080/"
        }
      },
      "outputs": [
        {
          "output_type": "stream",
          "name": "stderr",
          "text": [
            "/usr/local/lib/python3.7/dist-packages/ipykernel_launcher.py:12: UserWarning: `Model.fit_generator` is deprecated and will be removed in a future version. Please use `Model.fit`, which supports generators.\n",
            "  if sys.path[0] == '':\n"
          ]
        },
        {
          "output_type": "stream",
          "name": "stdout",
          "text": [
            "Epoch 1/100\n",
            "11/11 [==============================] - 5s 425ms/step - loss: 0.1222 - val_loss: 0.1223\n",
            "Epoch 2/100\n",
            "11/11 [==============================] - 4s 407ms/step - loss: 0.1214 - val_loss: 0.1223\n",
            "Epoch 3/100\n",
            "11/11 [==============================] - 4s 400ms/step - loss: 0.1223 - val_loss: 0.1222\n",
            "Epoch 4/100\n",
            "11/11 [==============================] - 4s 399ms/step - loss: 0.1221 - val_loss: 0.1218\n",
            "Epoch 5/100\n",
            "11/11 [==============================] - 4s 404ms/step - loss: 0.1222 - val_loss: 0.1217\n",
            "Epoch 6/100\n",
            "11/11 [==============================] - 4s 388ms/step - loss: 0.1233 - val_loss: 0.1217\n",
            "Epoch 7/100\n",
            "11/11 [==============================] - 4s 403ms/step - loss: 0.1231 - val_loss: 0.1217\n",
            "Epoch 8/100\n",
            "11/11 [==============================] - 4s 395ms/step - loss: 0.1210 - val_loss: 0.1226\n",
            "Epoch 9/100\n",
            "11/11 [==============================] - 4s 399ms/step - loss: 0.1227 - val_loss: 0.1221\n",
            "Epoch 10/100\n",
            "11/11 [==============================] - 4s 392ms/step - loss: 0.1219 - val_loss: 0.1223\n",
            "Epoch 11/100\n",
            "11/11 [==============================] - 4s 397ms/step - loss: 0.1221 - val_loss: 0.1232\n",
            "Epoch 12/100\n",
            "11/11 [==============================] - 4s 407ms/step - loss: 0.1228 - val_loss: 0.1221\n",
            "Epoch 13/100\n",
            "11/11 [==============================] - 4s 408ms/step - loss: 0.1219 - val_loss: 0.1222\n",
            "Epoch 14/100\n",
            "11/11 [==============================] - 4s 408ms/step - loss: 0.1227 - val_loss: 0.1217\n",
            "Epoch 15/100\n",
            "11/11 [==============================] - 4s 403ms/step - loss: 0.1229 - val_loss: 0.1226\n",
            "Epoch 16/100\n",
            "11/11 [==============================] - 4s 397ms/step - loss: 0.1221 - val_loss: 0.1229\n",
            "Epoch 17/100\n",
            "11/11 [==============================] - 4s 402ms/step - loss: 0.1222 - val_loss: 0.1217\n",
            "Epoch 18/100\n",
            "11/11 [==============================] - 4s 396ms/step - loss: 0.1215 - val_loss: 0.1215\n",
            "Epoch 19/100\n",
            "11/11 [==============================] - 4s 395ms/step - loss: 0.1229 - val_loss: 0.1226\n",
            "Epoch 20/100\n",
            "11/11 [==============================] - 4s 394ms/step - loss: 0.1218 - val_loss: 0.1217\n",
            "Epoch 21/100\n",
            "11/11 [==============================] - 5s 512ms/step - loss: 0.1215 - val_loss: 0.1222\n",
            "Epoch 22/100\n",
            "11/11 [==============================] - 4s 383ms/step - loss: 0.1231 - val_loss: 0.1223\n",
            "Epoch 23/100\n",
            "11/11 [==============================] - 4s 401ms/step - loss: 0.1223 - val_loss: 0.1219\n",
            "Epoch 24/100\n",
            "11/11 [==============================] - 4s 399ms/step - loss: 0.1215 - val_loss: 0.1218\n",
            "Epoch 25/100\n",
            "11/11 [==============================] - 4s 395ms/step - loss: 0.1222 - val_loss: 0.1218\n",
            "Epoch 26/100\n",
            "11/11 [==============================] - 4s 398ms/step - loss: 0.1225 - val_loss: 0.1224\n",
            "Epoch 27/100\n",
            "11/11 [==============================] - 4s 401ms/step - loss: 0.1216 - val_loss: 0.1229\n",
            "Epoch 28/100\n",
            "11/11 [==============================] - 4s 391ms/step - loss: 0.1227 - val_loss: 0.1226\n",
            "Epoch 29/100\n",
            "11/11 [==============================] - 4s 396ms/step - loss: 0.1223 - val_loss: 0.1226\n",
            "Epoch 30/100\n",
            "11/11 [==============================] - 4s 396ms/step - loss: 0.1218 - val_loss: 0.1224\n",
            "Epoch 31/100\n",
            "11/11 [==============================] - 4s 383ms/step - loss: 0.1230 - val_loss: 0.1223\n",
            "Epoch 32/100\n",
            "11/11 [==============================] - 4s 392ms/step - loss: 0.1222 - val_loss: 0.1221\n",
            "Epoch 33/100\n",
            "11/11 [==============================] - 4s 394ms/step - loss: 0.1230 - val_loss: 0.1224\n",
            "Epoch 34/100\n",
            "11/11 [==============================] - 4s 391ms/step - loss: 0.1217 - val_loss: 0.1230\n",
            "Epoch 35/100\n",
            "11/11 [==============================] - 4s 395ms/step - loss: 0.1233 - val_loss: 0.1220\n",
            "Epoch 36/100\n",
            "11/11 [==============================] - 4s 394ms/step - loss: 0.1222 - val_loss: 0.1218\n",
            "Epoch 37/100\n",
            "11/11 [==============================] - 4s 395ms/step - loss: 0.1223 - val_loss: 0.1218\n",
            "Epoch 38/100\n",
            "11/11 [==============================] - 4s 400ms/step - loss: 0.1230 - val_loss: 0.1214\n",
            "Epoch 39/100\n",
            "11/11 [==============================] - 4s 396ms/step - loss: 0.1225 - val_loss: 0.1216\n",
            "Epoch 40/100\n",
            "11/11 [==============================] - 4s 387ms/step - loss: 0.1223 - val_loss: 0.1219\n",
            "Epoch 41/100\n",
            "11/11 [==============================] - 4s 396ms/step - loss: 0.1222 - val_loss: 0.1224\n",
            "Epoch 42/100\n",
            "11/11 [==============================] - 4s 394ms/step - loss: 0.1219 - val_loss: 0.1220\n",
            "Epoch 43/100\n",
            "11/11 [==============================] - 4s 398ms/step - loss: 0.1221 - val_loss: 0.1226\n",
            "Epoch 44/100\n",
            "11/11 [==============================] - 4s 398ms/step - loss: 0.1224 - val_loss: 0.1218\n",
            "Epoch 45/100\n",
            "11/11 [==============================] - 4s 396ms/step - loss: 0.1215 - val_loss: 0.1217\n",
            "Epoch 46/100\n",
            "11/11 [==============================] - 4s 390ms/step - loss: 0.1217 - val_loss: 0.1228\n",
            "Epoch 47/100\n",
            "11/11 [==============================] - 4s 395ms/step - loss: 0.1221 - val_loss: 0.1217\n",
            "Epoch 48/100\n",
            "11/11 [==============================] - 4s 398ms/step - loss: 0.1225 - val_loss: 0.1221\n",
            "Epoch 49/100\n",
            "11/11 [==============================] - 4s 395ms/step - loss: 0.1230 - val_loss: 0.1222\n",
            "Epoch 50/100\n",
            "11/11 [==============================] - 4s 380ms/step - loss: 0.1225 - val_loss: 0.1219\n",
            "Epoch 51/100\n",
            "11/11 [==============================] - 4s 392ms/step - loss: 0.1230 - val_loss: 0.1222\n",
            "Epoch 52/100\n",
            "11/11 [==============================] - 4s 398ms/step - loss: 0.1216 - val_loss: 0.1226\n",
            "Epoch 53/100\n",
            "11/11 [==============================] - 4s 397ms/step - loss: 0.1225 - val_loss: 0.1225\n",
            "Epoch 54/100\n",
            "11/11 [==============================] - 4s 395ms/step - loss: 0.1226 - val_loss: 0.1221\n",
            "Epoch 55/100\n",
            "11/11 [==============================] - 4s 391ms/step - loss: 0.1231 - val_loss: 0.1216\n",
            "Epoch 56/100\n",
            "11/11 [==============================] - 4s 394ms/step - loss: 0.1226 - val_loss: 0.1227\n",
            "Epoch 57/100\n",
            "11/11 [==============================] - 4s 396ms/step - loss: 0.1208 - val_loss: 0.1219\n",
            "Epoch 58/100\n",
            "11/11 [==============================] - 4s 395ms/step - loss: 0.1218 - val_loss: 0.1222\n",
            "Epoch 59/100\n",
            "11/11 [==============================] - 4s 399ms/step - loss: 0.1222 - val_loss: 0.1226\n",
            "Epoch 60/100\n",
            "11/11 [==============================] - 4s 390ms/step - loss: 0.1219 - val_loss: 0.1221\n",
            "Epoch 61/100\n",
            "11/11 [==============================] - 4s 391ms/step - loss: 0.1230 - val_loss: 0.1219\n",
            "Epoch 62/100\n",
            "11/11 [==============================] - 4s 397ms/step - loss: 0.1217 - val_loss: 0.1222\n",
            "Epoch 63/100\n",
            "11/11 [==============================] - 4s 382ms/step - loss: 0.1213 - val_loss: 0.1220\n",
            "Epoch 64/100\n",
            "11/11 [==============================] - 4s 397ms/step - loss: 0.1223 - val_loss: 0.1221\n",
            "Epoch 65/100\n",
            "11/11 [==============================] - 4s 408ms/step - loss: 0.1236 - val_loss: 0.1213\n",
            "Epoch 66/100\n",
            "11/11 [==============================] - 4s 391ms/step - loss: 0.1229 - val_loss: 0.1215\n",
            "Epoch 67/100\n",
            "11/11 [==============================] - 4s 399ms/step - loss: 0.1217 - val_loss: 0.1229\n",
            "Epoch 68/100\n",
            "11/11 [==============================] - 4s 398ms/step - loss: 0.1222 - val_loss: 0.1225\n",
            "Epoch 69/100\n",
            "11/11 [==============================] - 4s 393ms/step - loss: 0.1227 - val_loss: 0.1218\n",
            "Epoch 70/100\n",
            "11/11 [==============================] - 4s 397ms/step - loss: 0.1229 - val_loss: 0.1218\n",
            "Epoch 71/100\n",
            "11/11 [==============================] - 4s 395ms/step - loss: 0.1223 - val_loss: 0.1224\n",
            "Epoch 72/100\n",
            "11/11 [==============================] - 4s 395ms/step - loss: 0.1221 - val_loss: 0.1219\n",
            "Epoch 73/100\n",
            "11/11 [==============================] - 4s 403ms/step - loss: 0.1216 - val_loss: 0.1215\n",
            "Epoch 74/100\n",
            "11/11 [==============================] - 4s 397ms/step - loss: 0.1224 - val_loss: 0.1222\n",
            "Epoch 75/100\n",
            "11/11 [==============================] - 4s 400ms/step - loss: 0.1213 - val_loss: 0.1215\n",
            "Epoch 76/100\n",
            "11/11 [==============================] - 4s 401ms/step - loss: 0.1218 - val_loss: 0.1216\n",
            "Epoch 77/100\n",
            "11/11 [==============================] - 4s 414ms/step - loss: 0.1229 - val_loss: 0.1222\n",
            "Epoch 78/100\n",
            "11/11 [==============================] - 4s 409ms/step - loss: 0.1227 - val_loss: 0.1216\n",
            "Epoch 79/100\n",
            "11/11 [==============================] - 4s 398ms/step - loss: 0.1233 - val_loss: 0.1218\n",
            "Epoch 80/100\n",
            "11/11 [==============================] - 4s 393ms/step - loss: 0.1223 - val_loss: 0.1221\n",
            "Epoch 81/100\n",
            "11/11 [==============================] - 4s 393ms/step - loss: 0.1222 - val_loss: 0.1217\n",
            "Epoch 82/100\n",
            "11/11 [==============================] - 4s 397ms/step - loss: 0.1221 - val_loss: 0.1223\n",
            "Epoch 83/100\n",
            "11/11 [==============================] - 4s 383ms/step - loss: 0.1207 - val_loss: 0.1214\n",
            "Epoch 84/100\n",
            "11/11 [==============================] - 4s 383ms/step - loss: 0.1226 - val_loss: 0.1221\n",
            "Epoch 85/100\n",
            "11/11 [==============================] - 4s 398ms/step - loss: 0.1213 - val_loss: 0.1221\n",
            "Epoch 86/100\n",
            "11/11 [==============================] - 4s 385ms/step - loss: 0.1231 - val_loss: 0.1215\n",
            "Epoch 87/100\n",
            "11/11 [==============================] - 4s 387ms/step - loss: 0.1217 - val_loss: 0.1222\n",
            "Epoch 88/100\n",
            "11/11 [==============================] - 4s 396ms/step - loss: 0.1217 - val_loss: 0.1225\n",
            "Epoch 89/100\n",
            "11/11 [==============================] - 4s 396ms/step - loss: 0.1227 - val_loss: 0.1226\n",
            "Epoch 90/100\n",
            "11/11 [==============================] - 4s 397ms/step - loss: 0.1222 - val_loss: 0.1219\n",
            "Epoch 91/100\n",
            "11/11 [==============================] - 4s 394ms/step - loss: 0.1228 - val_loss: 0.1218\n",
            "Epoch 92/100\n",
            "11/11 [==============================] - 4s 388ms/step - loss: 0.1212 - val_loss: 0.1215\n",
            "Epoch 93/100\n",
            "11/11 [==============================] - 4s 392ms/step - loss: 0.1221 - val_loss: 0.1218\n",
            "Epoch 94/100\n",
            "11/11 [==============================] - 4s 391ms/step - loss: 0.1215 - val_loss: 0.1222\n",
            "Epoch 95/100\n",
            "11/11 [==============================] - 4s 386ms/step - loss: 0.1227 - val_loss: 0.1218\n",
            "Epoch 00095: early stopping\n"
          ]
        },
        {
          "output_type": "execute_result",
          "data": {
            "text/plain": [
              "<keras.callbacks.History at 0x7ff51d110990>"
            ]
          },
          "metadata": {},
          "execution_count": 84
        }
      ],
      "source": [
        "# Training the model\n",
        "es = keras.callbacks.EarlyStopping(monitor='val_loss', mode='min', verbose=1, patience=30) # Early stopping (stops training when validation doesn't improve for {patience} epochs)\n",
        "model_filepath = 'models/model1.keras'\n",
        "save_best = keras.callbacks.ModelCheckpoint(model_filepath, monitor='val_loss', save_best_only=True, mode='min') # Saves the best version of the model to disk (as measured on the validation data set)\n",
        "model.fit_generator(\n",
        "        train_generator,\n",
        "        steps_per_epoch=1000 // batch_size,\n",
        "        epochs=100,\n",
        "        validation_data=validation_generator,\n",
        "        validation_steps=1000 // batch_size,\n",
        "        shuffle = True,\n",
        "        callbacks=[es, save_best])"
      ]
    },
    {
      "cell_type": "code",
      "execution_count": 81,
      "metadata": {
        "collapsed": true,
        "id": "cKaSlPwRH1GP"
      },
      "outputs": [],
      "source": [
        "# Training continues after improvement stops for the number of epochs equivalent to the 'patience' hyper-parameter\n",
        "# To get back the model that performed best on the validation set we load the checkpointed model from disk:\n",
        "model = keras.models.load_model(model_filepath)"
      ]
    },
    {
      "cell_type": "code",
      "execution_count": 82,
      "metadata": {
        "id": "QwrK-QOgH1GP",
        "outputId": "a2765209-1787-46e2-e6d9-c3d647d3f75f",
        "colab": {
          "base_uri": "https://localhost:8080/",
          "height": 35
        }
      },
      "outputs": [
        {
          "output_type": "execute_result",
          "data": {
            "application/vnd.google.colaboratory.intrinsic+json": {
              "type": "string"
            },
            "text/plain": [
              "'models/model1.keras'"
            ]
          },
          "metadata": {},
          "execution_count": 82
        }
      ],
      "source": [
        "model_filepath"
      ]
    },
    {
      "cell_type": "code",
      "execution_count": 83,
      "metadata": {
        "id": "dmkGWC40H1GQ",
        "outputId": "8120cacb-2675-4169-95bb-d3ae1e944129",
        "colab": {
          "base_uri": "https://localhost:8080/",
          "height": 486
        }
      },
      "outputs": [
        {
          "output_type": "display_data",
          "data": {
            "image/png": "[encoded data removed]",
            "text/plain": [
              "<Figure size 360x576 with 8 Axes>"
            ]
          },
          "metadata": {
            "needs_background": "light"
          }
        }
      ],
      "source": [
        "# Test the model by viewing a sample of original and reconstructed images\n",
        "data_list = []\n",
        "batch_index = 0\n",
        "while batch_index <= train_generator.batch_index:\n",
        "    data = train_generator.next()\n",
        "    data_list.append(data[0])\n",
        "    batch_index = batch_index + 1\n",
        "\n",
        "predicted = model.predict(data_list[0])\n",
        "no_of_samples = 4\n",
        "_, axs = plt.subplots(no_of_samples, 2, figsize=(5, 8))\n",
        "axs = axs.flatten()\n",
        "imgs = []\n",
        "for i in range(no_of_samples):\n",
        "    imgs.append(data_list[i][i])\n",
        "    imgs.append(predicted[i])\n",
        "for img, ax in zip(imgs, axs):\n",
        "    ax.imshow(img)\n",
        "plt.show()"
      ]
    },
    {
      "cell_type": "code",
      "execution_count": 74,
      "metadata": {
        "id": "AoeLllUNH1GQ",
        "outputId": "ac69038a-d30d-4ec2-d51b-8b9218571121",
        "colab": {
          "base_uri": "https://localhost:8080/"
        }
      },
      "outputs": [
        {
          "output_type": "stream",
          "name": "stderr",
          "text": [
            "/usr/local/lib/python3.7/dist-packages/ipykernel_launcher.py:2: UserWarning: `Model.evaluate_generator` is deprecated and will be removed in a future version. Please use `Model.evaluate`, which supports generators.\n",
            "  \n"
          ]
        },
        {
          "output_type": "stream",
          "name": "stdout",
          "text": [
            "Error on validation set:0.12224699556827545, error on anomaly set:0.025105779990553856\n"
          ]
        }
      ],
      "source": [
        "# We want the difference the difference in error between the validation (normal) images and anomalous images to be as high as possible\n",
        "print(f\"Error on validation set:{model.evaluate_generator(validation_generator)}, error on anomaly set:{model.evaluate_generator(anomaly_generator)}\")"
      ]
    },
    {
      "cell_type": "markdown",
      "metadata": {
        "id": "fzXGNRoGH1GQ"
      },
      "source": [
        "# Extracting the encoded image"
      ]
    },
    {
      "cell_type": "code",
      "execution_count": 75,
      "metadata": {
        "id": "3KV0rMFzH1GR",
        "outputId": "aa02bde5-da1e-4172-c1f3-a01a3d3e1c9b",
        "colab": {
          "base_uri": "https://localhost:8080/"
        }
      },
      "outputs": [
        {
          "output_type": "stream",
          "name": "stdout",
          "text": [
            "Model: \"sequential_11\"\n",
            "_________________________________________________________________\n",
            " Layer (type)                Output Shape              Param #   \n",
            "=================================================================\n",
            " conv2d_61 (Conv2D)          (None, 96, 96, 16)        448       \n",
            "                                                                 \n",
            " max_pooling2d_33 (MaxPoolin  (None, 24, 24, 16)       0         \n",
            " g2D)                                                            \n",
            "                                                                 \n",
            " conv2d_62 (Conv2D)          (None, 24, 24, 8)         1160      \n",
            "                                                                 \n",
            " max_pooling2d_34 (MaxPoolin  (None, 6, 6, 8)          0         \n",
            " g2D)                                                            \n",
            "                                                                 \n",
            " conv2d_63 (Conv2D)          (None, 6, 6, 3)           219       \n",
            "                                                                 \n",
            " max_pooling2d_35 (MaxPoolin  (None, 3, 3, 3)          0         \n",
            " g2D)                                                            \n",
            "                                                                 \n",
            "=================================================================\n",
            "Total params: 1,827\n",
            "Trainable params: 1,827\n",
            "Non-trainable params: 0\n",
            "_________________________________________________________________\n"
          ]
        }
      ],
      "source": [
        "# We build a replica of the first half of the auto-encoder (the encoder only)\n",
        "# This network takes a an image which is 96x96x3 and compresses it down to a 3x3x3 tensor\n",
        "encoder_replica = Sequential()\n",
        "encoder_replica.add(Conv2D(16, (3, 3), padding='same',activation='relu', input_shape=(96, 96, 3), weights=model.layers[0].get_weights()) )\n",
        "encoder_replica.add(MaxPooling2D(pool_size=(4,4), padding='same'))\n",
        "encoder_replica.add(Conv2D(8,(3, 3),activation='relu',  padding='same', weights=model.layers[2].get_weights()))\n",
        "encoder_replica.add(MaxPooling2D(pool_size=(4,4), padding='same'))\n",
        "encoder_replica.add(Conv2D(3,(3, 3),activation='relu',  padding='same', weights=model.layers[4].get_weights()))\n",
        "encoder_replica.add(MaxPooling2D(pool_size=(2,2), padding='same'))\n",
        "encoder_replica.summary()"
      ]
    },
    {
      "cell_type": "code",
      "execution_count": 76,
      "metadata": {
        "collapsed": true,
        "id": "v6OzfTQYH1GS",
        "colab": {
          "base_uri": "https://localhost:8080/"
        },
        "outputId": "42f53525-344c-4cdb-f6b6-8d2c78410cd0"
      },
      "outputs": [
        {
          "output_type": "stream",
          "name": "stderr",
          "text": [
            "/usr/local/lib/python3.7/dist-packages/ipykernel_launcher.py:3: UserWarning: `Model.predict_generator` is deprecated and will be removed in a future version. Please use `Model.predict`, which supports generators.\n",
            "  This is separate from the ipykernel package so we can avoid doing imports until\n",
            "/usr/local/lib/python3.7/dist-packages/ipykernel_launcher.py:6: UserWarning: `Model.predict_generator` is deprecated and will be removed in a future version. Please use `Model.predict`, which supports generators.\n",
            "  \n",
            "/usr/local/lib/python3.7/dist-packages/ipykernel_launcher.py:9: UserWarning: `Model.predict_generator` is deprecated and will be removed in a future version. Please use `Model.predict`, which supports generators.\n",
            "  if __name__ == '__main__':\n"
          ]
        }
      ],
      "source": [
        "# Creating encoded (compressed versions of the training, validation and anomalous images) and getting their density\n",
        "# The SKLearn kernel density function only works with 1D arrays so we need to flatten the tensors created by the encoder\n",
        "encoded_images = encoder_replica.predict_generator(train_generator)\n",
        "encoded_images_flat = [np.reshape(img, (27)) for img in encoded_images]\n",
        "\n",
        "validation_encoded = encoder_replica.predict_generator(validation_generator)\n",
        "val_enc_flat = [np.reshape(img, (27)) for img in validation_encoded]\n",
        "\n",
        "anom_encoded = encoder_replica.predict_generator(anomaly_generator)\n",
        "anom_enc_flat = [np.reshape(img, (27)) for img in anom_encoded]"
      ]
    },
    {
      "cell_type": "code",
      "execution_count": 77,
      "metadata": {
        "id": "KpkDlHvoH1GS",
        "outputId": "ab4dd36b-f915-4f81-a1ab-5b5739845805",
        "colab": {
          "base_uri": "https://localhost:8080/",
          "height": 458
        }
      },
      "outputs": [
        {
          "output_type": "display_data",
          "data": {
            "image/png": "[encoded data removed]",
            "text/plain": [
              "<Figure size 720x504 with 1 Axes>"
            ]
          },
          "metadata": {
            "needs_background": "light"
          }
        }
      ],
      "source": [
        "# Kernel Density Estimation of the encoded vectors\n",
        "kde = KernelDensity(kernel='gaussian', bandwidth=0.2).fit(encoded_images_flat)\n",
        "training_density_scores = kde.score_samples(encoded_images_flat) \n",
        "validation_density_scores = kde.score_samples(val_enc_flat)\n",
        "anomaly_density_scores = kde.score_samples(anom_enc_flat)\n",
        "\n",
        "# Plotting the density distributions of the training (normal), validation (normal) and anomalous images\n",
        "# Ideally we want to see high separation between the normal and anomalous classes\n",
        "plt.figure(figsize = (10,7))\n",
        "plt.title('Distribution of Density Scores')\n",
        "plt.hist(training_density_scores, 12, alpha=0.5, label='Training Normal')\n",
        "plt.hist(validation_density_scores, 12, alpha=0.5, label='Validation Normal')\n",
        "plt.hist(anomaly_density_scores, 12, alpha=0.5, label='Anomalies')\n",
        "plt.legend(loc='upper right')\n",
        "plt.xlabel('Density Score')\n",
        "\n",
        "plt.show()"
      ]
    },
    {
      "cell_type": "code",
      "execution_count": 78,
      "metadata": {
        "collapsed": true,
        "id": "X7VCuWQkH1GT"
      },
      "outputs": [],
      "source": [
        "# Creat a function that will classify whether an unseen image is normal or an anomaly\n",
        "# Low density and high reconstruction error mean that the image is likely to be anomalous\n",
        "def check_anomaly(img_path):\n",
        "    density_threshold = 0 # This threshold was chosen based on looking at the distribution of the density scores of the normal class (validation set)\n",
        "    reconstruction_error_threshold = 0.04 # This threshold was chosen based on looking at the distribution of reconstruction errors of the normal class\n",
        "    img  = Image.open(img_path)\n",
        "    img = np.array(img.resize((96,96), Image.ANTIALIAS))\n",
        "    img = img / 255\n",
        "    encoded_img = encoder_replica.predict([[img]]) # Create a compressed version of the image using the encoder\n",
        "    encoded_img = [np.reshape(img, (27)) for img in encoded_img] # Flatten the compressed image\n",
        "    density = kde.score_samples(encoded_img)[0] # get a density score for the new image\n",
        "#     print(f'density: {density}')\n",
        "    reconstruction = model.predict([[img]])\n",
        "    reconstruction_error = model.evaluate([reconstruction],[[img]], batch_size = 1)\n",
        "#     print(f'reconstruction_error: {reconstruction_error}')\n",
        "    if density < density_threshold or reconstruction_error > reconstruction_error_threshold:\n",
        "        return True\n",
        "    else:\n",
        "        return False"
      ]
    },
    {
      "cell_type": "code",
      "execution_count": 79,
      "metadata": {
        "id": "m6fpv6WDH1GT",
        "outputId": "4755fe5e-1c05-4da3-f0a9-83518323ccde",
        "colab": {
          "base_uri": "https://localhost:8080/",
          "height": 206
        }
      },
      "outputs": [
        {
          "output_type": "error",
          "ename": "ZeroDivisionError",
          "evalue": "ignored",
          "traceback": [
            "\u001b[0;31m---------------------------------------------------------------------------\u001b[0m",
            "\u001b[0;31mZeroDivisionError\u001b[0m                         Traceback (most recent call last)",
            "\u001b[0;32m<ipython-input-79-15f1eccbe66c>\u001b[0m in \u001b[0;36m<module>\u001b[0;34m()\u001b[0m\n\u001b[1;32m      9\u001b[0m \u001b[0;32mfor\u001b[0m \u001b[0mfile\u001b[0m \u001b[0;32min\u001b[0m \u001b[0monion_files\u001b[0m\u001b[0;34m:\u001b[0m\u001b[0;34m\u001b[0m\u001b[0;34m\u001b[0m\u001b[0m\n\u001b[1;32m     10\u001b[0m     \u001b[0monion_predictions\u001b[0m\u001b[0;34m.\u001b[0m\u001b[0mappend\u001b[0m\u001b[0;34m(\u001b[0m\u001b[0mcheck_anomaly\u001b[0m\u001b[0;34m(\u001b[0m\u001b[0mfile\u001b[0m\u001b[0;34m)\u001b[0m\u001b[0;34m)\u001b[0m\u001b[0;34m\u001b[0m\u001b[0;34m\u001b[0m\u001b[0m\n\u001b[0;32m---> 11\u001b[0;31m \u001b[0mprint\u001b[0m\u001b[0;34m(\u001b[0m\u001b[0msum\u001b[0m\u001b[0;34m(\u001b[0m\u001b[0monion_predictions\u001b[0m\u001b[0;34m)\u001b[0m\u001b[0;34m/\u001b[0m\u001b[0mlen\u001b[0m\u001b[0;34m(\u001b[0m\u001b[0monion_predictions\u001b[0m\u001b[0;34m)\u001b[0m\u001b[0;34m)\u001b[0m\u001b[0;34m\u001b[0m\u001b[0;34m\u001b[0m\u001b[0m\n\u001b[0m",
            "\u001b[0;31mZeroDivisionError\u001b[0m: division by zero"
          ]
        }
      ],
      "source": [
        "# Check what proportion of onion images are classified as anomalous\n",
        "onion_files = []\n",
        "for (dirpath, dirnames, filenames) in os.walk('oninons'):\n",
        "    for x in filenames:\n",
        "        if x.endswith(\".jpg\"):\n",
        "            onion_files.append(os.path.join(dirpath, x))\n",
        "\n",
        "onion_predictions = []\n",
        "for file in onion_files:\n",
        "    onion_predictions.append(check_anomaly(file))\n",
        "print(sum(onion_predictions)/len(onion_predictions))"
      ]
    },
    {
      "cell_type": "code",
      "execution_count": 52,
      "metadata": {
        "id": "k4rfJD3BH1GU",
        "outputId": "1e93f0eb-5d09-4085-ab9e-a2f5d2119741",
        "colab": {
          "base_uri": "https://localhost:8080/",
          "height": 206
        }
      },
      "outputs": [
        {
          "output_type": "error",
          "ename": "ZeroDivisionError",
          "evalue": "ignored",
          "traceback": [
            "\u001b[0;31m---------------------------------------------------------------------------\u001b[0m",
            "\u001b[0;31mZeroDivisionError\u001b[0m                         Traceback (most recent call last)",
            "\u001b[0;32m<ipython-input-52-56a760e7b3aa>\u001b[0m in \u001b[0;36m<module>\u001b[0;34m()\u001b[0m\n\u001b[1;32m      9\u001b[0m \u001b[0;32mfor\u001b[0m \u001b[0mfile\u001b[0m \u001b[0;32min\u001b[0m \u001b[0mapples_test\u001b[0m\u001b[0;34m:\u001b[0m\u001b[0;34m\u001b[0m\u001b[0;34m\u001b[0m\u001b[0m\n\u001b[1;32m     10\u001b[0m     \u001b[0mapples_predictions\u001b[0m\u001b[0;34m.\u001b[0m\u001b[0mappend\u001b[0m\u001b[0;34m(\u001b[0m\u001b[0mcheck_anomaly\u001b[0m\u001b[0;34m(\u001b[0m\u001b[0mfile\u001b[0m\u001b[0;34m)\u001b[0m\u001b[0;34m)\u001b[0m\u001b[0;34m\u001b[0m\u001b[0;34m\u001b[0m\u001b[0m\n\u001b[0;32m---> 11\u001b[0;31m \u001b[0mprint\u001b[0m\u001b[0;34m(\u001b[0m\u001b[0msum\u001b[0m\u001b[0;34m(\u001b[0m\u001b[0mapples_predictions\u001b[0m\u001b[0;34m)\u001b[0m\u001b[0;34m/\u001b[0m\u001b[0mlen\u001b[0m\u001b[0;34m(\u001b[0m\u001b[0mapples_predictions\u001b[0m\u001b[0;34m)\u001b[0m\u001b[0;34m)\u001b[0m\u001b[0;34m\u001b[0m\u001b[0;34m\u001b[0m\u001b[0m\n\u001b[0m",
            "\u001b[0;31mZeroDivisionError\u001b[0m: division by zero"
          ]
        }
      ],
      "source": [
        "# Check what proportion of apples are classified as anomalous (we hope that this will be close to zero)\n",
        "apples_test = []\n",
        "for (dirpath, dirnames, filenames) in os.walk('apples_test'):\n",
        "    for x in filenames:\n",
        "        if x.endswith(\".jpg\"):\n",
        "            apples_test.append(os.path.join(dirpath, x))\n",
        "\n",
        "apples_predictions = []\n",
        "for file in apples_test:\n",
        "    apples_predictions.append(check_anomaly(file))\n",
        "print(sum(apples_predictions)/len(apples_predictions))"
      ]
    },
    {
      "cell_type": "code",
      "execution_count": 53,
      "metadata": {
        "id": "jAfGN6E_H1GU",
        "outputId": "4e54dbe7-3659-48fb-eeba-0a624d9e1cdb",
        "colab": {
          "base_uri": "https://localhost:8080/",
          "height": 206
        }
      },
      "outputs": [
        {
          "output_type": "error",
          "ename": "ZeroDivisionError",
          "evalue": "ignored",
          "traceback": [
            "\u001b[0;31m---------------------------------------------------------------------------\u001b[0m",
            "\u001b[0;31mZeroDivisionError\u001b[0m                         Traceback (most recent call last)",
            "\u001b[0;32m<ipython-input-53-8dfad94bd53c>\u001b[0m in \u001b[0;36m<module>\u001b[0;34m()\u001b[0m\n\u001b[1;32m      9\u001b[0m \u001b[0;32mfor\u001b[0m \u001b[0mfile\u001b[0m \u001b[0;32min\u001b[0m \u001b[0meggplant_test\u001b[0m\u001b[0;34m:\u001b[0m\u001b[0;34m\u001b[0m\u001b[0;34m\u001b[0m\u001b[0m\n\u001b[1;32m     10\u001b[0m     \u001b[0meggplant_predictions\u001b[0m\u001b[0;34m.\u001b[0m\u001b[0mappend\u001b[0m\u001b[0;34m(\u001b[0m\u001b[0mcheck_anomaly\u001b[0m\u001b[0;34m(\u001b[0m\u001b[0mfile\u001b[0m\u001b[0;34m)\u001b[0m\u001b[0;34m)\u001b[0m\u001b[0;34m\u001b[0m\u001b[0;34m\u001b[0m\u001b[0m\n\u001b[0;32m---> 11\u001b[0;31m \u001b[0mprint\u001b[0m\u001b[0;34m(\u001b[0m\u001b[0msum\u001b[0m\u001b[0;34m(\u001b[0m\u001b[0meggplant_predictions\u001b[0m\u001b[0;34m)\u001b[0m\u001b[0;34m/\u001b[0m\u001b[0mlen\u001b[0m\u001b[0;34m(\u001b[0m\u001b[0meggplant_predictions\u001b[0m\u001b[0;34m)\u001b[0m\u001b[0;34m)\u001b[0m\u001b[0;34m\u001b[0m\u001b[0;34m\u001b[0m\u001b[0m\n\u001b[0m",
            "\u001b[0;31mZeroDivisionError\u001b[0m: division by zero"
          ]
        }
      ],
      "source": [
        "# Check what proportion of aubergines/eggplants get classed as anomalous.\n",
        "eggplant_test = []\n",
        "for (dirpath, dirnames, filenames) in os.walk('eggplant'):\n",
        "    for x in filenames:\n",
        "        if x.endswith(\".jpg\"):\n",
        "            eggplant_test.append(os.path.join(dirpath, x))\n",
        "\n",
        "eggplant_predictions = []\n",
        "for file in eggplant_test:\n",
        "    eggplant_predictions.append(check_anomaly(file))\n",
        "print(sum(eggplant_predictions)/len(eggplant_predictions))"
      ]
    },
    {
      "cell_type": "code",
      "execution_count": null,
      "metadata": {
        "id": "Qjy5V3kMH1GU"
      },
      "outputs": [],
      "source": [
        "peppers_test = []\n",
        "for (dirpath, dirnames, filenames) in os.walk('peppers'):\n",
        "    for x in filenames:\n",
        "        if x.endswith(\".jpg\"):\n",
        "            peppers_test.append(os.path.join(dirpath, x))\n",
        "\n",
        "peppers_predictions = []\n",
        "for file in peppers_test:\n",
        "    peppers_predictions.append(check_anomaly(file))\n",
        "print(sum(peppers_predictions)/len(peppers_predictions))"
      ]
    },
    {
      "cell_type": "code",
      "execution_count": null,
      "metadata": {
        "id": "APxhftf6H1GV"
      },
      "outputs": [],
      "source": [
        "len(peppers_predictions)"
      ]
    }
  ],
  "metadata": {
    "kernelspec": {
      "display_name": "Python 3",
      "language": "python",
      "name": "python3"
    },
    "language_info": {
      "codemirror_mode": {
        "name": "ipython",
        "version": 3
      },
      "file_extension": ".py",
      "mimetype": "text/x-python",
      "name": "python",
      "nbconvert_exporter": "python",
      "pygments_lexer": "ipython3",
      "version": "3.6.8"
    },
    "colab": {
      "name": "CNN Autoencoder Anomaly Detection.ipynb",
      "provenance": [],
      "collapsed_sections": [],
      "include_colab_link": true
    },
    "accelerator": "GPU"
  },
  "nbformat": 4,
  "nbformat_minor": 0
}