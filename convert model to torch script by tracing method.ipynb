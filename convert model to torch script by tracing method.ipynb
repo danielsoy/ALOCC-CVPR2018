{
  "nbformat": 4,
  "nbformat_minor": 0,
  "metadata": {
    "colab": {
      "name": "Untitled10.ipynb",
      "provenance": [],
      "authorship_tag": "ABX9TyOsFIIUhgeoQhrw0NVEn7fM",
      "include_colab_link": true
    },
    "kernelspec": {
      "name": "python3",
      "display_name": "Python 3"
    },
    "language_info": {
      "name": "python"
    }
  },
  "cells": [
    {
      "cell_type": "markdown",
      "metadata": {
        "id": "view-in-github",
        "colab_type": "text"
      },
      "source": [
        "<a href=\"https://colab.research.google.com/github/danielsoy/ALOCC-CVPR2018/blob/master/convert%20model%20to%20torch%20script%20by%20tracing%20method.ipynb\" target=\"_parent\"><img src=\"https://colab.research.google.com/assets/colab-badge.svg\" alt=\"Open In Colab\"/></a>"
      ]
    },
    {
      "cell_type": "code",
      "execution_count": null,
      "metadata": {
        "id": "8SSHy3S7_xM_"
      },
      "outputs": [],
      "source": [
        ""
      ]
    },
    {
      "cell_type": "code",
      "source": [
        "import torch\n",
        "import torchvision\n",
        "from torchvision import models\n",
        "\n",
        "# An instance of your model.\n",
        "model = models.vgg16(pretrained=True) # descarga modelo preentrenado, lo pasa variable model\n",
        "\n",
        "\n",
        "# An example input you would normally provide to your model's forward() method.\n",
        "example = torch.rand(1, 3, 224, 224) # le da datos de entrada para probar el modelo\n",
        "\n",
        "\n",
        "# Use torch.jit.trace to generate a torch.jit.ScriptModule via tracing.\n",
        "traced_script_module = torch.jit.trace(model, example)\n",
        "\n",
        "traced_script_module.save(\"traced_vgg16_model.pt\")\n",
        "\n",
        "\n",
        "\n"
      ],
      "metadata": {
        "colab": {
          "base_uri": "https://localhost:8080/"
        },
        "id": "tnPdCNDs_xzp",
        "outputId": "4d120416-cead-4982-bb0b-919f68b47eef"
      },
      "execution_count": 10,
      "outputs": [
        {
          "output_type": "stream",
          "name": "stderr",
          "text": [
            "/usr/local/lib/python3.7/dist-packages/torch/jit/_trace.py:991: TracerWarning: Output nr 1. of the traced function does not match the corresponding output of the Python function. Detailed error:\n",
            "Tensor-likes are not close!\n",
            "\n",
            "Mismatched elements: 1000 / 1000 (100.0%)\n",
            "Greatest absolute difference: 2.1126863956451416 at index (0, 69) (up to 1e-05 allowed)\n",
            "Greatest relative difference: 166.7146238209363 at index (0, 5) (up to 1e-05 allowed)\n",
            "  _module_class,\n"
          ]
        }
      ]
    }
  ]
}