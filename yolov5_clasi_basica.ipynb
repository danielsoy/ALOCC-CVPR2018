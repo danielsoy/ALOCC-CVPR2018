{
  "cells": [
    {
      "cell_type": "markdown",
      "metadata": {
        "id": "view-in-github",
        "colab_type": "text"
      },
      "source": [
        "<a href=\"https://colab.research.google.com/github/danielsoy/ALOCC-CVPR2018/blob/master/yolov5_clasi_basica.ipynb\" target=\"_parent\"><img src=\"https://colab.research.google.com/assets/colab-badge.svg\" alt=\"Open In Colab\"/></a>"
      ]
    },
    {
      "cell_type": "code",
      "execution_count": null,
      "metadata": {
        "colab": {
          "base_uri": "https://localhost:8080/"
        },
        "id": "0W3oe0aDGViN",
        "outputId": "1f66d056-ab42-4e72-ab2c-07616b3a64b8"
      },
      "outputs": [
        {
          "name": "stdout",
          "output_type": "stream",
          "text": [
            "Requirement already satisfied: gitpython in c:\\users\\libro\\anaconda3\\lib\\site-packages (from -r requirements.txt (line 5)) (3.1.30)\n",
            "Requirement already satisfied: ipython in c:\\users\\libro\\anaconda3\\lib\\site-packages (from -r requirements.txt (line 6)) (7.29.0)\n",
            "Requirement already satisfied: matplotlib>=3.2.2 in c:\\users\\libro\\anaconda3\\lib\\site-packages (from -r requirements.txt (line 7)) (3.5.0)\n",
            "Requirement already satisfied: numpy>=1.18.5 in c:\\users\\libro\\anaconda3\\lib\\site-packages (from -r requirements.txt (line 8)) (1.22.3)\n",
            "Requirement already satisfied: opencv-python>=4.1.1 in c:\\users\\libro\\anaconda3\\lib\\site-packages (from -r requirements.txt (line 9)) (4.6.0.66)\n",
            "Requirement already satisfied: Pillow>=7.1.2 in c:\\users\\libro\\anaconda3\\lib\\site-packages (from -r requirements.txt (line 10)) (8.4.0)\n",
            "Requirement already satisfied: psutil in c:\\users\\libro\\anaconda3\\lib\\site-packages (from -r requirements.txt (line 11)) (5.8.0)\n",
            "Requirement already satisfied: PyYAML>=5.3.1 in c:\\users\\libro\\anaconda3\\lib\\site-packages (from -r requirements.txt (line 12)) (6.0)\n",
            "Requirement already satisfied: requests>=2.23.0 in c:\\users\\libro\\anaconda3\\lib\\site-packages (from -r requirements.txt (line 13)) (2.26.0)\n",
            "Requirement already satisfied: scipy>=1.4.1 in c:\\users\\libro\\anaconda3\\lib\\site-packages (from -r requirements.txt (line 14)) (1.7.3)\n",
            "Requirement already satisfied: thop>=0.1.1 in c:\\users\\libro\\anaconda3\\lib\\site-packages (from -r requirements.txt (line 15)) (0.1.1.post2209072238)\n",
            "Requirement already satisfied: torch>=1.7.0 in c:\\users\\libro\\anaconda3\\lib\\site-packages (from -r requirements.txt (line 16)) (1.10.0)\n",
            "Requirement already satisfied: torchvision>=0.8.1 in c:\\users\\libro\\anaconda3\\lib\\site-packages (from -r requirements.txt (line 17)) (0.11.1)\n",
            "Requirement already satisfied: tqdm>=4.64.0 in c:\\users\\libro\\anaconda3\\lib\\site-packages (from -r requirements.txt (line 18)) (4.64.1)\n",
            "Requirement already satisfied: tensorboard>=2.4.1 in c:\\users\\libro\\anaconda3\\lib\\site-packages (from -r requirements.txt (line 22)) (2.8.0)\n",
            "Requirement already satisfied: pandas>=1.1.4 in c:\\users\\libro\\anaconda3\\lib\\site-packages (from -r requirements.txt (line 27)) (1.3.4)\n",
            "Requirement already satisfied: seaborn>=0.11.0 in c:\\users\\libro\\anaconda3\\lib\\site-packages (from -r requirements.txt (line 28)) (0.11.2)\n",
            "Requirement already satisfied: gitdb<5,>=4.0.1 in c:\\users\\libro\\anaconda3\\lib\\site-packages (from gitpython->-r requirements.txt (line 5)) (4.0.10)\n",
            "Requirement already satisfied: decorator in c:\\users\\libro\\anaconda3\\lib\\site-packages (from ipython->-r requirements.txt (line 6)) (5.1.0)\n",
            "Requirement already satisfied: setuptools>=18.5 in c:\\users\\libro\\anaconda3\\lib\\site-packages (from ipython->-r requirements.txt (line 6)) (45.2.0)\n",
            "Requirement already satisfied: pygments in c:\\users\\libro\\anaconda3\\lib\\site-packages (from ipython->-r requirements.txt (line 6)) (2.10.0)\n",
            "Requirement already satisfied: backcall in c:\\users\\libro\\anaconda3\\lib\\site-packages (from ipython->-r requirements.txt (line 6)) (0.2.0)Note: you may need to restart the kernel to use updated packages.\n",
            "Requirement already satisfied: colorama in c:\\users\\libro\\anaconda3\\lib\\site-packages (from ipython->-r requirements.txt (line 6)) (0.4.4)\n",
            "\n",
            "Requirement already satisfied: traitlets>=4.2 in c:\\users\\libro\\anaconda3\\lib\\site-packages (from ipython->-r requirements.txt (line 6)) (5.1.0)\n",
            "Requirement already satisfied: prompt-toolkit!=3.0.0,!=3.0.1,<3.1.0,>=2.0.0 in c:\\users\\libro\\anaconda3\\lib\\site-packages (from ipython->-r requirements.txt (line 6)) (3.0.20)\n",
            "Requirement already satisfied: matplotlib-inline in c:\\users\\libro\\anaconda3\\lib\\site-packages (from ipython->-r requirements.txt (line 6)) (0.1.2)\n",
            "Requirement already satisfied: jedi>=0.16 in c:\\users\\libro\\anaconda3\\lib\\site-packages (from ipython->-r requirements.txt (line 6)) (0.18.0)\n",
            "Requirement already satisfied: pickleshare in c:\\users\\libro\\anaconda3\\lib\\site-packages (from ipython->-r requirements.txt (line 6)) (0.7.5)\n",
            "Requirement already satisfied: cycler>=0.10 in c:\\users\\libro\\anaconda3\\lib\\site-packages (from matplotlib>=3.2.2->-r requirements.txt (line 7)) (0.10.0)\n",
            "Requirement already satisfied: packaging>=20.0 in c:\\users\\libro\\anaconda3\\lib\\site-packages (from matplotlib>=3.2.2->-r requirements.txt (line 7)) (21.0)\n",
            "Requirement already satisfied: fonttools>=4.22.0 in c:\\users\\libro\\anaconda3\\lib\\site-packages (from matplotlib>=3.2.2->-r requirements.txt (line 7)) (4.25.0)\n",
            "Requirement already satisfied: python-dateutil>=2.7 in c:\\users\\libro\\anaconda3\\lib\\site-packages (from matplotlib>=3.2.2->-r requirements.txt (line 7)) (2.8.2)\n",
            "Requirement already satisfied: pyparsing>=2.2.1 in c:\\users\\libro\\anaconda3\\lib\\site-packages (from matplotlib>=3.2.2->-r requirements.txt (line 7)) (2.4.7)\n",
            "Requirement already satisfied: setuptools-scm>=4 in c:\\users\\libro\\anaconda3\\lib\\site-packages (from matplotlib>=3.2.2->-r requirements.txt (line 7)) (6.4.2)\n",
            "Requirement already satisfied: kiwisolver>=1.0.1 in c:\\users\\libro\\anaconda3\\lib\\site-packages (from matplotlib>=3.2.2->-r requirements.txt (line 7)) (1.3.1)\n",
            "Requirement already satisfied: charset-normalizer~=2.0.0 in c:\\users\\libro\\anaconda3\\lib\\site-packages (from requests>=2.23.0->-r requirements.txt (line 13)) (2.0.4)\n",
            "Requirement already satisfied: certifi>=2017.4.17 in c:\\users\\libro\\anaconda3\\lib\\site-packages (from requests>=2.23.0->-r requirements.txt (line 13)) (2022.12.7)\n",
            "Requirement already satisfied: idna<4,>=2.5 in c:\\users\\libro\\anaconda3\\lib\\site-packages (from requests>=2.23.0->-r requirements.txt (line 13)) (2.10)\n",
            "Requirement already satisfied: urllib3<1.27,>=1.21.1 in c:\\users\\libro\\anaconda3\\lib\\site-packages (from requests>=2.23.0->-r requirements.txt (line 13)) (1.26.7)\n",
            "Requirement already satisfied: typing-extensions in c:\\users\\libro\\anaconda3\\lib\\site-packages (from torch>=1.7.0->-r requirements.txt (line 16)) (4.3.0)\n",
            "Requirement already satisfied: absl-py>=0.4 in c:\\users\\libro\\anaconda3\\lib\\site-packages (from tensorboard>=2.4.1->-r requirements.txt (line 22)) (1.0.0)\n",
            "Requirement already satisfied: google-auth<3,>=1.6.3 in c:\\users\\libro\\anaconda3\\lib\\site-packages (from tensorboard>=2.4.1->-r requirements.txt (line 22)) (2.6.6)\n",
            "Requirement already satisfied: werkzeug>=0.11.15 in c:\\users\\libro\\anaconda3\\lib\\site-packages (from tensorboard>=2.4.1->-r requirements.txt (line 22)) (2.0.2)\n",
            "Requirement already satisfied: protobuf>=3.6.0 in c:\\users\\libro\\anaconda3\\lib\\site-packages (from tensorboard>=2.4.1->-r requirements.txt (line 22)) (3.20.1)\n",
            "Requirement already satisfied: tensorboard-data-server<0.7.0,>=0.6.0 in c:\\users\\libro\\anaconda3\\lib\\site-packages (from tensorboard>=2.4.1->-r requirements.txt (line 22)) (0.6.1)\n",
            "Requirement already satisfied: tensorboard-plugin-wit>=1.6.0 in c:\\users\\libro\\anaconda3\\lib\\site-packages (from tensorboard>=2.4.1->-r requirements.txt (line 22)) (1.8.1)\n",
            "Requirement already satisfied: google-auth-oauthlib<0.5,>=0.4.1 in c:\\users\\libro\\anaconda3\\lib\\site-packages (from tensorboard>=2.4.1->-r requirements.txt (line 22)) (0.4.6)\n",
            "Requirement already satisfied: wheel>=0.26 in c:\\users\\libro\\anaconda3\\lib\\site-packages (from tensorboard>=2.4.1->-r requirements.txt (line 22)) (0.37.0)\n",
            "Requirement already satisfied: grpcio>=1.24.3 in c:\\users\\libro\\anaconda3\\lib\\site-packages (from tensorboard>=2.4.1->-r requirements.txt (line 22)) (1.44.0)\n",
            "Requirement already satisfied: markdown>=2.6.8 in c:\\users\\libro\\anaconda3\\lib\\site-packages (from tensorboard>=2.4.1->-r requirements.txt (line 22)) (3.3.6)\n",
            "Requirement already satisfied: pytz>=2017.3 in c:\\users\\libro\\anaconda3\\lib\\site-packages (from pandas>=1.1.4->-r requirements.txt (line 27)) (2021.3)\n",
            "Requirement already satisfied: six in c:\\users\\libro\\anaconda3\\lib\\site-packages (from absl-py>=0.4->tensorboard>=2.4.1->-r requirements.txt (line 22)) (1.16.0)\n",
            "Requirement already satisfied: smmap<6,>=3.0.1 in c:\\users\\libro\\anaconda3\\lib\\site-packages (from gitdb<5,>=4.0.1->gitpython->-r requirements.txt (line 5)) (5.0.0)\n",
            "Requirement already satisfied: cachetools<6.0,>=2.0.0 in c:\\users\\libro\\anaconda3\\lib\\site-packages (from google-auth<3,>=1.6.3->tensorboard>=2.4.1->-r requirements.txt (line 22)) (5.0.0)\n",
            "Requirement already satisfied: pyasn1-modules>=0.2.1 in c:\\users\\libro\\anaconda3\\lib\\site-packages (from google-auth<3,>=1.6.3->tensorboard>=2.4.1->-r requirements.txt (line 22)) (0.2.8)\n",
            "Requirement already satisfied: rsa<5,>=3.1.4 in c:\\users\\libro\\anaconda3\\lib\\site-packages (from google-auth<3,>=1.6.3->tensorboard>=2.4.1->-r requirements.txt (line 22)) (4.8)\n",
            "Requirement already satisfied: requests-oauthlib>=0.7.0 in c:\\users\\libro\\anaconda3\\lib\\site-packages (from google-auth-oauthlib<0.5,>=0.4.1->tensorboard>=2.4.1->-r requirements.txt (line 22)) (1.3.1)\n",
            "Requirement already satisfied: parso<0.9.0,>=0.8.0 in c:\\users\\libro\\anaconda3\\lib\\site-packages (from jedi>=0.16->ipython->-r requirements.txt (line 6)) (0.8.2)\n",
            "Requirement already satisfied: importlib-metadata>=4.4 in c:\\users\\libro\\anaconda3\\lib\\site-packages (from markdown>=2.6.8->tensorboard>=2.4.1->-r requirements.txt (line 22)) (4.8.1)\n",
            "Requirement already satisfied: wcwidth in c:\\users\\libro\\anaconda3\\lib\\site-packages (from prompt-toolkit!=3.0.0,!=3.0.1,<3.1.0,>=2.0.0->ipython->-r requirements.txt (line 6)) (0.2.5)\n",
            "Requirement already satisfied: tomli>=1.0.0 in c:\\users\\libro\\anaconda3\\lib\\site-packages (from setuptools-scm>=4->matplotlib>=3.2.2->-r requirements.txt (line 7)) (2.0.1)\n",
            "Requirement already satisfied: zipp>=0.5 in c:\\users\\libro\\anaconda3\\lib\\site-packages (from importlib-metadata>=4.4->markdown>=2.6.8->tensorboard>=2.4.1->-r requirements.txt (line 22)) (3.6.0)\n",
            "Requirement already satisfied: pyasn1<0.5.0,>=0.4.6 in c:\\users\\libro\\anaconda3\\lib\\site-packages (from pyasn1-modules>=0.2.1->google-auth<3,>=1.6.3->tensorboard>=2.4.1->-r requirements.txt (line 22)) (0.4.8)\n",
            "Requirement already satisfied: oauthlib>=3.0.0 in c:\\users\\libro\\anaconda3\\lib\\site-packages (from requests-oauthlib>=0.7.0->google-auth-oauthlib<0.5,>=0.4.1->tensorboard>=2.4.1->-r requirements.txt (line 22)) (3.2.0)\n"
          ]
        }
      ],
      "source": [
        "#!git clone https://github.com/ultralytics/yolov5  # clon\n",
        "#%cd yolov5\n",
        "  # install\n",
        "\n",
        "import torch\n",
        "import utils\n",
        "%pip install -r requirements.txt\n",
        "#display = utils.notebook_init()  # checks"
      ]
    },
    {
      "cell_type": "code",
      "execution_count": null,
      "metadata": {
        "colab": {
          "base_uri": "https://localhost:8080/"
        },
        "id": "TtY5I7_HG0kk",
        "outputId": "2b39c095-86c3-4dba-8a8e-36bf53512e10"
      },
      "outputs": [
        {
          "name": "stdout",
          "output_type": "stream",
          "text": [
            "C:\\Users\\libro\\datasets\n"
          ]
        }
      ],
      "source": [
        "# Ensure we're in the right directory to download our custom dataset\n",
        "import os\n",
        "os.makedirs(\"../datasets/\", exist_ok=True)\n",
        "%cd ../datasets/"
      ]
    },
    {
      "cell_type": "code",
      "execution_count": null,
      "metadata": {
        "colab": {
          "base_uri": "https://localhost:8080/",
          "height": 1000
        },
        "id": "fRtKwAX8G8QQ",
        "outputId": "bdd1112f-c9a5-4111-cce5-5a2d0dec0246"
      },
      "outputs": [
        {
          "name": "stdout",
          "output_type": "stream",
          "text": [
            "Requirement already satisfied: roboflow in c:\\users\\libro\\anaconda3\\lib\\site-packages (0.2.29)\n",
            "Requirement already satisfied: python-dateutil in c:\\users\\libro\\anaconda3\\lib\\site-packages (from roboflow) (2.8.2)\n",
            "Requirement already satisfied: urllib3>=1.26.6 in c:\\users\\libro\\anaconda3\\lib\\site-packages (from roboflow) (1.26.7)\n",
            "Requirement already satisfied: kiwisolver>=1.3.1 in c:\\users\\libro\\anaconda3\\lib\\site-packages (from roboflow) (1.3.1)\n",
            "Requirement already satisfied: numpy>=1.18.5 in c:\\users\\libro\\anaconda3\\lib\\site-packages (from roboflow) (1.22.3)\n",
            "Requirement already satisfied: certifi==2022.12.7 in c:\\users\\libro\\anaconda3\\lib\\site-packages (from roboflow) (2022.12.7)\n",
            "Requirement already satisfied: tqdm>=4.41.0 in c:\\users\\libro\\anaconda3\\lib\\site-packages (from roboflow) (4.64.1)\n",
            "Requirement already satisfied: six in c:\\users\\libro\\anaconda3\\lib\\site-packages (from roboflow) (1.16.0)\n",
            "Requirement already satisfied: matplotlib in c:\\users\\libro\\anaconda3\\lib\\site-packages (from roboflow) (3.5.0)\n",
            "Requirement already satisfied: Pillow>=7.1.2 in c:\\users\\libro\\anaconda3\\lib\\site-packages (from roboflow) (8.4.0)\n",
            "Requirement already satisfied: opencv-python>=4.1.2 in c:\\users\\libro\\anaconda3\\lib\\site-packages (from roboflow) (4.6.0.66)\n",
            "Requirement already satisfied: chardet==4.0.0 in c:\\users\\libro\\anaconda3\\lib\\site-packages (from roboflow) (4.0.0)\n",
            "Requirement already satisfied: wget in c:\\users\\libro\\anaconda3\\lib\\site-packages (from roboflow) (3.2)\n",
            "Requirement already satisfied: cycler==0.10.0 in c:\\users\\libro\\anaconda3\\lib\\site-packages (from roboflow) (0.10.0)\n",
            "Requirement already satisfied: requests in c:\\users\\libro\\anaconda3\\lib\\site-packages (from roboflow) (2.26.0)\n",
            "Requirement already satisfied: PyYAML>=5.3.1 in c:\\users\\libro\\anaconda3\\lib\\site-packages (from roboflow) (6.0)\n",
            "Requirement already satisfied: pyparsing==2.4.7 in c:\\users\\libro\\anaconda3\\lib\\site-packages (from roboflow) (2.4.7)\n",
            "Requirement already satisfied: idna==2.10 in c:\\users\\libro\\anaconda3\\lib\\site-packages (from roboflow) (2.10)\n",
            "Requirement already satisfied: python-dotenv in c:\\users\\libro\\anaconda3\\lib\\site-packages (from roboflow) (0.21.1)\n",
            "Requirement already satisfied: requests-toolbelt in c:\\users\\libro\\anaconda3\\lib\\site-packages (from roboflow) (0.10.1)\n",
            "Requirement already satisfied: colorama in c:\\users\\libro\\anaconda3\\lib\\site-packages (from tqdm>=4.41.0->roboflow) (0.4.4)\n",
            "Requirement already satisfied: setuptools-scm>=4 in c:\\users\\libro\\anaconda3\\lib\\site-packages (from matplotlib->roboflow) (6.4.2)\n",
            "Requirement already satisfied: packaging>=20.0 in c:\\users\\libro\\anaconda3\\lib\\site-packages (from matplotlib->roboflow) (21.0)\n",
            "Requirement already satisfied: fonttools>=4.22.0 in c:\\users\\libro\\anaconda3\\lib\\site-packages (from matplotlib->roboflow) (4.25.0)\n",
            "Requirement already satisfied: charset-normalizer~=2.0.0 in c:\\users\\libro\\anaconda3\\lib\\site-packages (from requests->roboflow) (2.0.4)\n",
            "Requirement already satisfied: setuptools in c:\\users\\libro\\anaconda3\\lib\\site-packages (from setuptools-scm>=4->matplotlib->roboflow) (45.2.0)\n",
            "Requirement already satisfied: tomli>=1.0.0 in c:\\users\\libro\\anaconda3\\lib\\site-packages (from setuptools-scm>=4->matplotlib->roboflow) (2.0.1)\n",
            "loading Roboflow workspace...\n",
            "loading Roboflow project...\n",
            "Downloading Dataset Version Zip in bow-pasta-yolo_v5-1 to folder: 100% [2708925 / 2708925] bytes\n"
          ]
        },
        {
          "name": "stderr",
          "output_type": "stream",
          "text": [
            "Extracting Dataset Version Zip to bow-pasta-yolo_v5-1 in folder:: 100%|██████████| 335/335 [00:00<00:00, 1462.89it/s]\n"
          ]
        }
      ],
      "source": [
        "# REPLACE the below with your exported code snippet from above\n",
        "\n",
        "!pip install roboflow\n",
        "\n",
        "from roboflow import Roboflow\n",
        "rf = Roboflow(api_key=\"9ORhusQxYFimZzVYfjdC\")\n",
        "project = rf.workspace(\"new-workspace-lzcyx\").project(\"bow-pasta-yolo_v5\")\n",
        "dataset = project.version(1).download(\"folder\")"
      ]
    },
    {
      "cell_type": "code",
      "execution_count": null,
      "metadata": {
        "colab": {
          "base_uri": "https://localhost:8080/"
        },
        "id": "PyVZlkj6HM7K",
        "outputId": "7da70ebb-9a2f-4adc-a8fc-628b74dcf297"
      },
      "outputs": [
        {
          "name": "stdout",
          "output_type": "stream",
          "text": [
            "C:\\Users\\libro\\yolov5\n"
          ]
        }
      ],
      "source": [
        "# me posiciono en directorio de instalacion de yolo v5.\n",
        "%cd C:\\Users\\libro\\yolov5"
      ]
    },
    {
      "cell_type": "code",
      "execution_count": null,
      "metadata": {
        "colab": {
          "base_uri": "https://localhost:8080/"
        },
        "id": "ulYw6UDrHblY",
        "outputId": "5dde8f1f-e5c4-4f63-efc0-d14edd759e4d"
      },
      "outputs": [
        {
          "name": "stderr",
          "output_type": "stream",
          "text": [
            "Traceback (most recent call last):\n",
            "  File \"C:\\Users\\libro\\yolov5\\classify\\predict.py\", line 46, in <module>\n",
            "    from models.common import DetectMultiBackend\n",
            "  File \"C:\\Users\\libro\\yolov5\\models\\common.py\", line 28, in <module>\n",
            "    from utils import TryExcept\n",
            "ImportError: cannot import name 'TryExcept' from 'utils' (c:\\Users\\libro\\anaconda3\\lib\\site-packages\\utils\\__init__.py)\n"
          ]
        }
      ],
      "source": [
        "# infiero\n",
        "#Infer\n",
        "!python classify/predict.py --weights runs/train-cls/exp5/weights/best.pt --source /content/datasets/bow-pasta-yolo_v5-1/test/yellow-tomato/bad-14-_PNG.rf.32283ef7ed7bc205ddccd80d9eb712b0.jpg"
      ]
    }
  ],
  "metadata": {
    "colab": {
      "provenance": [],
      "include_colab_link": true
    },
    "kernelspec": {
      "display_name": "base",
      "language": "python",
      "name": "python3"
    },
    "language_info": {
      "codemirror_mode": {
        "name": "ipython",
        "version": 3
      },
      "file_extension": ".py",
      "mimetype": "text/x-python",
      "name": "python",
      "nbconvert_exporter": "python",
      "pygments_lexer": "ipython3",
      "version": "3.9.7"
    },
    "vscode": {
      "interpreter": {
        "hash": "e64947f8157c2aa87181ac205b5d4ae19bbca5f9b08d86a2860c4ac7c03cad0f"
      }
    }
  },
  "nbformat": 4,
  "nbformat_minor": 0
}