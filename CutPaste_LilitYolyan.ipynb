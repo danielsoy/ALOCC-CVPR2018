{
  "nbformat": 4,
  "nbformat_minor": 0,
  "metadata": {
    "colab": {
      "provenance": [],
      "authorship_tag": "ABX9TyPm8+g75A4afNHIWLO67xtW",
      "include_colab_link": true
    },
    "kernelspec": {
      "name": "python3",
      "display_name": "Python 3"
    },
    "language_info": {
      "name": "python"
    }
  },
  "cells": [
    {
      "cell_type": "markdown",
      "metadata": {
        "id": "view-in-github",
        "colab_type": "text"
      },
      "source": [
        "<a href=\"https://colab.research.google.com/github/danielsoy/ALOCC-CVPR2018/blob/master/CutPaste_LilitYolyan.ipynb\" target=\"_parent\"><img src=\"https://colab.research.google.com/assets/colab-badge.svg\" alt=\"Open In Colab\"/></a>"
      ]
    },
    {
      "cell_type": "code",
      "source": [
        "https://github.com/LilitYolyan/CutPaste"
      ],
      "metadata": {
        "id": "LpCPf5M7Hsb8"
      },
      "execution_count": null,
      "outputs": []
    },
    {
      "cell_type": "code",
      "execution_count": 1,
      "metadata": {
        "colab": {
          "base_uri": "https://localhost:8080/"
        },
        "id": "agTY4fnBGltG",
        "outputId": "935dedea-870b-4a6a-80ff-85fc31bc286b"
      },
      "outputs": [
        {
          "output_type": "stream",
          "name": "stdout",
          "text": [
            "Cloning into 'CutPaste'...\n",
            "remote: Enumerating objects: 614, done.\u001b[K\n",
            "remote: Counting objects: 100% (8/8), done.\u001b[K\n",
            "remote: Compressing objects: 100% (8/8), done.\u001b[K\n",
            "remote: Total 614 (delta 0), reused 0 (delta 0), pack-reused 606\u001b[K\n",
            "Receiving objects: 100% (614/614), 1.85 MiB | 4.42 MiB/s, done.\n",
            "Resolving deltas: 100% (335/335), done.\n"
          ]
        }
      ],
      "source": [
        "!git clone https://github.com/LilitYolyan/CutPaste.git"
      ]
    },
    {
      "cell_type": "code",
      "source": [
        "!cd /content/CutPaste"
      ],
      "metadata": {
        "id": "bxslmstvHWj9"
      },
      "execution_count": 2,
      "outputs": []
    },
    {
      "cell_type": "code",
      "source": [],
      "metadata": {
        "id": "fjeAMGj-HcPR"
      },
      "execution_count": null,
      "outputs": []
    }
  ]
}