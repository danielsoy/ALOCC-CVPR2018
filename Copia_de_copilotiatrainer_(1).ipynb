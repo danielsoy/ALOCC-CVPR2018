{
  "cells": [
    {
      "cell_type": "markdown",
      "metadata": {
        "id": "view-in-github",
        "colab_type": "text"
      },
      "source": [
        "<a href=\"https://colab.research.google.com/github/danielsoy/ALOCC-CVPR2018/blob/master/Copia_de_copilotiatrainer_(1).ipynb\" target=\"_parent\"><img src=\"https://colab.research.google.com/assets/colab-badge.svg\" alt=\"Open In Colab\"/></a>"
      ]
    },
    {
      "cell_type": "code",
      "source": [
        "#!pip install tensorflow==2.13.0"
      ],
      "metadata": {
        "id": "kwpvAbaXyJQ9"
      },
      "execution_count": 1,
      "outputs": []
    },
    {
      "cell_type": "code",
      "source": [
        "import tensorflow as tf\n",
        "print(tf.__version__)"
      ],
      "metadata": {
        "colab": {
          "base_uri": "https://localhost:8080/"
        },
        "id": "Sd_wPw18czhJ",
        "outputId": "abb55c6e-ddf9-49bd-de41-f3228170a443"
      },
      "execution_count": 2,
      "outputs": [
        {
          "output_type": "stream",
          "name": "stdout",
          "text": [
            "2.17.1\n"
          ]
        }
      ]
    },
    {
      "cell_type": "code",
      "execution_count": 3,
      "metadata": {
        "colab": {
          "base_uri": "https://localhost:8080/"
        },
        "id": "v4Ssg91aerOw",
        "outputId": "aa40cfca-e1d4-47a5-9653-216a7ee0b68c"
      },
      "outputs": [
        {
          "output_type": "stream",
          "name": "stdout",
          "text": [
            "Mounted at /content/drive\n"
          ]
        }
      ],
      "source": [
        "from google.colab import drive\n",
        "drive.mount('/content/drive')\n",
        "# cd change directory?"
      ]
    },
    {
      "cell_type": "code",
      "execution_count": 4,
      "metadata": {
        "id": "zeU5qrHzerOz"
      },
      "outputs": [],
      "source": [
        "import tensorflow as tf\n",
        "from tensorflow.keras import layers, models\n",
        "from tensorflow.keras.preprocessing.image import ImageDataGenerator\n",
        "import numpy as np\n",
        "import matplotlib.pyplot as plt"
      ]
    },
    {
      "cell_type": "markdown",
      "metadata": {
        "id": "aVjnD817erO0"
      },
      "source": [
        "Define the Autoencoder architecture"
      ]
    },
    {
      "cell_type": "code",
      "execution_count": 5,
      "metadata": {
        "id": "RGl1GkbxerO1"
      },
      "outputs": [],
      "source": [
        "input_img = tf.keras.Input(shape=(224, 224, 3))"
      ]
    },
    {
      "cell_type": "markdown",
      "metadata": {
        "id": "kuS329gnerO1"
      },
      "source": [
        "Encoder"
      ]
    },
    {
      "cell_type": "code",
      "execution_count": 6,
      "metadata": {
        "id": "Ajk9l0L7erO1"
      },
      "outputs": [],
      "source": [
        "x = layers.Conv2D(32, (3, 3), activation='relu', padding='same')(input_img)\n",
        "x = layers.MaxPooling2D((2, 2), padding='same')(x)\n",
        "x = layers.Conv2D(64, (3, 3), activation='relu', padding='same')(x)\n",
        "x = layers.MaxPooling2D((2, 2), padding='same')(x)\n",
        "x = layers.Conv2D(128, (3, 3), activation='relu', padding='same')(x)\n",
        "encoded = layers.MaxPooling2D((2, 2), padding='same')(x)"
      ]
    },
    {
      "cell_type": "markdown",
      "metadata": {
        "id": "jDJkx3DzerO2"
      },
      "source": [
        "Decoder"
      ]
    },
    {
      "cell_type": "code",
      "execution_count": 7,
      "metadata": {
        "id": "hO2jqmZzerO2"
      },
      "outputs": [],
      "source": [
        "x = layers.Conv2D(128, (3, 3), activation='relu', padding='same')(encoded)\n",
        "x = layers.UpSampling2D((2, 2))(x)\n",
        "x = layers.Conv2D(64, (3, 3), activation='relu', padding='same')(x)\n",
        "x = layers.UpSampling2D((2, 2))(x)\n",
        "x = layers.Conv2D(32, (3, 3), activation='relu', padding='same')(x)\n",
        "x = layers.UpSampling2D((2, 2))(x)\n",
        "decoded = layers.Conv2D(3, (3, 3), activation='sigmoid', padding='same')(x)"
      ]
    },
    {
      "cell_type": "markdown",
      "metadata": {
        "id": "UFTrHXsxerO2"
      },
      "source": [
        "Compile the Autoencoder with mean squared error loss"
      ]
    },
    {
      "cell_type": "code",
      "execution_count": 8,
      "metadata": {
        "id": "I4DxTCqKerO3"
      },
      "outputs": [],
      "source": [
        "autoencoder = models.Model(input_img, decoded)\n",
        "autoencoder.compile(optimizer='adam', loss='mean_squared_error')"
      ]
    },
    {
      "cell_type": "markdown",
      "metadata": {
        "id": "3bZ6LcuTerO3"
      },
      "source": [
        "Prepare the dataset with data augmentation"
      ]
    },
    {
      "cell_type": "code",
      "execution_count": 9,
      "metadata": {
        "id": "hPAplYhderO3"
      },
      "outputs": [],
      "source": [
        "train_datagen = ImageDataGenerator(\n",
        "    rescale=1./255,\n",
        "    validation_split=0.5,\n",
        "    #rotation_range=20,\n",
        "    #width_shift_range=0.2,\n",
        "    #height_shift_range=0.2,\n",
        "    #shear_range=0.2,\n",
        "    #zoom_range=0.2,\n",
        "    #horizontal_flip=True,\n",
        "    #fill_mode='nearest'\n",
        "    )"
      ]
    },
    {
      "cell_type": "markdown",
      "metadata": {
        "id": "t5pPwRuZerO3"
      },
      "source": [
        "Custom data generator that yields both input and target data"
      ]
    },
    {
      "cell_type": "code",
      "execution_count": 10,
      "metadata": {
        "id": "WAyvfH3aerO4"
      },
      "outputs": [],
      "source": [
        "def custom_data_generator(generator):\n",
        "    for batch in generator:\n",
        "        yield (batch, batch)"
      ]
    },
    {
      "cell_type": "code",
      "execution_count": 11,
      "metadata": {
        "colab": {
          "base_uri": "https://localhost:8080/"
        },
        "id": "TGaXbSYserO4",
        "outputId": "bedf14dd-df4a-4c96-ecd0-819672ed1712"
      },
      "outputs": [
        {
          "output_type": "stream",
          "name": "stdout",
          "text": [
            "Found 1500 images belonging to 1 classes.\n"
          ]
        }
      ],
      "source": [
        "train_generator = train_datagen.flow_from_directory(\n",
        "    '/content/drive/MyDrive/datasets/train',\n",
        "    target_size=(224, 224),\n",
        "    batch_size=15,\n",
        "    class_mode=None,  # No labels needed\n",
        "    subset='training'\n",
        ")"
      ]
    },
    {
      "cell_type": "code",
      "execution_count": 12,
      "metadata": {
        "colab": {
          "base_uri": "https://localhost:8080/"
        },
        "id": "io-SASFnerO5",
        "outputId": "3d0673e0-20b8-4210-9b07-bc350b80d66b"
      },
      "outputs": [
        {
          "output_type": "stream",
          "name": "stdout",
          "text": [
            "Found 1500 images belonging to 1 classes.\n"
          ]
        }
      ],
      "source": [
        "validation_generator = train_datagen.flow_from_directory(\n",
        "    '/content/drive/MyDrive/datasets/validation',\n",
        "    target_size=(224, 224),\n",
        "    batch_size=15,\n",
        "    class_mode=None,  # No labels needed\n",
        "    subset='validation'\n",
        ")"
      ]
    },
    {
      "cell_type": "markdown",
      "metadata": {
        "id": "RJryBODkerO5"
      },
      "source": [
        "Train the Autoencoder"
      ]
    },
    {
      "cell_type": "code",
      "execution_count": null,
      "metadata": {
        "colab": {
          "base_uri": "https://localhost:8080/"
        },
        "id": "nYTDXLnTerO6",
        "outputId": "f878100a-89e4-4073-faea-1b4d7bea1bce"
      },
      "outputs": [
        {
          "output_type": "stream",
          "name": "stdout",
          "text": [
            "Epoch 1/300\n",
            "\u001b[1m100/100\u001b[0m \u001b[32m━━━━━━━━━━━━━━━━━━━━\u001b[0m\u001b[37m\u001b[0m \u001b[1m658s\u001b[0m 7s/step - loss: 0.0546 - val_loss: 0.0017\n",
            "Epoch 2/300\n",
            "\u001b[1m100/100\u001b[0m \u001b[32m━━━━━━━━━━━━━━━━━━━━\u001b[0m\u001b[37m\u001b[0m \u001b[1m26s\u001b[0m 257ms/step - loss: 0.0017 - val_loss: 0.0014\n",
            "Epoch 3/300\n",
            "\u001b[1m100/100\u001b[0m \u001b[32m━━━━━━━━━━━━━━━━━━━━\u001b[0m\u001b[37m\u001b[0m \u001b[1m26s\u001b[0m 257ms/step - loss: 0.0014 - val_loss: 0.0015\n",
            "Epoch 4/300\n",
            "\u001b[1m100/100\u001b[0m \u001b[32m━━━━━━━━━━━━━━━━━━━━\u001b[0m\u001b[37m\u001b[0m \u001b[1m25s\u001b[0m 247ms/step - loss: 0.0014 - val_loss: 0.0012\n",
            "Epoch 5/300\n",
            "\u001b[1m100/100\u001b[0m \u001b[32m━━━━━━━━━━━━━━━━━━━━\u001b[0m\u001b[37m\u001b[0m \u001b[1m27s\u001b[0m 270ms/step - loss: 0.0012 - val_loss: 9.8471e-04\n",
            "Epoch 6/300\n",
            "\u001b[1m100/100\u001b[0m \u001b[32m━━━━━━━━━━━━━━━━━━━━\u001b[0m\u001b[37m\u001b[0m \u001b[1m25s\u001b[0m 256ms/step - loss: 0.0010 - val_loss: 7.7968e-04\n",
            "Epoch 7/300\n",
            "\u001b[1m100/100\u001b[0m \u001b[32m━━━━━━━━━━━━━━━━━━━━\u001b[0m\u001b[37m\u001b[0m \u001b[1m22s\u001b[0m 219ms/step - loss: 7.3513e-04 - val_loss: 6.2753e-04\n",
            "Epoch 8/300\n",
            "\u001b[1m100/100\u001b[0m \u001b[32m━━━━━━━━━━━━━━━━━━━━\u001b[0m\u001b[37m\u001b[0m \u001b[1m20s\u001b[0m 203ms/step - loss: 6.0236e-04 - val_loss: 5.3098e-04\n",
            "Epoch 9/300\n",
            "\u001b[1m100/100\u001b[0m \u001b[32m━━━━━━━━━━━━━━━━━━━━\u001b[0m\u001b[37m\u001b[0m \u001b[1m22s\u001b[0m 217ms/step - loss: 5.1999e-04 - val_loss: 4.4383e-04\n",
            "Epoch 10/300\n",
            "\u001b[1m100/100\u001b[0m \u001b[32m━━━━━━━━━━━━━━━━━━━━\u001b[0m\u001b[37m\u001b[0m \u001b[1m0s\u001b[0m 86ms/step - loss: 4.6691e-04"
          ]
        }
      ],
      "source": [
        "\n",
        "history = autoencoder.fit(\n",
        "    custom_data_generator(train_generator),\n",
        "    epochs=300,\n",
        "    validation_data=custom_data_generator(validation_generator),\n",
        "    steps_per_epoch=len(train_generator),\n",
        "    validation_steps=len(validation_generator),\n",
        "    callbacks=[tf.keras.callbacks.EarlyStopping(monitor='val_loss', patience=25, restore_best_weights=True)]\n",
        ")\n"
      ]
    },
    {
      "cell_type": "code",
      "source": [
        "# Save the model\n",
        "#autoencoder.save('my_model.h5')\n",
        "\n",
        "# Load the model\n",
        "#autoencoder = tf.keras.models.load_model('my_model.h5')\n",
        "\n",
        "# Continue training the model\n",
        "#autoencoder.fit(train_data, train_labels, epochs=additional_epochs)\n"
      ],
      "metadata": {
        "id": "Q3js71x9qzeW"
      },
      "execution_count": null,
      "outputs": []
    },
    {
      "cell_type": "markdown",
      "metadata": {
        "id": "Dyh3vdUJerO6"
      },
      "source": [
        "Save the Autoencoder model"
      ]
    },
    {
      "cell_type": "code",
      "execution_count": null,
      "metadata": {
        "id": "97HTzEijerO6"
      },
      "outputs": [],
      "source": [
        "autoencoder.save('anomaly_autoencoder_model.h5')\n",
        "autoencoder.save_weights('anomaly_autoencoder_weights.weights.h5')\n"
      ]
    },
    {
      "cell_type": "code",
      "source": [],
      "metadata": {
        "id": "hVZdNHla9Izm"
      },
      "execution_count": null,
      "outputs": []
    },
    {
      "cell_type": "code",
      "source": [
        "import tensorflow as tf\n",
        "import numpy as np\n",
        "import os\n",
        "import matplotlib.pyplot as plt\n",
        "threshold = 0.000161\n",
        "\n",
        "# Load the trained Autoencoder model\n",
        "#autoencoder = tf.keras.models.load_model('anomaly_autoencoder_model.h5')\n",
        "#autoencoder.save_weights('anomaly_autoencoder_weights.weights.h5')\n",
        "\n",
        "# Function to preprocess the image\n",
        "def preprocess_image(img_path):\n",
        "    img = tf.keras.preprocessing.image.load_img(img_path, target_size=(224, 224))\n",
        "    img_array = tf.keras.preprocessing.image.img_to_array(img) / 255.0\n",
        "    return img_array\n",
        "\n",
        "# Function to compute reconstruction error and visualize reconstruction\n",
        "def compute_reconstruction_error(model, img):\n",
        "    reconstructed_img = model.predict(np.expand_dims(img, axis=0))\n",
        "    error = np.mean((img - reconstructed_img[0]) ** 2)\n",
        "\n",
        "    # Visualize the original and reconstructed images\n",
        "    plt.figure(figsize=(10, 4))\n",
        "\n",
        "    # Original image\n",
        "    plt.subplot(1, 2, 1)\n",
        "    plt.title(\"Original Image\")\n",
        "    plt.imshow(img)\n",
        "\n",
        "    # Reconstructed image\n",
        "    plt.subplot(1, 2, 2)\n",
        "    plt.title(\"Reconstructed Image\")\n",
        "    plt.imshow(reconstructed_img[0])\n",
        "\n",
        "    plt.show()\n",
        "\n",
        "    return error\n",
        "\n",
        "# Path to the folder containing images\n",
        "folder_path = \"/content/drive/MyDrive/malas\"\n",
        "\n",
        "# Loop through all images in the folder\n",
        "for filename in os.listdir(folder_path):\n",
        "    if filename.endswith(\".png\") or filename.endswith(\".jpg\"):\n",
        "        img_path = os.path.join(folder_path, filename)\n",
        "\n",
        "        # Preprocess the image\n",
        "        img_array = preprocess_image(img_path)\n",
        "\n",
        "        # Compute the reconstruction error\n",
        "        error = compute_reconstruction_error(autoencoder, img_array)\n",
        "\n",
        "        # Interpret the reconstruction error\n",
        "        if error > threshold:\n",
        "            print(f\"Anomaly detected in {filename}\")\n",
        "        else:\n",
        "            print(f\"{filename} is Normal\")\n",
        "\n",
        "        # Print the reconstruction error\n",
        "        print(f\"Reconstruction error for {filename}: {error}\")"
      ],
      "metadata": {
        "id": "MiC3aOJgGyaG"
      },
      "execution_count": null,
      "outputs": []
    },
    {
      "cell_type": "code",
      "source": [],
      "metadata": {
        "id": "MZ5ZWJqIGi76"
      },
      "execution_count": null,
      "outputs": []
    }
  ],
  "metadata": {
    "kernelspec": {
      "display_name": "openvino_env",
      "language": "python",
      "name": "openvino_env"
    },
    "language_info": {
      "codemirror_mode": {
        "name": "ipython",
        "version": 3
      },
      "file_extension": ".py",
      "mimetype": "text/x-python",
      "name": "python",
      "nbconvert_exporter": "python",
      "pygments_lexer": "ipython3",
      "version": "3.9.13"
    },
    "colab": {
      "provenance": [],
      "gpuType": "T4",
      "include_colab_link": true
    },
    "accelerator": "GPU"
  },
  "nbformat": 4,
  "nbformat_minor": 0
}