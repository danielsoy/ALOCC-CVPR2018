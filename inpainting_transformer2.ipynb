{
  "nbformat": 4,
  "nbformat_minor": 0,
  "metadata": {
    "colab": {
      "provenance": [],
      "authorship_tag": "ABX9TyPccmtrAqEeKysn4hZ1zwtm",
      "include_colab_link": true
    },
    "kernelspec": {
      "name": "python3",
      "display_name": "Python 3"
    },
    "language_info": {
      "name": "python"
    },
    "accelerator": "GPU",
    "gpuClass": "standard"
  },
  "cells": [
    {
      "cell_type": "markdown",
      "metadata": {
        "id": "view-in-github",
        "colab_type": "text"
      },
      "source": [
        "<a href=\"https://colab.research.google.com/github/danielsoy/ALOCC-CVPR2018/blob/master/inpainting_transformer2.ipynb\" target=\"_parent\"><img src=\"https://colab.research.google.com/assets/colab-badge.svg\" alt=\"Open In Colab\"/></a>"
      ]
    },
    {
      "cell_type": "code",
      "execution_count": null,
      "metadata": {
        "colab": {
          "base_uri": "https://localhost:8080/"
        },
        "id": "DhSvVFwY32z-",
        "outputId": "361ee7bb-599a-46c2-d844-2356fde480ae"
      },
      "outputs": [
        {
          "output_type": "stream",
          "name": "stdout",
          "text": [
            "Cloning into 'inpainting-transformer'...\n",
            "remote: Enumerating objects: 34, done.\u001b[K\n",
            "remote: Total 34 (delta 0), reused 0 (delta 0), pack-reused 34\u001b[K\n",
            "Unpacking objects: 100% (34/34), 16.62 KiB | 740.00 KiB/s, done.\n"
          ]
        }
      ],
      "source": [
        "#!git clone https://github.com/jhy12/inpainting-transformer.git\n",
        "!git clone https://github.com/danielsoy/inpainting-transformer.git\n"
      ]
    },
    {
      "cell_type": "code",
      "source": [
        "from google.colab import drive\n",
        "drive.mount('/content/gdrive/', force_remount=True)\n",
        "# lee fotos de desde Mydrive  MVTec/hazelnut.  gurada resultados en Mydrive/ckpt\n",
        "\n"
      ],
      "metadata": {
        "colab": {
          "base_uri": "https://localhost:8080/"
        },
        "outputId": "971afc88-2085-43e4-9cfb-8c384976ee23",
        "id": "ssbuROdDOFoU"
      },
      "execution_count": null,
      "outputs": [
        {
          "output_type": "stream",
          "name": "stdout",
          "text": [
            "Mounted at /content/gdrive/\n"
          ]
        }
      ]
    },
    {
      "cell_type": "code",
      "source": [
        "cd /content/inpainting-transformer\n",
        "\n"
      ],
      "metadata": {
        "colab": {
          "base_uri": "https://localhost:8080/"
        },
        "outputId": "62c4cf08-8bb7-4ddb-bc0a-00bb0cbf58ce",
        "id": "8WLst48sOKBR"
      },
      "execution_count": null,
      "outputs": [
        {
          "output_type": "stream",
          "name": "stdout",
          "text": [
            "/content/inpainting-transformer\n"
          ]
        }
      ]
    },
    {
      "cell_type": "code",
      "source": [
        "!pip install einops"
      ],
      "metadata": {
        "colab": {
          "base_uri": "https://localhost:8080/"
        },
        "outputId": "60190625-6c39-4c04-a2a3-bcbe3bc5370a",
        "id": "N5xzxROFOOhb"
      },
      "execution_count": null,
      "outputs": [
        {
          "output_type": "stream",
          "name": "stdout",
          "text": [
            "Looking in indexes: https://pypi.org/simple, https://us-python.pkg.dev/colab-wheels/public/simple/\n",
            "Collecting einops\n",
            "  Downloading einops-0.6.1-py3-none-any.whl (42 kB)\n",
            "\u001b[2K     \u001b[90m━━━━━━━━━━━━━━━━━━━━━━━━━━━━━━━━━━━━━━━━\u001b[0m \u001b[32m42.2/42.2 kB\u001b[0m \u001b[31m5.4 MB/s\u001b[0m eta \u001b[36m0:00:00\u001b[0m\n",
            "\u001b[?25hInstalling collected packages: einops\n",
            "Successfully installed einops-0.6.1\n"
          ]
        }
      ]
    },
    {
      "cell_type": "code",
      "source": [
        "!python main.py"
      ],
      "metadata": {
        "colab": {
          "base_uri": "https://localhost:8080/"
        },
        "id": "iRwIRSm96Cin",
        "outputId": "0d44562d-8209-4817-fefe-66fd71325d17"
      },
      "execution_count": null,
      "outputs": [
        {
          "output_type": "stream",
          "name": "stdout",
          "text": [
            "label not exists:  /content/gdrive/MyDrive/MVTec_hazel/hazelnut/test/good and cut/001.png\n",
            "label not exists:  /content/gdrive/MyDrive/MVTec_hazel/hazelnut/test/good and cut/000.png\n",
            "label not exists:  /content/gdrive/MyDrive/MVTec_hazel/hazelnut/test/good and cut/000 (2).png\n",
            "label not exists:  /content/gdrive/MyDrive/MVTec_hazel/hazelnut/test/good and cut/010.png\n",
            "label not exists:  /content/gdrive/MyDrive/MVTec_hazel/hazelnut/test/good and cut/009.png\n",
            "label not exists:  /content/gdrive/MyDrive/MVTec_hazel/hazelnut/test/good and cut/010 (2).png\n",
            "label not exists:  /content/gdrive/MyDrive/MVTec_hazel/hazelnut/test/good and cut/021.png\n",
            "label not exists:  /content/gdrive/MyDrive/MVTec_hazel/hazelnut/test/good and cut/001 (2).png\n",
            "label not exists:  /content/gdrive/MyDrive/MVTec_hazel/hazelnut/test/good and cut/013.png\n",
            "label not exists:  /content/gdrive/MyDrive/MVTec_hazel/hazelnut/test/good and cut/022.png\n",
            "label not exists:  /content/gdrive/MyDrive/MVTec_hazel/hazelnut/test/good and cut/029.png\n",
            "label not exists:  /content/gdrive/MyDrive/MVTec_hazel/hazelnut/test/good and cut/028.png\n",
            "label not exists:  /content/gdrive/MyDrive/MVTec_hazel/hazelnut/test/good/005.png\n",
            "label not exists:  /content/gdrive/MyDrive/MVTec_hazel/hazelnut/test/good/017.png\n",
            "label not exists:  /content/gdrive/MyDrive/MVTec_hazel/hazelnut/test/good/020.png\n",
            "label not exists:  /content/gdrive/MyDrive/MVTec_hazel/hazelnut/test/good/006.png\n",
            "label not exists:  /content/gdrive/MyDrive/MVTec_hazel/hazelnut/test/good/002.png\n",
            "label not exists:  /content/gdrive/MyDrive/MVTec_hazel/hazelnut/test/good/007.png\n",
            "label not exists:  /content/gdrive/MyDrive/MVTec_hazel/hazelnut/test/good/001.png\n",
            "label not exists:  /content/gdrive/MyDrive/MVTec_hazel/hazelnut/test/good/019.png\n",
            "label not exists:  /content/gdrive/MyDrive/MVTec_hazel/hazelnut/test/good/009.png\n",
            "label not exists:  /content/gdrive/MyDrive/MVTec_hazel/hazelnut/test/good/010.png\n",
            "label not exists:  /content/gdrive/MyDrive/MVTec_hazel/hazelnut/test/good/018.png\n",
            "label not exists:  /content/gdrive/MyDrive/MVTec_hazel/hazelnut/test/good/016.png\n",
            "label not exists:  /content/gdrive/MyDrive/MVTec_hazel/hazelnut/test/good/015.png\n",
            "label not exists:  /content/gdrive/MyDrive/MVTec_hazel/hazelnut/test/good/004.png\n",
            "label not exists:  /content/gdrive/MyDrive/MVTec_hazel/hazelnut/test/good/008.png\n",
            "label not exists:  /content/gdrive/MyDrive/MVTec_hazel/hazelnut/test/good/011.png\n",
            "label not exists:  /content/gdrive/MyDrive/MVTec_hazel/hazelnut/test/good/021.png\n",
            "label not exists:  /content/gdrive/MyDrive/MVTec_hazel/hazelnut/test/good/013.png\n",
            "label not exists:  /content/gdrive/MyDrive/MVTec_hazel/hazelnut/test/good/000.png\n",
            "label not exists:  /content/gdrive/MyDrive/MVTec_hazel/hazelnut/test/good/003.png\n",
            "label not exists:  /content/gdrive/MyDrive/MVTec_hazel/hazelnut/test/good/014.png\n",
            "label not exists:  /content/gdrive/MyDrive/MVTec_hazel/hazelnut/test/good/012.png\n",
            "label not exists:  /content/gdrive/MyDrive/MVTec_hazel/hazelnut/test/good/027.png\n",
            "label not exists:  /content/gdrive/MyDrive/MVTec_hazel/hazelnut/test/good/029.png\n",
            "label not exists:  /content/gdrive/MyDrive/MVTec_hazel/hazelnut/test/good/025.png\n",
            "label not exists:  /content/gdrive/MyDrive/MVTec_hazel/hazelnut/test/good/039.png\n",
            "label not exists:  /content/gdrive/MyDrive/MVTec_hazel/hazelnut/test/good/030.png\n",
            "label not exists:  /content/gdrive/MyDrive/MVTec_hazel/hazelnut/test/good/028.png\n",
            "label not exists:  /content/gdrive/MyDrive/MVTec_hazel/hazelnut/test/good/032.png\n",
            "label not exists:  /content/gdrive/MyDrive/MVTec_hazel/hazelnut/test/good/022.png\n",
            "label not exists:  /content/gdrive/MyDrive/MVTec_hazel/hazelnut/test/good/026.png\n",
            "label not exists:  /content/gdrive/MyDrive/MVTec_hazel/hazelnut/test/good/024.png\n",
            "label not exists:  /content/gdrive/MyDrive/MVTec_hazel/hazelnut/test/good/036.png\n",
            "label not exists:  /content/gdrive/MyDrive/MVTec_hazel/hazelnut/test/good/033.png\n",
            "label not exists:  /content/gdrive/MyDrive/MVTec_hazel/hazelnut/test/good/034.png\n",
            "label not exists:  /content/gdrive/MyDrive/MVTec_hazel/hazelnut/test/good/037.png\n",
            "label not exists:  /content/gdrive/MyDrive/MVTec_hazel/hazelnut/test/good/023.png\n",
            "label not exists:  /content/gdrive/MyDrive/MVTec_hazel/hazelnut/test/good/035.png\n",
            "label not exists:  /content/gdrive/MyDrive/MVTec_hazel/hazelnut/test/good/038.png\n",
            "label not exists:  /content/gdrive/MyDrive/MVTec_hazel/hazelnut/test/good/031.png\n",
            "label not exists:  /content/gdrive/MyDrive/MVTec_hazel/hazelnut/test/todas_juntas/008.png\n",
            "label not exists:  /content/gdrive/MyDrive/MVTec_hazel/hazelnut/test/todas_juntas/009.png\n",
            "label not exists:  /content/gdrive/MyDrive/MVTec_hazel/hazelnut/test/todas_juntas/010.png\n",
            "label not exists:  /content/gdrive/MyDrive/MVTec_hazel/hazelnut/test/todas_juntas/004.png\n",
            "label not exists:  /content/gdrive/MyDrive/MVTec_hazel/hazelnut/test/todas_juntas/010 (5).png\n",
            "label not exists:  /content/gdrive/MyDrive/MVTec_hazel/hazelnut/test/todas_juntas/005.png\n",
            "label not exists:  /content/gdrive/MyDrive/MVTec_hazel/hazelnut/test/todas_juntas/018.png\n",
            "label not exists:  /content/gdrive/MyDrive/MVTec_hazel/hazelnut/test/todas_juntas/016 (4).png\n",
            "label not exists:  /content/gdrive/MyDrive/MVTec_hazel/hazelnut/test/todas_juntas/001 (4).png\n",
            "label not exists:  /content/gdrive/MyDrive/MVTec_hazel/hazelnut/test/todas_juntas/013 (4).png\n",
            "label not exists:  /content/gdrive/MyDrive/MVTec_hazel/hazelnut/test/todas_juntas/015 (4).png\n",
            "label not exists:  /content/gdrive/MyDrive/MVTec_hazel/hazelnut/test/todas_juntas/012.png\n",
            "label not exists:  /content/gdrive/MyDrive/MVTec_hazel/hazelnut/test/todas_juntas/017.png\n",
            "label not exists:  /content/gdrive/MyDrive/MVTec_hazel/hazelnut/test/todas_juntas/000 (4).png\n",
            "label not exists:  /content/gdrive/MyDrive/MVTec_hazel/hazelnut/test/todas_juntas/004 (5).png\n",
            "label not exists:  /content/gdrive/MyDrive/MVTec_hazel/hazelnut/test/todas_juntas/003.png\n",
            "label not exists:  /content/gdrive/MyDrive/MVTec_hazel/hazelnut/test/todas_juntas/005 (4).png\n",
            "label not exists:  /content/gdrive/MyDrive/MVTec_hazel/hazelnut/test/todas_juntas/003 (5).png\n",
            "label not exists:  /content/gdrive/MyDrive/MVTec_hazel/hazelnut/test/todas_juntas/004 (4).png\n",
            "label not exists:  /content/gdrive/MyDrive/MVTec_hazel/hazelnut/test/todas_juntas/020.png\n",
            "label not exists:  /content/gdrive/MyDrive/MVTec_hazel/hazelnut/test/todas_juntas/019.png\n",
            "label not exists:  /content/gdrive/MyDrive/MVTec_hazel/hazelnut/test/todas_juntas/006 (5).png\n",
            "label not exists:  /content/gdrive/MyDrive/MVTec_hazel/hazelnut/test/todas_juntas/013 (5).png\n",
            "label not exists:  /content/gdrive/MyDrive/MVTec_hazel/hazelnut/test/todas_juntas/005 (5).png\n",
            "label not exists:  /content/gdrive/MyDrive/MVTec_hazel/hazelnut/test/todas_juntas/016 (5).png\n",
            "label not exists:  /content/gdrive/MyDrive/MVTec_hazel/hazelnut/test/todas_juntas/001 (5).png\n",
            "label not exists:  /content/gdrive/MyDrive/MVTec_hazel/hazelnut/test/todas_juntas/006 (4).png\n",
            "label not exists:  /content/gdrive/MyDrive/MVTec_hazel/hazelnut/test/todas_juntas/000 (5).png\n",
            "label not exists:  /content/gdrive/MyDrive/MVTec_hazel/hazelnut/test/todas_juntas/008 (5).png\n",
            "label not exists:  /content/gdrive/MyDrive/MVTec_hazel/hazelnut/test/todas_juntas/006.png\n",
            "label not exists:  /content/gdrive/MyDrive/MVTec_hazel/hazelnut/test/todas_juntas/014 (4).png\n",
            "label not exists:  /content/gdrive/MyDrive/MVTec_hazel/hazelnut/test/todas_juntas/013.png\n",
            "label not exists:  /content/gdrive/MyDrive/MVTec_hazel/hazelnut/test/todas_juntas/011 (5).png\n",
            "label not exists:  /content/gdrive/MyDrive/MVTec_hazel/hazelnut/test/todas_juntas/015.png\n",
            "label not exists:  /content/gdrive/MyDrive/MVTec_hazel/hazelnut/test/todas_juntas/007 (4).png\n",
            "label not exists:  /content/gdrive/MyDrive/MVTec_hazel/hazelnut/test/todas_juntas/021.png\n",
            "label not exists:  /content/gdrive/MyDrive/MVTec_hazel/hazelnut/test/todas_juntas/011 (4).png\n",
            "label not exists:  /content/gdrive/MyDrive/MVTec_hazel/hazelnut/test/todas_juntas/011.png\n",
            "label not exists:  /content/gdrive/MyDrive/MVTec_hazel/hazelnut/test/todas_juntas/014.png\n",
            "label not exists:  /content/gdrive/MyDrive/MVTec_hazel/hazelnut/test/todas_juntas/009 (5).png\n",
            "label not exists:  /content/gdrive/MyDrive/MVTec_hazel/hazelnut/test/todas_juntas/015 (5).png\n",
            "label not exists:  /content/gdrive/MyDrive/MVTec_hazel/hazelnut/test/todas_juntas/010 (4).png\n",
            "label not exists:  /content/gdrive/MyDrive/MVTec_hazel/hazelnut/test/todas_juntas/017 (3).png\n",
            "label not exists:  /content/gdrive/MyDrive/MVTec_hazel/hazelnut/test/todas_juntas/016.png\n",
            "label not exists:  /content/gdrive/MyDrive/MVTec_hazel/hazelnut/test/todas_juntas/002 (5).png\n",
            "label not exists:  /content/gdrive/MyDrive/MVTec_hazel/hazelnut/test/todas_juntas/002 (4).png\n",
            "label not exists:  /content/gdrive/MyDrive/MVTec_hazel/hazelnut/test/todas_juntas/007 (5).png\n",
            "label not exists:  /content/gdrive/MyDrive/MVTec_hazel/hazelnut/test/todas_juntas/003 (4).png\n",
            "label not exists:  /content/gdrive/MyDrive/MVTec_hazel/hazelnut/test/todas_juntas/012 (4).png\n",
            "label not exists:  /content/gdrive/MyDrive/MVTec_hazel/hazelnut/test/todas_juntas/012 (5).png\n",
            "label not exists:  /content/gdrive/MyDrive/MVTec_hazel/hazelnut/test/todas_juntas/001.png\n",
            "label not exists:  /content/gdrive/MyDrive/MVTec_hazel/hazelnut/test/todas_juntas/007.png\n",
            "label not exists:  /content/gdrive/MyDrive/MVTec_hazel/hazelnut/test/todas_juntas/009 (4).png\n",
            "label not exists:  /content/gdrive/MyDrive/MVTec_hazel/hazelnut/test/todas_juntas/000.png\n",
            "label not exists:  /content/gdrive/MyDrive/MVTec_hazel/hazelnut/test/todas_juntas/014 (5).png\n",
            "label not exists:  /content/gdrive/MyDrive/MVTec_hazel/hazelnut/test/todas_juntas/008 (4).png\n",
            "label not exists:  /content/gdrive/MyDrive/MVTec_hazel/hazelnut/test/todas_juntas/002.png\n",
            "label not exists:  /content/gdrive/MyDrive/MVTec_hazel/hazelnut/test/todas_juntas/003 (3).png\n",
            "label not exists:  /content/gdrive/MyDrive/MVTec_hazel/hazelnut/test/todas_juntas/013 (3).png\n",
            "label not exists:  /content/gdrive/MyDrive/MVTec_hazel/hazelnut/test/todas_juntas/005 (3).png\n",
            "label not exists:  /content/gdrive/MyDrive/MVTec_hazel/hazelnut/test/todas_juntas/022.png\n",
            "label not exists:  /content/gdrive/MyDrive/MVTec_hazel/hazelnut/test/todas_juntas/032.png\n",
            "label not exists:  /content/gdrive/MyDrive/MVTec_hazel/hazelnut/test/todas_juntas/035.png\n",
            "label not exists:  /content/gdrive/MyDrive/MVTec_hazel/hazelnut/test/todas_juntas/009 (3).png\n",
            "label not exists:  /content/gdrive/MyDrive/MVTec_hazel/hazelnut/test/todas_juntas/001 (2).png\n",
            "label not exists:  /content/gdrive/MyDrive/MVTec_hazel/hazelnut/test/todas_juntas/013 (2).png\n",
            "label not exists:  /content/gdrive/MyDrive/MVTec_hazel/hazelnut/test/todas_juntas/030.png\n",
            "label not exists:  /content/gdrive/MyDrive/MVTec_hazel/hazelnut/test/todas_juntas/016 (2).png\n",
            "label not exists:  /content/gdrive/MyDrive/MVTec_hazel/hazelnut/test/todas_juntas/023.png\n",
            "label not exists:  /content/gdrive/MyDrive/MVTec_hazel/hazelnut/test/todas_juntas/014 (2).png\n",
            "label not exists:  /content/gdrive/MyDrive/MVTec_hazel/hazelnut/test/todas_juntas/008 (3).png\n",
            "label not exists:  /content/gdrive/MyDrive/MVTec_hazel/hazelnut/test/todas_juntas/017 (2).png\n",
            "label not exists:  /content/gdrive/MyDrive/MVTec_hazel/hazelnut/test/todas_juntas/000 (2).png\n",
            "label not exists:  /content/gdrive/MyDrive/MVTec_hazel/hazelnut/test/todas_juntas/000 (3).png\n",
            "label not exists:  /content/gdrive/MyDrive/MVTec_hazel/hazelnut/test/todas_juntas/034.png\n",
            "label not exists:  /content/gdrive/MyDrive/MVTec_hazel/hazelnut/test/todas_juntas/010 (2).png\n",
            "label not exists:  /content/gdrive/MyDrive/MVTec_hazel/hazelnut/test/todas_juntas/025.png\n",
            "label not exists:  /content/gdrive/MyDrive/MVTec_hazel/hazelnut/test/todas_juntas/003 (2).png\n",
            "label not exists:  /content/gdrive/MyDrive/MVTec_hazel/hazelnut/test/todas_juntas/007 (2).png\n",
            "label not exists:  /content/gdrive/MyDrive/MVTec_hazel/hazelnut/test/todas_juntas/009 (2).png\n",
            "label not exists:  /content/gdrive/MyDrive/MVTec_hazel/hazelnut/test/todas_juntas/008 (2).png\n",
            "label not exists:  /content/gdrive/MyDrive/MVTec_hazel/hazelnut/test/todas_juntas/031.png\n",
            "label not exists:  /content/gdrive/MyDrive/MVTec_hazel/hazelnut/test/todas_juntas/039.png\n",
            "label not exists:  /content/gdrive/MyDrive/MVTec_hazel/hazelnut/test/todas_juntas/002 (2).png\n",
            "label not exists:  /content/gdrive/MyDrive/MVTec_hazel/hazelnut/test/todas_juntas/029.png\n",
            "label not exists:  /content/gdrive/MyDrive/MVTec_hazel/hazelnut/test/todas_juntas/014 (3).png\n",
            "label not exists:  /content/gdrive/MyDrive/MVTec_hazel/hazelnut/test/todas_juntas/027.png\n",
            "label not exists:  /content/gdrive/MyDrive/MVTec_hazel/hazelnut/test/todas_juntas/002 (3).png\n",
            "label not exists:  /content/gdrive/MyDrive/MVTec_hazel/hazelnut/test/todas_juntas/012 (3).png\n",
            "label not exists:  /content/gdrive/MyDrive/MVTec_hazel/hazelnut/test/todas_juntas/006 (3).png\n",
            "label not exists:  /content/gdrive/MyDrive/MVTec_hazel/hazelnut/test/todas_juntas/004 (2).png\n",
            "label not exists:  /content/gdrive/MyDrive/MVTec_hazel/hazelnut/test/todas_juntas/028.png\n",
            "label not exists:  /content/gdrive/MyDrive/MVTec_hazel/hazelnut/test/todas_juntas/001 (3).png\n",
            "label not exists:  /content/gdrive/MyDrive/MVTec_hazel/hazelnut/test/todas_juntas/007 (3).png\n",
            "label not exists:  /content/gdrive/MyDrive/MVTec_hazel/hazelnut/test/todas_juntas/026.png\n",
            "label not exists:  /content/gdrive/MyDrive/MVTec_hazel/hazelnut/test/todas_juntas/011 (3).png\n",
            "label not exists:  /content/gdrive/MyDrive/MVTec_hazel/hazelnut/test/todas_juntas/016 (3).png\n",
            "label not exists:  /content/gdrive/MyDrive/MVTec_hazel/hazelnut/test/todas_juntas/038.png\n",
            "label not exists:  /content/gdrive/MyDrive/MVTec_hazel/hazelnut/test/todas_juntas/033.png\n",
            "label not exists:  /content/gdrive/MyDrive/MVTec_hazel/hazelnut/test/todas_juntas/006 (2).png\n",
            "label not exists:  /content/gdrive/MyDrive/MVTec_hazel/hazelnut/test/todas_juntas/005 (2).png\n",
            "label not exists:  /content/gdrive/MyDrive/MVTec_hazel/hazelnut/test/todas_juntas/015 (2).png\n",
            "label not exists:  /content/gdrive/MyDrive/MVTec_hazel/hazelnut/test/todas_juntas/024.png\n",
            "label not exists:  /content/gdrive/MyDrive/MVTec_hazel/hazelnut/test/todas_juntas/004 (3).png\n",
            "label not exists:  /content/gdrive/MyDrive/MVTec_hazel/hazelnut/test/todas_juntas/011 (2).png\n",
            "label not exists:  /content/gdrive/MyDrive/MVTec_hazel/hazelnut/test/todas_juntas/012 (2).png\n",
            "label not exists:  /content/gdrive/MyDrive/MVTec_hazel/hazelnut/test/todas_juntas/037.png\n",
            "label not exists:  /content/gdrive/MyDrive/MVTec_hazel/hazelnut/test/todas_juntas/010 (3).png\n",
            "label not exists:  /content/gdrive/MyDrive/MVTec_hazel/hazelnut/test/todas_juntas/015 (3).png\n",
            "label not exists:  /content/gdrive/MyDrive/MVTec_hazel/hazelnut/test/todas_juntas/036.png\n",
            "/usr/local/lib/python3.9/dist-packages/torch/utils/data/dataloader.py:561: UserWarning: This DataLoader will create 8 worker processes in total. Our suggested max number of worker in current system is 2, which is smaller than what this DataLoader is going to create. Please be aware that excessive worker creation might get DataLoader running slow or even freeze, lower the worker number to avoid potential slowness/freeze if necessary.\n",
            "  warnings.warn(_create_warning_msg(\n",
            "cuda\n",
            "Device count:  1\n",
            "epoch [1/2000], train loss: 0.009080, valid_loss: 1.462177, best_loss: 1.462177\n",
            "epoch [2/2000], train loss: 0.007895, valid_loss: 1.462177, best_loss: 1.462177\n",
            "epoch [3/2000], train loss: 0.007144, valid_loss: 1.462177, best_loss: 1.462177\n",
            "epoch [4/2000], train loss: 0.006390, valid_loss: 1.462177, best_loss: 1.462177\n",
            "epoch [5/2000], train loss: 0.005798, valid_loss: 1.462177, best_loss: 1.462177\n",
            "epoch [6/2000], train loss: 0.005292, valid_loss: 1.462177, best_loss: 1.462177\n",
            "epoch [7/2000], train loss: 0.004667, valid_loss: 1.462177, best_loss: 1.462177\n",
            "epoch [8/2000], train loss: 0.004241, valid_loss: 1.462177, best_loss: 1.462177\n",
            "epoch [9/2000], train loss: 0.003895, valid_loss: 1.462177, best_loss: 1.462177\n",
            "epoch [10/2000], train loss: 0.003539, valid_loss: 1.462177, best_loss: 1.462177\n",
            "epoch [11/2000], train loss: 0.003445, valid_loss: 1.462177, best_loss: 1.462177\n",
            "epoch [12/2000], train loss: 0.003410, valid_loss: 1.462177, best_loss: 1.462177\n",
            "epoch [13/2000], train loss: 0.003255, valid_loss: 1.462177, best_loss: 1.462177\n",
            "epoch [14/2000], train loss: 0.003157, valid_loss: 1.462177, best_loss: 1.462177\n",
            "epoch [15/2000], train loss: 0.003099, valid_loss: 1.462177, best_loss: 1.462177\n",
            "epoch [16/2000], train loss: 0.003013, valid_loss: 1.462177, best_loss: 1.462177\n",
            "epoch [17/2000], train loss: 0.003011, valid_loss: 1.462177, best_loss: 1.462177\n",
            "epoch [18/2000], train loss: 0.002875, valid_loss: 1.462177, best_loss: 1.462177\n",
            "epoch [19/2000], train loss: 0.002972, valid_loss: 1.462177, best_loss: 1.462177\n",
            "epoch [20/2000], train loss: 0.002887, valid_loss: 1.462177, best_loss: 1.462177\n",
            "epoch [21/2000], train loss: 0.002741, valid_loss: 1.462177, best_loss: 1.462177\n",
            "epoch [22/2000], train loss: 0.002717, valid_loss: 1.462177, best_loss: 1.462177\n",
            "epoch [23/2000], train loss: 0.002624, valid_loss: 1.462177, best_loss: 1.462177\n",
            "epoch [24/2000], train loss: 0.002850, valid_loss: 1.462177, best_loss: 1.462177\n",
            "epoch [25/2000], train loss: 0.002646, valid_loss: 1.462177, best_loss: 1.462177\n",
            "epoch [26/2000], train loss: 0.002650, valid_loss: 1.462177, best_loss: 1.462177\n",
            "epoch [27/2000], train loss: 0.002670, valid_loss: 1.462177, best_loss: 1.462177\n",
            "epoch [28/2000], train loss: 0.002744, valid_loss: 1.462177, best_loss: 1.462177\n",
            "epoch [29/2000], train loss: 0.002720, valid_loss: 1.462177, best_loss: 1.462177\n",
            "epoch [30/2000], train loss: 0.002625, valid_loss: 1.462177, best_loss: 1.462177\n",
            "epoch [31/2000], train loss: 0.002796, valid_loss: 1.462177, best_loss: 1.462177\n",
            "epoch [32/2000], train loss: 0.002619, valid_loss: 1.462177, best_loss: 1.462177\n",
            "epoch [33/2000], train loss: 0.002634, valid_loss: 1.462177, best_loss: 1.462177\n",
            "epoch [34/2000], train loss: 0.002573, valid_loss: 1.462177, best_loss: 1.462177\n",
            "epoch [35/2000], train loss: 0.002639, valid_loss: 1.462177, best_loss: 1.462177\n",
            "epoch [36/2000], train loss: 0.002571, valid_loss: 1.462177, best_loss: 1.462177\n",
            "epoch [37/2000], train loss: 0.002612, valid_loss: 1.462177, best_loss: 1.462177\n",
            "epoch [38/2000], train loss: 0.002438, valid_loss: 1.462177, best_loss: 1.462177\n",
            "epoch [39/2000], train loss: 0.002676, valid_loss: 1.462177, best_loss: 1.462177\n",
            "epoch [40/2000], train loss: 0.002527, valid_loss: 1.462177, best_loss: 1.462177\n",
            "epoch [41/2000], train loss: 0.002501, valid_loss: 1.462177, best_loss: 1.462177\n",
            "epoch [42/2000], train loss: 0.002607, valid_loss: 1.462177, best_loss: 1.462177\n",
            "epoch [43/2000], train loss: 0.002638, valid_loss: 1.462177, best_loss: 1.462177\n",
            "epoch [44/2000], train loss: 0.002590, valid_loss: 1.462177, best_loss: 1.462177\n",
            "epoch [45/2000], train loss: 0.002440, valid_loss: 1.462177, best_loss: 1.462177\n",
            "epoch [46/2000], train loss: 0.002500, valid_loss: 1.462177, best_loss: 1.462177\n",
            "epoch [47/2000], train loss: 0.002526, valid_loss: 1.462177, best_loss: 1.462177\n",
            "epoch [48/2000], train loss: 0.002423, valid_loss: 1.462177, best_loss: 1.462177\n",
            "epoch [49/2000], train loss: 0.002668, valid_loss: 1.462177, best_loss: 1.462177\n",
            "epoch [50/2000], train loss: 0.002461, valid_loss: 1.462177, best_loss: 1.462177\n",
            "epoch [51/2000], train loss: 0.002545, valid_loss: 1.462177, best_loss: 1.462177\n",
            "epoch [52/2000], train loss: 0.002437, valid_loss: 1.462177, best_loss: 1.462177\n",
            "epoch [53/2000], train loss: 0.002330, valid_loss: 1.462177, best_loss: 1.462177\n",
            "epoch [54/2000], train loss: 0.002459, valid_loss: 1.462177, best_loss: 1.462177\n",
            "epoch [55/2000], train loss: 0.002460, valid_loss: 1.462177, best_loss: 1.462177\n",
            "epoch [56/2000], train loss: 0.002434, valid_loss: 1.462177, best_loss: 1.462177\n",
            "epoch [57/2000], train loss: 0.002297, valid_loss: 1.462177, best_loss: 1.462177\n",
            "epoch [58/2000], train loss: 0.002515, valid_loss: 1.462177, best_loss: 1.462177\n",
            "epoch [59/2000], train loss: 0.002463, valid_loss: 1.462177, best_loss: 1.462177\n",
            "epoch [60/2000], train loss: 0.002513, valid_loss: 1.462177, best_loss: 1.462177\n",
            "epoch [61/2000], train loss: 0.002298, valid_loss: 1.462177, best_loss: 1.462177\n",
            "epoch [62/2000], train loss: 0.002340, valid_loss: 1.462177, best_loss: 1.462177\n",
            "epoch [63/2000], train loss: 0.002439, valid_loss: 1.462177, best_loss: 1.462177\n",
            "epoch [64/2000], train loss: 0.002334, valid_loss: 1.462177, best_loss: 1.462177\n",
            "epoch [65/2000], train loss: 0.002329, valid_loss: 1.462177, best_loss: 1.462177\n",
            "epoch [66/2000], train loss: 0.002394, valid_loss: 1.462177, best_loss: 1.462177\n",
            "epoch [67/2000], train loss: 0.002433, valid_loss: 1.462177, best_loss: 1.462177\n",
            "epoch [68/2000], train loss: 0.002503, valid_loss: 1.462177, best_loss: 1.462177\n",
            "epoch [69/2000], train loss: 0.002527, valid_loss: 1.462177, best_loss: 1.462177\n",
            "epoch [70/2000], train loss: 0.002228, valid_loss: 1.462177, best_loss: 1.462177\n",
            "epoch [71/2000], train loss: 0.002410, valid_loss: 1.462177, best_loss: 1.462177\n",
            "epoch [72/2000], train loss: 0.002328, valid_loss: 1.462177, best_loss: 1.462177\n",
            "epoch [73/2000], train loss: 0.002564, valid_loss: 1.462177, best_loss: 1.462177\n",
            "epoch [74/2000], train loss: 0.002544, valid_loss: 1.462177, best_loss: 1.462177\n",
            "epoch [75/2000], train loss: 0.002350, valid_loss: 1.462177, best_loss: 1.462177\n",
            "epoch [76/2000], train loss: 0.002319, valid_loss: 1.462177, best_loss: 1.462177\n",
            "epoch [77/2000], train loss: 0.002471, valid_loss: 1.462177, best_loss: 1.462177\n",
            "epoch [78/2000], train loss: 0.002253, valid_loss: 1.462177, best_loss: 1.462177\n",
            "epoch [79/2000], train loss: 0.002226, valid_loss: 1.462177, best_loss: 1.462177\n"
          ]
        }
      ]
    },
    {
      "cell_type": "markdown",
      "source": [
        "/content/gdrive/MyDrive/MVTec_hazel/hazelnut"
      ],
      "metadata": {
        "id": "l1z86Mt67eMk"
      }
    }
  ]
}