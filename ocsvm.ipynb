{
  "cells": [
    {
      "cell_type": "markdown",
      "metadata": {
        "id": "view-in-github",
        "colab_type": "text"
      },
      "source": [
        "<a href=\"https://colab.research.google.com/github/danielsoy/ALOCC-CVPR2018/blob/master/ocsvm.ipynb\" target=\"_parent\"><img src=\"https://colab.research.google.com/assets/colab-badge.svg\" alt=\"Open In Colab\"/></a>"
      ]
    },
    {
      "cell_type": "markdown",
      "metadata": {
        "id": "knO5ZJQxyQ2P"
      },
      "source": [
        "\n",
        "<br>\n",
        "ocsvm<br>\n",
        "author: lizhijian<br>\n",
        "date: 2019-10-30<br>\n"
      ]
    },
    {
      "cell_type": "code",
      "execution_count": 13,
      "metadata": {
        "id": "xJ86zLvzyQ2U"
      },
      "outputs": [],
      "source": [
        "import keras\n",
        "import sys\n",
        "import os\n",
        "import glob\n",
        "from tensorflow.keras.applications.resnet50 import ResNet50, preprocess_input\n",
        "\n",
        "import sklearn.externals\n",
        "import joblib\n",
        "\n",
        "\n",
        "from sklearn.preprocessing import StandardScaler\n",
        "from sklearn.decomposition import PCA\n",
        "from sklearn.ensemble import IsolationForest\n",
        "from sklearn import svm\n",
        "#  from sklearn.externals import joblib\n",
        "import cv2\n",
        "import numpy as np\n",
        "from tqdm import tqdm"
      ]
    },
    {
      "cell_type": "code",
      "execution_count": 2,
      "metadata": {
        "id": "2etxWfxTyQ2V"
      },
      "outputs": [],
      "source": [
        "class OCSVM(object):\n",
        "    def __init__(self):\n",
        "        self.model = ResNet50(input_shape=(224, 224,3),weights=None,include_top=False)\n",
        "        # the weights below downloaded from ('https://github.com/fchollet/deep-learning-models/releases/download/v0.2/resnet50_weights_tf_dim_ordering_tf_kernels_notop.h5')\n",
        "        self.model.load_weights('resnet50_weights_tf_dim_ordering_tf_kernels_notop.h5')\n",
        "        self.ss = StandardScaler()\n",
        "        self.ocsvmclf = svm.OneClassSVM(gamma=0.001,\n",
        "                               kernel='rbf',\n",
        "                               nu=0.08)\n",
        "        self.ifclf = IsolationForest(contamination=0.08,\n",
        "                            max_features=1.0,\n",
        "                            max_samples=1.0,\n",
        "                            n_estimators=40)\n",
        "        self.pca = None\n",
        "    def extractResnet(self, X):\n",
        "        # X numpy array\n",
        "        fe_array = self.model.predict(X)\n",
        "        return fe_array\n",
        "    def prepareData(self, path):\n",
        "        datalist = glob.glob(path+'/*.jpg')\n",
        "        felist = []\n",
        "        for p in tqdm(datalist):\n",
        "            img = cv2.imread(p)\n",
        "            img = cv2.resize(img, (224, 224))\n",
        "            #img = preprocess_input(img, mode='tf')\n",
        "            img = np.expand_dims(img, axis=0)\n",
        "            fe = self.extractResnet(img)\n",
        "            felist.append(fe.reshape(1,-1))\n",
        "        \n",
        "        X_t = felist[0]\n",
        "        for i in range(len(felist)):\n",
        "            if i == 0:\n",
        "                continue\n",
        "            X_t = np.r_[X_t, felist[i]]\n",
        "        \n",
        "        return X_t\n",
        "    def initPCA(self, X_train):\n",
        "        self.pca = PCA(n_components=X_train.shape[0], whiten=True)\n",
        "    def doSSFit(self, Xs):\n",
        "        self.ss.fit(Xs)\n",
        "    def doPCAFit(self,Xs):\n",
        "        self.pca = self.pca.fit(Xs)\n",
        "        return Xs\n",
        "    \n",
        "    def doSSTransform(self, Xs):\n",
        "        Xs = self.ss.transform(Xs)\n",
        "        return Xs\n",
        "    \n",
        "    def doPCATransform(self, Xs):\n",
        "        Xs = self.pca.transform(Xs)\n",
        "        return Xs\n",
        "    def train(self, Xs):\n",
        "        self.ocsvmclf.fit(Xs)\n",
        "        self.ifclf.fit(Xs)\n",
        "    def predict(self, Xs):\n",
        "        pred = self.ocsvmclf.predict(Xs)\n",
        "        return pred"
      ]
    },
    {
      "cell_type": "code",
      "execution_count": 3,
      "metadata": {
        "id": "rWbvn3KPyQ2X"
      },
      "outputs": [],
      "source": [
        "def trainSVM():\n",
        "    f = OCSVM()\n",
        "    X_train = f.prepareData('data/train')\n",
        "    # do StandardScaler\n",
        "    f.doSSFit(X_train)\n",
        "    X_train = f.doSSTransform(X_train)\n",
        "    # do pca\n",
        "    f.initPCA(X_train)\n",
        "    f.doPCAFit(X_train)\n",
        "    X_train = f.doPCATransform(X_train)\n",
        "    # train svm\n",
        "    f.train(X_train)\n",
        "    \n",
        "    # save our models\n",
        "    joblib.dump(f.ocsvmclf, 'ocsvmclf.model')\n",
        "    joblib.dump(f.pca, 'pca.model')\n",
        "    joblib.dump(f.ss,'ss.model')"
      ]
    },
    {
      "cell_type": "code",
      "execution_count": 4,
      "metadata": {
        "id": "eW50q0kvyQ2Y"
      },
      "outputs": [],
      "source": [
        "def loadSVMAndPredict():\n",
        "    f = OCSVM()\n",
        "    # load models\n",
        "    f.ocsvmclf = joblib.load('ocsvmclf.model')\n",
        "    f.pca = joblib.load('pca.model')\n",
        "    f.ss = joblib.load('ss.model')\n",
        "    X_test = f.prepareData('data/test')\n",
        "    # do test data ss\n",
        "    X_test = f.doSSTransform(X_test)\n",
        "    # do test data pca\n",
        "    X_test = f.doPCATransform(X_test)\n",
        "\n",
        "    # predict\n",
        "    preds = f.predict(X_test)\n",
        "    print(f'{preds}')"
      ]
    },
    {
      "cell_type": "code",
      "execution_count": 5,
      "metadata": {
        "colab": {
          "base_uri": "https://localhost:8080/",
          "height": 381
        },
        "id": "rtM53fU-yQ2Y",
        "outputId": "fe065567-a704-4baf-8dd3-acd4c3d5f356"
      },
      "outputs": [
        {
          "output_type": "error",
          "ename": "NameError",
          "evalue": "ignored",
          "traceback": [
            "\u001b[0;31m---------------------------------------------------------------------------\u001b[0m",
            "\u001b[0;31mNameError\u001b[0m                                 Traceback (most recent call last)",
            "\u001b[0;32m<ipython-input-5-f5eb4030a325>\u001b[0m in \u001b[0;36m<module>\u001b[0;34m()\u001b[0m\n\u001b[1;32m      1\u001b[0m \u001b[0;32mif\u001b[0m \u001b[0m__name__\u001b[0m \u001b[0;34m==\u001b[0m \u001b[0;34m'__main__'\u001b[0m\u001b[0;34m:\u001b[0m\u001b[0;34m\u001b[0m\u001b[0;34m\u001b[0m\u001b[0m\n\u001b[0;32m----> 2\u001b[0;31m     \u001b[0mtrainSVM\u001b[0m\u001b[0;34m(\u001b[0m\u001b[0;34m)\u001b[0m\u001b[0;34m\u001b[0m\u001b[0;34m\u001b[0m\u001b[0m\n\u001b[0m\u001b[1;32m      3\u001b[0m     \u001b[0mloadSVMAndPredict\u001b[0m\u001b[0;34m(\u001b[0m\u001b[0;34m)\u001b[0m\u001b[0;34m\u001b[0m\u001b[0;34m\u001b[0m\u001b[0m\n\u001b[1;32m      4\u001b[0m     \u001b[0;32mpass\u001b[0m\u001b[0;34m\u001b[0m\u001b[0;34m\u001b[0m\u001b[0m\n",
            "\u001b[0;32m<ipython-input-3-e84e27ec37fc>\u001b[0m in \u001b[0;36mtrainSVM\u001b[0;34m()\u001b[0m\n\u001b[1;32m      1\u001b[0m \u001b[0;32mdef\u001b[0m \u001b[0mtrainSVM\u001b[0m\u001b[0;34m(\u001b[0m\u001b[0;34m)\u001b[0m\u001b[0;34m:\u001b[0m\u001b[0;34m\u001b[0m\u001b[0;34m\u001b[0m\u001b[0m\n\u001b[0;32m----> 2\u001b[0;31m     \u001b[0mf\u001b[0m \u001b[0;34m=\u001b[0m \u001b[0mOCSVM\u001b[0m\u001b[0;34m(\u001b[0m\u001b[0;34m)\u001b[0m\u001b[0;34m\u001b[0m\u001b[0;34m\u001b[0m\u001b[0m\n\u001b[0m\u001b[1;32m      3\u001b[0m     \u001b[0mX_train\u001b[0m \u001b[0;34m=\u001b[0m \u001b[0mf\u001b[0m\u001b[0;34m.\u001b[0m\u001b[0mprepareData\u001b[0m\u001b[0;34m(\u001b[0m\u001b[0;34m'data/train'\u001b[0m\u001b[0;34m)\u001b[0m\u001b[0;34m\u001b[0m\u001b[0;34m\u001b[0m\u001b[0m\n\u001b[1;32m      4\u001b[0m     \u001b[0;31m# do StandardScaler\u001b[0m\u001b[0;34m\u001b[0m\u001b[0;34m\u001b[0m\u001b[0;34m\u001b[0m\u001b[0m\n\u001b[1;32m      5\u001b[0m     \u001b[0mf\u001b[0m\u001b[0;34m.\u001b[0m\u001b[0mdoSSFit\u001b[0m\u001b[0;34m(\u001b[0m\u001b[0mX_train\u001b[0m\u001b[0;34m)\u001b[0m\u001b[0;34m\u001b[0m\u001b[0;34m\u001b[0m\u001b[0m\n",
            "\u001b[0;32m<ipython-input-2-b2e868b99eee>\u001b[0m in \u001b[0;36m__init__\u001b[0;34m(self)\u001b[0m\n\u001b[1;32m      1\u001b[0m \u001b[0;32mclass\u001b[0m \u001b[0mOCSVM\u001b[0m\u001b[0;34m(\u001b[0m\u001b[0mobject\u001b[0m\u001b[0;34m)\u001b[0m\u001b[0;34m:\u001b[0m\u001b[0;34m\u001b[0m\u001b[0;34m\u001b[0m\u001b[0m\n\u001b[1;32m      2\u001b[0m     \u001b[0;32mdef\u001b[0m \u001b[0m__init__\u001b[0m\u001b[0;34m(\u001b[0m\u001b[0mself\u001b[0m\u001b[0;34m)\u001b[0m\u001b[0;34m:\u001b[0m\u001b[0;34m\u001b[0m\u001b[0;34m\u001b[0m\u001b[0m\n\u001b[0;32m----> 3\u001b[0;31m         \u001b[0mself\u001b[0m\u001b[0;34m.\u001b[0m\u001b[0mmodel\u001b[0m \u001b[0;34m=\u001b[0m \u001b[0mResNet50\u001b[0m\u001b[0;34m(\u001b[0m\u001b[0minput_shape\u001b[0m\u001b[0;34m=\u001b[0m\u001b[0;34m(\u001b[0m\u001b[0;36m224\u001b[0m\u001b[0;34m,\u001b[0m \u001b[0;36m224\u001b[0m\u001b[0;34m,\u001b[0m\u001b[0;36m3\u001b[0m\u001b[0;34m)\u001b[0m\u001b[0;34m,\u001b[0m\u001b[0mweights\u001b[0m\u001b[0;34m=\u001b[0m\u001b[0;32mNone\u001b[0m\u001b[0;34m,\u001b[0m\u001b[0minclude_top\u001b[0m\u001b[0;34m=\u001b[0m\u001b[0;32mFalse\u001b[0m\u001b[0;34m)\u001b[0m\u001b[0;34m\u001b[0m\u001b[0;34m\u001b[0m\u001b[0m\n\u001b[0m\u001b[1;32m      4\u001b[0m         \u001b[0;31m# the weights below downloaded from ('https://github.com/fchollet/deep-learning-models/releases/download/v0.2/resnet50_weights_tf_dim_ordering_tf_kernels_notop.h5')\u001b[0m\u001b[0;34m\u001b[0m\u001b[0;34m\u001b[0m\u001b[0;34m\u001b[0m\u001b[0m\n\u001b[1;32m      5\u001b[0m         \u001b[0mself\u001b[0m\u001b[0;34m.\u001b[0m\u001b[0mmodel\u001b[0m\u001b[0;34m.\u001b[0m\u001b[0mload_weights\u001b[0m\u001b[0;34m(\u001b[0m\u001b[0;34m'resnet50_weights_tf_dim_ordering_tf_kernels_notop.h5'\u001b[0m\u001b[0;34m)\u001b[0m\u001b[0;34m\u001b[0m\u001b[0;34m\u001b[0m\u001b[0m\n",
            "\u001b[0;31mNameError\u001b[0m: name 'ResNet50' is not defined"
          ]
        }
      ],
      "source": [
        "if __name__ == '__main__':\n",
        "    trainSVM()\n",
        "    loadSVMAndPredict()\n",
        "    pass"
      ]
    }
  ],
  "metadata": {
    "kernelspec": {
      "display_name": "Python 3",
      "language": "python",
      "name": "python3"
    },
    "language_info": {
      "codemirror_mode": {
        "name": "ipython",
        "version": 3
      },
      "file_extension": ".py",
      "mimetype": "text/x-python",
      "name": "python",
      "nbconvert_exporter": "python",
      "pygments_lexer": "ipython3",
      "version": "3.6.4"
    },
    "colab": {
      "name": "ocsvm.ipynb",
      "provenance": [],
      "include_colab_link": true
    },
    "accelerator": "GPU"
  },
  "nbformat": 4,
  "nbformat_minor": 0
}