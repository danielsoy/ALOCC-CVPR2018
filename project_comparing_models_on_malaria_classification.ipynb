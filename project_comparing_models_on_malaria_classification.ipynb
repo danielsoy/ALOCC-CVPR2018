{
  "nbformat": 4,
  "nbformat_minor": 0,
  "metadata": {
    "kernelspec": {
      "language": "python",
      "display_name": "Python 3",
      "name": "python3"
    },
    "language_info": {
      "pygments_lexer": "ipython3",
      "nbconvert_exporter": "python",
      "version": "3.6.4",
      "file_extension": ".py",
      "codemirror_mode": {
        "name": "ipython",
        "version": 3
      },
      "name": "python",
      "mimetype": "text/x-python"
    },
    "colab": {
      "name": "project-comparing-models-on-malaria-classification.ipynb",
      "provenance": [],
      "include_colab_link": true
    }
  },
  "cells": [
    {
      "cell_type": "markdown",
      "metadata": {
        "id": "view-in-github",
        "colab_type": "text"
      },
      "source": [
        "<a href=\"https://colab.research.google.com/github/danielsoy/ALOCC-CVPR2018/blob/master/project_comparing_models_on_malaria_classification.ipynb\" target=\"_parent\"><img src=\"https://colab.research.google.com/assets/colab-badge.svg\" alt=\"Open In Colab\"/></a>"
      ]
    },
    {
      "cell_type": "code",
      "metadata": {
        "_uuid": "8f2839f25d086af736a60e9eeb907d3b93b6e0e5",
        "_cell_guid": "b1076dfc-b9ad-4769-8c92-a6c4dae69d19",
        "execution": {
          "iopub.status.busy": "2021-12-03T08:07:07.166572Z",
          "iopub.execute_input": "2021-12-03T08:07:07.167274Z",
          "iopub.status.idle": "2021-12-03T08:07:14.303361Z",
          "shell.execute_reply.started": "2021-12-03T08:07:07.167135Z",
          "shell.execute_reply": "2021-12-03T08:07:14.302392Z"
        },
        "trusted": true,
        "id": "ncy93d3kU0VC"
      },
      "source": [
        "import os\n",
        "import shutil\n",
        "import cv2\n",
        "import random\n",
        "import numpy as np\n",
        "import matplotlib.pyplot as plt\n",
        "import tensorflow as tf\n",
        "import tensorflow.keras.layers as layers\n",
        "from tensorflow.keras.preprocessing.image import ImageDataGenerator\n",
        "from tensorflow.keras.optimizers import Adam\n",
        "from tensorflow.keras.callbacks import ModelCheckpoint\n",
        "from sklearn.metrics import confusion_matrix\n",
        "from tensorflow.python.ops.numpy_ops import np_config\n",
        "from tqdm import tqdm"
      ],
      "execution_count": null,
      "outputs": []
    },
    {
      "cell_type": "markdown",
      "metadata": {
        "id": "YMJT_0ZuU0VF"
      },
      "source": [
        "## Data loading and preprocessing"
      ]
    },
    {
      "cell_type": "code",
      "metadata": {
        "execution": {
          "iopub.status.busy": "2021-12-03T08:07:14.305592Z",
          "iopub.execute_input": "2021-12-03T08:07:14.305932Z",
          "iopub.status.idle": "2021-12-03T08:07:14.324407Z",
          "shell.execute_reply.started": "2021-12-03T08:07:14.30589Z",
          "shell.execute_reply": "2021-12-03T08:07:14.323154Z"
        },
        "trusted": true,
        "id": "poqAGiEZU0VH"
      },
      "source": [
        "input_data_path='/kaggle/input/cell-images-for-detecting-malaria/cell_images'\n",
        "labels=os.listdir(input_data_path)\n",
        "print(labels)"
      ],
      "execution_count": null,
      "outputs": []
    },
    {
      "cell_type": "code",
      "metadata": {
        "execution": {
          "iopub.status.busy": "2021-12-03T08:07:14.326278Z",
          "iopub.execute_input": "2021-12-03T08:07:14.327105Z",
          "iopub.status.idle": "2021-12-03T08:07:14.334345Z",
          "shell.execute_reply.started": "2021-12-03T08:07:14.327059Z",
          "shell.execute_reply": "2021-12-03T08:07:14.332977Z"
        },
        "trusted": true,
        "id": "tZb0gerSU0VI"
      },
      "source": [
        "labels.pop()\n",
        "print(labels)"
      ],
      "execution_count": null,
      "outputs": []
    },
    {
      "cell_type": "code",
      "metadata": {
        "execution": {
          "iopub.status.busy": "2021-12-03T08:07:14.338562Z",
          "iopub.execute_input": "2021-12-03T08:07:14.339406Z",
          "iopub.status.idle": "2021-12-03T08:07:16.320361Z",
          "shell.execute_reply.started": "2021-12-03T08:07:14.339281Z",
          "shell.execute_reply": "2021-12-03T08:07:16.319369Z"
        },
        "trusted": true,
        "id": "aZ5GrmDUU0VI"
      },
      "source": [
        "def get_image_path():\n",
        "    image_path_list,name_list=[],[]\n",
        "    for label in tqdm(labels):\n",
        "        folder_path=os.path.join(input_data_path,label)\n",
        "        image_set=random.sample(os.listdir(folder_path),1)\n",
        "        for file in image_set:\n",
        "            file_path=os.path.join(folder_path,file)\n",
        "            image_path_list.append(file_path)\n",
        "            name_list.append(label)\n",
        "    return image_path_list,name_list\n",
        "image_path_list,name_list=get_image_path()"
      ],
      "execution_count": null,
      "outputs": []
    },
    {
      "cell_type": "code",
      "metadata": {
        "execution": {
          "iopub.status.busy": "2021-12-03T08:07:16.322241Z",
          "iopub.execute_input": "2021-12-03T08:07:16.322887Z",
          "iopub.status.idle": "2021-12-03T08:07:16.664943Z",
          "shell.execute_reply.started": "2021-12-03T08:07:16.322814Z",
          "shell.execute_reply": "2021-12-03T08:07:16.663916Z"
        },
        "trusted": true,
        "id": "CGedBZjIU0VJ"
      },
      "source": [
        "def plot_images(image_path_list,name_list,row,col):\n",
        "    fig=plt.figure(figsize=(16,16))\n",
        "    for i in range(len(name_list)):\n",
        "        fig.add_subplot(row,col,i+1)\n",
        "        plt.title(name_list[i])\n",
        "        plt.axis('off')\n",
        "        plt.imshow(cv2.imread(image_path_list[i]))\n",
        "    plt.tight_layout()\n",
        "    plt.show()\n",
        "plot_images(\n",
        "    image_path_list=image_path_list,\n",
        "    name_list=name_list,\n",
        "    row=1,col=2\n",
        ")"
      ],
      "execution_count": null,
      "outputs": []
    },
    {
      "cell_type": "code",
      "metadata": {
        "execution": {
          "iopub.status.busy": "2021-12-03T08:07:16.666169Z",
          "iopub.execute_input": "2021-12-03T08:07:16.666465Z",
          "iopub.status.idle": "2021-12-03T08:07:16.674023Z",
          "shell.execute_reply.started": "2021-12-03T08:07:16.666425Z",
          "shell.execute_reply": "2021-12-03T08:07:16.672942Z"
        },
        "trusted": true,
        "id": "uVVPyKzFU0VJ"
      },
      "source": [
        "data_dir='/kaggle/data'\n",
        "train_path=os.path.join(data_dir,'train')\n",
        "valid_path=os.path.join(data_dir,'valid')\n",
        "test_path=os.path.join(data_dir,'test')"
      ],
      "execution_count": null,
      "outputs": []
    },
    {
      "cell_type": "code",
      "metadata": {
        "execution": {
          "iopub.status.busy": "2021-12-03T08:07:16.675938Z",
          "iopub.execute_input": "2021-12-03T08:07:16.676602Z",
          "iopub.status.idle": "2021-12-03T08:07:16.697141Z",
          "shell.execute_reply.started": "2021-12-03T08:07:16.676536Z",
          "shell.execute_reply": "2021-12-03T08:07:16.695804Z"
        },
        "trusted": true,
        "id": "TcvZ_AmvU0VK"
      },
      "source": [
        "def create_dir():\n",
        "    if not os.path.isdir(data_dir):\n",
        "        os.mkdir(data_dir)\n",
        "        os.mkdir(train_path)\n",
        "        os.mkdir(valid_path)\n",
        "        os.mkdir(test_path)\n",
        "        for label in tqdm(labels):\n",
        "            os.mkdir(os.path.join(train_path,label))\n",
        "            os.mkdir(os.path.join(valid_path,label))\n",
        "            os.mkdir(os.path.join(test_path,label))\n",
        "create_dir()"
      ],
      "execution_count": null,
      "outputs": []
    },
    {
      "cell_type": "code",
      "metadata": {
        "execution": {
          "iopub.status.busy": "2021-12-03T08:07:16.699097Z",
          "iopub.execute_input": "2021-12-03T08:07:16.699656Z",
          "iopub.status.idle": "2021-12-03T08:07:16.711918Z",
          "shell.execute_reply.started": "2021-12-03T08:07:16.69961Z",
          "shell.execute_reply": "2021-12-03T08:07:16.710637Z"
        },
        "trusted": true,
        "id": "F0xc5bzUU0VL"
      },
      "source": [
        "def check_dir():\n",
        "    print(f'{data_dir}: {os.path.isdir(data_dir)}')\n",
        "    print(f'{train_path}: {os.path.isdir(train_path)}')\n",
        "    print(f'{valid_path}: {os.path.isdir(valid_path)}')\n",
        "    print(f'{test_path}: {os.path.isdir(test_path)}')\n",
        "    for label in labels:\n",
        "        print(f'{os.path.join(train_path,label)}: {os.path.isdir(os.path.join(train_path,label))}')\n",
        "        print(f'{os.path.join(valid_path,label)}: {os.path.isdir(os.path.join(valid_path,label))}')\n",
        "        print(f'{os.path.join(test_path,label)}: {os.path.isdir(os.path.join(test_path,label))}')\n",
        "check_dir()"
      ],
      "execution_count": null,
      "outputs": []
    },
    {
      "cell_type": "code",
      "metadata": {
        "execution": {
          "iopub.status.busy": "2021-12-03T08:07:16.714002Z",
          "iopub.execute_input": "2021-12-03T08:07:16.714814Z",
          "iopub.status.idle": "2021-12-03T08:07:16.725283Z",
          "shell.execute_reply.started": "2021-12-03T08:07:16.714767Z",
          "shell.execute_reply": "2021-12-03T08:07:16.724232Z"
        },
        "trusted": true,
        "id": "GTGWg9tbU0VL"
      },
      "source": [
        "def load_images(n,mode,src_dir,dest_dir):\n",
        "    for label in labels:\n",
        "        src_folder=os.path.join(src_dir,label)\n",
        "        dest_folder=os.path.join(dest_dir,label)\n",
        "        image_set=random.sample(os.listdir(src_folder),n)\n",
        "        if mode=='train':\n",
        "            print(f'Loading the training images for {label}')\n",
        "        elif mode=='valid':\n",
        "            print(f'Loading the validation images for {label}')\n",
        "        elif mode=='test':\n",
        "            print(f'Loading the testing images for {label}')\n",
        "        else:\n",
        "            print('Invalid mode of operation')\n",
        "            return\n",
        "        for file in tqdm(image_set):\n",
        "            file_path=os.path.join(src_folder,file)\n",
        "            shutil.copy(file_path,dest_folder)"
      ],
      "execution_count": null,
      "outputs": []
    },
    {
      "cell_type": "code",
      "metadata": {
        "execution": {
          "iopub.status.busy": "2021-12-03T08:07:16.72718Z",
          "iopub.execute_input": "2021-12-03T08:07:16.72763Z",
          "iopub.status.idle": "2021-12-03T08:09:10.527341Z",
          "shell.execute_reply.started": "2021-12-03T08:07:16.727585Z",
          "shell.execute_reply": "2021-12-03T08:09:10.526336Z"
        },
        "trusted": true,
        "id": "5Af8SZHTU0VM"
      },
      "source": [
        "load_images(\n",
        "    n=7000,mode='train',\n",
        "    src_dir=input_data_path,\n",
        "    dest_dir=train_path\n",
        ")"
      ],
      "execution_count": null,
      "outputs": []
    },
    {
      "cell_type": "code",
      "metadata": {
        "execution": {
          "iopub.status.busy": "2021-12-03T08:09:10.532005Z",
          "iopub.execute_input": "2021-12-03T08:09:10.532238Z",
          "iopub.status.idle": "2021-12-03T08:09:39.182344Z",
          "shell.execute_reply.started": "2021-12-03T08:09:10.532209Z",
          "shell.execute_reply": "2021-12-03T08:09:39.181266Z"
        },
        "trusted": true,
        "id": "N8gHq68YU0VM"
      },
      "source": [
        "load_images(\n",
        "    n=3000,mode='valid',\n",
        "    src_dir=input_data_path,\n",
        "    dest_dir=valid_path\n",
        ")"
      ],
      "execution_count": null,
      "outputs": []
    },
    {
      "cell_type": "code",
      "metadata": {
        "execution": {
          "iopub.status.busy": "2021-12-03T08:09:39.184277Z",
          "iopub.execute_input": "2021-12-03T08:09:39.184616Z",
          "iopub.status.idle": "2021-12-03T08:09:55.38089Z",
          "shell.execute_reply.started": "2021-12-03T08:09:39.184565Z",
          "shell.execute_reply": "2021-12-03T08:09:55.37991Z"
        },
        "trusted": true,
        "id": "kylt1nOmU0VN"
      },
      "source": [
        "load_images(\n",
        "    n=2000,mode='test',\n",
        "    src_dir=input_data_path,\n",
        "    dest_dir=test_path\n",
        ")"
      ],
      "execution_count": null,
      "outputs": []
    },
    {
      "cell_type": "code",
      "metadata": {
        "execution": {
          "iopub.status.busy": "2021-12-03T08:09:55.382556Z",
          "iopub.execute_input": "2021-12-03T08:09:55.383122Z",
          "iopub.status.idle": "2021-12-03T08:09:55.389728Z",
          "shell.execute_reply.started": "2021-12-03T08:09:55.383078Z",
          "shell.execute_reply": "2021-12-03T08:09:55.387666Z"
        },
        "trusted": true,
        "id": "QcEonCcJU0VN"
      },
      "source": [
        "target_size=(64,64)\n",
        "batch_size=32\n",
        "epochs=40"
      ],
      "execution_count": null,
      "outputs": []
    },
    {
      "cell_type": "code",
      "metadata": {
        "execution": {
          "iopub.status.busy": "2021-12-03T08:09:55.391404Z",
          "iopub.execute_input": "2021-12-03T08:09:55.391948Z",
          "iopub.status.idle": "2021-12-03T08:09:56.411172Z",
          "shell.execute_reply.started": "2021-12-03T08:09:55.391905Z",
          "shell.execute_reply": "2021-12-03T08:09:56.410051Z"
        },
        "trusted": true,
        "id": "TbuMEQCwU0VN"
      },
      "source": [
        "datagen=ImageDataGenerator(\n",
        "    rescale=1./255,\n",
        "    preprocessing_function=tf.keras.applications.vgg16.preprocess_input\n",
        ")\n",
        "\n",
        "train_data=ImageDataGenerator(\n",
        "    rescale=1./255,\n",
        "    preprocessing_function=tf.keras.applications.vgg16.preprocess_input,\n",
        "    horizontal_flip=True,vertical_flip=True\n",
        ").flow_from_directory(\n",
        "    directory=train_path,target_size=target_size,\n",
        "    classes=labels,batch_size=batch_size\n",
        ")\n",
        "\n",
        "valid_data=datagen.flow_from_directory(\n",
        "    directory=valid_path,target_size=target_size,\n",
        "    classes=labels,batch_size=batch_size\n",
        ")\n",
        "\n",
        "test_data=datagen.flow_from_directory(\n",
        "    directory=test_path,target_size=target_size,\n",
        "    classes=labels,batch_size=batch_size,shuffle=False\n",
        ")"
      ],
      "execution_count": null,
      "outputs": []
    },
    {
      "cell_type": "markdown",
      "metadata": {
        "id": "W876DoixU0VO"
      },
      "source": [
        "## GoogleNet-Resnet"
      ]
    },
    {
      "cell_type": "code",
      "metadata": {
        "execution": {
          "iopub.status.busy": "2021-12-03T08:09:56.412868Z",
          "iopub.execute_input": "2021-12-03T08:09:56.413197Z",
          "iopub.status.idle": "2021-12-03T08:09:56.41997Z",
          "shell.execute_reply.started": "2021-12-03T08:09:56.413155Z",
          "shell.execute_reply": "2021-12-03T08:09:56.417494Z"
        },
        "trusted": true,
        "id": "Dh9CvNzuU0VO"
      },
      "source": [
        "class MCDropout(layers.Dropout):\n",
        "    def call(self,inputs):\n",
        "        return super().call(inputs,training=True)"
      ],
      "execution_count": null,
      "outputs": []
    },
    {
      "cell_type": "code",
      "metadata": {
        "execution": {
          "iopub.status.busy": "2021-12-03T08:09:56.421964Z",
          "iopub.execute_input": "2021-12-03T08:09:56.423183Z",
          "iopub.status.idle": "2021-12-03T08:09:56.456366Z",
          "shell.execute_reply.started": "2021-12-03T08:09:56.423104Z",
          "shell.execute_reply": "2021-12-03T08:09:56.455456Z"
        },
        "trusted": true,
        "id": "74odWwQKU0VO"
      },
      "source": [
        "lrn_layer=layers.Lambda(\n",
        "    lambda x: tf.nn.local_response_normalization(\n",
        "        input=x,depth_radius=2,bias=1,\n",
        "        alpha=0.00002,beta=0.75\n",
        "    )\n",
        ")"
      ],
      "execution_count": null,
      "outputs": []
    },
    {
      "cell_type": "code",
      "metadata": {
        "execution": {
          "iopub.status.busy": "2021-12-03T08:09:56.457724Z",
          "iopub.execute_input": "2021-12-03T08:09:56.458059Z",
          "iopub.status.idle": "2021-12-03T08:09:56.46675Z",
          "shell.execute_reply.started": "2021-12-03T08:09:56.458017Z",
          "shell.execute_reply": "2021-12-03T08:09:56.465508Z"
        },
        "trusted": true,
        "id": "ZM_VmS5TU0VO"
      },
      "source": [
        "class ResnetLayer(layers.Layer):\n",
        "    def __init__(self,filters,kernel_size=3,strides=1,n_conv=4,**kwargs):\n",
        "        super().__init__(**kwargs)\n",
        "        self.resnet_layer=[]\n",
        "        for _ in range(n_conv):\n",
        "            self.resnet_layer.append(\n",
        "                layers.Conv2D(\n",
        "                    filters=filters,kernel_size=kernel_size,\n",
        "                    strides=strides,padding='same',activation='relu'\n",
        "                )\n",
        "            )\n",
        "            self.resnet_layer.append(layers.BatchNormalization())\n",
        "    def call(self,inputs):\n",
        "        out=inputs\n",
        "        for resnet_layer in self.resnet_layer:\n",
        "            out=resnet_layer(out)\n",
        "        out=layers.Concatenate()([out,inputs])\n",
        "        return tf.keras.activations.relu(out)"
      ],
      "execution_count": null,
      "outputs": []
    },
    {
      "cell_type": "code",
      "metadata": {
        "execution": {
          "iopub.status.busy": "2021-12-03T08:09:56.468802Z",
          "iopub.execute_input": "2021-12-03T08:09:56.469653Z",
          "iopub.status.idle": "2021-12-03T08:09:56.48576Z",
          "shell.execute_reply.started": "2021-12-03T08:09:56.46961Z",
          "shell.execute_reply": "2021-12-03T08:09:56.484732Z"
        },
        "trusted": true,
        "id": "guenCcBtU0VP"
      },
      "source": [
        "class InceptionModule(layers.Layer):\n",
        "    def __init__(self,filters_list,**kwargs):\n",
        "        super().__init__(**kwargs)\n",
        "        self.layer_list=[]\n",
        "        for i in range(len(filters_list)):\n",
        "            if i==0:\n",
        "                google_net_layer=tf.keras.models.Sequential([\n",
        "                    layers.Conv2D(\n",
        "                        filters=filters_list[i],kernel_size=1,\n",
        "                        strides=1,padding='same',activation='relu'\n",
        "                    ),\n",
        "                    layers.BatchNormalization()\n",
        "                ])\n",
        "            elif i!=len(filters_list)-1:\n",
        "                google_net_layer=tf.keras.models.Sequential([\n",
        "                    layers.Conv2D(\n",
        "                        filters=filters_list[i],kernel_size=1,\n",
        "                        strides=1,padding='same',activation='relu'\n",
        "                    ),\n",
        "                    layers.BatchNormalization(),\n",
        "                    layers.Conv2D(\n",
        "                        filters=int(filters_list[i])/2,kernel_size=2*i-1,\n",
        "                        strides=1,padding='same',activation='relu'\n",
        "                    ),\n",
        "                    layers.BatchNormalization()\n",
        "                ])\n",
        "            else:\n",
        "                google_net_layer=tf.keras.models.Sequential([\n",
        "                    layers.MaxPool2D(\n",
        "                        pool_size=3,strides=1,\n",
        "                        padding='same'\n",
        "                    ),\n",
        "                    layers.Conv2D(\n",
        "                        filters=filters_list[i],kernel_size=1,\n",
        "                        strides=1,padding='same',activation='relu'\n",
        "                    ),\n",
        "                    layers.BatchNormalization()\n",
        "                ])\n",
        "            self.layer_list.append(google_net_layer)\n",
        "    def call(self,inputs):\n",
        "        output_list=[]\n",
        "        for google_net_path in self.layer_list:\n",
        "            out=google_net_path(inputs)\n",
        "            output_list.append(out)\n",
        "        output=layers.Concatenate()(output_list)\n",
        "        return tf.keras.activations.relu(output)"
      ],
      "execution_count": null,
      "outputs": []
    },
    {
      "cell_type": "code",
      "metadata": {
        "execution": {
          "iopub.status.busy": "2021-12-03T08:09:56.487309Z",
          "iopub.execute_input": "2021-12-03T08:09:56.487974Z",
          "iopub.status.idle": "2021-12-03T08:09:56.502389Z",
          "shell.execute_reply.started": "2021-12-03T08:09:56.487916Z",
          "shell.execute_reply": "2021-12-03T08:09:56.501179Z"
        },
        "trusted": true,
        "id": "oJOpftrHU0VP"
      },
      "source": [
        "def build_model_googlenet_resnet(target_size,n_conv=4,rate=0.45):\n",
        "    model=[]\n",
        "    steps=int(np.log2(target_size[0]))\n",
        "    model.append(layers.Input(shape=(*target_size,3)))\n",
        "    filters=8\n",
        "    cnt=0\n",
        "    for _ in range(steps):\n",
        "        if cnt==0:\n",
        "            model.append(InceptionModule(\n",
        "                filters_list=[int(filters/2),filters,filters*2,int(filters/2)]\n",
        "                )\n",
        "            )\n",
        "        else:\n",
        "            model.append(ResnetLayer(filters=filters,n_conv=n_conv))\n",
        "        model.append(lrn_layer)\n",
        "        model.append(layers.AvgPool2D(\n",
        "            pool_size=2,\n",
        "            strides=2\n",
        "        ))\n",
        "        filters*=2\n",
        "        cnt=(cnt+1)%2\n",
        "    model+=[\n",
        "        layers.Flatten(),\n",
        "        MCDropout(rate),\n",
        "        layers.Dense(units=4096,activation='relu'),\n",
        "        MCDropout(rate),\n",
        "        layers.Dense(units=4096,activation='relu'),\n",
        "        layers.Dense(units=len(labels),activation='softmax'),\n",
        "    ]\n",
        "    return tf.keras.models.Sequential(model)"
      ],
      "execution_count": null,
      "outputs": []
    },
    {
      "cell_type": "code",
      "metadata": {
        "execution": {
          "iopub.status.busy": "2021-12-03T08:09:56.504039Z",
          "iopub.execute_input": "2021-12-03T08:09:56.504542Z",
          "iopub.status.idle": "2021-12-03T08:10:00.351216Z",
          "shell.execute_reply.started": "2021-12-03T08:09:56.504498Z",
          "shell.execute_reply": "2021-12-03T08:10:00.350007Z"
        },
        "trusted": true,
        "id": "4L_yBDoBU0VQ"
      },
      "source": [
        "model=build_model_googlenet_resnet(target_size=target_size)"
      ],
      "execution_count": null,
      "outputs": []
    },
    {
      "cell_type": "code",
      "metadata": {
        "execution": {
          "iopub.status.busy": "2021-12-03T08:10:00.352821Z",
          "iopub.execute_input": "2021-12-03T08:10:00.353126Z",
          "iopub.status.idle": "2021-12-03T08:10:00.385116Z",
          "shell.execute_reply.started": "2021-12-03T08:10:00.353085Z",
          "shell.execute_reply": "2021-12-03T08:10:00.384121Z"
        },
        "trusted": true,
        "id": "gzPy-CR5U0VQ"
      },
      "source": [
        "model.summary()"
      ],
      "execution_count": null,
      "outputs": []
    },
    {
      "cell_type": "code",
      "metadata": {
        "execution": {
          "iopub.status.busy": "2021-12-03T08:10:00.386751Z",
          "iopub.execute_input": "2021-12-03T08:10:00.38711Z",
          "iopub.status.idle": "2021-12-03T08:10:00.393954Z",
          "shell.execute_reply.started": "2021-12-03T08:10:00.387053Z",
          "shell.execute_reply": "2021-12-03T08:10:00.392767Z"
        },
        "trusted": true,
        "id": "DJjHFdofU0VQ"
      },
      "source": [
        "ckpt_path1='/kaggle/model_checkpoint1'\n",
        "if not os.path.isdir(ckpt_path1):\n",
        "    os.mkdir(ckpt_path1)"
      ],
      "execution_count": null,
      "outputs": []
    },
    {
      "cell_type": "code",
      "metadata": {
        "execution": {
          "iopub.status.busy": "2021-12-03T08:10:00.396052Z",
          "iopub.execute_input": "2021-12-03T08:10:00.396369Z",
          "iopub.status.idle": "2021-12-03T08:10:00.404957Z",
          "shell.execute_reply.started": "2021-12-03T08:10:00.396326Z",
          "shell.execute_reply": "2021-12-03T08:10:00.403925Z"
        },
        "trusted": true,
        "id": "mPRxTkMJU0VQ"
      },
      "source": [
        "model_checkpoint=ModelCheckpoint(\n",
        "    filepath=ckpt_path1,monitor='val_accuracy',\n",
        "    save_best_only=True,save_weights_only=True,\n",
        "    mode='max'\n",
        ")"
      ],
      "execution_count": null,
      "outputs": []
    },
    {
      "cell_type": "code",
      "metadata": {
        "execution": {
          "iopub.status.busy": "2021-12-03T08:10:00.406906Z",
          "iopub.execute_input": "2021-12-03T08:10:00.407343Z",
          "iopub.status.idle": "2021-12-03T08:10:00.427629Z",
          "shell.execute_reply.started": "2021-12-03T08:10:00.407297Z",
          "shell.execute_reply": "2021-12-03T08:10:00.426508Z"
        },
        "trusted": true,
        "id": "adrrZbOnU0VQ"
      },
      "source": [
        "model.compile(optimizer=Adam(learning_rate=0.0003),loss='categorical_crossentropy',metrics=['accuracy'])"
      ],
      "execution_count": null,
      "outputs": []
    },
    {
      "cell_type": "code",
      "metadata": {
        "execution": {
          "iopub.status.busy": "2021-12-03T08:10:00.429988Z",
          "iopub.execute_input": "2021-12-03T08:10:00.430637Z",
          "iopub.status.idle": "2021-12-03T08:31:26.658523Z",
          "shell.execute_reply.started": "2021-12-03T08:10:00.43059Z",
          "shell.execute_reply": "2021-12-03T08:31:26.657539Z"
        },
        "trusted": true,
        "id": "QwKd2tfQU0VQ"
      },
      "source": [
        "history1=model.fit(\n",
        "    x=train_data,batch_size=batch_size,epochs=epochs,\n",
        "    callbacks=[model_checkpoint],validation_data=valid_data\n",
        ")"
      ],
      "execution_count": null,
      "outputs": []
    },
    {
      "cell_type": "code",
      "metadata": {
        "execution": {
          "iopub.status.busy": "2021-12-03T08:31:26.660756Z",
          "iopub.execute_input": "2021-12-03T08:31:26.661113Z",
          "iopub.status.idle": "2021-12-03T08:31:26.668934Z",
          "shell.execute_reply.started": "2021-12-03T08:31:26.66107Z",
          "shell.execute_reply": "2021-12-03T08:31:26.667901Z"
        },
        "trusted": true,
        "id": "sSm_wn9yU0VR"
      },
      "source": [
        "def accuracy(data,steps=20):\n",
        "    y_prob_stack=np.stack([np.array(model.predict(data)) for _ in tqdm(range(steps))])\n",
        "    y_prob=np.mean(y_prob_stack,axis=0)\n",
        "    cm=confusion_matrix(y_true=data.classes,y_pred=np.argmax(y_prob,axis=-1))\n",
        "    acc=cm.trace()/cm.sum()\n",
        "    return acc*100"
      ],
      "execution_count": null,
      "outputs": []
    },
    {
      "cell_type": "code",
      "metadata": {
        "execution": {
          "iopub.status.busy": "2021-12-03T08:31:26.670323Z",
          "iopub.execute_input": "2021-12-03T08:31:26.671247Z",
          "iopub.status.idle": "2021-12-03T08:33:13.168046Z",
          "shell.execute_reply.started": "2021-12-03T08:31:26.6712Z",
          "shell.execute_reply": "2021-12-03T08:33:13.167105Z"
        },
        "trusted": true,
        "id": "siUNQiFkU0VR"
      },
      "source": [
        "print(f'The accuracy of the model on test set is {accuracy(test_data)}')"
      ],
      "execution_count": null,
      "outputs": []
    },
    {
      "cell_type": "code",
      "metadata": {
        "execution": {
          "iopub.status.busy": "2021-12-03T08:33:13.170153Z",
          "iopub.execute_input": "2021-12-03T08:33:13.170593Z",
          "iopub.status.idle": "2021-12-03T08:33:13.904822Z",
          "shell.execute_reply.started": "2021-12-03T08:33:13.170539Z",
          "shell.execute_reply": "2021-12-03T08:33:13.903762Z"
        },
        "trusted": true,
        "id": "rm_zi9IaU0VR"
      },
      "source": [
        "model.load_weights(ckpt_path1)"
      ],
      "execution_count": null,
      "outputs": []
    },
    {
      "cell_type": "code",
      "metadata": {
        "execution": {
          "iopub.status.busy": "2021-12-03T08:33:13.906729Z",
          "iopub.execute_input": "2021-12-03T08:33:13.907082Z",
          "iopub.status.idle": "2021-12-03T08:34:59.951565Z",
          "shell.execute_reply.started": "2021-12-03T08:33:13.90703Z",
          "shell.execute_reply": "2021-12-03T08:34:59.950213Z"
        },
        "trusted": true,
        "id": "GcrabAcoU0VR"
      },
      "source": [
        "print(f'The accuracy of the model with MCDropout on test set is {accuracy(test_data)}')"
      ],
      "execution_count": null,
      "outputs": []
    },
    {
      "cell_type": "code",
      "metadata": {
        "execution": {
          "iopub.status.busy": "2021-12-03T08:34:59.953399Z",
          "iopub.execute_input": "2021-12-03T08:34:59.953838Z",
          "iopub.status.idle": "2021-12-03T08:34:59.96354Z",
          "shell.execute_reply.started": "2021-12-03T08:34:59.95379Z",
          "shell.execute_reply": "2021-12-03T08:34:59.962184Z"
        },
        "trusted": true,
        "id": "zqGBb_cBU0VR"
      },
      "source": [
        "def plot_history(history):\n",
        "    val_loss=history.history['val_loss']\n",
        "    train_loss=history.history['loss']\n",
        "    plt.figure()\n",
        "    plt.xlabel('Epochs')\n",
        "    plt.ylabel('Loss')\n",
        "    plt.plot(train_loss,'bo--')\n",
        "    plt.plot(val_loss,'ro--')\n",
        "    plt.title('Loss vs Epochs')\n",
        "    plt.legend(['Train','Valid'])\n",
        "    plt.tight_layout()\n",
        "    plt.show()"
      ],
      "execution_count": null,
      "outputs": []
    },
    {
      "cell_type": "code",
      "metadata": {
        "execution": {
          "iopub.status.busy": "2021-12-03T08:34:59.965301Z",
          "iopub.execute_input": "2021-12-03T08:34:59.965685Z",
          "iopub.status.idle": "2021-12-03T08:35:00.299994Z",
          "shell.execute_reply.started": "2021-12-03T08:34:59.965594Z",
          "shell.execute_reply": "2021-12-03T08:35:00.298806Z"
        },
        "trusted": true,
        "id": "FJtAZss6U0VR"
      },
      "source": [
        "plot_history(history1)"
      ],
      "execution_count": null,
      "outputs": []
    },
    {
      "cell_type": "code",
      "metadata": {
        "execution": {
          "iopub.status.busy": "2021-12-03T08:35:00.307383Z",
          "iopub.execute_input": "2021-12-03T08:35:00.30764Z",
          "iopub.status.idle": "2021-12-03T08:35:00.342125Z",
          "shell.execute_reply.started": "2021-12-03T08:35:00.307601Z",
          "shell.execute_reply": "2021-12-03T08:35:00.341037Z"
        },
        "trusted": true,
        "id": "5VkiS1NPU0VR"
      },
      "source": [
        "tf.keras.backend.clear_session()"
      ],
      "execution_count": null,
      "outputs": []
    },
    {
      "cell_type": "markdown",
      "metadata": {
        "id": "UmKOJa--U0VS"
      },
      "source": [
        "## Bottleneck Resnet"
      ]
    },
    {
      "cell_type": "code",
      "metadata": {
        "execution": {
          "iopub.status.busy": "2021-12-03T08:35:00.345368Z",
          "iopub.execute_input": "2021-12-03T08:35:00.345799Z",
          "iopub.status.idle": "2021-12-03T08:35:00.356889Z",
          "shell.execute_reply.started": "2021-12-03T08:35:00.345752Z",
          "shell.execute_reply": "2021-12-03T08:35:00.355665Z"
        },
        "trusted": true,
        "id": "Y6YMa3XHU0VS"
      },
      "source": [
        "class BottleNeckLayer(tf.keras.models.Model):\n",
        "    def __init__(self,out_channels,n_conv=3,ratio=2,kernel_size=3,strides=1):\n",
        "        super().__init__()\n",
        "        self.model=[]\n",
        "        intermediate_filters=int(out_channels/ratio)\n",
        "        self.model.append(layers.Conv2D(filters=intermediate_filters,kernel_size=1,strides=1,activation='relu',padding='same'))\n",
        "        for i in range(n_conv):\n",
        "            self.model.append(layers.Conv2D(filters=intermediate_filters,kernel_size=kernel_size,strides=strides,activation='relu',padding='same'))\n",
        "            self.model.append(layers.BatchNormalization())\n",
        "        self.model.append(layers.Conv2D(filters=out_channels,kernel_size=1,strides=1,activation='relu',padding='same'))\n",
        "        self.model=tf.keras.models.Sequential(self.model)\n",
        "    def call(self,inputs):\n",
        "        out=self.model(inputs)\n",
        "        out=layers.Concatenate()([inputs,out])\n",
        "        return tf.keras.activations.relu(out)"
      ],
      "execution_count": null,
      "outputs": []
    },
    {
      "cell_type": "code",
      "metadata": {
        "execution": {
          "iopub.status.busy": "2021-12-03T08:35:00.359191Z",
          "iopub.execute_input": "2021-12-03T08:35:00.35951Z",
          "iopub.status.idle": "2021-12-03T08:35:00.372566Z",
          "shell.execute_reply.started": "2021-12-03T08:35:00.35946Z",
          "shell.execute_reply": "2021-12-03T08:35:00.371071Z"
        },
        "trusted": true,
        "id": "_4F4lmozU0VS"
      },
      "source": [
        "def build_model_bottleneck_resnet(size=target_size[0],n_conv=4,ratio=2):\n",
        "    steps=int(np.log2(size))\n",
        "    model=[]\n",
        "    out_channels=16\n",
        "    model.append(layers.Input(shape=(size,size,3)))\n",
        "    model.append(layers.Conv2D(filters=out_channels,kernel_size=1,strides=1,activation='relu',padding='same'))\n",
        "    for i in range(steps):\n",
        "        model.append(BottleNeckLayer(out_channels=out_channels,n_conv=n_conv,ratio=ratio))\n",
        "        model.append(lrn_layer)\n",
        "        model.append(layers.AvgPool2D(pool_size=2,strides=2))\n",
        "        out_channels*=2\n",
        "    model+=[\n",
        "        layers.Flatten(),\n",
        "        layers.Dense(units=4096,activation='relu'),\n",
        "        layers.Dense(units=4096,activation='relu'),\n",
        "        layers.Dense(units=len(labels),activation='softmax')\n",
        "    ]\n",
        "    return tf.keras.models.Sequential(model)"
      ],
      "execution_count": null,
      "outputs": []
    },
    {
      "cell_type": "code",
      "metadata": {
        "execution": {
          "iopub.status.busy": "2021-12-03T08:35:00.374031Z",
          "iopub.execute_input": "2021-12-03T08:35:00.374854Z",
          "iopub.status.idle": "2021-12-03T08:35:01.687003Z",
          "shell.execute_reply.started": "2021-12-03T08:35:00.374809Z",
          "shell.execute_reply": "2021-12-03T08:35:01.685934Z"
        },
        "trusted": true,
        "id": "Bni8sEUpU0VS"
      },
      "source": [
        "model=build_model_bottleneck_resnet(size=target_size[0])"
      ],
      "execution_count": null,
      "outputs": []
    },
    {
      "cell_type": "code",
      "metadata": {
        "execution": {
          "iopub.status.busy": "2021-12-03T08:35:01.688964Z",
          "iopub.execute_input": "2021-12-03T08:35:01.689271Z",
          "iopub.status.idle": "2021-12-03T08:35:01.720435Z",
          "shell.execute_reply.started": "2021-12-03T08:35:01.689229Z",
          "shell.execute_reply": "2021-12-03T08:35:01.719501Z"
        },
        "trusted": true,
        "id": "dR2Akj4tU0VS"
      },
      "source": [
        "model.summary()"
      ],
      "execution_count": null,
      "outputs": []
    },
    {
      "cell_type": "code",
      "metadata": {
        "execution": {
          "iopub.status.busy": "2021-12-03T08:35:01.721797Z",
          "iopub.execute_input": "2021-12-03T08:35:01.722405Z",
          "iopub.status.idle": "2021-12-03T08:35:01.732637Z",
          "shell.execute_reply.started": "2021-12-03T08:35:01.722301Z",
          "shell.execute_reply": "2021-12-03T08:35:01.731036Z"
        },
        "trusted": true,
        "id": "usPL79OWU0VS"
      },
      "source": [
        "ckpt_path2='/kaggle/model_checkpoint2'\n",
        "if not os.path.isdir(ckpt_path2):\n",
        "    os.mkdir(ckpt_path2)"
      ],
      "execution_count": null,
      "outputs": []
    },
    {
      "cell_type": "code",
      "metadata": {
        "execution": {
          "iopub.status.busy": "2021-12-03T08:35:01.734987Z",
          "iopub.execute_input": "2021-12-03T08:35:01.73614Z",
          "iopub.status.idle": "2021-12-03T08:35:01.74355Z",
          "shell.execute_reply.started": "2021-12-03T08:35:01.736082Z",
          "shell.execute_reply": "2021-12-03T08:35:01.742419Z"
        },
        "trusted": true,
        "id": "fwaVJIaoU0VS"
      },
      "source": [
        "model_checkpoint=ModelCheckpoint(\n",
        "    filepath=ckpt_path2,monitor='val_accuracy',\n",
        "    save_best_only=True,save_weights_only=True,\n",
        "    mode='max'\n",
        ")"
      ],
      "execution_count": null,
      "outputs": []
    },
    {
      "cell_type": "code",
      "metadata": {
        "execution": {
          "iopub.status.busy": "2021-12-03T08:35:01.745271Z",
          "iopub.execute_input": "2021-12-03T08:35:01.745703Z",
          "iopub.status.idle": "2021-12-03T08:35:01.762717Z",
          "shell.execute_reply.started": "2021-12-03T08:35:01.745656Z",
          "shell.execute_reply": "2021-12-03T08:35:01.761662Z"
        },
        "trusted": true,
        "id": "IJ7leKMAU0VT"
      },
      "source": [
        "model.compile(optimizer=Adam(learning_rate=0.0003),loss='categorical_crossentropy',metrics=['accuracy'])"
      ],
      "execution_count": null,
      "outputs": []
    },
    {
      "cell_type": "code",
      "metadata": {
        "execution": {
          "iopub.status.busy": "2021-12-03T08:35:01.764726Z",
          "iopub.execute_input": "2021-12-03T08:35:01.765132Z",
          "iopub.status.idle": "2021-12-03T08:57:31.064363Z",
          "shell.execute_reply.started": "2021-12-03T08:35:01.765072Z",
          "shell.execute_reply": "2021-12-03T08:57:31.063326Z"
        },
        "trusted": true,
        "id": "vIQ-KIo2U0VT"
      },
      "source": [
        "history2=model.fit(\n",
        "    x=train_data,batch_size=batch_size,epochs=epochs,\n",
        "    callbacks=[model_checkpoint],validation_data=valid_data\n",
        ")"
      ],
      "execution_count": null,
      "outputs": []
    },
    {
      "cell_type": "code",
      "metadata": {
        "execution": {
          "iopub.status.busy": "2021-12-03T08:57:31.066301Z",
          "iopub.execute_input": "2021-12-03T08:57:31.066581Z",
          "iopub.status.idle": "2021-12-03T08:59:19.809167Z",
          "shell.execute_reply.started": "2021-12-03T08:57:31.06654Z",
          "shell.execute_reply": "2021-12-03T08:59:19.806456Z"
        },
        "trusted": true,
        "id": "oEP66vf8U0VT"
      },
      "source": [
        "print(f'The accuracy of the model on test set is {accuracy(test_data)}')"
      ],
      "execution_count": null,
      "outputs": []
    },
    {
      "cell_type": "code",
      "metadata": {
        "execution": {
          "iopub.status.busy": "2021-12-03T08:59:19.811196Z",
          "iopub.execute_input": "2021-12-03T08:59:19.811925Z",
          "iopub.status.idle": "2021-12-03T08:59:20.471697Z",
          "shell.execute_reply.started": "2021-12-03T08:59:19.811877Z",
          "shell.execute_reply": "2021-12-03T08:59:20.470732Z"
        },
        "trusted": true,
        "id": "S7t82EPBU0VT"
      },
      "source": [
        "model.load_weights(ckpt_path2)"
      ],
      "execution_count": null,
      "outputs": []
    },
    {
      "cell_type": "code",
      "metadata": {
        "execution": {
          "iopub.status.busy": "2021-12-03T08:59:20.473323Z",
          "iopub.execute_input": "2021-12-03T08:59:20.473879Z",
          "iopub.status.idle": "2021-12-03T09:01:09.66263Z",
          "shell.execute_reply.started": "2021-12-03T08:59:20.473809Z",
          "shell.execute_reply": "2021-12-03T09:01:09.661559Z"
        },
        "trusted": true,
        "id": "0Fn4e858U0VT"
      },
      "source": [
        "print(f'The accuracy of the model with MCDropout on test set is {accuracy(test_data)}')"
      ],
      "execution_count": null,
      "outputs": []
    },
    {
      "cell_type": "code",
      "metadata": {
        "execution": {
          "iopub.status.busy": "2021-12-03T09:01:09.664827Z",
          "iopub.execute_input": "2021-12-03T09:01:09.666046Z",
          "iopub.status.idle": "2021-12-03T09:01:09.997026Z",
          "shell.execute_reply.started": "2021-12-03T09:01:09.665999Z",
          "shell.execute_reply": "2021-12-03T09:01:09.996043Z"
        },
        "trusted": true,
        "id": "uXi17Wb3U0VT"
      },
      "source": [
        "plot_history(history2)"
      ],
      "execution_count": null,
      "outputs": []
    },
    {
      "cell_type": "code",
      "metadata": {
        "execution": {
          "iopub.status.busy": "2021-12-03T09:01:09.998567Z",
          "iopub.execute_input": "2021-12-03T09:01:09.999021Z",
          "iopub.status.idle": "2021-12-03T09:01:10.031757Z",
          "shell.execute_reply.started": "2021-12-03T09:01:09.998973Z",
          "shell.execute_reply": "2021-12-03T09:01:10.030804Z"
        },
        "trusted": true,
        "id": "lTdiawdhU0VT"
      },
      "source": [
        "tf.keras.backend.clear_session()"
      ],
      "execution_count": null,
      "outputs": []
    },
    {
      "cell_type": "markdown",
      "metadata": {
        "id": "UAIe7FHBU0VT"
      },
      "source": [
        "## Resnet"
      ]
    },
    {
      "cell_type": "code",
      "metadata": {
        "execution": {
          "iopub.status.busy": "2021-12-03T09:01:10.034807Z",
          "iopub.execute_input": "2021-12-03T09:01:10.0352Z",
          "iopub.status.idle": "2021-12-03T09:01:10.047491Z",
          "shell.execute_reply.started": "2021-12-03T09:01:10.035154Z",
          "shell.execute_reply": "2021-12-03T09:01:10.046396Z"
        },
        "trusted": true,
        "id": "rVOgEb-MU0VT"
      },
      "source": [
        "def build_model_resnet(target_size,n_conv=4,rate=0.45):\n",
        "    model=[]\n",
        "    steps=int(np.log2(target_size[0]))\n",
        "    model.append(layers.Input(shape=(*target_size,3)))\n",
        "    filters=8\n",
        "    for _ in range(steps):\n",
        "        model.append(ResnetLayer(filters=filters,n_conv=n_conv))\n",
        "        model.append(lrn_layer)\n",
        "        model.append(layers.AvgPool2D(\n",
        "            pool_size=2,\n",
        "            strides=2\n",
        "        ))\n",
        "        filters*=2\n",
        "    model+=[\n",
        "        layers.Flatten(),\n",
        "        MCDropout(rate),\n",
        "        layers.Dense(units=4096,activation='relu'),\n",
        "        MCDropout(rate),\n",
        "        layers.Dense(units=4096,activation='relu'),\n",
        "        layers.Dense(units=len(labels),activation='softmax'),\n",
        "    ]\n",
        "    return tf.keras.models.Sequential(model)"
      ],
      "execution_count": null,
      "outputs": []
    },
    {
      "cell_type": "code",
      "metadata": {
        "execution": {
          "iopub.status.busy": "2021-12-03T09:01:10.049291Z",
          "iopub.execute_input": "2021-12-03T09:01:10.049915Z",
          "iopub.status.idle": "2021-12-03T09:01:10.622158Z",
          "shell.execute_reply.started": "2021-12-03T09:01:10.049829Z",
          "shell.execute_reply": "2021-12-03T09:01:10.621165Z"
        },
        "trusted": true,
        "id": "53Qi_Un-U0VU"
      },
      "source": [
        "model=build_model_resnet(target_size=target_size)"
      ],
      "execution_count": null,
      "outputs": []
    },
    {
      "cell_type": "code",
      "metadata": {
        "execution": {
          "iopub.status.busy": "2021-12-03T09:01:10.62387Z",
          "iopub.execute_input": "2021-12-03T09:01:10.624195Z",
          "iopub.status.idle": "2021-12-03T09:01:10.654559Z",
          "shell.execute_reply.started": "2021-12-03T09:01:10.624152Z",
          "shell.execute_reply": "2021-12-03T09:01:10.653605Z"
        },
        "trusted": true,
        "id": "R6ulYZsQU0VU"
      },
      "source": [
        "model.summary()"
      ],
      "execution_count": null,
      "outputs": []
    },
    {
      "cell_type": "code",
      "metadata": {
        "execution": {
          "iopub.status.busy": "2021-12-03T09:01:10.656053Z",
          "iopub.execute_input": "2021-12-03T09:01:10.656386Z",
          "iopub.status.idle": "2021-12-03T09:01:10.662384Z",
          "shell.execute_reply.started": "2021-12-03T09:01:10.65634Z",
          "shell.execute_reply": "2021-12-03T09:01:10.661387Z"
        },
        "trusted": true,
        "id": "b0OjGY6rU0VU"
      },
      "source": [
        "ckpt_path3='/kaggle/model_checkpoint3'\n",
        "if not os.path.isdir(ckpt_path3):\n",
        "    os.mkdir(ckpt_path3)"
      ],
      "execution_count": null,
      "outputs": []
    },
    {
      "cell_type": "code",
      "metadata": {
        "execution": {
          "iopub.status.busy": "2021-12-03T09:01:10.663584Z",
          "iopub.execute_input": "2021-12-03T09:01:10.663999Z",
          "iopub.status.idle": "2021-12-03T09:01:10.674646Z",
          "shell.execute_reply.started": "2021-12-03T09:01:10.663953Z",
          "shell.execute_reply": "2021-12-03T09:01:10.673578Z"
        },
        "trusted": true,
        "id": "ob-jrgwAU0VU"
      },
      "source": [
        "model_checkpoint=ModelCheckpoint(\n",
        "    filepath=ckpt_path3,monitor='val_accuracy',\n",
        "    save_best_only=True,save_weights_only=True,\n",
        "    mode='max'\n",
        ")"
      ],
      "execution_count": null,
      "outputs": []
    },
    {
      "cell_type": "code",
      "metadata": {
        "execution": {
          "iopub.status.busy": "2021-12-03T09:01:10.676074Z",
          "iopub.execute_input": "2021-12-03T09:01:10.676575Z",
          "iopub.status.idle": "2021-12-03T09:01:10.693949Z",
          "shell.execute_reply.started": "2021-12-03T09:01:10.676442Z",
          "shell.execute_reply": "2021-12-03T09:01:10.692974Z"
        },
        "trusted": true,
        "id": "OMSMkOdCU0VU"
      },
      "source": [
        "model.compile(optimizer=Adam(learning_rate=0.0003),loss='categorical_crossentropy',metrics=['accuracy'])"
      ],
      "execution_count": null,
      "outputs": []
    },
    {
      "cell_type": "code",
      "metadata": {
        "execution": {
          "iopub.status.busy": "2021-12-03T09:01:10.695517Z",
          "iopub.execute_input": "2021-12-03T09:01:10.696005Z",
          "iopub.status.idle": "2021-12-03T09:22:24.249525Z",
          "shell.execute_reply.started": "2021-12-03T09:01:10.695958Z",
          "shell.execute_reply": "2021-12-03T09:22:24.248515Z"
        },
        "trusted": true,
        "id": "kkL0SIhzU0VU"
      },
      "source": [
        "history3=model.fit(\n",
        "    x=train_data,batch_size=batch_size,epochs=epochs,\n",
        "    callbacks=[model_checkpoint],validation_data=valid_data\n",
        ")"
      ],
      "execution_count": null,
      "outputs": []
    },
    {
      "cell_type": "code",
      "metadata": {
        "execution": {
          "iopub.status.busy": "2021-12-03T09:22:24.251384Z",
          "iopub.execute_input": "2021-12-03T09:22:24.253938Z",
          "iopub.status.idle": "2021-12-03T09:24:08.845248Z",
          "shell.execute_reply.started": "2021-12-03T09:22:24.253903Z",
          "shell.execute_reply": "2021-12-03T09:24:08.844201Z"
        },
        "trusted": true,
        "id": "Pa4vDiiGU0VU"
      },
      "source": [
        "print(f'The accuracy of the model on test set is {accuracy(test_data)}')"
      ],
      "execution_count": null,
      "outputs": []
    },
    {
      "cell_type": "code",
      "metadata": {
        "execution": {
          "iopub.status.busy": "2021-12-03T09:24:08.847309Z",
          "iopub.execute_input": "2021-12-03T09:24:08.847892Z",
          "iopub.status.idle": "2021-12-03T09:24:09.405016Z",
          "shell.execute_reply.started": "2021-12-03T09:24:08.847827Z",
          "shell.execute_reply": "2021-12-03T09:24:09.403896Z"
        },
        "trusted": true,
        "id": "gxWRwhWYU0VU"
      },
      "source": [
        "model.load_weights(ckpt_path3)"
      ],
      "execution_count": null,
      "outputs": []
    },
    {
      "cell_type": "code",
      "metadata": {
        "execution": {
          "iopub.status.busy": "2021-12-03T09:24:09.408662Z",
          "iopub.execute_input": "2021-12-03T09:24:09.409414Z",
          "iopub.status.idle": "2021-12-03T09:25:54.677338Z",
          "shell.execute_reply.started": "2021-12-03T09:24:09.409378Z",
          "shell.execute_reply": "2021-12-03T09:25:54.675339Z"
        },
        "trusted": true,
        "id": "0HhMDl5WU0VV"
      },
      "source": [
        "print(f'The accuracy of the model with MCDropout on test set is {accuracy(test_data)}')"
      ],
      "execution_count": null,
      "outputs": []
    },
    {
      "cell_type": "code",
      "metadata": {
        "execution": {
          "iopub.status.busy": "2021-12-03T09:25:54.679276Z",
          "iopub.execute_input": "2021-12-03T09:25:54.679809Z",
          "iopub.status.idle": "2021-12-03T09:25:54.985759Z",
          "shell.execute_reply.started": "2021-12-03T09:25:54.679762Z",
          "shell.execute_reply": "2021-12-03T09:25:54.984806Z"
        },
        "trusted": true,
        "id": "RH9Nk33YU0VV"
      },
      "source": [
        "plot_history(history3)"
      ],
      "execution_count": null,
      "outputs": []
    },
    {
      "cell_type": "code",
      "metadata": {
        "execution": {
          "iopub.status.busy": "2021-12-03T09:25:54.987593Z",
          "iopub.execute_input": "2021-12-03T09:25:54.988317Z",
          "iopub.status.idle": "2021-12-03T09:25:55.018155Z",
          "shell.execute_reply.started": "2021-12-03T09:25:54.988256Z",
          "shell.execute_reply": "2021-12-03T09:25:55.017206Z"
        },
        "trusted": true,
        "id": "2EOsmYyZU0VV"
      },
      "source": [
        "tf.keras.backend.clear_session()"
      ],
      "execution_count": null,
      "outputs": []
    },
    {
      "cell_type": "markdown",
      "metadata": {
        "id": "-MRNmCzPU0VV"
      },
      "source": [
        "## SE-Resnet"
      ]
    },
    {
      "cell_type": "code",
      "metadata": {
        "execution": {
          "iopub.status.busy": "2021-12-03T09:25:55.021174Z",
          "iopub.execute_input": "2021-12-03T09:25:55.021524Z",
          "iopub.status.idle": "2021-12-03T09:25:55.027205Z",
          "shell.execute_reply.started": "2021-12-03T09:25:55.021453Z",
          "shell.execute_reply": "2021-12-03T09:25:55.026094Z"
        },
        "trusted": true,
        "id": "f2-Un1cSU0VV"
      },
      "source": [
        "np_config.enable_numpy_behavior()"
      ],
      "execution_count": null,
      "outputs": []
    },
    {
      "cell_type": "code",
      "metadata": {
        "execution": {
          "iopub.status.busy": "2021-12-03T09:25:55.029166Z",
          "iopub.execute_input": "2021-12-03T09:25:55.029935Z",
          "iopub.status.idle": "2021-12-03T09:25:55.039878Z",
          "shell.execute_reply.started": "2021-12-03T09:25:55.029887Z",
          "shell.execute_reply": "2021-12-03T09:25:55.038713Z"
        },
        "trusted": true,
        "id": "4aX2Em3PU0VV"
      },
      "source": [
        "class ConvStack(layers.Layer):\n",
        "    def __init__(self,filters,n_conv=4,kernel_size=3,strides=1,**kwargs):\n",
        "        super().__init__(**kwargs)\n",
        "        self.resnet_layers=[]\n",
        "        for _ in range(n_conv):\n",
        "            self.resnet_layers.append(layers.Conv2D(\n",
        "                filters=filters,kernel_size=kernel_size,\n",
        "                strides=1,padding='same',activation='relu'\n",
        "            ))\n",
        "            self.resnet_layers.append(layers.BatchNormalization())\n",
        "    def call(self,inputs):\n",
        "        output=inputs\n",
        "        for resnet_layer in self.resnet_layers:\n",
        "            output=resnet_layer(output)\n",
        "        return output"
      ],
      "execution_count": null,
      "outputs": []
    },
    {
      "cell_type": "code",
      "metadata": {
        "execution": {
          "iopub.status.busy": "2021-12-03T09:25:55.04168Z",
          "iopub.execute_input": "2021-12-03T09:25:55.042084Z",
          "iopub.status.idle": "2021-12-03T09:25:55.056368Z",
          "shell.execute_reply.started": "2021-12-03T09:25:55.042039Z",
          "shell.execute_reply": "2021-12-03T09:25:55.055177Z"
        },
        "trusted": true,
        "id": "s3kRWHGIU0VV"
      },
      "source": [
        "class SE_block(layers.Layer):\n",
        "    def __init__(self,output_channels,**kwargs):\n",
        "        super().__init__(**kwargs)\n",
        "        self.block=[]\n",
        "        self.block.append(layers.GlobalAveragePooling2D())\n",
        "        if output_channels<128:\n",
        "            self.block.append(layers.Dense(units=int(output_channels)/2,activation='relu'))\n",
        "        else:\n",
        "            self.block.append(layers.Dense(units=int(output_channels)/16,activation='relu'))\n",
        "        self.block.append(layers.Dense(units=output_channels,activation='sigmoid'))\n",
        "        self.out_channels=output_channels\n",
        "    def call(self,inputs):\n",
        "        output=inputs\n",
        "        for block_layer in self.block:\n",
        "            output=block_layer(output)\n",
        "        outputs=output.reshape(inputs.shape[0],1,1,self.out_channels)\n",
        "        outputs=layers.Multiply()([inputs,outputs])\n",
        "        return outputs"
      ],
      "execution_count": null,
      "outputs": []
    },
    {
      "cell_type": "code",
      "metadata": {
        "execution": {
          "iopub.status.busy": "2021-12-03T09:25:55.05773Z",
          "iopub.execute_input": "2021-12-03T09:25:55.058862Z",
          "iopub.status.idle": "2021-12-03T09:25:55.069275Z",
          "shell.execute_reply.started": "2021-12-03T09:25:55.05879Z",
          "shell.execute_reply": "2021-12-03T09:25:55.06818Z"
        },
        "trusted": true,
        "id": "KhVUXKGWU0VV"
      },
      "source": [
        "class SEResnet(layers.Layer):\n",
        "    def __init__(self,filters,kernel_size=3,strides=1,n_conv=4,**kwargs):\n",
        "        super().__init__(**kwargs)\n",
        "        self.hidden_layers=[]\n",
        "        self.hidden_layers.append(ConvStack(\n",
        "            filters=filters,n_conv=n_conv,\n",
        "            kernel_size=kernel_size,strides=strides\n",
        "        ))\n",
        "        self.hidden_layers.append(SE_block(output_channels=filters))\n",
        "    def call(self,inputs):\n",
        "        output=inputs\n",
        "        for hidden_layer in self.hidden_layers:\n",
        "            output=hidden_layer(output)\n",
        "        output=layers.Concatenate()([output,inputs])\n",
        "        return tf.keras.activations.relu(output)"
      ],
      "execution_count": null,
      "outputs": []
    },
    {
      "cell_type": "code",
      "metadata": {
        "execution": {
          "iopub.status.busy": "2021-12-03T09:25:55.070729Z",
          "iopub.execute_input": "2021-12-03T09:25:55.071293Z",
          "iopub.status.idle": "2021-12-03T09:25:55.087026Z",
          "shell.execute_reply.started": "2021-12-03T09:25:55.071247Z",
          "shell.execute_reply": "2021-12-03T09:25:55.086054Z"
        },
        "trusted": true,
        "id": "MukHnMU2U0VV"
      },
      "source": [
        "def build_model_se_net(n_conv=4,rate=0.45,target_size=target_size):\n",
        "    steps=int(np.log2(int(target_size[0])))\n",
        "    inputs=layers.Input(shape=(*target_size,3),batch_size=batch_size)\n",
        "    filters=8\n",
        "    model=SEResnet(filters=filters,n_conv=n_conv)(inputs)\n",
        "    model=layers.AvgPool2D(pool_size=2,strides=2)(model)\n",
        "    model=layers.Lambda(lrn_layer)(model)\n",
        "    for _ in tqdm(range(steps-1)):\n",
        "        filters*=2\n",
        "        model=SEResnet(filters=filters,n_conv=n_conv)(model)\n",
        "        model=layers.AvgPool2D(pool_size=2,strides=2)(model)\n",
        "        model=layers.Lambda(lrn_layer)(model)\n",
        "    model=MCDropout(rate)(model)\n",
        "    model=layers.Conv2D(\n",
        "        filters=4096,kernel_size=1,\n",
        "        padding='valid',strides=1\n",
        "    )(model)\n",
        "    model=MCDropout(rate)(model)\n",
        "    model=layers.Conv2D(\n",
        "        filters=4096,kernel_size=1,\n",
        "        padding='valid',strides=1\n",
        "    )(model)\n",
        "    model=layers.Flatten()(model)\n",
        "    model=layers.Dense(units=len(labels),activation='softmax')(model)\n",
        "    model=tf.keras.models.Model(inputs=inputs,outputs=model)\n",
        "    model.compile(optimizer=Adam(learning_rate=0.0003),loss='categorical_crossentropy',metrics=['accuracy'])\n",
        "    return model"
      ],
      "execution_count": null,
      "outputs": []
    },
    {
      "cell_type": "code",
      "metadata": {
        "execution": {
          "iopub.status.busy": "2021-12-03T09:25:55.088517Z",
          "iopub.execute_input": "2021-12-03T09:25:55.08903Z",
          "iopub.status.idle": "2021-12-03T09:25:55.989722Z",
          "shell.execute_reply.started": "2021-12-03T09:25:55.088984Z",
          "shell.execute_reply": "2021-12-03T09:25:55.988675Z"
        },
        "trusted": true,
        "id": "nIPNgJ1kU0VW"
      },
      "source": [
        "model=build_model_se_net(target_size=target_size)"
      ],
      "execution_count": null,
      "outputs": []
    },
    {
      "cell_type": "code",
      "metadata": {
        "execution": {
          "iopub.status.busy": "2021-12-03T09:25:55.99147Z",
          "iopub.execute_input": "2021-12-03T09:25:55.992015Z",
          "iopub.status.idle": "2021-12-03T09:25:56.027982Z",
          "shell.execute_reply.started": "2021-12-03T09:25:55.99197Z",
          "shell.execute_reply": "2021-12-03T09:25:56.026904Z"
        },
        "trusted": true,
        "id": "Jlvp9hiQU0VW"
      },
      "source": [
        "model.summary()"
      ],
      "execution_count": null,
      "outputs": []
    },
    {
      "cell_type": "code",
      "metadata": {
        "execution": {
          "iopub.status.busy": "2021-12-03T09:25:56.029995Z",
          "iopub.execute_input": "2021-12-03T09:25:56.030296Z",
          "iopub.status.idle": "2021-12-03T09:25:56.036483Z",
          "shell.execute_reply.started": "2021-12-03T09:25:56.030252Z",
          "shell.execute_reply": "2021-12-03T09:25:56.035335Z"
        },
        "trusted": true,
        "id": "y4sMeLD8U0VW"
      },
      "source": [
        "ckpt_path4='/kaggle/ckpt'\n",
        "if not os.path.isdir(ckpt_path4):\n",
        "    os.mkdir(ckpt_path4)"
      ],
      "execution_count": null,
      "outputs": []
    },
    {
      "cell_type": "code",
      "metadata": {
        "execution": {
          "iopub.status.busy": "2021-12-03T09:25:56.038142Z",
          "iopub.execute_input": "2021-12-03T09:25:56.0392Z",
          "iopub.status.idle": "2021-12-03T09:25:56.047755Z",
          "shell.execute_reply.started": "2021-12-03T09:25:56.039046Z",
          "shell.execute_reply": "2021-12-03T09:25:56.046769Z"
        },
        "trusted": true,
        "id": "LDJsvLPEU0VW"
      },
      "source": [
        "model_checkpoint=ModelCheckpoint(\n",
        "    filepath=ckpt_path4,monitor='val_accuracy',\n",
        "    save_best_only=True,save_weights_only=True,\n",
        "    mode='max'\n",
        ")"
      ],
      "execution_count": null,
      "outputs": []
    },
    {
      "cell_type": "code",
      "metadata": {
        "execution": {
          "iopub.status.busy": "2021-12-03T09:25:56.049422Z",
          "iopub.execute_input": "2021-12-03T09:25:56.050208Z",
          "iopub.status.idle": "2021-12-03T09:25:56.060922Z",
          "shell.execute_reply.started": "2021-12-03T09:25:56.050162Z",
          "shell.execute_reply": "2021-12-03T09:25:56.059706Z"
        },
        "trusted": true,
        "id": "e4n1K1ALU0VW"
      },
      "source": [
        "tf.config.run_functions_eagerly(True)"
      ],
      "execution_count": null,
      "outputs": []
    },
    {
      "cell_type": "code",
      "metadata": {
        "execution": {
          "iopub.status.busy": "2021-12-03T09:25:56.062924Z",
          "iopub.execute_input": "2021-12-03T09:25:56.063422Z",
          "iopub.status.idle": "2021-12-03T10:43:09.542734Z",
          "shell.execute_reply.started": "2021-12-03T09:25:56.063376Z",
          "shell.execute_reply": "2021-12-03T10:43:09.54172Z"
        },
        "trusted": true,
        "id": "5SJ6GSE9U0VW"
      },
      "source": [
        "history4=model.fit(\n",
        "    x=train_data,batch_size=batch_size,epochs=epochs,\n",
        "    validation_data=valid_data,callbacks=[model_checkpoint]\n",
        ")"
      ],
      "execution_count": null,
      "outputs": []
    },
    {
      "cell_type": "code",
      "metadata": {
        "execution": {
          "iopub.status.busy": "2021-12-03T10:43:09.544712Z",
          "iopub.execute_input": "2021-12-03T10:43:09.545084Z",
          "iopub.status.idle": "2021-12-03T10:47:20.892541Z",
          "shell.execute_reply.started": "2021-12-03T10:43:09.545043Z",
          "shell.execute_reply": "2021-12-03T10:47:20.890916Z"
        },
        "trusted": true,
        "id": "ZPFgxU94U0VW"
      },
      "source": [
        "print(f'The accuracy of the model on test set is {accuracy(test_data)}')"
      ],
      "execution_count": null,
      "outputs": []
    },
    {
      "cell_type": "code",
      "metadata": {
        "execution": {
          "iopub.status.busy": "2021-12-03T10:47:20.896347Z",
          "iopub.execute_input": "2021-12-03T10:47:20.896691Z",
          "iopub.status.idle": "2021-12-03T10:47:21.587901Z",
          "shell.execute_reply.started": "2021-12-03T10:47:20.89665Z",
          "shell.execute_reply": "2021-12-03T10:47:21.586899Z"
        },
        "trusted": true,
        "id": "-RQMTxCvU0VW"
      },
      "source": [
        "model.load_weights(ckpt_path4)"
      ],
      "execution_count": null,
      "outputs": []
    },
    {
      "cell_type": "code",
      "metadata": {
        "execution": {
          "iopub.status.busy": "2021-12-03T10:47:21.590029Z",
          "iopub.execute_input": "2021-12-03T10:47:21.590969Z",
          "iopub.status.idle": "2021-12-03T10:51:35.721745Z",
          "shell.execute_reply.started": "2021-12-03T10:47:21.590892Z",
          "shell.execute_reply": "2021-12-03T10:51:35.720624Z"
        },
        "trusted": true,
        "id": "kh7uZbrEU0VW"
      },
      "source": [
        "print(f'The accuracy of the model with MCDropout on test set is {accuracy(test_data)}')"
      ],
      "execution_count": null,
      "outputs": []
    },
    {
      "cell_type": "code",
      "metadata": {
        "execution": {
          "iopub.status.busy": "2021-12-03T10:51:35.72391Z",
          "iopub.execute_input": "2021-12-03T10:51:35.724268Z",
          "iopub.status.idle": "2021-12-03T10:51:36.031058Z",
          "shell.execute_reply.started": "2021-12-03T10:51:35.724225Z",
          "shell.execute_reply": "2021-12-03T10:51:36.03009Z"
        },
        "trusted": true,
        "id": "33yBqUP-U0VX"
      },
      "source": [
        "plot_history(history4)"
      ],
      "execution_count": null,
      "outputs": []
    },
    {
      "cell_type": "code",
      "metadata": {
        "execution": {
          "iopub.status.busy": "2021-12-03T10:51:36.033092Z",
          "iopub.execute_input": "2021-12-03T10:51:36.033714Z",
          "iopub.status.idle": "2021-12-03T10:51:36.044427Z",
          "shell.execute_reply.started": "2021-12-03T10:51:36.033667Z",
          "shell.execute_reply": "2021-12-03T10:51:36.043276Z"
        },
        "trusted": true,
        "id": "l9vFjTPLU0VX"
      },
      "source": [
        "tf.keras.backend.clear_session()"
      ],
      "execution_count": null,
      "outputs": []
    },
    {
      "cell_type": "code",
      "metadata": {
        "execution": {
          "iopub.status.busy": "2021-12-03T10:51:36.047426Z",
          "iopub.execute_input": "2021-12-03T10:51:36.047895Z",
          "iopub.status.idle": "2021-12-03T10:51:36.336612Z",
          "shell.execute_reply.started": "2021-12-03T10:51:36.047822Z",
          "shell.execute_reply": "2021-12-03T10:51:36.335739Z"
        },
        "trusted": true,
        "id": "BJaVP3QFU0VX"
      },
      "source": [
        "googlenet_resnet_val_loss=history1.history['val_loss']\n",
        "bottleneck_resnet_val_loss=history2.history['val_loss']\n",
        "resnet_val_loss=history3.history['val_loss']\n",
        "se_resnet_val_loss=history4.history['val_loss']\n",
        "plt.figure()\n",
        "plt.plot(googlenet_resnet_val_loss,'bo--')\n",
        "plt.plot(bottleneck_resnet_val_loss,'ro--')\n",
        "plt.plot(resnet_val_loss,'go--')\n",
        "plt.plot(se_resnet_val_loss,'co--')\n",
        "plt.title('Model validation loss vs Epochs')\n",
        "plt.xlabel('Epoch')\n",
        "plt.ylabel('Validation Loss')\n",
        "plt.legend(['Googlenet Resnet','Bottleneck Resnet','Resnet','SE-resnet'])\n",
        "plt.show()"
      ],
      "execution_count": null,
      "outputs": []
    },
    {
      "cell_type": "code",
      "metadata": {
        "id": "E-Vaa6juU0VX"
      },
      "source": [
        ""
      ],
      "execution_count": null,
      "outputs": []
    }
  ]
}