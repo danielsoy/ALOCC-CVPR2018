{
  "cells": [
    {
      "cell_type": "markdown",
      "metadata": {
        "id": "view-in-github",
        "colab_type": "text"
      },
      "source": [
        "<a href=\"https://colab.research.google.com/github/danielsoy/ALOCC-CVPR2018/blob/master/mnist.ipynb\" target=\"_parent\"><img src=\"https://colab.research.google.com/assets/colab-badge.svg\" alt=\"Open In Colab\"/></a>"
      ]
    },
    {
      "cell_type": "code",
      "execution_count": 1,
      "metadata": {
        "id": "-pz3ZwSjk4cd"
      },
      "outputs": [],
      "source": [
        "import matplotlib.pyplot as plt\n",
        "import numpy as np\n",
        "import pandas as pd\n",
        "import tensorflow as tf\n",
        "\n",
        "from sklearn.metrics import accuracy_score, precision_score, recall_score\n",
        "from sklearn.model_selection import train_test_split\n",
        "from tensorflow.keras import layers, losses\n",
        "from tensorflow.keras.datasets import fashion_mnist\n",
        "from tensorflow.keras.models import Model"
      ]
    },
    {
      "cell_type": "code",
      "execution_count": 2,
      "metadata": {
        "colab": {
          "base_uri": "https://localhost:8080/"
        },
        "id": "yjyX_sU1k4ck",
        "outputId": "9ee07102-f630-491c-dea0-01e1674badca"
      },
      "outputs": [
        {
          "output_type": "stream",
          "name": "stdout",
          "text": [
            "Downloading data from https://storage.googleapis.com/tensorflow/tf-keras-datasets/train-labels-idx1-ubyte.gz\n",
            "32768/29515 [=================================] - 0s 0us/step\n",
            "40960/29515 [=========================================] - 0s 0us/step\n",
            "Downloading data from https://storage.googleapis.com/tensorflow/tf-keras-datasets/train-images-idx3-ubyte.gz\n",
            "26427392/26421880 [==============================] - 1s 0us/step\n",
            "26435584/26421880 [==============================] - 1s 0us/step\n",
            "Downloading data from https://storage.googleapis.com/tensorflow/tf-keras-datasets/t10k-labels-idx1-ubyte.gz\n",
            "16384/5148 [===============================================================================================] - 0s 0us/step\n",
            "Downloading data from https://storage.googleapis.com/tensorflow/tf-keras-datasets/t10k-images-idx3-ubyte.gz\n",
            "4423680/4422102 [==============================] - 0s 0us/step\n",
            "4431872/4422102 [==============================] - 0s 0us/step\n"
          ]
        }
      ],
      "source": [
        "(x_train, _), (x_test, _) = fashion_mnist.load_data()\n",
        "x_train = x_train.astype('float32') / 255.\n",
        "x_test = x_test.astype('float32') / 255.\n",
        "x_train = np.reshape(x_train, (len(x_train), 28, 28, 1))\n",
        "x_test = np.reshape(x_test, (len(x_test), 28, 28, 1))"
      ]
    },
    {
      "cell_type": "code",
      "execution_count": 3,
      "metadata": {
        "id": "GuZumlzZk4cl"
      },
      "outputs": [],
      "source": [
        "# Create the Encoder and Decoder\n",
        "#pass the gray scale input image of size(28,28,1)\n",
        "inputs = tf.keras.Input(shape=(28, 28, 1), name='input_layer')\n",
        "# Conv Block 1 -> BatchNorm->leaky Relu\n",
        "encoded = tf.keras.layers.Conv2D(32, kernel_size=3, strides= 1, padding='same', name='conv_1')(inputs)\n",
        "encoded = tf.keras.layers.BatchNormalization(name='batchnorm_1')(encoded)\n",
        "encoded = tf.keras.layers.LeakyReLU(name='leaky_relu_1')(encoded)\n",
        "# Conv Block 2 -> BatchNorm->leaky Relu\n",
        "encoded = tf.keras.layers.Conv2D(64, kernel_size=3, strides= 2, padding='same', name='conv_2')(encoded)\n",
        "encoded = tf.keras.layers.BatchNormalization(name='batchnorm_2')(encoded)\n",
        "encoded = tf.keras.layers.LeakyReLU(name='leaky_relu_2')(encoded)\n",
        "# Conv Block 3 -> BatchNorm->leaky Relu\n",
        "encoded = tf.keras.layers.Conv2D(64, kernel_size=3, strides=2, padding='same', name='conv_3')(encoded)\n",
        "encoded = tf.keras.layers.BatchNormalization(name='batchnorm_3')(encoded)\n",
        "encoded = tf.keras.layers.LeakyReLU(name='leaky_relu_3')(encoded)"
      ]
    },
    {
      "cell_type": "code",
      "execution_count": 4,
      "metadata": {
        "id": "miWnmukNk4cm"
      },
      "outputs": [],
      "source": [
        "#Decoder\n",
        "# DeConv Block 1-> BatchNorm->leaky Relu\n",
        "decoded = tf.keras.layers.Conv2DTranspose(64, 3, strides= 1, padding='same',name='conv_transpose_1')(encoded)\n",
        "decoded = tf.keras.layers.BatchNormalization(name='batchnorm_4')(decoded)\n",
        "decoded = tf.keras.layers.LeakyReLU(name='leaky_relu_4')(decoded)\n",
        "# DeConv Block 2-> BatchNorm->leaky Relu\n",
        "decoded = tf.keras.layers.Conv2DTranspose(64, 3, strides= 2, padding='same', name='conv_transpose_2')(decoded)\n",
        "decoded = tf.keras.layers.BatchNormalization(name='batchnorm_5')(decoded)\n",
        "decoded = tf.keras.layers.LeakyReLU(name='leaky_relu_5')(decoded)\n",
        "# DeConv Block 3-> BatchNorm->leaky Relu\n",
        "decoded = tf.keras.layers.Conv2DTranspose(32, 3, 2, padding='same', name='conv_transpose_3')(decoded)\n",
        "decoded = tf.keras.layers.BatchNormalization(name='batchnorm_6')(decoded)\n",
        "decoded = tf.keras.layers.LeakyReLU(name='leaky_relu_6')(decoded)\n",
        "# output\n",
        "outputs = tf.keras.layers.Conv2DTranspose(1, 3, 1,padding='same', activation='sigmoid', name='conv_transpose_4')(decoded)"
      ]
    },
    {
      "cell_type": "code",
      "execution_count": 5,
      "metadata": {
        "id": "hAARfVfhk4cn"
      },
      "outputs": [],
      "source": [
        "## Define SSIM loss function\n",
        "\n",
        "def SSIMLoss(y_true, y_pred):\n",
        "  return 1 - tf.reduce_mean(tf.image.ssim(y_true, y_pred,1.0))"
      ]
    },
    {
      "cell_type": "code",
      "execution_count": 6,
      "metadata": {
        "colab": {
          "base_uri": "https://localhost:8080/"
        },
        "id": "Gh8LpIm5k4cn",
        "outputId": "a7b5f342-4911-4592-9145-56a7d2971d8c"
      },
      "outputs": [
        {
          "output_type": "stream",
          "name": "stderr",
          "text": [
            "/usr/local/lib/python3.7/dist-packages/keras/optimizer_v2/adam.py:105: UserWarning: The `lr` argument is deprecated, use `learning_rate` instead.\n",
            "  super(Adam, self).__init__(name, **kwargs)\n"
          ]
        }
      ],
      "source": [
        "# Create the Autoencoder\n",
        "\n",
        "autoencoder = tf.keras.Model(inputs, outputs)\n",
        "optimizer = tf.keras.optimizers.Adam(lr = 0.0005)\n",
        "autoencoder.compile(optimizer=optimizer, loss=SSIMLoss)"
      ]
    },
    {
      "cell_type": "code",
      "execution_count": 7,
      "metadata": {
        "colab": {
          "base_uri": "https://localhost:8080/"
        },
        "id": "x49khv1xk4co",
        "outputId": "1a860646-c396-4f70-acdd-8861a07e581d"
      },
      "outputs": [
        {
          "output_type": "stream",
          "name": "stdout",
          "text": [
            "Epoch 1/10\n",
            "469/469 [==============================] - 32s 38ms/step - loss: 0.0867 - val_loss: 0.2431\n",
            "Epoch 2/10\n",
            "469/469 [==============================] - 17s 36ms/step - loss: 0.0247 - val_loss: 0.0217\n",
            "Epoch 3/10\n",
            "469/469 [==============================] - 17s 36ms/step - loss: 0.0176 - val_loss: 0.0171\n",
            "Epoch 4/10\n",
            "469/469 [==============================] - 17s 37ms/step - loss: 0.0147 - val_loss: 0.0201\n",
            "Epoch 5/10\n",
            "469/469 [==============================] - 17s 36ms/step - loss: 0.0125 - val_loss: 0.0119\n",
            "Epoch 6/10\n",
            "469/469 [==============================] - 17s 36ms/step - loss: 0.0114 - val_loss: 0.0119\n",
            "Epoch 7/10\n",
            "469/469 [==============================] - 17s 36ms/step - loss: 0.0102 - val_loss: 0.0117\n",
            "Epoch 8/10\n",
            "469/469 [==============================] - 17s 36ms/step - loss: 0.0095 - val_loss: 0.0120\n",
            "Epoch 9/10\n",
            "469/469 [==============================] - 17s 36ms/step - loss: 0.0086 - val_loss: 0.0092\n",
            "Epoch 10/10\n",
            "469/469 [==============================] - 17s 36ms/step - loss: 0.0083 - val_loss: 0.0100\n"
          ]
        }
      ],
      "source": [
        "# Train the Autoencoder\n",
        "\n",
        "hist=autoencoder.fit(x_train, x_train,\n",
        "                epochs=10,\n",
        "                batch_size=128,\n",
        "                shuffle=True,\n",
        "                validation_data=(x_test, x_test)\n",
        "                ) \n"
      ]
    },
    {
      "cell_type": "code",
      "execution_count": 8,
      "metadata": {
        "colab": {
          "base_uri": "https://localhost:8080/",
          "height": 230
        },
        "id": "vfI9-Jfyk4cp",
        "outputId": "fcbd6811-a789-4c7c-899e-382eedec67e5"
      },
      "outputs": [
        {
          "output_type": "display_data",
          "data": {
            "image/png": "[encoded data removed]",
            "text/plain": [
              "<Figure size 1440x288 with 20 Axes>"
            ]
          },
          "metadata": {
            "needs_background": "light"
          }
        }
      ],
      "source": [
        "# Reconstruct the Fashion MNIST images for the test data and visualize\n",
        "\n",
        "decoded_imgs = autoencoder.predict(x_test)\n",
        "n = 10\n",
        "plt.figure(figsize=(20, 4))\n",
        "for i in range(1, n + 1):\n",
        "    # Display original\n",
        "    ax = plt.subplot(2, n, i)\n",
        "    plt.imshow(x_test[i].reshape(28, 28))\n",
        "    plt.gray()\n",
        "    ax.get_xaxis().set_visible(False)\n",
        "    plt.title(\"Original\")\n",
        "    ax.get_yaxis().set_visible(False)\n",
        "    # Display reconstruction\n",
        "    ax = plt.subplot(2, n, i + n)\n",
        "    plt.title(\"Reconstructed\")\n",
        "    plt.imshow(decoded_imgs[i].reshape(28, 28))\n",
        "    plt.gray()\n",
        "    ax.get_xaxis().set_visible(False)\n",
        "    ax.get_yaxis().set_visible(False)\n",
        "plt.show()"
      ]
    },
    {
      "cell_type": "code",
      "execution_count": 9,
      "metadata": {
        "colab": {
          "base_uri": "https://localhost:8080/",
          "height": 235
        },
        "id": "SC1nr9xRk4cq",
        "outputId": "2b29e4ef-3058-4a4d-9348-2148f056ae75"
      },
      "outputs": [
        {
          "output_type": "error",
          "ename": "NameError",
          "evalue": "ignored",
          "traceback": [
            "\u001b[0;31m---------------------------------------------------------------------------\u001b[0m",
            "\u001b[0;31mNameError\u001b[0m                                 Traceback (most recent call last)",
            "\u001b[0;32m<ipython-input-9-b81f415f36f9>\u001b[0m in \u001b[0;36m<module>\u001b[0;34m()\u001b[0m\n\u001b[1;32m      5\u001b[0m \u001b[0mn\u001b[0m \u001b[0;34m=\u001b[0m \u001b[0;36m6\u001b[0m  \u001b[0;31m# how many encoded and decoded images we will display\u001b[0m\u001b[0;34m\u001b[0m\u001b[0;34m\u001b[0m\u001b[0m\n\u001b[1;32m      6\u001b[0m \u001b[0mdecoded_imgs\u001b[0m\u001b[0;34m=\u001b[0m \u001b[0mautoencoder\u001b[0m\u001b[0;34m.\u001b[0m\u001b[0mpredict\u001b[0m\u001b[0;34m(\u001b[0m\u001b[0mx_test\u001b[0m\u001b[0;34m)\u001b[0m\u001b[0;34m\u001b[0m\u001b[0;34m\u001b[0m\u001b[0m\n\u001b[0;32m----> 7\u001b[0;31m \u001b[0mdecoded_mnistimgs\u001b[0m\u001b[0;34m=\u001b[0m \u001b[0mautoencoder\u001b[0m\u001b[0;34m.\u001b[0m\u001b[0mpredict\u001b[0m\u001b[0;34m(\u001b[0m\u001b[0mx_mnisttest\u001b[0m\u001b[0;34m)\u001b[0m\u001b[0;34m\u001b[0m\u001b[0;34m\u001b[0m\u001b[0m\n\u001b[0m\u001b[1;32m      8\u001b[0m \u001b[0mplt\u001b[0m\u001b[0;34m.\u001b[0m\u001b[0mfigure\u001b[0m\u001b[0;34m(\u001b[0m\u001b[0mfigsize\u001b[0m\u001b[0;34m=\u001b[0m\u001b[0;34m(\u001b[0m\u001b[0;36m20\u001b[0m\u001b[0;34m,\u001b[0m \u001b[0;36m14\u001b[0m\u001b[0;34m)\u001b[0m\u001b[0;34m,\u001b[0m \u001b[0mdpi\u001b[0m\u001b[0;34m=\u001b[0m\u001b[0;36m100\u001b[0m\u001b[0;34m)\u001b[0m\u001b[0;34m\u001b[0m\u001b[0;34m\u001b[0m\u001b[0m\n\u001b[1;32m      9\u001b[0m \u001b[0mplt\u001b[0m\u001b[0;34m.\u001b[0m\u001b[0msubplots_adjust\u001b[0m\u001b[0;34m(\u001b[0m \u001b[0mwspace\u001b[0m\u001b[0;34m=\u001b[0m\u001b[0;36m0.1\u001b[0m\u001b[0;34m,\u001b[0m \u001b[0mhspace\u001b[0m\u001b[0;34m=\u001b[0m\u001b[0;36m0.07\u001b[0m\u001b[0;34m)\u001b[0m\u001b[0;34m\u001b[0m\u001b[0;34m\u001b[0m\u001b[0m\n",
            "\u001b[0;31mNameError\u001b[0m: name 'x_mnisttest' is not defined"
          ]
        }
      ],
      "source": [
        "# Finally, comparing the original data that the autoencoder\n",
        "# was trained on, the reconstructed image of trained data,\n",
        "# and prediction on the anomalous image using autoencoder.\n",
        "\n",
        "n = 6  # how many encoded and decoded images we will display\n",
        "decoded_imgs= autoencoder.predict(x_test)\n",
        "decoded_mnistimgs= autoencoder.predict(x_mnisttest)\n",
        "plt.figure(figsize=(20, 14), dpi=100)\n",
        "plt.subplots_adjust( wspace=0.1, hspace=0.07)\n",
        "plt_a=1\n",
        "for i in range(n):\n",
        "    # Original training dataset vs Original training\n",
        "    ax = plt.subplot(3, n, plt_a   )\n",
        "    plt.imshow(x_test[i].reshape(28,28))\n",
        "    ax.get_xaxis().set_visible(True)\n",
        "    ax.get_yaxis().set_visible(False)\n",
        "    value_a = SSIMLoss(x_test[i], x_test[i])\n",
        "    ax.set_title(\"Original Image\")\n",
        "    label = 'SSIM Loss value: {:.3f}'\n",
        "    ax.set_xlabel(label.format(value_a) )\n",
        "    \n",
        "    # Reconstructed good data  vs Original training data\n",
        "    ax = plt.subplot(3, n, plt_a + n )\n",
        "    plt.imshow(decoded_imgs[i].reshape(28,28))\n",
        "    ax.get_xaxis().set_visible(True)\n",
        "    ax.get_yaxis().set_visible(False)    \n",
        "    value_a = SSIMLoss(decoded_imgs[i], x_test[i])\n",
        "    ax.set_title(\"Reconstructed Image\")\n",
        "    label = 'SSIM Loss value: {:.3f}'\n",
        "    ax.set_xlabel(label.format(value_a) )\n",
        "    \n",
        "    # Reconstructed anomalous data  vs Original training data\n",
        "    ax = plt.subplot(3, n, plt_a + 2*n)\n",
        "    plt.imshow(decoded_mnistimgs[i].reshape(28,28))\n",
        "    ax.get_xaxis().set_visible(True)\n",
        "    ax.get_yaxis().set_visible(False)\n",
        "    value = SSIMLoss(decoded_mnistimgs[i], decoded_imgs[i])\n",
        "    label = 'SSIM Loss value: {:.3f}'\n",
        "    ax.set_title(\"Anamolus Image \" )\n",
        "    ax.set_xlabel(label.format(value) )\n",
        "    plt_a+=1\n",
        "plt.show()"
      ]
    }
  ],
  "metadata": {
    "interpreter": {
      "hash": "63b0c5c33a928e1ad4f2c0f556f27a186847427379d42404c2e0e30bd52cd791"
    },
    "kernelspec": {
      "display_name": "Python 3.9.7 64-bit ('base': conda)",
      "language": "python",
      "name": "python3"
    },
    "language_info": {
      "codemirror_mode": {
        "name": "ipython",
        "version": 3
      },
      "file_extension": ".py",
      "mimetype": "text/x-python",
      "name": "python",
      "nbconvert_exporter": "python",
      "pygments_lexer": "ipython3",
      "version": "3.9.7"
    },
    "orig_nbformat": 4,
    "colab": {
      "name": "mnist.ipynb",
      "provenance": [],
      "collapsed_sections": [],
      "include_colab_link": true
    },
    "accelerator": "GPU"
  },
  "nbformat": 4,
  "nbformat_minor": 0
}