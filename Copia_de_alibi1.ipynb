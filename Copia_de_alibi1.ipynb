{
  "cells": [
    {
      "cell_type": "markdown",
      "metadata": {
        "id": "view-in-github",
        "colab_type": "text"
      },
      "source": [
        "<a href=\"https://colab.research.google.com/github/danielsoy/ALOCC-CVPR2018/blob/master/Copia_de_alibi1.ipynb\" target=\"_parent\"><img src=\"https://colab.research.google.com/assets/colab-badge.svg\" alt=\"Open In Colab\"/></a>"
      ]
    },
    {
      "cell_type": "code",
      "execution_count": 2,
      "metadata": {
        "id": "Fl-NAckBZCvb"
      },
      "outputs": [],
      "source": [
        "import pandas as pd\n",
        "import numpy as np\n",
        "import matplotlib.pyplot as plt\n",
        "from PIL import Image\n",
        "import glob\n",
        "import os\n",
        "import shutil\n",
        "from collections import Counter\n",
        "import tensorflow as tf\n",
        "from tensorflow.keras.layers import Conv2D, Conv2DTranspose, UpSampling2D, Dense, Layer, Reshape, InputLayer, Flatten, Input, MaxPooling2D\n",
        "\n",
        "\n"
      ]
    },
    {
      "cell_type": "code",
      "source": [
        "!git clone https://github.com/SeldonIO/alibi-detect.git\n",
        "\n",
        "\n",
        "\n"
      ],
      "metadata": {
        "colab": {
          "base_uri": "https://localhost:8080/"
        },
        "id": "XxQx9zNQZavW",
        "outputId": "06090c45-391b-4365-e7bc-2331323c5bbb"
      },
      "execution_count": 3,
      "outputs": [
        {
          "output_type": "stream",
          "name": "stdout",
          "text": [
            "fatal: destination path 'alibi-detect' already exists and is not an empty directory.\n"
          ]
        }
      ]
    },
    {
      "cell_type": "code",
      "source": [
        "%cd /content/alibi-detect/alibi_detect/od"
      ],
      "metadata": {
        "colab": {
          "base_uri": "https://localhost:8080/"
        },
        "id": "Haxc9zqlaUlZ",
        "outputId": "d7b879c4-e6e9-43c7-b57a-d27c71d69ba8"
      },
      "execution_count": 4,
      "outputs": [
        {
          "output_type": "stream",
          "name": "stdout",
          "text": [
            "/content/alibi-detect/alibi_detect/od\n"
          ]
        }
      ]
    },
    {
      "cell_type": "code",
      "source": [
        "!pip install alibi-detect"
      ],
      "metadata": {
        "colab": {
          "base_uri": "https://localhost:8080/"
        },
        "id": "SjGwpKBnaD6h",
        "outputId": "b8bdca42-ade8-4895-dfd8-c1334c7508d4"
      },
      "execution_count": 5,
      "outputs": [
        {
          "output_type": "stream",
          "name": "stdout",
          "text": [
            "Requirement already satisfied: alibi-detect in /usr/local/lib/python3.7/dist-packages (0.8.0)\n",
            "Requirement already satisfied: Pillow<9.0.0,>=5.4.1 in /usr/local/lib/python3.7/dist-packages (from alibi-detect) (7.1.2)\n",
            "Requirement already satisfied: transformers<5.0.0,>=4.0.0 in /usr/local/lib/python3.7/dist-packages (from alibi-detect) (4.14.1)\n",
            "Requirement already satisfied: numpy<2.0.0,>=1.16.2 in /usr/local/lib/python3.7/dist-packages (from alibi-detect) (1.19.5)\n",
            "Requirement already satisfied: matplotlib<4.0.0,>=3.0.0 in /usr/local/lib/python3.7/dist-packages (from alibi-detect) (3.2.2)\n",
            "Requirement already satisfied: scipy<2.0.0,>=1.3.0 in /usr/local/lib/python3.7/dist-packages (from alibi-detect) (1.4.1)\n",
            "Requirement already satisfied: pandas<2.0.0,>=0.23.3 in /usr/local/lib/python3.7/dist-packages (from alibi-detect) (1.1.5)\n",
            "Requirement already satisfied: opencv-python<5.0.0,>=3.2.0 in /usr/local/lib/python3.7/dist-packages (from alibi-detect) (4.1.2.30)\n",
            "Requirement already satisfied: tensorflow-probability<0.13.0,>=0.8.0 in /usr/local/lib/python3.7/dist-packages (from alibi-detect) (0.12.2)\n",
            "Requirement already satisfied: numba!=0.54.0 in /usr/local/lib/python3.7/dist-packages (from alibi-detect) (0.51.2)\n",
            "Requirement already satisfied: tensorflow!=2.6.0,!=2.6.1,<2.7.0,>=2.2.0 in /usr/local/lib/python3.7/dist-packages (from alibi-detect) (2.6.2)\n",
            "Requirement already satisfied: scikit-image!=0.17.1,<0.19,>=0.14.2 in /usr/local/lib/python3.7/dist-packages (from alibi-detect) (0.18.3)\n",
            "Requirement already satisfied: tqdm<5.0.0,>=4.28.1 in /usr/local/lib/python3.7/dist-packages (from alibi-detect) (4.62.3)\n",
            "Requirement already satisfied: requests<3.0.0,>=2.21.0 in /usr/local/lib/python3.7/dist-packages (from alibi-detect) (2.23.0)\n",
            "Requirement already satisfied: dill<0.4.0,>=0.3.0 in /usr/local/lib/python3.7/dist-packages (from alibi-detect) (0.3.4)\n",
            "Requirement already satisfied: scikit-learn<1.1.0,>=0.20.2 in /usr/local/lib/python3.7/dist-packages (from alibi-detect) (1.0.1)\n",
            "Requirement already satisfied: python-dateutil>=2.1 in /usr/local/lib/python3.7/dist-packages (from matplotlib<4.0.0,>=3.0.0->alibi-detect) (2.8.2)\n",
            "Requirement already satisfied: cycler>=0.10 in /usr/local/lib/python3.7/dist-packages (from matplotlib<4.0.0,>=3.0.0->alibi-detect) (0.11.0)\n",
            "Requirement already satisfied: kiwisolver>=1.0.1 in /usr/local/lib/python3.7/dist-packages (from matplotlib<4.0.0,>=3.0.0->alibi-detect) (1.3.2)\n",
            "Requirement already satisfied: pyparsing!=2.0.4,!=2.1.2,!=2.1.6,>=2.0.1 in /usr/local/lib/python3.7/dist-packages (from matplotlib<4.0.0,>=3.0.0->alibi-detect) (3.0.6)\n",
            "Requirement already satisfied: setuptools in /usr/local/lib/python3.7/dist-packages (from numba!=0.54.0->alibi-detect) (57.4.0)\n",
            "Requirement already satisfied: llvmlite<0.35,>=0.34.0.dev0 in /usr/local/lib/python3.7/dist-packages (from numba!=0.54.0->alibi-detect) (0.34.0)\n",
            "Requirement already satisfied: pytz>=2017.2 in /usr/local/lib/python3.7/dist-packages (from pandas<2.0.0,>=0.23.3->alibi-detect) (2018.9)\n",
            "Requirement already satisfied: six>=1.5 in /usr/local/lib/python3.7/dist-packages (from python-dateutil>=2.1->matplotlib<4.0.0,>=3.0.0->alibi-detect) (1.15.0)\n",
            "Requirement already satisfied: certifi>=2017.4.17 in /usr/local/lib/python3.7/dist-packages (from requests<3.0.0,>=2.21.0->alibi-detect) (2021.10.8)\n",
            "Requirement already satisfied: chardet<4,>=3.0.2 in /usr/local/lib/python3.7/dist-packages (from requests<3.0.0,>=2.21.0->alibi-detect) (3.0.4)\n",
            "Requirement already satisfied: idna<3,>=2.5 in /usr/local/lib/python3.7/dist-packages (from requests<3.0.0,>=2.21.0->alibi-detect) (2.10)\n",
            "Requirement already satisfied: urllib3!=1.25.0,!=1.25.1,<1.26,>=1.21.1 in /usr/local/lib/python3.7/dist-packages (from requests<3.0.0,>=2.21.0->alibi-detect) (1.24.3)\n",
            "Requirement already satisfied: networkx>=2.0 in /usr/local/lib/python3.7/dist-packages (from scikit-image!=0.17.1,<0.19,>=0.14.2->alibi-detect) (2.6.3)\n",
            "Requirement already satisfied: imageio>=2.3.0 in /usr/local/lib/python3.7/dist-packages (from scikit-image!=0.17.1,<0.19,>=0.14.2->alibi-detect) (2.4.1)\n",
            "Requirement already satisfied: PyWavelets>=1.1.1 in /usr/local/lib/python3.7/dist-packages (from scikit-image!=0.17.1,<0.19,>=0.14.2->alibi-detect) (1.2.0)\n",
            "Requirement already satisfied: tifffile>=2019.7.26 in /usr/local/lib/python3.7/dist-packages (from scikit-image!=0.17.1,<0.19,>=0.14.2->alibi-detect) (2021.11.2)\n",
            "Requirement already satisfied: joblib>=0.11 in /usr/local/lib/python3.7/dist-packages (from scikit-learn<1.1.0,>=0.20.2->alibi-detect) (1.1.0)\n",
            "Requirement already satisfied: threadpoolctl>=2.0.0 in /usr/local/lib/python3.7/dist-packages (from scikit-learn<1.1.0,>=0.20.2->alibi-detect) (3.0.0)\n",
            "Requirement already satisfied: wheel~=0.35 in /usr/local/lib/python3.7/dist-packages (from tensorflow!=2.6.0,!=2.6.1,<2.7.0,>=2.2.0->alibi-detect) (0.37.0)\n",
            "Requirement already satisfied: typing-extensions~=3.7.4 in /usr/local/lib/python3.7/dist-packages (from tensorflow!=2.6.0,!=2.6.1,<2.7.0,>=2.2.0->alibi-detect) (3.7.4.3)\n",
            "Requirement already satisfied: tensorboard<2.7,>=2.6.0 in /usr/local/lib/python3.7/dist-packages (from tensorflow!=2.6.0,!=2.6.1,<2.7.0,>=2.2.0->alibi-detect) (2.6.0)\n",
            "Requirement already satisfied: google-pasta~=0.2 in /usr/local/lib/python3.7/dist-packages (from tensorflow!=2.6.0,!=2.6.1,<2.7.0,>=2.2.0->alibi-detect) (0.2.0)\n",
            "Requirement already satisfied: tensorflow-estimator<2.7,>=2.6.0 in /usr/local/lib/python3.7/dist-packages (from tensorflow!=2.6.0,!=2.6.1,<2.7.0,>=2.2.0->alibi-detect) (2.6.0)\n",
            "Requirement already satisfied: clang~=5.0 in /usr/local/lib/python3.7/dist-packages (from tensorflow!=2.6.0,!=2.6.1,<2.7.0,>=2.2.0->alibi-detect) (5.0)\n",
            "Requirement already satisfied: keras-preprocessing~=1.1.2 in /usr/local/lib/python3.7/dist-packages (from tensorflow!=2.6.0,!=2.6.1,<2.7.0,>=2.2.0->alibi-detect) (1.1.2)\n",
            "Requirement already satisfied: protobuf>=3.9.2 in /usr/local/lib/python3.7/dist-packages (from tensorflow!=2.6.0,!=2.6.1,<2.7.0,>=2.2.0->alibi-detect) (3.17.3)\n",
            "Requirement already satisfied: flatbuffers~=1.12.0 in /usr/local/lib/python3.7/dist-packages (from tensorflow!=2.6.0,!=2.6.1,<2.7.0,>=2.2.0->alibi-detect) (1.12)\n",
            "Requirement already satisfied: h5py~=3.1.0 in /usr/local/lib/python3.7/dist-packages (from tensorflow!=2.6.0,!=2.6.1,<2.7.0,>=2.2.0->alibi-detect) (3.1.0)\n",
            "Requirement already satisfied: grpcio<2.0,>=1.37.0 in /usr/local/lib/python3.7/dist-packages (from tensorflow!=2.6.0,!=2.6.1,<2.7.0,>=2.2.0->alibi-detect) (1.42.0)\n",
            "Requirement already satisfied: absl-py~=0.10 in /usr/local/lib/python3.7/dist-packages (from tensorflow!=2.6.0,!=2.6.1,<2.7.0,>=2.2.0->alibi-detect) (0.12.0)\n",
            "Requirement already satisfied: gast==0.4.0 in /usr/local/lib/python3.7/dist-packages (from tensorflow!=2.6.0,!=2.6.1,<2.7.0,>=2.2.0->alibi-detect) (0.4.0)\n",
            "Requirement already satisfied: wrapt~=1.12.1 in /usr/local/lib/python3.7/dist-packages (from tensorflow!=2.6.0,!=2.6.1,<2.7.0,>=2.2.0->alibi-detect) (1.12.1)\n",
            "Requirement already satisfied: termcolor~=1.1.0 in /usr/local/lib/python3.7/dist-packages (from tensorflow!=2.6.0,!=2.6.1,<2.7.0,>=2.2.0->alibi-detect) (1.1.0)\n",
            "Requirement already satisfied: opt-einsum~=3.3.0 in /usr/local/lib/python3.7/dist-packages (from tensorflow!=2.6.0,!=2.6.1,<2.7.0,>=2.2.0->alibi-detect) (3.3.0)\n",
            "Requirement already satisfied: keras<2.7,>=2.6.0 in /usr/local/lib/python3.7/dist-packages (from tensorflow!=2.6.0,!=2.6.1,<2.7.0,>=2.2.0->alibi-detect) (2.6.0)\n",
            "Requirement already satisfied: astunparse~=1.6.3 in /usr/local/lib/python3.7/dist-packages (from tensorflow!=2.6.0,!=2.6.1,<2.7.0,>=2.2.0->alibi-detect) (1.6.3)\n",
            "Requirement already satisfied: cached-property in /usr/local/lib/python3.7/dist-packages (from h5py~=3.1.0->tensorflow!=2.6.0,!=2.6.1,<2.7.0,>=2.2.0->alibi-detect) (1.5.2)\n",
            "Requirement already satisfied: markdown>=2.6.8 in /usr/local/lib/python3.7/dist-packages (from tensorboard<2.7,>=2.6.0->tensorflow!=2.6.0,!=2.6.1,<2.7.0,>=2.2.0->alibi-detect) (3.3.6)\n",
            "Requirement already satisfied: tensorboard-data-server<0.7.0,>=0.6.0 in /usr/local/lib/python3.7/dist-packages (from tensorboard<2.7,>=2.6.0->tensorflow!=2.6.0,!=2.6.1,<2.7.0,>=2.2.0->alibi-detect) (0.6.1)\n",
            "Requirement already satisfied: google-auth-oauthlib<0.5,>=0.4.1 in /usr/local/lib/python3.7/dist-packages (from tensorboard<2.7,>=2.6.0->tensorflow!=2.6.0,!=2.6.1,<2.7.0,>=2.2.0->alibi-detect) (0.4.6)\n",
            "Requirement already satisfied: google-auth<2,>=1.6.3 in /usr/local/lib/python3.7/dist-packages (from tensorboard<2.7,>=2.6.0->tensorflow!=2.6.0,!=2.6.1,<2.7.0,>=2.2.0->alibi-detect) (1.35.0)\n",
            "Requirement already satisfied: tensorboard-plugin-wit>=1.6.0 in /usr/local/lib/python3.7/dist-packages (from tensorboard<2.7,>=2.6.0->tensorflow!=2.6.0,!=2.6.1,<2.7.0,>=2.2.0->alibi-detect) (1.8.0)\n",
            "Requirement already satisfied: werkzeug>=0.11.15 in /usr/local/lib/python3.7/dist-packages (from tensorboard<2.7,>=2.6.0->tensorflow!=2.6.0,!=2.6.1,<2.7.0,>=2.2.0->alibi-detect) (1.0.1)\n",
            "Requirement already satisfied: rsa<5,>=3.1.4 in /usr/local/lib/python3.7/dist-packages (from google-auth<2,>=1.6.3->tensorboard<2.7,>=2.6.0->tensorflow!=2.6.0,!=2.6.1,<2.7.0,>=2.2.0->alibi-detect) (4.8)\n",
            "Requirement already satisfied: pyasn1-modules>=0.2.1 in /usr/local/lib/python3.7/dist-packages (from google-auth<2,>=1.6.3->tensorboard<2.7,>=2.6.0->tensorflow!=2.6.0,!=2.6.1,<2.7.0,>=2.2.0->alibi-detect) (0.2.8)\n",
            "Requirement already satisfied: cachetools<5.0,>=2.0.0 in /usr/local/lib/python3.7/dist-packages (from google-auth<2,>=1.6.3->tensorboard<2.7,>=2.6.0->tensorflow!=2.6.0,!=2.6.1,<2.7.0,>=2.2.0->alibi-detect) (4.2.4)\n",
            "Requirement already satisfied: requests-oauthlib>=0.7.0 in /usr/local/lib/python3.7/dist-packages (from google-auth-oauthlib<0.5,>=0.4.1->tensorboard<2.7,>=2.6.0->tensorflow!=2.6.0,!=2.6.1,<2.7.0,>=2.2.0->alibi-detect) (1.3.0)\n",
            "Requirement already satisfied: importlib-metadata>=4.4 in /usr/local/lib/python3.7/dist-packages (from markdown>=2.6.8->tensorboard<2.7,>=2.6.0->tensorflow!=2.6.0,!=2.6.1,<2.7.0,>=2.2.0->alibi-detect) (4.8.2)\n",
            "Requirement already satisfied: zipp>=0.5 in /usr/local/lib/python3.7/dist-packages (from importlib-metadata>=4.4->markdown>=2.6.8->tensorboard<2.7,>=2.6.0->tensorflow!=2.6.0,!=2.6.1,<2.7.0,>=2.2.0->alibi-detect) (3.6.0)\n",
            "Requirement already satisfied: pyasn1<0.5.0,>=0.4.6 in /usr/local/lib/python3.7/dist-packages (from pyasn1-modules>=0.2.1->google-auth<2,>=1.6.3->tensorboard<2.7,>=2.6.0->tensorflow!=2.6.0,!=2.6.1,<2.7.0,>=2.2.0->alibi-detect) (0.4.8)\n",
            "Requirement already satisfied: oauthlib>=3.0.0 in /usr/local/lib/python3.7/dist-packages (from requests-oauthlib>=0.7.0->google-auth-oauthlib<0.5,>=0.4.1->tensorboard<2.7,>=2.6.0->tensorflow!=2.6.0,!=2.6.1,<2.7.0,>=2.2.0->alibi-detect) (3.1.1)\n",
            "Requirement already satisfied: decorator in /usr/local/lib/python3.7/dist-packages (from tensorflow-probability<0.13.0,>=0.8.0->alibi-detect) (4.4.2)\n",
            "Requirement already satisfied: dm-tree in /usr/local/lib/python3.7/dist-packages (from tensorflow-probability<0.13.0,>=0.8.0->alibi-detect) (0.1.6)\n",
            "Requirement already satisfied: cloudpickle>=1.3 in /usr/local/lib/python3.7/dist-packages (from tensorflow-probability<0.13.0,>=0.8.0->alibi-detect) (1.3.0)\n",
            "Requirement already satisfied: pyyaml>=5.1 in /usr/local/lib/python3.7/dist-packages (from transformers<5.0.0,>=4.0.0->alibi-detect) (6.0)\n",
            "Requirement already satisfied: huggingface-hub<1.0,>=0.1.0 in /usr/local/lib/python3.7/dist-packages (from transformers<5.0.0,>=4.0.0->alibi-detect) (0.2.1)\n",
            "Requirement already satisfied: packaging>=20.0 in /usr/local/lib/python3.7/dist-packages (from transformers<5.0.0,>=4.0.0->alibi-detect) (21.3)\n",
            "Requirement already satisfied: sacremoses in /usr/local/lib/python3.7/dist-packages (from transformers<5.0.0,>=4.0.0->alibi-detect) (0.0.46)\n",
            "Requirement already satisfied: regex!=2019.12.17 in /usr/local/lib/python3.7/dist-packages (from transformers<5.0.0,>=4.0.0->alibi-detect) (2019.12.20)\n",
            "Requirement already satisfied: tokenizers<0.11,>=0.10.1 in /usr/local/lib/python3.7/dist-packages (from transformers<5.0.0,>=4.0.0->alibi-detect) (0.10.3)\n",
            "Requirement already satisfied: filelock in /usr/local/lib/python3.7/dist-packages (from transformers<5.0.0,>=4.0.0->alibi-detect) (3.4.0)\n",
            "Requirement already satisfied: click in /usr/local/lib/python3.7/dist-packages (from sacremoses->transformers<5.0.0,>=4.0.0->alibi-detect) (7.1.2)\n"
          ]
        }
      ]
    },
    {
      "cell_type": "code",
      "source": [
        "import os\n",
        "from alibi_detect.od import OutlierAE\n",
        "from alibi_detect.utils.visualize import plot_instance_score, plot_feature_outlier_image\n",
        "import glob\n",
        "from PIL import Image\n",
        "import numpy as np\n",
        "import tensorflow as tf\n",
        "from tensorflow.keras.layers import Conv2D, Conv2DTranspose, UpSampling2D, Dense, Layer, Reshape, InputLayer, Flatten, Input, MaxPooling2D\n",
        "import pandas as pd"
      ],
      "metadata": {
        "id": "i72rg-awdPJ9"
      },
      "execution_count": 6,
      "outputs": []
    },
    {
      "cell_type": "code",
      "source": [
        "import pandas as pd\n",
        "import numpy as np\n",
        "import matplotlib.pyplot as plt\n",
        "from PIL import Image\n",
        "import glob\n",
        "import os\n",
        "import shutil\n",
        "from collections import Counter\n",
        "import tensorflow as tf\n",
        "from tensorflow.keras.layers import Conv2D, Conv2DTranspose, UpSampling2D, Dense, Layer, Reshape, InputLayer, Flatten, Input, MaxPooling2D"
      ],
      "metadata": {
        "id": "DdOpznaDGbkS"
      },
      "execution_count": 7,
      "outputs": []
    },
    {
      "cell_type": "code",
      "source": [
        "from google.colab import drive"
      ],
      "metadata": {
        "id": "r7O3X1bBe_XT"
      },
      "execution_count": 8,
      "outputs": []
    },
    {
      "cell_type": "code",
      "source": [
        "drive.mount('/content/drive')"
      ],
      "metadata": {
        "id": "PttdKLmtfL4s",
        "outputId": "864e9b46-356f-45ef-d5bc-b7f4f2c90da6",
        "colab": {
          "base_uri": "https://localhost:8080/"
        }
      },
      "execution_count": 9,
      "outputs": [
        {
          "output_type": "stream",
          "name": "stdout",
          "text": [
            "Drive already mounted at /content/drive; to attempt to forcibly remount, call drive.mount(\"/content/drive\", force_remount=True).\n"
          ]
        }
      ]
    },
    {
      "cell_type": "code",
      "execution_count": 10,
      "metadata": {
        "id": "Q6l5Z7enZCvd"
      },
      "outputs": [],
      "source": [
        "def img_to_np(path, resize = True):  \n",
        "    img_array = []\n",
        "    fpaths = glob.glob(path, recursive=True)\n",
        "    for fname in fpaths:\n",
        "        img = Image.open(fname).convert(\"RGB\")\n",
        "        if(resize): img = img.resize((64,64))\n",
        "        img_array.append(np.asarray(img))\n",
        "    images = np.array(img_array)\n",
        "    return images\n",
        "  \n",
        "path_train = \"/content/drive/MyDrive/data/train/ok.jpg\"\n",
        "path_test = \"/content/drive/MyDrive/data/test/peque.jpg\""
      ]
    },
    {
      "cell_type": "code",
      "execution_count": 11,
      "metadata": {
        "id": "ipNsY6wpZCve"
      },
      "outputs": [],
      "source": [
        "train = img_to_np(path_train)\n"
      ]
    },
    {
      "cell_type": "code",
      "source": [
        "test = img_to_np(path_test)\n",
        "train = train.astype('float32') / 255.\n",
        "test = test.astype('float32') / 255."
      ],
      "metadata": {
        "id": "M5zDZp7QhyH5"
      },
      "execution_count": 12,
      "outputs": []
    },
    {
      "cell_type": "code",
      "execution_count": 13,
      "metadata": {
        "id": "10fzGSHIZCve"
      },
      "outputs": [],
      "source": [
        "encoding_dim = 1024\n",
        "dense_dim = [8, 8, 128]"
      ]
    },
    {
      "cell_type": "code",
      "execution_count": 14,
      "metadata": {
        "id": "Xdh42-tFZCvf"
      },
      "outputs": [],
      "source": [
        "encoder_net = tf.keras.Sequential(\n",
        "  [\n",
        "      InputLayer(input_shape=train[0].shape),\n",
        "      Conv2D(64, 4, strides=2, padding='same', activation=tf.nn.relu),\n",
        "      Conv2D(128, 4, strides=2, padding='same', activation=tf.nn.relu),\n",
        "      Conv2D(512, 4, strides=2, padding='same', activation=tf.nn.relu),\n",
        "      Flatten(),\n",
        "      Dense(encoding_dim,)\n",
        "  ])"
      ]
    },
    {
      "cell_type": "code",
      "execution_count": 15,
      "metadata": {
        "id": "s0jcLzhvZCvf"
      },
      "outputs": [],
      "source": [
        "decoder_net = tf.keras.Sequential(\n",
        "  [\n",
        "      InputLayer(input_shape=(encoding_dim,)),\n",
        "      Dense(np.prod(dense_dim)),\n",
        "      Reshape(target_shape=dense_dim),\n",
        "      Conv2DTranspose(256, 4, strides=2, padding='same', activation=tf.nn.relu),\n",
        "      Conv2DTranspose(64, 4, strides=2, padding='same', activation=tf.nn.relu),\n",
        "      Conv2DTranspose(3, 4, strides=2, padding='same', activation='sigmoid')\n",
        "  ])"
      ]
    },
    {
      "cell_type": "code",
      "execution_count": 16,
      "metadata": {
        "id": "8QD1ARcVZCvf"
      },
      "outputs": [],
      "source": [
        "od = OutlierAE( threshold = 0.001,\n",
        "                encoder_net=encoder_net,\n",
        "                decoder_net=decoder_net)"
      ]
    },
    {
      "cell_type": "code",
      "execution_count": 17,
      "metadata": {
        "id": "typcdEtiZCvg",
        "outputId": "ae2f9a71-ab31-4cc2-b644-4c4449a3a149",
        "colab": {
          "base_uri": "https://localhost:8080/"
        }
      },
      "outputs": [
        {
          "output_type": "stream",
          "name": "stderr",
          "text": [
            "/usr/local/lib/python3.7/dist-packages/keras/optimizer_v2/optimizer_v2.py:356: UserWarning:\n",
            "\n",
            "The `lr` argument is deprecated, use `learning_rate` instead.\n",
            "\n"
          ]
        }
      ],
      "source": [
        "adam = tf.keras.optimizers.Adam(lr=1e-4)"
      ]
    },
    {
      "cell_type": "code",
      "execution_count": 18,
      "metadata": {
        "id": "QvB3msfGZCvg",
        "outputId": "41e72e0f-4213-40ca-883b-af028b6ad81c",
        "colab": {
          "base_uri": "https://localhost:8080/"
        }
      },
      "outputs": [
        {
          "output_type": "stream",
          "name": "stdout",
          "text": [
            "1/1 [=] - 0s 448ms/step - loss_ma: 0.0243\n",
            "1/1 [=] - 0s 307ms/step - loss_ma: 0.0243\n",
            "1/1 [=] - 0s 284ms/step - loss_ma: 0.0243\n",
            "1/1 [=] - 0s 265ms/step - loss_ma: 0.0243\n",
            "1/1 [=] - 0s 440ms/step - loss_ma: 0.0243\n",
            "1/1 [=] - 0s 412ms/step - loss_ma: 0.0242\n",
            "1/1 [=] - 0s 451ms/step - loss_ma: 0.0242\n",
            "1/1 [=] - 1s 503ms/step - loss_ma: 0.0242\n",
            "1/1 [=] - 0s 353ms/step - loss_ma: 0.0242\n",
            "1/1 [=] - 1s 534ms/step - loss_ma: 0.0241\n",
            "1/1 [=] - 0s 480ms/step - loss_ma: 0.0241\n",
            "1/1 [=] - 1s 553ms/step - loss_ma: 0.0240\n",
            "1/1 [=] - 0s 481ms/step - loss_ma: 0.0239\n",
            "1/1 [=] - 0s 440ms/step - loss_ma: 0.0238\n",
            "1/1 [=] - 0s 469ms/step - loss_ma: 0.0236\n",
            "1/1 [=] - 0s 437ms/step - loss_ma: 0.0234\n",
            "1/1 [=] - 0s 400ms/step - loss_ma: 0.0231\n",
            "1/1 [=] - 0s 480ms/step - loss_ma: 0.0226\n",
            "1/1 [=] - 0s 458ms/step - loss_ma: 0.0219\n",
            "1/1 [=] - 1s 520ms/step - loss_ma: 0.0209\n",
            "1/1 [=] - 0s 411ms/step - loss_ma: 0.0196\n",
            "1/1 [=] - 0s 445ms/step - loss_ma: 0.0178\n",
            "1/1 [=] - 0s 441ms/step - loss_ma: 0.0155\n",
            "1/1 [=] - 1s 535ms/step - loss_ma: 0.0132\n",
            "1/1 [=] - 1s 788ms/step - loss_ma: 0.0119\n",
            "1/1 [=] - 1s 605ms/step - loss_ma: 0.0126\n",
            "1/1 [=] - 1s 548ms/step - loss_ma: 0.0134\n",
            "1/1 [=] - 1s 501ms/step - loss_ma: 0.0125\n",
            "1/1 [=] - 0s 421ms/step - loss_ma: 0.0107\n",
            "1/1 [=] - 0s 329ms/step - loss_ma: 0.0094\n",
            "1/1 [=] - 0s 463ms/step - loss_ma: 0.0089\n",
            "1/1 [=] - 1s 542ms/step - loss_ma: 0.0089\n",
            "1/1 [=] - 0s 461ms/step - loss_ma: 0.0090\n",
            "1/1 [=] - 1s 552ms/step - loss_ma: 0.0089\n",
            "1/1 [=] - 0s 439ms/step - loss_ma: 0.0086\n",
            "1/1 [=] - 0s 472ms/step - loss_ma: 0.0082\n",
            "1/1 [=] - 0s 398ms/step - loss_ma: 0.0077\n",
            "1/1 [=] - 0s 449ms/step - loss_ma: 0.0073\n",
            "1/1 [=] - 0s 391ms/step - loss_ma: 0.0072\n",
            "1/1 [=] - 0s 377ms/step - loss_ma: 0.0071\n",
            "1/1 [=] - 0s 260ms/step - loss_ma: 0.0071\n",
            "1/1 [=] - 0s 263ms/step - loss_ma: 0.0068\n",
            "1/1 [=] - 0s 264ms/step - loss_ma: 0.0064\n",
            "1/1 [=] - 0s 258ms/step - loss_ma: 0.0061\n",
            "1/1 [=] - 0s 249ms/step - loss_ma: 0.0059\n",
            "1/1 [=] - 0s 260ms/step - loss_ma: 0.0058\n",
            "1/1 [=] - 0s 264ms/step - loss_ma: 0.0057\n",
            "1/1 [=] - 0s 256ms/step - loss_ma: 0.0055\n",
            "1/1 [=] - 0s 254ms/step - loss_ma: 0.0053\n",
            "1/1 [=] - 0s 257ms/step - loss_ma: 0.0050\n",
            "1/1 [=] - 0s 259ms/step - loss_ma: 0.0048\n",
            "1/1 [=] - 0s 277ms/step - loss_ma: 0.0046\n",
            "1/1 [=] - 0s 256ms/step - loss_ma: 0.0044\n",
            "1/1 [=] - 0s 271ms/step - loss_ma: 0.0043\n",
            "1/1 [=] - 0s 258ms/step - loss_ma: 0.0040\n",
            "1/1 [=] - 0s 277ms/step - loss_ma: 0.0038\n",
            "1/1 [=] - 0s 259ms/step - loss_ma: 0.0036\n",
            "1/1 [=] - 0s 271ms/step - loss_ma: 0.0034\n",
            "1/1 [=] - 0s 250ms/step - loss_ma: 0.0032\n",
            "1/1 [=] - 0s 255ms/step - loss_ma: 0.0031\n",
            "1/1 [=] - 0s 262ms/step - loss_ma: 0.0029\n",
            "1/1 [=] - 0s 261ms/step - loss_ma: 0.0027\n",
            "1/1 [=] - 0s 252ms/step - loss_ma: 0.0025\n",
            "1/1 [=] - 0s 256ms/step - loss_ma: 0.0024\n",
            "1/1 [=] - 0s 264ms/step - loss_ma: 0.0023\n",
            "1/1 [=] - 0s 258ms/step - loss_ma: 0.0021\n",
            "1/1 [=] - 0s 255ms/step - loss_ma: 0.0020\n",
            "1/1 [=] - 0s 274ms/step - loss_ma: 0.0019\n",
            "1/1 [=] - 0s 279ms/step - loss_ma: 0.0018\n",
            "1/1 [=] - 0s 264ms/step - loss_ma: 0.0017\n",
            "1/1 [=] - 0s 258ms/step - loss_ma: 0.0016\n",
            "1/1 [=] - 0s 274ms/step - loss_ma: 0.0015\n",
            "1/1 [=] - 0s 248ms/step - loss_ma: 0.0014\n",
            "1/1 [=] - 0s 258ms/step - loss_ma: 0.0014\n",
            "1/1 [=] - 0s 263ms/step - loss_ma: 0.0013\n",
            "1/1 [=] - 0s 252ms/step - loss_ma: 0.0012\n",
            "1/1 [=] - 0s 261ms/step - loss_ma: 0.0011\n",
            "1/1 [=] - 0s 263ms/step - loss_ma: 0.0011\n",
            "1/1 [=] - 0s 261ms/step - loss_ma: 0.0010\n",
            "1/1 [=] - 0s 257ms/step - loss_ma: 9.7086e-04\n",
            "1/1 [=] - 0s 269ms/step - loss_ma: 9.1588e-04\n",
            "1/1 [=] - 0s 273ms/step - loss_ma: 8.6769e-04\n",
            "1/1 [=] - 0s 257ms/step - loss_ma: 8.2676e-04\n",
            "1/1 [=] - 0s 259ms/step - loss_ma: 7.8666e-04\n",
            "1/1 [=] - 0s 266ms/step - loss_ma: 7.4463e-04\n",
            "1/1 [=] - 0s 251ms/step - loss_ma: 7.0489e-04\n",
            "1/1 [=] - 0s 252ms/step - loss_ma: 6.7032e-04\n",
            "1/1 [=] - 0s 277ms/step - loss_ma: 6.3800e-04\n",
            "1/1 [=] - 0s 251ms/step - loss_ma: 6.0467e-04\n",
            "1/1 [=] - 0s 257ms/step - loss_ma: 5.7207e-04\n",
            "1/1 [=] - 0s 256ms/step - loss_ma: 5.4317e-04\n",
            "1/1 [=] - 0s 271ms/step - loss_ma: 5.1716e-04\n",
            "1/1 [=] - 0s 252ms/step - loss_ma: 4.9121e-04\n",
            "1/1 [=] - 0s 255ms/step - loss_ma: 4.6532e-04\n",
            "1/1 [=] - 0s 257ms/step - loss_ma: 4.4181e-04\n",
            "1/1 [=] - 0s 265ms/step - loss_ma: 4.2086e-04\n",
            "1/1 [=] - 0s 266ms/step - loss_ma: 4.0051e-04\n",
            "1/1 [=] - 0s 259ms/step - loss_ma: 3.8012e-04\n",
            "1/1 [=] - 0s 272ms/step - loss_ma: 3.6117e-04\n",
            "1/1 [=] - 0s 257ms/step - loss_ma: 3.4415e-04\n"
          ]
        }
      ],
      "source": [
        "od.fit(train, epochs=10, verbose=True,\n",
        "       optimizer = adam)"
      ]
    },
    {
      "cell_type": "code",
      "execution_count": 19,
      "metadata": {
        "id": "KWz2yHntZCvh"
      },
      "outputs": [],
      "source": [
        "od.infer_threshold(test, threshold_perc=95)"
      ]
    },
    {
      "cell_type": "code",
      "execution_count": 20,
      "metadata": {
        "id": "RPVQUw7SZCvh"
      },
      "outputs": [],
      "source": [
        "preds = od.predict(test, outlier_type='instance',\n",
        "            return_instance_score=True,\n",
        "            return_feature_score=True)"
      ]
    },
    {
      "cell_type": "code",
      "execution_count": 21,
      "metadata": {
        "id": "l8SK4_wQZCvh"
      },
      "outputs": [],
      "source": [
        "for i, fpath in enumerate(glob.glob(path_test)):\n",
        "    if(preds['data']['is_outlier'][i] == 1):\n",
        "        source = fpath\n",
        "        shutil.copy(source, 'img\\\\')\n",
        "        \n",
        "filenames = [os.path.basename(x) for x in glob.glob(path_test, recursive=True)]"
      ]
    },
    {
      "cell_type": "code",
      "execution_count": 22,
      "metadata": {
        "id": "-ohnBYUMZCvi"
      },
      "outputs": [],
      "source": [
        "dict1 = {'Filename': filenames,\n",
        "     'instance_score': preds['data']['instance_score'],\n",
        "     'is_outlier': preds['data']['is_outlier']}\n",
        "     \n",
        "df = pd.DataFrame(dict1)\n",
        "df_outliers = df[df['is_outlier'] == 1]"
      ]
    },
    {
      "cell_type": "code",
      "execution_count": 23,
      "metadata": {
        "id": "_D-3YcqsZCvi",
        "outputId": "947603d6-ea7d-41a6-b108-eba23d69eca0",
        "colab": {
          "base_uri": "https://localhost:8080/"
        }
      },
      "outputs": [
        {
          "output_type": "stream",
          "name": "stdout",
          "text": [
            "Empty DataFrame\n",
            "Columns: [Filename, instance_score, is_outlier]\n",
            "Index: []\n"
          ]
        }
      ],
      "source": [
        "print(df_outliers)"
      ]
    },
    {
      "cell_type": "code",
      "execution_count": 24,
      "metadata": {
        "id": "qcaDweyqZCvi"
      },
      "outputs": [],
      "source": [
        "recon = od.ae(test).numpy()"
      ]
    },
    {
      "cell_type": "code",
      "execution_count": 25,
      "metadata": {
        "id": "ytpe0XgwZCvj",
        "outputId": "c9554359-ec24-45b5-eadc-5f935111cba5",
        "colab": {
          "base_uri": "https://localhost:8080/",
          "height": 35
        }
      },
      "outputs": [
        {
          "output_type": "display_data",
          "data": {
            "text/plain": [
              "<Figure size 1080x1080 with 0 Axes>"
            ]
          },
          "metadata": {}
        }
      ],
      "source": [
        "plot_feature_outlier_image(preds, test, \n",
        "                           X_recon=recon,  \n",
        "                           max_instances=5,\n",
        "                           outliers_only=True,\n",
        "                           figsize=(15,15))"
      ]
    }
  ],
  "metadata": {
    "kernelspec": {
      "display_name": "Python 3",
      "language": "python",
      "name": "python3"
    },
    "language_info": {
      "codemirror_mode": {
        "name": "ipython",
        "version": 3
      },
      "file_extension": ".py",
      "mimetype": "text/x-python",
      "name": "python",
      "nbconvert_exporter": "python",
      "pygments_lexer": "ipython3",
      "version": "3.6.4"
    },
    "colab": {
      "name": "Copia de alibi1.ipynb",
      "provenance": [],
      "collapsed_sections": [],
      "include_colab_link": true
    }
  },
  "nbformat": 4,
  "nbformat_minor": 0
}