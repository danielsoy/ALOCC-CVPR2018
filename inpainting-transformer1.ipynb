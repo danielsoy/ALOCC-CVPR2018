{
  "nbformat": 4,
  "nbformat_minor": 0,
  "metadata": {
    "colab": {
      "provenance": [],
      "authorship_tag": "ABX9TyMO3SP+pR+4FOcKar2Szabp",
      "include_colab_link": true
    },
    "kernelspec": {
      "name": "python3",
      "display_name": "Python 3"
    },
    "language_info": {
      "name": "python"
    },
    "accelerator": "GPU",
    "gpuClass": "standard"
  },
  "cells": [
    {
      "cell_type": "markdown",
      "metadata": {
        "id": "view-in-github",
        "colab_type": "text"
      },
      "source": [
        "<a href=\"https://colab.research.google.com/github/danielsoy/ALOCC-CVPR2018/blob/master/inpainting-transformer1.ipynb\" target=\"_parent\"><img src=\"https://colab.research.google.com/assets/colab-badge.svg\" alt=\"Open In Colab\"/></a>"
      ]
    },
    {
      "cell_type": "code",
      "execution_count": null,
      "metadata": {
        "colab": {
          "base_uri": "https://localhost:8080/"
        },
        "id": "DhSvVFwY32z-",
        "outputId": "361ee7bb-599a-46c2-d844-2356fde480ae"
      },
      "outputs": [
        {
          "output_type": "stream",
          "name": "stdout",
          "text": [
            "Cloning into 'inpainting-transformer'...\n",
            "remote: Enumerating objects: 34, done.\u001b[K\n",
            "remote: Total 34 (delta 0), reused 0 (delta 0), pack-reused 34\u001b[K\n",
            "Unpacking objects: 100% (34/34), 16.62 KiB | 740.00 KiB/s, done.\n"
          ]
        }
      ],
      "source": [
        "!git clone https://github.com/jhy12/inpainting-transformer.git\n"
      ]
    },
    {
      "cell_type": "code",
      "source": [
        "from google.colab import drive\n",
        "drive.mount('/content/gdrive/', force_remount=True)\n"
      ],
      "metadata": {
        "colab": {
          "base_uri": "https://localhost:8080/"
        },
        "id": "hrk1SNap4BOh",
        "outputId": "971afc88-2085-43e4-9cfb-8c384976ee23"
      },
      "execution_count": null,
      "outputs": [
        {
          "output_type": "stream",
          "name": "stdout",
          "text": [
            "Mounted at /content/gdrive/\n"
          ]
        }
      ]
    },
    {
      "cell_type": "code",
      "source": [
        "cd /content/inpainting-transformer"
      ],
      "metadata": {
        "colab": {
          "base_uri": "https://localhost:8080/"
        },
        "id": "dHumJ6XE5jrW",
        "outputId": "62c4cf08-8bb7-4ddb-bc0a-00bb0cbf58ce"
      },
      "execution_count": null,
      "outputs": [
        {
          "output_type": "stream",
          "name": "stdout",
          "text": [
            "/content/inpainting-transformer\n"
          ]
        }
      ]
    },
    {
      "cell_type": "code",
      "source": [
        "!pip install einops"
      ],
      "metadata": {
        "colab": {
          "base_uri": "https://localhost:8080/"
        },
        "id": "Mwy2eeiI6Qmw",
        "outputId": "60190625-6c39-4c04-a2a3-bcbe3bc5370a"
      },
      "execution_count": null,
      "outputs": [
        {
          "output_type": "stream",
          "name": "stdout",
          "text": [
            "Looking in indexes: https://pypi.org/simple, https://us-python.pkg.dev/colab-wheels/public/simple/\n",
            "Collecting einops\n",
            "  Downloading einops-0.6.1-py3-none-any.whl (42 kB)\n",
            "\u001b[2K     \u001b[90m━━━━━━━━━━━━━━━━━━━━━━━━━━━━━━━━━━━━━━━━\u001b[0m \u001b[32m42.2/42.2 kB\u001b[0m \u001b[31m5.4 MB/s\u001b[0m eta \u001b[36m0:00:00\u001b[0m\n",
            "\u001b[?25hInstalling collected packages: einops\n",
            "Successfully installed einops-0.6.1\n"
          ]
        }
      ]
    },
    {
      "cell_type": "code",
      "source": [],
      "metadata": {
        "id": "U5MRTGHl7luN"
      },
      "execution_count": null,
      "outputs": []
    },
    {
      "cell_type": "code",
      "source": [
        "!python main.py"
      ],
      "metadata": {
        "colab": {
          "base_uri": "https://localhost:8080/"
        },
        "id": "iRwIRSm96Cin",
        "outputId": "0d44562d-8209-4817-fefe-66fd71325d17"
      },
      "execution_count": null,
      "outputs": [
        {
          "output_type": "stream",
          "name": "stdout",
          "text": [
            "label not exists:  /content/gdrive/MyDrive/MVTec_hazel/hazelnut/test/good and cut/001.png\n",
            "label not exists:  /content/gdrive/MyDrive/MVTec_hazel/hazelnut/test/good and cut/000.png\n",
            "label not exists:  /content/gdrive/MyDrive/MVTec_hazel/hazelnut/test/good and cut/000 (2).png\n",
            "label not exists:  /content/gdrive/MyDrive/MVTec_hazel/hazelnut/test/good and cut/010.png\n",
            "label not exists:  /content/gdrive/MyDrive/MVTec_hazel/hazelnut/test/good and cut/009.png\n",
            "label not exists:  /content/gdrive/MyDrive/MVTec_hazel/hazelnut/test/good and cut/010 (2).png\n",
            "label not exists:  /content/gdrive/MyDrive/MVTec_hazel/hazelnut/test/good and cut/021.png\n",
            "label not exists:  /content/gdrive/MyDrive/MVTec_hazel/hazelnut/test/good and cut/001 (2).png\n",
            "label not exists:  /content/gdrive/MyDrive/MVTec_hazel/hazelnut/test/good and cut/013.png\n",
            "label not exists:  /content/gdrive/MyDrive/MVTec_hazel/hazelnut/test/good and cut/022.png\n",
            "label not exists:  /content/gdrive/MyDrive/MVTec_hazel/hazelnut/test/good and cut/029.png\n",
            "label not exists:  /content/gdrive/MyDrive/MVTec_hazel/hazelnut/test/good and cut/028.png\n",
            "label not exists:  /content/gdrive/MyDrive/MVTec_hazel/hazelnut/test/good/005.png\n",
            "label not exists:  /content/gdrive/MyDrive/MVTec_hazel/hazelnut/test/good/017.png\n",
            "label not exists:  /content/gdrive/MyDrive/MVTec_hazel/hazelnut/test/good/020.png\n",
            "label not exists:  /content/gdrive/MyDrive/MVTec_hazel/hazelnut/test/good/006.png\n",
            "label not exists:  /content/gdrive/MyDrive/MVTec_hazel/hazelnut/test/good/002.png\n",
            "label not exists:  /content/gdrive/MyDrive/MVTec_hazel/hazelnut/test/good/007.png\n",
            "label not exists:  /content/gdrive/MyDrive/MVTec_hazel/hazelnut/test/good/001.png\n",
            "label not exists:  /content/gdrive/MyDrive/MVTec_hazel/hazelnut/test/good/019.png\n",
            "label not exists:  /content/gdrive/MyDrive/MVTec_hazel/hazelnut/test/good/009.png\n",
            "label not exists:  /content/gdrive/MyDrive/MVTec_hazel/hazelnut/test/good/010.png\n",
            "label not exists:  /content/gdrive/MyDrive/MVTec_hazel/hazelnut/test/good/018.png\n",
            "label not exists:  /content/gdrive/MyDrive/MVTec_hazel/hazelnut/test/good/016.png\n",
            "label not exists:  /content/gdrive/MyDrive/MVTec_hazel/hazelnut/test/good/015.png\n",
            "label not exists:  /content/gdrive/MyDrive/MVTec_hazel/hazelnut/test/good/004.png\n",
            "label not exists:  /content/gdrive/MyDrive/MVTec_hazel/hazelnut/test/good/008.png\n",
            "label not exists:  /content/gdrive/MyDrive/MVTec_hazel/hazelnut/test/good/011.png\n",
            "label not exists:  /content/gdrive/MyDrive/MVTec_hazel/hazelnut/test/good/021.png\n",
            "label not exists:  /content/gdrive/MyDrive/MVTec_hazel/hazelnut/test/good/013.png\n",
            "label not exists:  /content/gdrive/MyDrive/MVTec_hazel/hazelnut/test/good/000.png\n",
            "label not exists:  /content/gdrive/MyDrive/MVTec_hazel/hazelnut/test/good/003.png\n",
            "label not exists:  /content/gdrive/MyDrive/MVTec_hazel/hazelnut/test/good/014.png\n",
            "label not exists:  /content/gdrive/MyDrive/MVTec_hazel/hazelnut/test/good/012.png\n",
            "label not exists:  /content/gdrive/MyDrive/MVTec_hazel/hazelnut/test/good/027.png\n",
            "label not exists:  /content/gdrive/MyDrive/MVTec_hazel/hazelnut/test/good/029.png\n",
            "label not exists:  /content/gdrive/MyDrive/MVTec_hazel/hazelnut/test/good/025.png\n",
            "label not exists:  /content/gdrive/MyDrive/MVTec_hazel/hazelnut/test/good/039.png\n",
            "label not exists:  /content/gdrive/MyDrive/MVTec_hazel/hazelnut/test/good/030.png\n",
            "label not exists:  /content/gdrive/MyDrive/MVTec_hazel/hazelnut/test/good/028.png\n",
            "label not exists:  /content/gdrive/MyDrive/MVTec_hazel/hazelnut/test/good/032.png\n",
            "label not exists:  /content/gdrive/MyDrive/MVTec_hazel/hazelnut/test/good/022.png\n",
            "label not exists:  /content/gdrive/MyDrive/MVTec_hazel/hazelnut/test/good/026.png\n",
            "label not exists:  /content/gdrive/MyDrive/MVTec_hazel/hazelnut/test/good/024.png\n",
            "label not exists:  /content/gdrive/MyDrive/MVTec_hazel/hazelnut/test/good/036.png\n",
            "label not exists:  /content/gdrive/MyDrive/MVTec_hazel/hazelnut/test/good/033.png\n",
            "label not exists:  /content/gdrive/MyDrive/MVTec_hazel/hazelnut/test/good/034.png\n",
            "label not exists:  /content/gdrive/MyDrive/MVTec_hazel/hazelnut/test/good/037.png\n",
            "label not exists:  /content/gdrive/MyDrive/MVTec_hazel/hazelnut/test/good/023.png\n",
            "label not exists:  /content/gdrive/MyDrive/MVTec_hazel/hazelnut/test/good/035.png\n",
            "label not exists:  /content/gdrive/MyDrive/MVTec_hazel/hazelnut/test/good/038.png\n",
            "label not exists:  /content/gdrive/MyDrive/MVTec_hazel/hazelnut/test/good/031.png\n",
            "label not exists:  /content/gdrive/MyDrive/MVTec_hazel/hazelnut/test/todas_juntas/008.png\n",
            "label not exists:  /content/gdrive/MyDrive/MVTec_hazel/hazelnut/test/todas_juntas/009.png\n",
            "label not exists:  /content/gdrive/MyDrive/MVTec_hazel/hazelnut/test/todas_juntas/010.png\n",
            "label not exists:  /content/gdrive/MyDrive/MVTec_hazel/hazelnut/test/todas_juntas/004.png\n",
            "label not exists:  /content/gdrive/MyDrive/MVTec_hazel/hazelnut/test/todas_juntas/010 (5).png\n",
            "label not exists:  /content/gdrive/MyDrive/MVTec_hazel/hazelnut/test/todas_juntas/005.png\n",
            "label not exists:  /content/gdrive/MyDrive/MVTec_hazel/hazelnut/test/todas_juntas/018.png\n",
            "label not exists:  /content/gdrive/MyDrive/MVTec_hazel/hazelnut/test/todas_juntas/016 (4).png\n",
            "label not exists:  /content/gdrive/MyDrive/MVTec_hazel/hazelnut/test/todas_juntas/001 (4).png\n",
            "label not exists:  /content/gdrive/MyDrive/MVTec_hazel/hazelnut/test/todas_juntas/013 (4).png\n",
            "label not exists:  /content/gdrive/MyDrive/MVTec_hazel/hazelnut/test/todas_juntas/015 (4).png\n",
            "label not exists:  /content/gdrive/MyDrive/MVTec_hazel/hazelnut/test/todas_juntas/012.png\n",
            "label not exists:  /content/gdrive/MyDrive/MVTec_hazel/hazelnut/test/todas_juntas/017.png\n",
            "label not exists:  /content/gdrive/MyDrive/MVTec_hazel/hazelnut/test/todas_juntas/000 (4).png\n",
            "label not exists:  /content/gdrive/MyDrive/MVTec_hazel/hazelnut/test/todas_juntas/004 (5).png\n",
            "label not exists:  /content/gdrive/MyDrive/MVTec_hazel/hazelnut/test/todas_juntas/003.png\n",
            "label not exists:  /content/gdrive/MyDrive/MVTec_hazel/hazelnut/test/todas_juntas/005 (4).png\n",
            "label not exists:  /content/gdrive/MyDrive/MVTec_hazel/hazelnut/test/todas_juntas/003 (5).png\n",
            "label not exists:  /content/gdrive/MyDrive/MVTec_hazel/hazelnut/test/todas_juntas/004 (4).png\n",
            "label not exists:  /content/gdrive/MyDrive/MVTec_hazel/hazelnut/test/todas_juntas/020.png\n",
            "label not exists:  /content/gdrive/MyDrive/MVTec_hazel/hazelnut/test/todas_juntas/019.png\n",
            "label not exists:  /content/gdrive/MyDrive/MVTec_hazel/hazelnut/test/todas_juntas/006 (5).png\n",
            "label not exists:  /content/gdrive/MyDrive/MVTec_hazel/hazelnut/test/todas_juntas/013 (5).png\n",
            "label not exists:  /content/gdrive/MyDrive/MVTec_hazel/hazelnut/test/todas_juntas/005 (5).png\n",
            "label not exists:  /content/gdrive/MyDrive/MVTec_hazel/hazelnut/test/todas_juntas/016 (5).png\n",
            "label not exists:  /content/gdrive/MyDrive/MVTec_hazel/hazelnut/test/todas_juntas/001 (5).png\n",
            "label not exists:  /content/gdrive/MyDrive/MVTec_hazel/hazelnut/test/todas_juntas/006 (4).png\n",
            "label not exists:  /content/gdrive/MyDrive/MVTec_hazel/hazelnut/test/todas_juntas/000 (5).png\n",
            "label not exists:  /content/gdrive/MyDrive/MVTec_hazel/hazelnut/test/todas_juntas/008 (5).png\n",
            "label not exists:  /content/gdrive/MyDrive/MVTec_hazel/hazelnut/test/todas_juntas/006.png\n",
            "label not exists:  /content/gdrive/MyDrive/MVTec_hazel/hazelnut/test/todas_juntas/014 (4).png\n",
            "label not exists:  /content/gdrive/MyDrive/MVTec_hazel/hazelnut/test/todas_juntas/013.png\n",
            "label not exists:  /content/gdrive/MyDrive/MVTec_hazel/hazelnut/test/todas_juntas/011 (5).png\n",
            "label not exists:  /content/gdrive/MyDrive/MVTec_hazel/hazelnut/test/todas_juntas/015.png\n",
            "label not exists:  /content/gdrive/MyDrive/MVTec_hazel/hazelnut/test/todas_juntas/007 (4).png\n",
            "label not exists:  /content/gdrive/MyDrive/MVTec_hazel/hazelnut/test/todas_juntas/021.png\n",
            "label not exists:  /content/gdrive/MyDrive/MVTec_hazel/hazelnut/test/todas_juntas/011 (4).png\n",
            "label not exists:  /content/gdrive/MyDrive/MVTec_hazel/hazelnut/test/todas_juntas/011.png\n",
            "label not exists:  /content/gdrive/MyDrive/MVTec_hazel/hazelnut/test/todas_juntas/014.png\n",
            "label not exists:  /content/gdrive/MyDrive/MVTec_hazel/hazelnut/test/todas_juntas/009 (5).png\n",
            "label not exists:  /content/gdrive/MyDrive/MVTec_hazel/hazelnut/test/todas_juntas/015 (5).png\n",
            "label not exists:  /content/gdrive/MyDrive/MVTec_hazel/hazelnut/test/todas_juntas/010 (4).png\n",
            "label not exists:  /content/gdrive/MyDrive/MVTec_hazel/hazelnut/test/todas_juntas/017 (3).png\n",
            "label not exists:  /content/gdrive/MyDrive/MVTec_hazel/hazelnut/test/todas_juntas/016.png\n",
            "label not exists:  /content/gdrive/MyDrive/MVTec_hazel/hazelnut/test/todas_juntas/002 (5).png\n",
            "label not exists:  /content/gdrive/MyDrive/MVTec_hazel/hazelnut/test/todas_juntas/002 (4).png\n",
            "label not exists:  /content/gdrive/MyDrive/MVTec_hazel/hazelnut/test/todas_juntas/007 (5).png\n",
            "label not exists:  /content/gdrive/MyDrive/MVTec_hazel/hazelnut/test/todas_juntas/003 (4).png\n",
            "label not exists:  /content/gdrive/MyDrive/MVTec_hazel/hazelnut/test/todas_juntas/012 (4).png\n",
            "label not exists:  /content/gdrive/MyDrive/MVTec_hazel/hazelnut/test/todas_juntas/012 (5).png\n",
            "label not exists:  /content/gdrive/MyDrive/MVTec_hazel/hazelnut/test/todas_juntas/001.png\n",
            "label not exists:  /content/gdrive/MyDrive/MVTec_hazel/hazelnut/test/todas_juntas/007.png\n",
            "label not exists:  /content/gdrive/MyDrive/MVTec_hazel/hazelnut/test/todas_juntas/009 (4).png\n",
            "label not exists:  /content/gdrive/MyDrive/MVTec_hazel/hazelnut/test/todas_juntas/000.png\n",
            "label not exists:  /content/gdrive/MyDrive/MVTec_hazel/hazelnut/test/todas_juntas/014 (5).png\n",
            "label not exists:  /content/gdrive/MyDrive/MVTec_hazel/hazelnut/test/todas_juntas/008 (4).png\n",
            "label not exists:  /content/gdrive/MyDrive/MVTec_hazel/hazelnut/test/todas_juntas/002.png\n",
            "label not exists:  /content/gdrive/MyDrive/MVTec_hazel/hazelnut/test/todas_juntas/003 (3).png\n",
            "label not exists:  /content/gdrive/MyDrive/MVTec_hazel/hazelnut/test/todas_juntas/013 (3).png\n",
            "label not exists:  /content/gdrive/MyDrive/MVTec_hazel/hazelnut/test/todas_juntas/005 (3).png\n",
            "label not exists:  /content/gdrive/MyDrive/MVTec_hazel/hazelnut/test/todas_juntas/022.png\n",
            "label not exists:  /content/gdrive/MyDrive/MVTec_hazel/hazelnut/test/todas_juntas/032.png\n",
            "label not exists:  /content/gdrive/MyDrive/MVTec_hazel/hazelnut/test/todas_juntas/035.png\n",
            "label not exists:  /content/gdrive/MyDrive/MVTec_hazel/hazelnut/test/todas_juntas/009 (3).png\n",
            "label not exists:  /content/gdrive/MyDrive/MVTec_hazel/hazelnut/test/todas_juntas/001 (2).png\n",
            "label not exists:  /content/gdrive/MyDrive/MVTec_hazel/hazelnut/test/todas_juntas/013 (2).png\n",
            "label not exists:  /content/gdrive/MyDrive/MVTec_hazel/hazelnut/test/todas_juntas/030.png\n",
            "label not exists:  /content/gdrive/MyDrive/MVTec_hazel/hazelnut/test/todas_juntas/016 (2).png\n",
            "label not exists:  /content/gdrive/MyDrive/MVTec_hazel/hazelnut/test/todas_juntas/023.png\n",
            "label not exists:  /content/gdrive/MyDrive/MVTec_hazel/hazelnut/test/todas_juntas/014 (2).png\n",
            "label not exists:  /content/gdrive/MyDrive/MVTec_hazel/hazelnut/test/todas_juntas/008 (3).png\n",
            "label not exists:  /content/gdrive/MyDrive/MVTec_hazel/hazelnut/test/todas_juntas/017 (2).png\n",
            "label not exists:  /content/gdrive/MyDrive/MVTec_hazel/hazelnut/test/todas_juntas/000 (2).png\n",
            "label not exists:  /content/gdrive/MyDrive/MVTec_hazel/hazelnut/test/todas_juntas/000 (3).png\n",
            "label not exists:  /content/gdrive/MyDrive/MVTec_hazel/hazelnut/test/todas_juntas/034.png\n",
            "label not exists:  /content/gdrive/MyDrive/MVTec_hazel/hazelnut/test/todas_juntas/010 (2).png\n",
            "label not exists:  /content/gdrive/MyDrive/MVTec_hazel/hazelnut/test/todas_juntas/025.png\n",
            "label not exists:  /content/gdrive/MyDrive/MVTec_hazel/hazelnut/test/todas_juntas/003 (2).png\n",
            "label not exists:  /content/gdrive/MyDrive/MVTec_hazel/hazelnut/test/todas_juntas/007 (2).png\n",
            "label not exists:  /content/gdrive/MyDrive/MVTec_hazel/hazelnut/test/todas_juntas/009 (2).png\n",
            "label not exists:  /content/gdrive/MyDrive/MVTec_hazel/hazelnut/test/todas_juntas/008 (2).png\n",
            "label not exists:  /content/gdrive/MyDrive/MVTec_hazel/hazelnut/test/todas_juntas/031.png\n",
            "label not exists:  /content/gdrive/MyDrive/MVTec_hazel/hazelnut/test/todas_juntas/039.png\n",
            "label not exists:  /content/gdrive/MyDrive/MVTec_hazel/hazelnut/test/todas_juntas/002 (2).png\n",
            "label not exists:  /content/gdrive/MyDrive/MVTec_hazel/hazelnut/test/todas_juntas/029.png\n",
            "label not exists:  /content/gdrive/MyDrive/MVTec_hazel/hazelnut/test/todas_juntas/014 (3).png\n",
            "label not exists:  /content/gdrive/MyDrive/MVTec_hazel/hazelnut/test/todas_juntas/027.png\n",
            "label not exists:  /content/gdrive/MyDrive/MVTec_hazel/hazelnut/test/todas_juntas/002 (3).png\n",
            "label not exists:  /content/gdrive/MyDrive/MVTec_hazel/hazelnut/test/todas_juntas/012 (3).png\n",
            "label not exists:  /content/gdrive/MyDrive/MVTec_hazel/hazelnut/test/todas_juntas/006 (3).png\n",
            "label not exists:  /content/gdrive/MyDrive/MVTec_hazel/hazelnut/test/todas_juntas/004 (2).png\n",
            "label not exists:  /content/gdrive/MyDrive/MVTec_hazel/hazelnut/test/todas_juntas/028.png\n",
            "label not exists:  /content/gdrive/MyDrive/MVTec_hazel/hazelnut/test/todas_juntas/001 (3).png\n",
            "label not exists:  /content/gdrive/MyDrive/MVTec_hazel/hazelnut/test/todas_juntas/007 (3).png\n",
            "label not exists:  /content/gdrive/MyDrive/MVTec_hazel/hazelnut/test/todas_juntas/026.png\n",
            "label not exists:  /content/gdrive/MyDrive/MVTec_hazel/hazelnut/test/todas_juntas/011 (3).png\n",
            "label not exists:  /content/gdrive/MyDrive/MVTec_hazel/hazelnut/test/todas_juntas/016 (3).png\n",
            "label not exists:  /content/gdrive/MyDrive/MVTec_hazel/hazelnut/test/todas_juntas/038.png\n",
            "label not exists:  /content/gdrive/MyDrive/MVTec_hazel/hazelnut/test/todas_juntas/033.png\n",
            "label not exists:  /content/gdrive/MyDrive/MVTec_hazel/hazelnut/test/todas_juntas/006 (2).png\n",
            "label not exists:  /content/gdrive/MyDrive/MVTec_hazel/hazelnut/test/todas_juntas/005 (2).png\n",
            "label not exists:  /content/gdrive/MyDrive/MVTec_hazel/hazelnut/test/todas_juntas/015 (2).png\n",
            "label not exists:  /content/gdrive/MyDrive/MVTec_hazel/hazelnut/test/todas_juntas/024.png\n",
            "label not exists:  /content/gdrive/MyDrive/MVTec_hazel/hazelnut/test/todas_juntas/004 (3).png\n",
            "label not exists:  /content/gdrive/MyDrive/MVTec_hazel/hazelnut/test/todas_juntas/011 (2).png\n",
            "label not exists:  /content/gdrive/MyDrive/MVTec_hazel/hazelnut/test/todas_juntas/012 (2).png\n",
            "label not exists:  /content/gdrive/MyDrive/MVTec_hazel/hazelnut/test/todas_juntas/037.png\n",
            "label not exists:  /content/gdrive/MyDrive/MVTec_hazel/hazelnut/test/todas_juntas/010 (3).png\n",
            "label not exists:  /content/gdrive/MyDrive/MVTec_hazel/hazelnut/test/todas_juntas/015 (3).png\n",
            "label not exists:  /content/gdrive/MyDrive/MVTec_hazel/hazelnut/test/todas_juntas/036.png\n",
            "/usr/local/lib/python3.9/dist-packages/torch/utils/data/dataloader.py:561: UserWarning: This DataLoader will create 8 worker processes in total. Our suggested max number of worker in current system is 2, which is smaller than what this DataLoader is going to create. Please be aware that excessive worker creation might get DataLoader running slow or even freeze, lower the worker number to avoid potential slowness/freeze if necessary.\n",
            "  warnings.warn(_create_warning_msg(\n",
            "cuda\n",
            "Device count:  1\n"
          ]
        }
      ]
    },
    {
      "cell_type": "markdown",
      "source": [
        "/content/gdrive/MyDrive/MVTec_hazel/hazelnut"
      ],
      "metadata": {
        "id": "l1z86Mt67eMk"
      }
    }
  ]
}