{
  "nbformat": 4,
  "nbformat_minor": 0,
  "metadata": {
    "colab": {
      "name": "VGG16-github.com/1297rohit",
      "provenance": [],
      "collapsed_sections": [],
      "authorship_tag": "ABX9TyPbi0jBSotjrDEmo2cpPPYH",
      "include_colab_link": true
    },
    "kernelspec": {
      "name": "python3",
      "display_name": "Python 3"
    },
    "language_info": {
      "name": "python"
    }
  },
  "cells": [
    {
      "cell_type": "markdown",
      "metadata": {
        "id": "view-in-github",
        "colab_type": "text"
      },
      "source": [
        "<a href=\"https://colab.research.google.com/github/danielsoy/ALOCC-CVPR2018/blob/master/VGG16_github_com_1297rohit.ipynb\" target=\"_parent\"><img src=\"https://colab.research.google.com/assets/colab-badge.svg\" alt=\"Open In Colab\"/></a>"
      ]
    },
    {
      "cell_type": "code",
      "source": [
        "# https://github.com/1297rohit/VGG16-In-Keras"
      ],
      "metadata": {
        "id": "0HTV_sTesTkE"
      },
      "execution_count": null,
      "outputs": []
    },
    {
      "cell_type": "code",
      "execution_count": 2,
      "metadata": {
        "colab": {
          "base_uri": "https://localhost:8080/"
        },
        "id": "PBaO5PXksCvS",
        "outputId": "3af6a4d4-7473-4355-c5bb-9ebbf361c3c4"
      },
      "outputs": [
        {
          "output_type": "stream",
          "name": "stdout",
          "text": [
            "--2021-12-18 17:56:45--  http://ftp.gromacs.org/pub/gromacs/gromacs-2019.3.tar.gz\n",
            "Resolving ftp.gromacs.org (ftp.gromacs.org)... 130.237.11.165, 2001:6b0:1:1191:216:3eff:fec7:6e30\n",
            "Connecting to ftp.gromacs.org (ftp.gromacs.org)|130.237.11.165|:80... connected.\n",
            "HTTP request sent, awaiting response... 301 Moved Permanently\n",
            "Location: https://ftp.gromacs.org/pub/gromacs/gromacs-2019.3.tar.gz [following]\n",
            "--2021-12-18 17:56:46--  https://ftp.gromacs.org/pub/gromacs/gromacs-2019.3.tar.gz\n",
            "Connecting to ftp.gromacs.org (ftp.gromacs.org)|130.237.11.165|:443... connected.\n",
            "HTTP request sent, awaiting response... 200 OK\n",
            "Length: 33441419 (32M) [application/x-gzip]\n",
            "Saving to: ‘gromacs-2019.3.tar.gz’\n",
            "\n",
            "gromacs-2019.3.tar. 100%[===================>]  31.89M  15.5MB/s    in 2.1s    \n",
            "\n",
            "2021-12-18 17:56:48 (15.5 MB/s) - ‘gromacs-2019.3.tar.gz’ saved [33441419/33441419]\n",
            "\n"
          ]
        }
      ],
      "source": [
        "!wget http://ftp.gromacs.org/pub/gromacs/gromacs-2019.3.tar.gz"
      ]
    }
  ]
}