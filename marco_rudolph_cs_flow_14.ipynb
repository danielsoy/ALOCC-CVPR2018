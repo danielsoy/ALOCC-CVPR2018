{
  "nbformat": 4,
  "nbformat_minor": 0,
  "metadata": {
    "colab": {
      "name": "marco rudolph cs flow 14.ipynb",
      "provenance": [],
      "collapsed_sections": [],
      "authorship_tag": "ABX9TyMQlWBR2HeWuqFtdtp1ITz2",
      "include_colab_link": true
    },
    "kernelspec": {
      "name": "python3",
      "display_name": "Python 3"
    },
    "language_info": {
      "name": "python"
    },
    "accelerator": "GPU"
  },
  "cells": [
    {
      "cell_type": "markdown",
      "metadata": {
        "id": "view-in-github",
        "colab_type": "text"
      },
      "source": [
        "<a href=\"https://colab.research.google.com/github/danielsoy/ALOCC-CVPR2018/blob/master/marco_rudolph_cs_flow_14.ipynb\" target=\"_parent\"><img src=\"https://colab.research.google.com/assets/colab-badge.svg\" alt=\"Open In Colab\"/></a>"
      ]
    },
    {
      "cell_type": "markdown",
      "source": [
        "https://github.com/marco-rudolph/cs-flow\n",
        "## Citation\n",
        "Please cite our paper in your publications if it helps your research. Even if it does not, you are welcome to cite us.\n",
        "\n",
        "        @inproceedings { RudWeh2022,\n",
        "        author = {Marco Rudolph and Tom Wehrbein and Bodo Rosenhahn and Bastian Wandt},\n",
        "        title = {Fully Convolutional Cross-Scale-Flows for Image-based Defect Detection},\n",
        "        booktitle = {Winter Conference on Applications of Computer Vision (WACV)},\n",
        "        year = {2022},\n",
        "        url = {arxiv},\n",
        "        month = jan\n",
        "        }\n",
        "\n"
      ],
      "metadata": {
        "id": "2JhG28KrOY4i"
      }
    },
    {
      "cell_type": "code",
      "execution_count": 2,
      "metadata": {
        "colab": {
          "base_uri": "https://localhost:8080/"
        },
        "id": "yJqX6Wh1OTRq",
        "outputId": "af43dcb5-23a7-4a7b-fdcf-622662ef90fc"
      },
      "outputs": [
        {
          "output_type": "stream",
          "name": "stdout",
          "text": [
            "Cloning into 'cs-flow'...\n",
            "remote: Enumerating objects: 56, done.\u001b[K\n",
            "remote: Counting objects: 100% (56/56), done.\u001b[K\n",
            "remote: Compressing objects: 100% (52/52), done.\u001b[K\n",
            "remote: Total 56 (delta 14), reused 0 (delta 0), pack-reused 0\u001b[K\n",
            "Unpacking objects: 100% (56/56), done.\n"
          ]
        }
      ],
      "source": [
        "!git clone https://github.com/marco-rudolph/cs-flow.git\n"
      ]
    },
    {
      "cell_type": "code",
      "source": [
        "%cd /content/cs-flow/\n",
        "!pip install -r requirements.txt"
      ],
      "metadata": {
        "colab": {
          "base_uri": "https://localhost:8080/"
        },
        "id": "pNjBey5BOjE0",
        "outputId": "e93130fc-7645-41e7-ec28-dd89f36cf837"
      },
      "execution_count": 3,
      "outputs": [
        {
          "output_type": "stream",
          "name": "stdout",
          "text": [
            "/content/cs-flow\n",
            "Requirement already satisfied: scikit-learn>=0.22 in /usr/local/lib/python3.7/dist-packages (from -r requirements.txt (line 1)) (1.0.1)\n",
            "Requirement already satisfied: scipy>=1.3.2 in /usr/local/lib/python3.7/dist-packages (from -r requirements.txt (line 2)) (1.4.1)\n",
            "Requirement already satisfied: numpy>=1.17.4 in /usr/local/lib/python3.7/dist-packages (from -r requirements.txt (line 3)) (1.19.5)\n",
            "Requirement already satisfied: torch>=1.00 in /usr/local/lib/python3.7/dist-packages (from -r requirements.txt (line 4)) (1.10.0+cu111)\n",
            "Requirement already satisfied: torchvision>=0.2.2 in /usr/local/lib/python3.7/dist-packages (from -r requirements.txt (line 5)) (0.11.1+cu111)\n",
            "Requirement already satisfied: matplotlib>=3.0.3 in /usr/local/lib/python3.7/dist-packages (from -r requirements.txt (line 6)) (3.2.2)\n",
            "Requirement already satisfied: tqdm>=4.40.2 in /usr/local/lib/python3.7/dist-packages (from -r requirements.txt (line 7)) (4.62.3)\n",
            "Collecting efficientnet-pytorch>=0.6.3\n",
            "  Downloading efficientnet_pytorch-0.7.1.tar.gz (21 kB)\n",
            "Requirement already satisfied: threadpoolctl>=2.0.0 in /usr/local/lib/python3.7/dist-packages (from scikit-learn>=0.22->-r requirements.txt (line 1)) (3.0.0)\n",
            "Requirement already satisfied: joblib>=0.11 in /usr/local/lib/python3.7/dist-packages (from scikit-learn>=0.22->-r requirements.txt (line 1)) (1.1.0)\n",
            "Requirement already satisfied: typing-extensions in /usr/local/lib/python3.7/dist-packages (from torch>=1.00->-r requirements.txt (line 4)) (3.10.0.2)\n",
            "Requirement already satisfied: pillow!=8.3.0,>=5.3.0 in /usr/local/lib/python3.7/dist-packages (from torchvision>=0.2.2->-r requirements.txt (line 5)) (7.1.2)\n",
            "Requirement already satisfied: python-dateutil>=2.1 in /usr/local/lib/python3.7/dist-packages (from matplotlib>=3.0.3->-r requirements.txt (line 6)) (2.8.2)\n",
            "Requirement already satisfied: kiwisolver>=1.0.1 in /usr/local/lib/python3.7/dist-packages (from matplotlib>=3.0.3->-r requirements.txt (line 6)) (1.3.2)\n",
            "Requirement already satisfied: cycler>=0.10 in /usr/local/lib/python3.7/dist-packages (from matplotlib>=3.0.3->-r requirements.txt (line 6)) (0.11.0)\n",
            "Requirement already satisfied: pyparsing!=2.0.4,!=2.1.2,!=2.1.6,>=2.0.1 in /usr/local/lib/python3.7/dist-packages (from matplotlib>=3.0.3->-r requirements.txt (line 6)) (3.0.6)\n",
            "Requirement already satisfied: six>=1.5 in /usr/local/lib/python3.7/dist-packages (from python-dateutil>=2.1->matplotlib>=3.0.3->-r requirements.txt (line 6)) (1.15.0)\n",
            "Building wheels for collected packages: efficientnet-pytorch\n",
            "  Building wheel for efficientnet-pytorch (setup.py) ... \u001b[?25l\u001b[?25hdone\n",
            "  Created wheel for efficientnet-pytorch: filename=efficientnet_pytorch-0.7.1-py3-none-any.whl size=16446 sha256=df73f006960a0ddff3c3c797f972fc9ea5e1d60f883f9eb1155d9ca421edfaf5\n",
            "  Stored in directory: /root/.cache/pip/wheels/0e/cc/b2/49e74588263573ff778da58cc99b9c6349b496636a7e165be6\n",
            "Successfully built efficientnet-pytorch\n",
            "Installing collected packages: efficientnet-pytorch\n",
            "Successfully installed efficientnet-pytorch-0.7.1\n"
          ]
        }
      ]
    },
    {
      "cell_type": "code",
      "source": [
        "!python extract_features.py"
      ],
      "metadata": {
        "colab": {
          "base_uri": "https://localhost:8080/"
        },
        "id": "FwwPOlDmPKZ1",
        "outputId": "8e0bd05e-fd1d-420a-b007-bf712b713c04"
      },
      "execution_count": 4,
      "outputs": [
        {
          "output_type": "stream",
          "name": "stdout",
          "text": [
            "Downloading: \"https://github.com/lukemelas/EfficientNet-PyTorch/releases/download/1.0/efficientnet-b5-b6417697.pth\" to /root/.cache/torch/hub/checkpoints/efficientnet-b5-b6417697.pth\n",
            "100% 117M/117M [00:00<00:00, 174MB/s]\n",
            "Loaded pretrained weights for efficientnet-b5\n",
            "100% 1/1 [00:01<00:00,  1.57s/it]\n",
            "100% 1/1 [00:05<00:00,  5.33s/it]\n"
          ]
        }
      ]
    },
    {
      "cell_type": "code",
      "source": [
        "!python main.py"
      ],
      "metadata": {
        "colab": {
          "base_uri": "https://localhost:8080/"
        },
        "id": "2NScQt4DPnWu",
        "outputId": "881b61ad-2263-4945-99f3-ea5763e8d7d3"
      },
      "execution_count": 5,
      "outputs": [
        {
          "output_type": "stream",
          "name": "stdout",
          "text": [
            "\n",
            "Train epoch 0\n",
            "Epoch: 0.0 \t train loss: 1.5425\n",
            "Epoch: 0.4 \t train loss: 1.5418\n",
            "Epoch: 0.8 \t train loss: 1.5386\n",
            "Epoch: 0.12 \t train loss: 1.5303\n",
            "\n",
            "Compute loss and scores on test set:\n",
            "Epoch: 0 \t test_loss: 1.6523\n",
            "AUROC: \t last: 1.0000 \t max: 1.0000 \t epoch_max: 0 \t epoch_loss: 0\n",
            "\n",
            "Train epoch 1\n",
            "\n",
            "Compute loss and scores on test set:\n",
            "Epoch: 1 \t test_loss: 1.5926\n",
            "AUROC: \t last: 1.0000 \t max: 1.0000 \t epoch_max: 0 \t epoch_loss: 0\n",
            "\n",
            "Train epoch 2\n",
            "\n",
            "Compute loss and scores on test set:\n",
            "Epoch: 2 \t test_loss: 1.4986\n",
            "AUROC: \t last: 1.0000 \t max: 1.0000 \t epoch_max: 0 \t epoch_loss: 0\n",
            "\n",
            "Train epoch 3\n",
            "\n",
            "Compute loss and scores on test set:\n",
            "Epoch: 3 \t test_loss: 1.3836\n",
            "AUROC: \t last: 1.0000 \t max: 1.0000 \t epoch_max: 0 \t epoch_loss: 0\n"
          ]
        }
      ]
    },
    {
      "cell_type": "code",
      "source": [
        "!python evaluate.py"
      ],
      "metadata": {
        "colab": {
          "base_uri": "https://localhost:8080/"
        },
        "id": "goYEo1kkP3ui",
        "outputId": "d02d8563-4276-465c-98d7-e31a67dd769d"
      },
      "execution_count": 6,
      "outputs": [
        {
          "output_type": "stream",
          "name": "stdout",
          "text": [
            "\n",
            "Compute maps, loss and scores on test set:\n",
            "AUC: 1.0\n"
          ]
        }
      ]
    }
  ]
}